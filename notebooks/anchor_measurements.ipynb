{
 "cells": [
  {
   "attachments": {},
   "cell_type": "markdown",
   "metadata": {},
   "source": [
    "# Tier 1: probing each target prefixes"
   ]
  },
  {
   "cell_type": "code",
   "execution_count": 1,
   "metadata": {},
   "outputs": [],
   "source": [
    "import logging\n",
    "import pickle\n",
    "import json\n",
    "\n",
    "from pathlib import Path\n",
    "import uuid\n",
    "\n",
    "from geoloc_imc_2023.cbg import CBG, get_prefix_from_ip\n",
    "from geoloc_imc_2023.query_api import get_measurements_from_tag\n",
    "\n",
    "from geoloc_imc_2023.default import (\n",
    "    PROBES_PATH,\n",
    "    ANCHORS_PATH,\n",
    "    HITLIST_PATH,\n",
    "    RIPE_CREDENTIALS,\n",
    ")\n",
    "\n",
    "logging.basicConfig(level=logging.INFO)\n",
    "\n",
    "NB_TARGET = 2\n",
    "NB_VP = 5"
   ]
  },
  {
   "attachments": {},
   "cell_type": "markdown",
   "metadata": {},
   "source": [
    "## load datasets"
   ]
  },
  {
   "cell_type": "code",
   "execution_count": 2,
   "metadata": {},
   "outputs": [],
   "source": [
    "# load hitlist\n",
    "with open(HITLIST_PATH, \"rb\") as f:\n",
    "    targets_per_prefix = pickle.load(f)\n",
    "\n",
    "# load probes\n",
    "with open(PROBES_PATH, \"rb\") as f:\n",
    "    probes = pickle.load(f)\n",
    "\n",
    "# load anchors\n",
    "with open(ANCHORS_PATH, \"rb\") as f:\n",
    "    anchors = pickle.load(f)"
   ]
  },
  {
   "attachments": {},
   "cell_type": "markdown",
   "metadata": {},
   "source": [
    "## select target and vps dataset"
   ]
  },
  {
   "cell_type": "code",
   "execution_count": 3,
   "metadata": {},
   "outputs": [
    {
     "name": "stderr",
     "output_type": "stream",
     "text": [
      "INFO:root:nb targets: 3\n",
      "INFO:root:nb_vps : 10\n"
     ]
    }
   ],
   "source": [
    "# select targets and vps from anchors\n",
    "targets= list(anchors.keys())[:NB_TARGET]\n",
    "vps = {}\n",
    "for i, probe in enumerate(probes):\n",
    "    if i >= NB_VP: break\n",
    "    vps[probe] = probes[probe]\n",
    "\n",
    "logging.info(f\"nb targets: {len(targets)}\")\n",
    "logging.info(f\"nb_vps : {len(vps)}\")"
   ]
  },
  {
   "attachments": {},
   "cell_type": "markdown",
   "metadata": {},
   "source": [
    "## measure target prefixes"
   ]
  },
  {
   "cell_type": "code",
   "execution_count": 4,
   "metadata": {},
   "outputs": [
    {
     "name": "stderr",
     "output_type": "stream",
     "text": [
      "INFO:root:starting measurement for target_prefix='213.225.160.0' with ['213.225.160.159', '213.225.160.140', '213.225.160.14'] with 10 vps\n",
      "INFO:root:starting measurement for target_prefix='145.220.0.0' with ['145.220.0.1', '145.220.0.28', '145.220.0.29'] with 10 vps\n",
      "INFO:root:Reached limit for number of conccurent measurements: 5 (limit is 5)\n",
      "INFO:root:starting measurement for target_prefix='5.28.0.0' with ['5.28.0.6', '5.28.0.13', '5.28.0.14'] with 10 vps\n",
      "INFO:root:measurement : e6000fd2-d187-4947-99ed-8b1cf36f2d8c done\n"
     ]
    }
   ],
   "source": [
    "dry_run = True\n",
    "measurement_uuid = uuid.uuid4()\n",
    "\n",
    "# measurement configuration for retrieval\n",
    "measurement_config = {\n",
    "    \"UUID\": str(measurement_uuid),\n",
    "    \"is_dry_run\": dry_run,\n",
    "    \"description\": \"measurement towards all anchors with all probes as vps\",\n",
    "    \"type\" : \"target prefix\",\n",
    "    \"af\" : 4,\n",
    "    \"targets\": targets,\n",
    "    \"vps\": vps,\n",
    "}\n",
    "\n",
    "# save measurement configuration before starting measurement\n",
    "measurement_config_path = Path(\".\") / f\"../measurements_metadata/{str(measurement_uuid)}.json\"\n",
    "with open(measurement_config_path, \"w\") as f:\n",
    "    json.dump(measurement_config, f, indent=4)\n",
    "\n",
    "cbg = CBG(RIPE_CREDENTIALS)\n",
    "\n",
    "# get target prefixes\n",
    "target_prefixes = []\n",
    "for target_addr in targets:\n",
    "    target_prefix = get_prefix_from_ip(target_addr)\n",
    "    target_prefixes.append(target_prefix)\n",
    "\n",
    "# measurement for 3 targets in every target prefixes\n",
    "measurement_config[\"start_time\"], measurement_config[\"end_time\"] = cbg.prefix_probing(\n",
    "    target_prefixes= target_prefixes, \n",
    "    vps= vps,\n",
    "    targets_per_prefix= targets_per_prefix,\n",
    "    tag= measurement_uuid,\n",
    "    dry_run=dry_run\n",
    ")\n",
    "\n",
    "# save measurement configuration before starting measurement\n",
    "measurement_config_path = Path(\".\") / f\"../measurements_metadata/{str(measurement_uuid)}.json\"\n",
    "with open(measurement_config_path, \"w\") as f:\n",
    "    json.dump(measurement_config, f, indent=4)"
   ]
  },
  {
   "attachments": {},
   "cell_type": "markdown",
   "metadata": {},
   "source": [
    "## Retrieve prefix probing results "
   ]
  },
  {
   "cell_type": "code",
   "execution_count": null,
   "metadata": {},
   "outputs": [],
   "source": [
    "measurement_results = get_measurements_from_tag(measurement_config[\"UUID\"])\n",
    "\n",
    "# test that everything is alright\n",
    "logging.info(f\"nb measurements retrieved: {len(measurement_results)}\")\n",
    "\n",
    "print(f\"measurements for {len(measurement_results)} target addr.\")\n",
    "for i, (target_addr, results) in enumerate(measurement_results.items()):\n",
    "    if i > 10: break\n",
    "    print(target_addr, \":\", len(results))\n",
    "\n",
    "# save results\n",
    "out_file = f\"../results/{measurement_config['UUID']}.pickle\"\n",
    "print(out_file)\n",
    "with open(out_file, \"wb\") as f:\n",
    "    pickle.dump(measurement_results,f)\n",
    "    "
   ]
  },
  {
   "attachments": {},
   "cell_type": "markdown",
   "metadata": {},
   "source": [
    "# Tier 2: probe each target"
   ]
  },
  {
   "cell_type": "code",
   "execution_count": 2,
   "metadata": {},
   "outputs": [],
   "source": [
    "import logging\n",
    "import pickle\n",
    "import json\n",
    "import uuid\n",
    "\n",
    "from pathlib import Path\n",
    "from random import choice\n",
    "\n",
    "from geoloc_imc_2023.query_api import get_measurements_from_tag, get_measurement_from_id\n",
    "from geoloc_imc_2023.cbg import CBG\n",
    "from geoloc_imc_2023.default import (\n",
    "    PROBES_PATH,\n",
    "    ANCHORS_PATH,\n",
    "    RIPE_CREDENTIALS,\n",
    ")\n",
    "\n",
    "logging.basicConfig(level=logging.DEBUG)\n",
    "\n",
    "\n",
    "NB_TARGET = 2\n",
    "NB_VP = 5"
   ]
  },
  {
   "attachments": {},
   "cell_type": "markdown",
   "metadata": {},
   "source": [
    "## load data"
   ]
  },
  {
   "cell_type": "code",
   "execution_count": 27,
   "metadata": {},
   "outputs": [],
   "source": [
    "# load probes\n",
    "with open(PROBES_PATH, \"rb\") as f:\n",
    "    probes = pickle.load(f)\n",
    "\n",
    "# load anchors\n",
    "with open(ANCHORS_PATH, \"rb\") as f:\n",
    "    anchors = pickle.load(f)"
   ]
  },
  {
   "attachments": {},
   "cell_type": "markdown",
   "metadata": {},
   "source": [
    "## get targets and vps datasets"
   ]
  },
  {
   "cell_type": "code",
   "execution_count": 29,
   "metadata": {},
   "outputs": [
    {
     "name": "stderr",
     "output_type": "stream",
     "text": [
      "INFO:root:nb targets: 2\n",
      "INFO:root:nb_vps : 5\n"
     ]
    }
   ],
   "source": [
    "# select targets and vps from anchors\n",
    "targets= set()\n",
    "while len(targets) < NB_TARGET:\n",
    "    random_target = choice(list(anchors))\n",
    "    targets.add(random_target)\n",
    "target = list(targets)\n",
    "\n",
    "# select vps from probes\n",
    "vps = {}\n",
    "while len(vps) < NB_VP:\n",
    "    random_vp = choice(list(probes))\n",
    "    vps[random_vp] = probes[random_vp]\n",
    "\n",
    "logging.info(f\"nb targets: {len(targets)}\")\n",
    "logging.info(f\"nb_vps : {len(vps)}\")"
   ]
  },
  {
   "attachments": {},
   "cell_type": "markdown",
   "metadata": {},
   "source": [
    "## measure targets"
   ]
  },
  {
   "cell_type": "code",
   "execution_count": 6,
   "metadata": {},
   "outputs": [
    {
     "name": "stderr",
     "output_type": "stream",
     "text": [
      "DEBUG:root:starting measurement for target_addr='217.70.176.109' with 5 vps\n",
      "INFO:root:from atlas217.70.176.109\n",
      "INFO:root:from atlas[55328, 55212, 1000927, 22312, 61638]\n",
      "DEBUG:urllib3.connectionpool:Starting new HTTPS connection (1): atlas.ripe.net:443\n",
      "DEBUG:urllib3.connectionpool:https://atlas.ripe.net:443 \"POST /api/v2/measurements/?key=b3d3d4fc-724e-4505-befe-1ad16a70dc87 HTTP/1.1\" 201 27\n",
      "DEBUG:root:starting measurement for target_addr='130.104.228.159' with 5 vps\n",
      "INFO:root:from atlas130.104.228.159\n",
      "INFO:root:from atlas[55328, 55212, 1000927, 22312, 61638]\n",
      "DEBUG:urllib3.connectionpool:Starting new HTTPS connection (1): atlas.ripe.net:443\n",
      "DEBUG:urllib3.connectionpool:https://atlas.ripe.net:443 \"POST /api/v2/measurements/?key=b3d3d4fc-724e-4505-befe-1ad16a70dc87 HTTP/1.1\" 201 27\n",
      "INFO:root:measurement : 7e273b92-04e3-44e3-946f-3337f9e38637 done\n"
     ]
    }
   ],
   "source": [
    "dry_run = True\n",
    "measurement_uuid = uuid.uuid4()\n",
    "\n",
    "# measurement configuration for retrieval\n",
    "measurement_config = {\n",
    "    \"UUID\": str(measurement_uuid),\n",
    "    \"is_dry_run\": dry_run,\n",
    "    \"description\": \"measurement towards all anchors with all probes as vps\",\n",
    "    \"type\" : \"target prefix\",\n",
    "    \"af\" : 4,\n",
    "    \"targets\": targets,\n",
    "    \"vps\": vps,\n",
    "}\n",
    "\n",
    "# save measurement configuration before starting measurement\n",
    "measurement_config_path = Path(\".\") / f\"../measurements_metadata/{str(measurement_uuid)}.json\"\n",
    "with open(measurement_config_path, \"w\") as f:\n",
    "    json.dump(measurement_config, f)\n",
    "\n",
    "cbg = CBG(RIPE_CREDENTIALS)\n",
    "\n",
    "# measurement for 3 targets in every target prefixes\n",
    "measurement_config[\"ids\"], measurement_config[\"start_time\"], measurement_config[\"end_time\"] = cbg.target_probing(\n",
    "    targets= targets, \n",
    "    vps= vps,\n",
    "    tag= measurement_uuid,\n",
    "    dry_run=dry_run\n",
    ")"
   ]
  },
  {
   "cell_type": "code",
   "execution_count": 7,
   "metadata": {},
   "outputs": [],
   "source": [
    "measurement_config_path = Path(\".\") / f\"../measurements_metadata/{str(measurement_uuid)}.json\"\n",
    "with open(measurement_config_path, \"w\") as f:\n",
    "    json.dump(measurement_config, f, indent=4)"
   ]
  },
  {
   "attachments": {},
   "cell_type": "markdown",
   "metadata": {},
   "source": [
    "## retrieve measurement results"
   ]
  },
  {
   "cell_type": "code",
   "execution_count": 3,
   "metadata": {},
   "outputs": [
    {
     "name": "stdout",
     "output_type": "stream",
     "text": [
      "https://atlas.ripe.net/api/v2/measurements/52712915/\n",
      "b'[{\"fw\":5080,\"mver\":\"2.6.2\",\"lts\":11,\"dst_name\":\"217.70.176.109\",\"af\":4,\"dst_addr\":\"217.70.176.109\",\"src_addr\":\"10.71.71.15\",\"proto\":\"ICMP\",\"ttl\":50,\"size\":48,\"result\":[{\"rtt\":167.635967},{\"rtt\":167.593986},{\"rtt\":167.989166}],\"dup\":0,\"rcvd\":3,\"sent\":3,\"min\":167.593986,\"max\":167.989166,\"avg\":167.7397063333,\"msm_id\":52712915,\"prb_id\":1000927,\"timestamp\":1682590165,\"msm_name\":\"Ping\",\"from\":\"103.38.202.251\",\"type\":\"ping\",\"group_id\":52712915,\"step\":null,\"stored_timestamp\":1682598256},{\"fw\":5080,\"mver\":\"2.6.2\",\"lts\":6,\"dst_name\":\"217.70.176.109\",\"af\":4,\"dst_addr\":\"217.70.176.109\",\"src_addr\":\"192.168.0.46\",\"proto\":\"ICMP\",\"ttl\":53,\"size\":48,\"result\":[{\"rtt\":90.787459},{\"rtt\":89.425583},{\"rtt\":91.57775}],\"dup\":0,\"rcvd\":3,\"sent\":3,\"min\":89.425583,\"max\":91.57775,\"avg\":90.5969306667,\"msm_id\":52712915,\"prb_id\":55212,\"timestamp\":1682590166,\"msm_name\":\"Ping\",\"from\":\"64.65.80.109\",\"type\":\"ping\",\"group_id\":52712915,\"step\":null,\"stored_timestamp\":1682597314},{\"fw\":5080,\"mver\":\"2.6.2\",\"lts\":2,\"dst_name\":\"217.70.176.109\",\"af\":4,\"dst_addr\":\"217.70.176.109\",\"src_addr\":\"192.168.1.87\",\"proto\":\"ICMP\",\"ttl\":48,\"size\":48,\"result\":[{\"rtt\":257.657625},{\"rtt\":258.815542},{\"rtt\":257.028917}],\"dup\":0,\"rcvd\":3,\"sent\":3,\"min\":257.028917,\"max\":258.815542,\"avg\":257.834028,\"msm_id\":52712915,\"prb_id\":55328,\"timestamp\":1682590166,\"msm_name\":\"Ping\",\"from\":\"115.204.155.38\",\"type\":\"ping\",\"group_id\":52712915,\"step\":null,\"stored_timestamp\":1682598818}]'\n"
     ]
    }
   ],
   "source": [
    "from geoloc_imc_2023.query_api import get_measurements_from_tag, get_measurement_url\n",
    "import time\n",
    "import requests\n",
    "import logging\n",
    "\n",
    "def get_from_atlas(url: str, max_retry: int = 60):\n",
    "    \"\"\"request to Atlas API\"\"\"\n",
    "\n",
    "    for _ in range(max_retry):\n",
    "        response = requests.get(url, timeout=20).json()\n",
    "        print(response)\n",
    "        if response:\n",
    "            break\n",
    "        time.sleep(2)\n",
    "\n",
    "    return response\n",
    "\n",
    "measurement_id = 52712915\n",
    "url = f\"https://atlas.ripe.net/api/v2/measurements/{measurement_id}/\"\n",
    "print(url)\n",
    "response = requests.get(url, timeout=20).json()\n",
    "logging.info(f\"RESP: {response['status']}\")\n",
    "logging.info(f\"RESP: {response['result']}\")\n",
    "\n",
    "result = requests.get(response['result'])\n",
    "print(result.content)\n"
   ]
  },
  {
   "cell_type": "code",
   "execution_count": 8,
   "metadata": {},
   "outputs": [
    {
     "name": "stderr",
     "output_type": "stream",
     "text": [
      "DEBUG:urllib3.connectionpool:Starting new HTTPS connection (1): atlas.ripe.net:443\n",
      "DEBUG:urllib3.connectionpool:https://atlas.ripe.net:443 \"GET /api/v2/measurements/tags/3e223905-d775-4c7a-88a8-8be9bdb21d6e/results/?key=b3d3d4fc-724e-4505-befe-1ad16a70dc87 HTTP/1.1\" 200 None\n",
      "INFO:root:measurements for 3 target addr\n",
      "INFO:root: 213.225.160.239 : number of measurements 7\n",
      "INFO:root: 145.220.0.55 : number of measurements 7\n",
      "INFO:root: 5.28.0.17 : number of measurements 7\n",
      "INFO:root:../results/b59a0873-574d-46bd-81c8-860ba3733be4.pickle\n"
     ]
    },
    {
     "name": "stdout",
     "output_type": "stream",
     "text": [
      "defaultdict(<class 'list'>, {'213.225.160.239': [{'node': '45.138.229.91', 'min_rtt': 22.373933, 'rtt_list': [23.420751, 22.415617, 22.373933]}, {'node': '193.0.0.78', 'min_rtt': 11.771138, 'rtt_list': [12.25421, 12.122115, 11.771138]}, {'node': '83.81.82.33', 'min_rtt': 29.290758, 'rtt_list': [31.130887, 30.42663, 29.290758]}, {'node': '87.3.187.45', 'min_rtt': 37.307144, 'rtt_list': [38.498312, 37.307144, 37.986824]}, {'node': '77.174.30.45', 'min_rtt': 33.076999, 'rtt_list': [33.938695, 33.787399, 33.076999]}, {'node': '93.108.63.51', 'min_rtt': 39.656456, 'rtt_list': [40.313097, 40.373769, 39.656456]}, {'node': '216.147.126.54', 'min_rtt': 187.236902, 'rtt_list': [191.851814, 187.236902, 200.42884]}], '145.220.0.55': [{'node': '193.0.0.78', 'min_rtt': 2.353152, 'rtt_list': [7.880449, 2.416129, 2.353152]}, {'node': '45.138.229.91', 'min_rtt': 7.16243, 'rtt_list': [8.023471, 7.310364, 7.16243]}, {'node': '83.81.82.33', 'min_rtt': 17.528067, 'rtt_list': [17.528067, 31.00647, 18.276099]}, {'node': '87.3.187.45', 'min_rtt': 42.551049, 'rtt_list': [43.636232, 42.837513, 42.551049]}, {'node': '77.174.30.45', 'min_rtt': 13.477635, 'rtt_list': [15.025155, 28.388358, 13.477635]}, {'node': '93.108.63.51', 'min_rtt': 41.356041, 'rtt_list': [50.920715, 41.356041, 41.380617]}, {'node': '216.147.126.54', 'min_rtt': 162.245408, 'rtt_list': [171.194914, 171.601954, 162.245408]}], '5.28.0.17': [{'node': '193.0.0.78', 'min_rtt': 21.931781, 'rtt_list': [22.087684, 21.931781, 22.953221]}, {'node': '45.138.229.91', 'min_rtt': 30.03897, 'rtt_list': [32.593209, 30.828164, 30.03897]}, {'node': '83.81.82.33', 'min_rtt': 38.922248, 'rtt_list': [41.17172, 39.96596, 38.922248]}, {'node': '87.3.187.45', 'min_rtt': 61.363213, 'rtt_list': [62.429196, 61.363213, 61.802509]}, {'node': '77.174.30.45', 'min_rtt': 36.72884, 'rtt_list': [36.72884, 36.890888, 37.568264]}, {'node': '93.108.63.51', 'min_rtt': 55.574796, 'rtt_list': [56.834315, 55.659276, 55.574796]}, {'node': '216.147.126.54', 'min_rtt': 191.302694, 'rtt_list': [204.631336, 193.414695, 191.302694]}]})\n"
     ]
    }
   ],
   "source": [
    "measurement_results = get_measurements_from_tag(measurement_config[\"UUID\"])\n",
    "\n",
    "if not measurement_results:\n",
    "    for measurement_id in measurement_config[\"ids\"]: \n",
    "        logging.info(f\"getting measurement with id : {measurement_id}\")\n",
    "        measurement_result = get_measurement_from_id(measurement_id)\n",
    "\n",
    "logging.info(f\"measurements for {len(measurement_results)} target addr\")\n",
    "for i, (target_addr, results) in enumerate(measurement_results.items()):\n",
    "    if i > 10: break\n",
    "    logging.info(f\" {target_addr} : number of measurements {len(results)}\")\n",
    "\n",
    "# save results\n",
    "out_file = f\"../results/{measurement_config['UUID']}.pickle\"\n",
    "logging.info(out_file)\n",
    "with open(out_file, \"wb\") as f:\n",
    "    pickle.dump(measurement_results,f)"
   ]
  }
 ],
 "metadata": {
  "kernelspec": {
   "display_name": "geoloc-imc-2023-GZT64Hva-py3.10",
   "language": "python",
   "name": "python3"
  },
  "language_info": {
   "codemirror_mode": {
    "name": "ipython",
    "version": 3
   },
   "file_extension": ".py",
   "mimetype": "text/x-python",
   "name": "python",
   "nbconvert_exporter": "python",
   "pygments_lexer": "ipython3",
   "version": "3.10.9"
  },
  "orig_nbformat": 4
 },
 "nbformat": 4,
 "nbformat_minor": 2
}

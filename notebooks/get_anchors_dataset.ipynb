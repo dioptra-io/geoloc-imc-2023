{
 "cells": [
  {
   "cell_type": "code",
   "execution_count": 1,
   "metadata": {},
   "outputs": [],
   "source": [
    "import pickle\n",
    "import requests"
   ]
  },
  {
   "attachments": {},
   "cell_type": "markdown",
   "metadata": {},
   "source": [
    "## retrieve atlas probes"
   ]
  },
  {
   "cell_type": "code",
   "execution_count": 4,
   "metadata": {},
   "outputs": [],
   "source": [
    "def get_from_atlas(url):\n",
    "    response = requests.get(url).json()\n",
    "    while True:\n",
    "        for anchor in response[\"results\"]:\n",
    "            yield anchor\n",
    "\n",
    "        if response[\"next\"]:\n",
    "            response = requests.get(response[\"next\"]).json()\n",
    "        else:\n",
    "            break"
   ]
  },
  {
   "cell_type": "code",
   "execution_count": 3,
   "metadata": {},
   "outputs": [
    {
     "name": "stdout",
     "output_type": "stream",
     "text": [
      "Number of Atlas probes kept: 786/46053\n"
     ]
    }
   ],
   "source": [
    "\n",
    "anchors_file = \"../datasets/anchors.pickle\"\n",
    "\n",
    "anchors = {}\n",
    "for index, anchor in enumerate(get_from_atlas(\"https://atlas.ripe.net/api/v2/probes/\")):\n",
    "\n",
    "    # filter probes based on generic criteria\n",
    "    if (\n",
    "        anchor[\"status\"][\"name\"] != \"Connected\"\n",
    "        or anchor.get(\"geometry\") is None\n",
    "        or anchor.get(\"address_v4\") is None\n",
    "        or anchor.get(\"country_code\") is None\n",
    "        or anchor.get(\"geometry\") is None\n",
    "\n",
    "    ):\n",
    "        continue\n",
    "\n",
    "    if anchor[\"is_anchor\"]:\n",
    "        anchors[anchor[\"address_v4\"]] = {\n",
    "            \"id\" : anchor[\"id\"],\n",
    "            \"is_anchor\" : anchor[\"is_anchor\"],\n",
    "            \"country_code\" : anchor[\"country_code\"],\n",
    "            \"latitude\" : anchor[\"geometry\"][\"coordinates\"][1],\n",
    "            \"longitude\" : anchor[\"geometry\"][\"coordinates\"][0],\n",
    "        }\n",
    "\n",
    "print(f\"Number of Atlas probes kept: {len(anchors)}/{index}\")"
   ]
  },
  {
   "cell_type": "code",
   "execution_count": 5,
   "metadata": {},
   "outputs": [
    {
     "name": "stdout",
     "output_type": "stream",
     "text": [
      "anchor 213.225.160.239: {'id': 6025, 'is_anchor': True, 'country_code': 'FR', 'latitude': 48.5795, 'longitude': 7.7485}\n",
      "anchor 145.220.0.55: {'id': 6031, 'is_anchor': True, 'country_code': 'NL', 'latitude': 52.3675, 'longitude': 4.8985}\n",
      "anchor 5.28.0.17: {'id': 6039, 'is_anchor': True, 'country_code': 'HU', 'latitude': 47.5015, 'longitude': 19.0385}\n",
      "anchor 193.171.255.2: {'id': 6042, 'is_anchor': True, 'country_code': 'AT', 'latitude': 48.2085, 'longitude': 16.3695}\n",
      "anchor 192.65.184.54: {'id': 6043, 'is_anchor': True, 'country_code': 'FR', 'latitude': 46.2285, 'longitude': 6.0495}\n",
      "anchor 185.42.136.158: {'id': 6049, 'is_anchor': True, 'country_code': 'SE', 'latitude': 59.3315, 'longitude': 18.0595}\n",
      "anchor 197.80.104.36: {'id': 6053, 'is_anchor': True, 'country_code': 'ZA', 'latitude': -26.1415, 'longitude': 28.0095}\n",
      "anchor 200.7.84.24: {'id': 6054, 'is_anchor': True, 'country_code': 'UY', 'latitude': -34.8805, 'longitude': -56.1805}\n",
      "anchor 76.26.115.194: {'id': 6072, 'is_anchor': True, 'country_code': 'US', 'latitude': 39.9585, 'longitude': -75.6095}\n",
      "anchor 194.150.191.46: {'id': 6081, 'is_anchor': True, 'country_code': 'DE', 'latitude': 49.4275, 'longitude': 11.0215}\n",
      "anchor 199.10.66.231: {'id': 6082, 'is_anchor': True, 'country_code': 'NL', 'latitude': 52.3485, 'longitude': 4.8315}\n"
     ]
    }
   ],
   "source": [
    "for i, (anchor, anchor_description) in enumerate(anchors.items()):\n",
    "    if i > 10: break\n",
    "    print(f\"anchor {anchor}:\", anchor_description)"
   ]
  },
  {
   "cell_type": "code",
   "execution_count": 6,
   "metadata": {},
   "outputs": [],
   "source": [
    "# save results\n",
    "with open(anchors_file, \"wb\") as f:\n",
    "    pickle.dump(anchors,f)"
   ]
  }
 ],
 "metadata": {
  "kernelspec": {
   "display_name": ".venv",
   "language": "python",
   "name": "python3"
  },
  "language_info": {
   "codemirror_mode": {
    "name": "ipython",
    "version": 3
   },
   "file_extension": ".py",
   "mimetype": "text/x-python",
   "name": "python",
   "nbconvert_exporter": "python",
   "pygments_lexer": "ipython3",
   "version": "3.10.9"
  },
  "orig_nbformat": 4
 },
 "nbformat": 4,
 "nbformat_minor": 2
}

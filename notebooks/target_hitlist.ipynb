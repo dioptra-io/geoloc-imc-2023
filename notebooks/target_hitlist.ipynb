{
 "cells": [
  {
   "cell_type": "code",
   "execution_count": 38,
   "metadata": {},
   "outputs": [],
   "source": [
    "from pathlib import Path\n",
    "import pickle\n",
    "\n",
    "hitlist_file = Path(\".\") / \"../datasets/internet_address_verfploeter_hitlist_it102w-20230125.fsdb\"\n",
    "\n",
    "ip_hitlist = {}\n",
    "with open(hitlist_file, \"r\") as f:\n",
    "    for i, row in enumerate(f.readlines()[1:]):\n",
    "        row = row.split(\"\\t\")\n",
    "\n",
    "        # get prefix from hex value\n",
    "        prefix_hex = row[0]\n",
    "        prefix = [\"\".join(x) for x in zip(*[iter(prefix_hex)]*2)]\n",
    "        prefix = [int(x, 16) for x in prefix]\n",
    "        prefix = \".\".join(str(x) for x in prefix)\n",
    "\n",
    "        ip_list = row[-1].strip(\"\\n\")\n",
    "        ip_list = ip_list.split(\",\")\n",
    "\n",
    "        if ip_list[0] != '-' : \n",
    "            ip_hitlist[prefix] = []\n",
    "            for byte in ip_list:\n",
    "                ip_addr = prefix.split(\".\")[:-1]\n",
    "                ip_addr.append(str(int(byte, 16)))\n",
    "                ip_addr = \".\".join(ip_addr)\n",
    "                ip_hitlist[prefix].append(ip_addr)\n",
    "                \n",
    "\n",
    "out_file = Path(\".\") / \"../datasets/parsed_hitlist.pickle\"\n",
    "with open(out_file, \"wb\") as f:\n",
    "    pickle.dump(ip_hitlist, f)\n"
   ]
  },
  {
   "cell_type": "code",
   "execution_count": 2,
   "metadata": {},
   "outputs": [],
   "source": [
    "import pickle\n",
    "from pathlib import Path\n",
    "\n",
    "in_file = Path(\".\") / \"../datasets/parsed_hitlist.pickle\"\n",
    "with open(in_file, \"rb\") as f:\n",
    "    ip_hitlist = pickle.load(f)\n",
    "\n",
    "anchor_file = \"../datasets/anchors.pickle\"\n",
    "with open(anchor_file, \"rb\") as f:\n",
    "    anchors = pickle.load(f)"
   ]
  },
  {
   "cell_type": "code",
   "execution_count": 3,
   "metadata": {},
   "outputs": [
    {
     "name": "stdout",
     "output_type": "stream",
     "text": [
      "ip list for anchor 76.26.115.0: ['76.26.115.193', '76.26.115.194', '76.26.0.214']\n",
      "ip list for anchor 199.10.66.0: ['199.10.0.146', '199.10.0.191', '199.10.0.101']\n"
     ]
    }
   ],
   "source": [
    "from ipaddress import IPv4Address, IPv4Network\n",
    "from random import randint\n",
    "\n",
    "for i, anchor_ip in enumerate(anchors):\n",
    "    nb_ip_addresses = 3\n",
    "    if i > 10: break\n",
    "    prefix_anchor = anchor_ip.split(\".\")[:-1]\n",
    "    prefix_anchor.append(\"0\")\n",
    "    prefix_anchor = \".\".join(prefix_anchor)\n",
    "    ip_list = []\n",
    "    try:\n",
    "        ip_list = ip_hitlist[prefix_anchor]\n",
    "    except KeyError:\n",
    "        pass\n",
    "\n",
    "    if len(ip_list) < nb_ip_addresses:\n",
    "\n",
    "        ip = anchor_ip.split(\".\")[:2]\n",
    "        ip.extend(['0','0'])\n",
    "        ip = \".\".join(ip)\n",
    "        prefix_target = IPv4Network(ip + '/' + str(24))\n",
    "\n",
    "        ip_list.extend([str(prefix_target[randint(1,254)]) for _ in range(0,nb_ip_addresses - len(ip_list))])\n",
    "        print(f\"ip list for anchor {prefix_anchor}: {ip_list}\")\n",
    "\n"
   ]
  },
  {
   "cell_type": "code",
   "execution_count": null,
   "metadata": {},
   "outputs": [],
   "source": []
  }
 ],
 "metadata": {
  "kernelspec": {
   "display_name": "geoloc-imc-2023-GZT64Hva-py3.10",
   "language": "python",
   "name": "python3"
  },
  "language_info": {
   "codemirror_mode": {
    "name": "ipython",
    "version": 3
   },
   "file_extension": ".py",
   "mimetype": "text/x-python",
   "name": "python",
   "nbconvert_exporter": "python",
   "pygments_lexer": "ipython3",
   "version": "3.10.9"
  },
  "orig_nbformat": 4
 },
 "nbformat": 4,
 "nbformat_minor": 2
}

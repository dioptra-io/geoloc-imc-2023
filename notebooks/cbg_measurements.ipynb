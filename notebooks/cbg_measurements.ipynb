{
 "cells": [
  {
   "attachments": {},
   "cell_type": "markdown",
   "metadata": {},
   "source": [
    "## select target and vps dataset"
   ]
  },
  {
   "cell_type": "code",
   "execution_count": 1,
   "metadata": {},
   "outputs": [
    {
     "name": "stderr",
     "output_type": "stream",
     "text": [
      "INFO:root:nb targets: 10 : ['37.10.41.14', '103.196.37.98', '178.251.24.49', '207.246.74.246', '103.122.190.141', '192.42.42.166', '152.195.206.35', '37.252.251.26', '188.172.218.22', '63.222.190.5']\n",
      "INFO:root:nb_vps : 10 ['34.97.153.243', '212.9.170.190', '107.162.219.5', '45.135.151.45', '176.74.17.75', '200.61.6.78', '212.72.227.133', '216.37.47.154', '68.64.60.178', '94.203.76.219']\n",
      "INFO:root:starting measurement for target_prefix='37.10.41.0' with ['37.10.41.1', '37.10.41.2', '37.10.41.3'] with 10 self.anchors\n",
      "INFO:root:starting measurement for target_prefix='103.196.37.0' with ['103.196.37.1', '103.196.37.2', '103.196.37.10'] with 10 self.anchors\n",
      "INFO:root:starting measurement for target_prefix='178.251.24.0' with ['178.251.24.1', '178.251.24.2', '178.251.24.3'] with 10 self.anchors\n",
      "INFO:root:starting measurement for target_prefix='207.246.74.0' with ['207.246.74.4', '207.246.74.7', '207.246.74.9'] with 10 self.anchors\n",
      "INFO:root:starting measurement for target_prefix='103.122.190.0' with ['103.122.190.15', '103.122.190.114', '103.122.190.118'] with 10 self.anchors\n",
      "INFO:root:starting measurement for target_prefix='192.42.42.0' with ['192.42.42.1', '192.42.42.2', '192.42.42.3'] with 10 self.anchors\n",
      "INFO:root:starting measurement for target_prefix='152.195.206.0' with ['152.195.206.0', '152.195.206.17', '152.195.206.25'] with 10 self.anchors\n",
      "INFO:root:starting measurement for target_prefix='37.252.251.0' with ['37.252.251.1', '37.252.251.2', '37.252.251.3'] with 10 self.anchors\n",
      "INFO:root:starting measurement for target_prefix='188.172.218.0' with ['188.172.218.9', '188.172.218.10', '188.172.218.13'] with 10 self.anchors\n",
      "INFO:root:starting measurement for target_prefix='63.222.190.0' with ['63.222.190.1', '63.222.190.2', '63.222.190.3'] with 10 self.anchors\n",
      "INFO:root:defaultdict(<class 'list'>, {'37.10.41.0': [52584981, 52584982, 52584983], '103.196.37.0': [52584984, 52584985, 52584986], '178.251.24.0': [52584987, 52584988, 52584990], '207.246.74.0': [52584992, 52584993, 52584995], '103.122.190.0': [52584998, 52584999, 52585001], '192.42.42.0': [52585003, 52585005, 52585007], '152.195.206.0': [52585009, 52585011, 52585012], '37.252.251.0': [52585016, 52585018, 52585020], '188.172.218.0': [52585022, 52585024, 52585026], '63.222.190.0': [52585028, 52585031, 52585033]})\n"
     ]
    }
   ],
   "source": [
    "import logging\n",
    "import pickle\n",
    "\n",
    "from pathlib import Path\n",
    "from random import choice\n",
    "\n",
    "from geoloc_imc_2023.cbg import CBG, get_prefix_from_ip\n",
    "from geoloc_imc_2023.default import (\n",
    "    ANCHOR_PATH\n",
    ")\n",
    "\n",
    "logging.basicConfig(level=logging.INFO)\n",
    "\n",
    "NB_TARGET = 1 # testing\n",
    "NB_VP = 1 # testing\n",
    "\n",
    "ripe_credentials = {\n",
    "    \"username\": \"timur.friedman@sorbonne-universite.fr\",\n",
    "    \"key\": \"b3d3d4fc-724e-4505-befe-1ad16a70dc87\",\n",
    "}\n",
    "\n",
    "# load hitlist\n",
    "hitlist_file = Path(\".\") / \"../datasets/parsed_hitlist.pickle\"\n",
    "with open(hitlist_file, \"rb\") as f:\n",
    "    hitlist_addr = pickle.load(f)\n",
    "\n",
    "# load anchors\n",
    "anchor_file = \"../datasets/anchors.pickle\"\n",
    "with open(anchor_file, \"rb\") as f:\n",
    "    anchors = pickle.load(f)\n",
    "\n",
    "# select targets and vps from anchors\n",
    "targets= [choice(list(anchors)) for _ in range(0, NB_TARGET)]\n",
    "vps = list(set(anchors).difference(set(targets)))[:NB_VP]\n",
    "\n",
    "logging.info(f\"nb targets: {len(targets)} : {[target for target in targets]}\")\n",
    "logging.info(f\"nb_vps : {len(vps)} {[vp for vp in vps]}\")"
   ]
  },
  {
   "attachments": {},
   "cell_type": "markdown",
   "metadata": {},
   "source": [
    "## Tier 1: probing each target prefixes"
   ]
  },
  {
   "cell_type": "code",
   "execution_count": null,
   "metadata": {},
   "outputs": [],
   "source": [
    "cbg = CBG(targets, vps, ripe_credentials, hitlist_addr, anchors)\n",
    "\n",
    "# get target prefixes\n",
    "target_prefixes = []\n",
    "for target_addr in targets:\n",
    "    target_prefix = get_prefix_from_ip(target_addr)\n",
    "    target_prefixes.append(target_prefix)\n",
    "\n",
    "# initialization: start measurements from all vps to targets\n",
    "init_measurement_ids = cbg.prefix_probing(target_prefixes)\n",
    "\n",
    "# retreive measurement results from RIPE Atlas\n",
    "logging.info(init_measurement_ids)"
   ]
  },
  {
   "cell_type": "code",
   "execution_count": 2,
   "metadata": {},
   "outputs": [
    {
     "name": "stdout",
     "output_type": "stream",
     "text": [
      "../results/init_measurement_ids.pickle\n"
     ]
    }
   ],
   "source": [
    "import pickle\n",
    "\n",
    "# save results\n",
    "out_file = f\"../results/init_measurement_ids.pickle\"\n",
    "print(out_file)\n",
    "with open(out_file, \"wb\") as f:\n",
    "    pickle.dump(init_measurement_ids,f)"
   ]
  },
  {
   "attachments": {},
   "cell_type": "markdown",
   "metadata": {},
   "source": [
    "## Retrieve prefix probing results "
   ]
  },
  {
   "cell_type": "code",
   "execution_count": 1,
   "metadata": {},
   "outputs": [],
   "source": [
    "import pickle\n",
    "from pathlib import Path\n",
    "\n",
    "from geoloc_imc_2023.query_api import retreive_single_measurement\n",
    "\n",
    "measurement_ids_file = Path(\".\") / \"../results/init_measurement_ids.pickle\"\n",
    "with open(measurement_ids_file, \"rb\") as f:\n",
    "    init_measurement_ids = pickle.load(f)\n",
    "\n",
    "# load anchors\n",
    "anchor_file = \"../datasets/anchors.pickle\"\n",
    "with open(anchor_file, \"rb\") as f:\n",
    "    anchors = pickle.load(f)\n",
    "\n",
    "ripe_credentials = {\n",
    "    \"username\": \"timur.friedman@sorbonne-universite.fr\",\n",
    "    \"key\": \"b3d3d4fc-724e-4505-befe-1ad16a70dc87\",\n",
    "}\n",
    "\n",
    "measurement_results = {}\n",
    "for prefix in init_measurement_ids:\n",
    "    for measurement_id in init_measurement_ids[prefix]:\n",
    "        measurement_results[prefix] = retreive_single_measurement(measurement_id, anchors, ripe_credentials[\"key\"])"
   ]
  },
  {
   "cell_type": "code",
   "execution_count": 2,
   "metadata": {},
   "outputs": [
    {
     "name": "stdout",
     "output_type": "stream",
     "text": [
      "../results/init_measurement.pickle\n"
     ]
    }
   ],
   "source": [
    "import pickle\n",
    "\n",
    "# save results\n",
    "out_file = f\"../results/init_measurement.pickle\"\n",
    "print(out_file)\n",
    "with open(out_file, \"wb\") as f:\n",
    "    pickle.dump(measurement_results,f)"
   ]
  },
  {
   "attachments": {},
   "cell_type": "markdown",
   "metadata": {},
   "source": [
    "## Tier 2: probe each target"
   ]
  },
  {
   "cell_type": "code",
   "execution_count": 1,
   "metadata": {},
   "outputs": [],
   "source": [
    "import logging\n",
    "import pickle\n",
    "import asyncio\n",
    "\n",
    "from pathlib import Path\n",
    "from random import choice\n",
    "from timeit import default_timer as timer\n",
    "\n",
    "from geoloc_imc_2023.cbg import CBG\n",
    "\n",
    "logging.basicConfig(level=logging.INFO)\n",
    "\n",
    "NB_TARGET = 3\n",
    "NB_VP = 1\n",
    "\n",
    "ripe_credentials = {\n",
    "    \"username\": \"timur.friedman@sorbonne-universite.fr\",\n",
    "    \"key\": \"b3d3d4fc-724e-4505-befe-1ad16a70dc87\",\n",
    "}\n",
    "\n",
    "# load anchors\n",
    "anchor_file = \"../datasets/anchors.pickle\"\n",
    "with open(anchor_file, \"rb\") as f:\n",
    "    anchors = pickle.load(f)\n",
    "\n",
    "# load hitlist\n",
    "hitlist_file = Path(\".\") / \"../datasets/parsed_hitlist.pickle\"\n",
    "with open(hitlist_file, \"rb\") as f:\n",
    "    hitlist_addr = pickle.load(f)\n",
    "\n",
    "targets = [anchor_addr for anchor_addr in anchors][:NB_TARGET]\n",
    "vps = [anchor_addr for anchor_addr in anchors][:NB_VP]\n",
    "\n",
    "logging.info(f\"nb targets: {len(targets)}\")\n",
    "logging.info(f\"nb_vps : {len(vps)}\")"
   ]
  },
  {
   "cell_type": "code",
   "execution_count": null,
   "metadata": {},
   "outputs": [],
   "source": [
    "cbg = CBG(targets, vps, ripe_credentials, hitlist_addr, anchors)\n",
    "\n",
    "start = timer()\n",
    "measurement_ids = await cbg.target_probing(targets, vps)\n",
    "end =timer()\n",
    "\n",
    "time_elapsed = end - start\n",
    "print(time_elapsed)"
   ]
  },
  {
   "cell_type": "code",
   "execution_count": null,
   "metadata": {},
   "outputs": [],
   "source": [
    "import pickle\n",
    "\n",
    "# save results\n",
    "out_file = f\"../results/target_measurement_ids.pickle\"\n",
    "with open(out_file, \"wb\") as f:\n",
    "    pickle.dump(measurement_ids,f)"
   ]
  },
  {
   "attachments": {},
   "cell_type": "markdown",
   "metadata": {},
   "source": [
    "## Retreive target measurements"
   ]
  },
  {
   "cell_type": "code",
   "execution_count": null,
   "metadata": {},
   "outputs": [],
   "source": [
    "from pathlib import Path\n",
    "import pickle\n",
    "from geoloc_imc_2023.query_api import retreive_single_measurement\n",
    "\n",
    "# load hitlist\n",
    "in_file = Path(\".\") / \"../results/target_measurement_ids.pickle\"\n",
    "with open(in_file, \"rb\") as f:\n",
    "    measurement_ids = pickle.load(f)\n",
    "\n",
    "# load anchors\n",
    "anchor_file = \"../datasets/anchors.pickle\"\n",
    "with open(anchor_file, \"rb\") as f:\n",
    "    anchors = pickle.load(f)\n",
    "\n",
    "ripe_credentials = {\n",
    "    \"username\": \"timur.friedman@sorbonne-universite.fr\",\n",
    "    \"key\": \"b3d3d4fc-724e-4505-befe-1ad16a70dc87\",\n",
    "}\n",
    "\n",
    "print(len(measurement_ids))\n",
    "\n",
    "measurement_results = []\n",
    "for measurement_id in measurement_ids:\n",
    "    measurement_result = retreive_single_measurement(measurement_id, anchors, ripe_credentials[\"key\"])\n",
    "    print(f\"got results for target: {measurement_result['target_addr']} from {len(measurement_result['results'])} servers\")\n",
    "    measurement_results.append(measurement_result)"
   ]
  },
  {
   "cell_type": "code",
   "execution_count": 15,
   "metadata": {},
   "outputs": [
    {
     "name": "stdout",
     "output_type": "stream",
     "text": [
      "../results/target_measurement.pickle\n"
     ]
    }
   ],
   "source": [
    "import pickle\n",
    "\n",
    "# save results\n",
    "out_file = f\"../results/target_measurement.pickle\"\n",
    "print(out_file)\n",
    "with open(out_file, \"wb\") as f:\n",
    "    pickle.dump(measurement_results,f)"
   ]
  }
 ],
 "metadata": {
  "kernelspec": {
   "display_name": "geoloc-imc-2023-GZT64Hva-py3.10",
   "language": "python",
   "name": "python3"
  },
  "language_info": {
   "codemirror_mode": {
    "name": "ipython",
    "version": 3
   },
   "file_extension": ".py",
   "mimetype": "text/x-python",
   "name": "python",
   "nbconvert_exporter": "python",
   "pygments_lexer": "ipython3",
   "version": "3.10.9"
  },
  "orig_nbformat": 4
 },
 "nbformat": 4,
 "nbformat_minor": 2
}

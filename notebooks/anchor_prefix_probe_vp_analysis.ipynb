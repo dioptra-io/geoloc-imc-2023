{
 "cells": [
  {
   "cell_type": "code",
   "execution_count": 1,
   "metadata": {},
   "outputs": [],
   "source": [
    "import pickle\n",
    "import json\n",
    "\n",
    "from collections import defaultdict, OrderedDict\n",
    "from copy import deepcopy\n",
    "\n",
    "from geoloc_imc_2023.query_api import get_measurements_from_tag\n",
    "from geoloc_imc_2023.default import ANCHOR_PREFIX_PROBE_VP\n",
    "from geoloc_imc_2023.measurement_utils import load_atlas_anchors, load_atlas_probes\n",
    "from geoloc_imc_2023.helpers import distance, rtt_to_km"
   ]
  },
  {
   "attachments": {},
   "cell_type": "markdown",
   "metadata": {},
   "source": [
    "## load results"
   ]
  },
  {
   "cell_type": "code",
   "execution_count": 2,
   "metadata": {},
   "outputs": [],
   "source": [
    "uuids = [\n",
    "    \"df066267-d1fe-452b-b7b4-ddea25d5b80c\"\n",
    "]\n",
    "\n",
    "measurement_results = {}\n",
    "for uuid in uuids:\n",
    "    measurement_result = get_measurements_from_tag(uuid)\n",
    "    measurement_results.update(measurement_result)\n",
    "\n",
    "with open(ANCHOR_PREFIX_PROBE_VP,\"wb\") as f:\n",
    "    pickle.dump(measurement_results, f)"
   ]
  },
  {
   "cell_type": "code",
   "execution_count": 3,
   "metadata": {},
   "outputs": [
    {
     "name": "stdout",
     "output_type": "stream",
     "text": [
      "859\n",
      "203.119.111.1 9466\n",
      "203.119.111.12 9470\n",
      "203.119.111.13 9451\n",
      "92.38.135.3 9445\n",
      "92.38.135.1 9451\n",
      "92.38.135.2 9453\n",
      "116.90.72.66 1331\n",
      "116.90.72.0 9053\n",
      "116.90.72.5 9045\n",
      "193.3.231.6 9360\n",
      "193.3.231.29 9367\n",
      "193.3.231.129 5077\n",
      "141.98.136.1 9448\n",
      "141.98.136.37 9450\n",
      "141.98.136.32 9460\n",
      "185.134.197.64 9436\n",
      "185.134.197.6 9448\n",
      "185.134.197.3 9454\n",
      "143.205.170.32 9464\n",
      "103.2.186.3 9450\n",
      "103.2.186.2 9449\n"
     ]
    }
   ],
   "source": [
    "print(len(measurement_result))\n",
    "\n",
    "for i, (target_addr, results) in enumerate(measurement_results.items()):\n",
    "    if i > 20 : break\n",
    "    print(target_addr, len(results))\n"
   ]
  },
  {
   "cell_type": "code",
   "execution_count": null,
   "metadata": {},
   "outputs": [],
   "source": [
    "import pickle\n",
    "from copy import deepcopy\n",
    "\n",
    "from geoloc_imc_2023.default import ANCHOR_TARGET_PROBE_VP_RESULT_FILE\n",
    "\n",
    "with open(ANCHOR_TARGET_PROBE_VP_RESULT_FILE, \"rb\") as f:\n",
    "    data = pickle.load(f)\n",
    "\n",
    "print(\"subset analyzed\", len(data[\"cbg\"]))\n",
    "\n",
    "# tmp = deepcopy(data)\n",
    "\n",
    "# for subset in tmp[\"cbg\"]:\n",
    "\n",
    "#     if subset > 1000:\n",
    "#         data[\"cbg\"].pop(subset)\n",
    "#         data[\"shortest_ping\"].pop(subset)\n",
    "\n",
    "for subset in data[\"cbg\"]:\n",
    "\n",
    "    print(subset)\n",
    "\n",
    "# with open(ANCHOR_TARGET_PROBE_VP_RESULT_FILE, \"wb\") as f:\n",
    "#     pickle.dump(data, f)\n"
   ]
  }
 ],
 "metadata": {
  "kernelspec": {
   "display_name": "geoloc-imc-2023-6fDKYmVX-py3.10",
   "language": "python",
   "name": "python3"
  },
  "language_info": {
   "codemirror_mode": {
    "name": "ipython",
    "version": 3
   },
   "file_extension": ".py",
   "mimetype": "text/x-python",
   "name": "python",
   "nbconvert_exporter": "python",
   "pygments_lexer": "ipython3",
   "version": "3.9.8"
  },
  "orig_nbformat": 4
 },
 "nbformat": 4,
 "nbformat_minor": 2
}

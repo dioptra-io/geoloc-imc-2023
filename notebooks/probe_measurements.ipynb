{
 "cells": [
  {
   "attachments": {},
   "cell_type": "markdown",
   "metadata": {},
   "source": [
    "# Tier 1: probing each target prefixes"
   ]
  },
  {
   "cell_type": "code",
   "execution_count": 1,
   "metadata": {},
   "outputs": [],
   "source": [
    "import logging\n",
    "import pickle\n",
    "import sys\n",
    "import uuid\n",
    "\n",
    "from geoloc_imc_2023.cbg import CBG, get_prefix_from_ip\n",
    "from geoloc_imc_2023.query_api import get_measurements_from_tag\n",
    "from geoloc_imc_2023.default import LOG_PATH, RIPE_CREDENTIALS\n",
    "from geoloc_imc_2023.measurement_utils import (\n",
    "    load_atlas_anchors,\n",
    "    load_atlas_probes,\n",
    "    load_prefix_hitlist,\n",
    "    save_config_file,\n",
    ")\n",
    "\n",
    "# generate measurement UUID\n",
    "measurement_uuid = uuid.uuid4()\n",
    "dry_run = True\n",
    "NB_TARGET = 10\n",
    "NB_VP = 30\n",
    "\n",
    "# set logging utilities\n",
    "logging.basicConfig(\n",
    "        filename=LOG_PATH / (str(measurement_uuid) + \".log\"),\n",
    "        filemode=\"a\",\n",
    "        format=\"%(asctime)s::%(name)s:%(levelname)s:%(message)s\",\n",
    "        datefmt=\"%H:%M:%S\",\n",
    "        level=logging.DEBUG,\n",
    ")\n",
    "\n",
    "logging.getLogger().addHandler(logging.StreamHandler(sys.stdout))\n",
    "\n",
    "logger = logging.getLogger()\n"
   ]
  },
  {
   "attachments": {},
   "cell_type": "markdown",
   "metadata": {},
   "source": [
    "## load datasets"
   ]
  },
  {
   "cell_type": "code",
   "execution_count": 2,
   "metadata": {},
   "outputs": [],
   "source": [
    "targets_per_prefix = load_prefix_hitlist()\n",
    "\n",
    "# load probes\n",
    "probes = load_atlas_probes()\n",
    "\n",
    "# load anchors\n",
    "anchors = load_atlas_anchors()"
   ]
  },
  {
   "attachments": {},
   "cell_type": "markdown",
   "metadata": {},
   "source": [
    "## select target and vps dataset"
   ]
  },
  {
   "cell_type": "code",
   "execution_count": 3,
   "metadata": {},
   "outputs": [
    {
     "name": "stdout",
     "output_type": "stream",
     "text": [
      "nb targets: 10\n",
      "nb_vps : 30\n"
     ]
    }
   ],
   "source": [
    "# select targets and vps from anchors\n",
    "targets= list(anchors.keys())[:NB_TARGET]\n",
    "vps = {}\n",
    "for i, probe in enumerate(probes):\n",
    "    if i >= NB_VP: break\n",
    "    vps[probe] = probes[probe]\n",
    "\n",
    "logger.info(f\"nb targets: {len(targets)}\")\n",
    "logger.info(f\"nb_vps : {len(vps)}\")"
   ]
  },
  {
   "attachments": {},
   "cell_type": "markdown",
   "metadata": {},
   "source": [
    "## measure target prefixes"
   ]
  },
  {
   "cell_type": "code",
   "execution_count": 4,
   "metadata": {},
   "outputs": [
    {
     "name": "stdout",
     "output_type": "stream",
     "text": [
      "starting measurement for target_prefix='213.225.160.0' with ['213.225.160.14', '213.225.160.254', '213.225.160.140'] with 30 vps\n",
      "starting measurement for target_addr='213.225.160.14' with 30\n",
      "starting measurement for target_prefix='213.225.160.0' with ['213.225.160.14', '213.225.160.254', '213.225.160.140'] with 30 vps\n",
      "starting measurement for target_addr='213.225.160.254' with 30\n",
      "starting measurement for target_prefix='213.225.160.0' with ['213.225.160.14', '213.225.160.254', '213.225.160.140'] with 30 vps\n",
      "starting measurement for target_addr='213.225.160.140' with 30\n",
      "starting measurement for target_prefix='145.220.0.0' with ['145.220.0.29', '145.220.0.28', '145.220.0.1'] with 30 vps\n",
      "starting measurement for target_addr='145.220.0.29' with 30\n",
      "starting measurement for target_prefix='145.220.0.0' with ['145.220.0.29', '145.220.0.28', '145.220.0.1'] with 30 vps\n",
      "starting measurement for target_addr='145.220.0.28' with 30\n",
      "starting measurement for target_prefix='145.220.0.0' with ['145.220.0.29', '145.220.0.28', '145.220.0.1'] with 30 vps\n",
      "starting measurement for target_addr='145.220.0.1' with 30\n",
      "starting measurement for target_prefix='5.28.0.0' with ['5.28.0.13', '5.28.0.6', '5.28.0.14'] with 30 vps\n",
      "starting measurement for target_addr='5.28.0.13' with 30\n",
      "starting measurement for target_prefix='5.28.0.0' with ['5.28.0.13', '5.28.0.6', '5.28.0.14'] with 30 vps\n",
      "starting measurement for target_addr='5.28.0.6' with 30\n",
      "starting measurement for target_prefix='5.28.0.0' with ['5.28.0.13', '5.28.0.6', '5.28.0.14'] with 30 vps\n",
      "starting measurement for target_addr='5.28.0.14' with 30\n",
      "starting measurement for target_prefix='193.171.255.0' with ['193.171.255.2', '193.171.255.9', '193.171.255.1'] with 30 vps\n",
      "starting measurement for target_addr='193.171.255.2' with 30\n",
      "starting measurement for target_prefix='193.171.255.0' with ['193.171.255.2', '193.171.255.9', '193.171.255.1'] with 30 vps\n",
      "starting measurement for target_addr='193.171.255.9' with 30\n",
      "starting measurement for target_prefix='193.171.255.0' with ['193.171.255.2', '193.171.255.9', '193.171.255.1'] with 30 vps\n",
      "starting measurement for target_addr='193.171.255.1' with 30\n",
      "starting measurement for target_prefix='192.65.184.0' with ['192.65.184.42', '192.65.184.54', '192.65.184.154'] with 30 vps\n",
      "starting measurement for target_addr='192.65.184.42' with 30\n",
      "starting measurement for target_prefix='192.65.184.0' with ['192.65.184.42', '192.65.184.54', '192.65.184.154'] with 30 vps\n",
      "starting measurement for target_addr='192.65.184.54' with 30\n",
      "starting measurement for target_prefix='192.65.184.0' with ['192.65.184.42', '192.65.184.54', '192.65.184.154'] with 30 vps\n",
      "starting measurement for target_addr='192.65.184.154' with 30\n",
      "starting measurement for target_prefix='185.42.136.0' with ['185.42.136.3', '185.42.136.1', '185.42.136.149'] with 30 vps\n",
      "starting measurement for target_addr='185.42.136.3' with 30\n",
      "starting measurement for target_prefix='185.42.136.0' with ['185.42.136.3', '185.42.136.1', '185.42.136.149'] with 30 vps\n",
      "starting measurement for target_addr='185.42.136.1' with 30\n",
      "starting measurement for target_prefix='185.42.136.0' with ['185.42.136.3', '185.42.136.1', '185.42.136.149'] with 30 vps\n",
      "starting measurement for target_addr='185.42.136.149' with 30\n",
      "starting measurement for target_prefix='197.80.104.0' with ['197.80.104.33', '197.80.104.35', '197.80.104.34'] with 30 vps\n",
      "starting measurement for target_addr='197.80.104.33' with 30\n",
      "starting measurement for target_prefix='197.80.104.0' with ['197.80.104.33', '197.80.104.35', '197.80.104.34'] with 30 vps\n",
      "starting measurement for target_addr='197.80.104.35' with 30\n",
      "Reached limit for number of conccurent measurements: 20\n",
      "starting measurement for target_prefix='197.80.104.0' with ['197.80.104.33', '197.80.104.35', '197.80.104.34'] with 30 vps\n",
      "starting measurement for target_addr='197.80.104.34' with 30\n",
      "starting measurement for target_prefix='200.7.84.0' with ['200.7.84.3', '200.7.84.2', '200.7.84.120'] with 30 vps\n",
      "starting measurement for target_addr='200.7.84.3' with 30\n",
      "starting measurement for target_prefix='200.7.84.0' with ['200.7.84.3', '200.7.84.2', '200.7.84.120'] with 30 vps\n",
      "starting measurement for target_addr='200.7.84.2' with 30\n",
      "starting measurement for target_prefix='200.7.84.0' with ['200.7.84.3', '200.7.84.2', '200.7.84.120'] with 30 vps\n",
      "starting measurement for target_addr='200.7.84.120' with 30\n",
      "starting measurement for target_prefix='76.26.115.0' with ['76.26.115.193', '76.26.115.194', '76.26.115.252'] with 30 vps\n",
      "starting measurement for target_addr='76.26.115.193' with 30\n",
      "starting measurement for target_prefix='76.26.115.0' with ['76.26.115.193', '76.26.115.194', '76.26.115.252'] with 30 vps\n",
      "starting measurement for target_addr='76.26.115.194' with 30\n",
      "starting measurement for target_prefix='76.26.115.0' with ['76.26.115.193', '76.26.115.194', '76.26.115.252'] with 30 vps\n",
      "starting measurement for target_addr='76.26.115.252' with 30\n",
      "starting measurement for target_prefix='194.150.191.0' with ['194.150.191.21', '194.150.191.2', '194.150.191.5'] with 30 vps\n",
      "starting measurement for target_addr='194.150.191.21' with 30\n",
      "starting measurement for target_prefix='194.150.191.0' with ['194.150.191.21', '194.150.191.2', '194.150.191.5'] with 30 vps\n",
      "starting measurement for target_addr='194.150.191.2' with 30\n",
      "starting measurement for target_prefix='194.150.191.0' with ['194.150.191.21', '194.150.191.2', '194.150.191.5'] with 30 vps\n",
      "starting measurement for target_addr='194.150.191.5' with 30\n",
      "measurement : a0838af0-ad8d-4477-b9ab-8870475ac342 done\n"
     ]
    }
   ],
   "source": [
    "# measurement configuration for retrieval\n",
    "measurement_config = {\n",
    "    \"UUID\": str(measurement_uuid),\n",
    "    \"is_dry_run\": dry_run,\n",
    "    \"description\": \"measurement towards all anchors with all probes as vps\",\n",
    "    \"type\" : \"target prefix\",\n",
    "    \"af\" : 4,\n",
    "    \"targets\": targets,\n",
    "    \"vps\": vps,\n",
    "}\n",
    "\n",
    "# save measurement configuration before starting measurement\n",
    "save_config_file(measurement_config)\n",
    "\n",
    "cbg = CBG(RIPE_CREDENTIALS)\n",
    "\n",
    "# get target prefixes\n",
    "target_prefixes = []\n",
    "for target_addr in targets:\n",
    "    target_prefix = get_prefix_from_ip(target_addr)\n",
    "    target_prefixes.append(target_prefix)\n",
    "\n",
    "# measurement for 3 targets in every target prefixes\n",
    "measurement_config[\"ids\"], measurement_config[\"start_time\"], measurement_config[\"end_time\"] = cbg.prefix_probing(\n",
    "    target_prefixes= target_prefixes, \n",
    "    vps= vps,\n",
    "    targets_per_prefix= targets_per_prefix,\n",
    "    tag= measurement_uuid,\n",
    "    dry_run=dry_run\n",
    ")\n",
    "\n",
    "# save measurement configuration before starting measurement\n",
    "save_config_file(measurement_config)\n"
   ]
  },
  {
   "attachments": {},
   "cell_type": "markdown",
   "metadata": {},
   "source": [
    "## Retrieve prefix probing results "
   ]
  },
  {
   "cell_type": "code",
   "execution_count": null,
   "metadata": {},
   "outputs": [],
   "source": [
    "measurement_results = get_measurements_from_tag(measurement_config[\"UUID\"])\n",
    "\n",
    "# test that everything is alright\n",
    "logging.info(f\"nb measurements retrieved: {len(measurement_results)}\")\n",
    "\n",
    "print(f\"measurements for {len(measurement_results)} target addr.\")\n",
    "for i, (target_addr, results) in enumerate(measurement_results.items()):\n",
    "    if i > 10: break\n",
    "    print(target_addr, \":\", len(results))\n",
    "\n",
    "# save results\n",
    "out_file = f\"../results/{measurement_config['UUID']}.pickle\"\n",
    "print(out_file)\n",
    "with open(out_file, \"wb\") as f:\n",
    "    pickle.dump(measurement_results,f)\n",
    "    "
   ]
  },
  {
   "attachments": {},
   "cell_type": "markdown",
   "metadata": {},
   "source": [
    "# Tier 2: probe each target"
   ]
  },
  {
   "cell_type": "code",
   "execution_count": 2,
   "metadata": {},
   "outputs": [],
   "source": [
    "import logging\n",
    "import pickle\n",
    "import sys\n",
    "import uuid\n",
    "\n",
    "from geoloc_imc_2023.cbg import CBG\n",
    "from geoloc_imc_2023.query_api import get_measurements_from_tag\n",
    "from geoloc_imc_2023.default import LOG_PATH, RIPE_CREDENTIALS\n",
    "from geoloc_imc_2023.measurement_utils import (\n",
    "    load_atlas_anchors,\n",
    "    load_atlas_probes,\n",
    "    save_config_file,\n",
    ")\n",
    "\n",
    "# generate measurement UUID\n",
    "measurement_uuid = uuid.uuid4()\n",
    "dry_run = True\n",
    "NB_TARGET = 10\n",
    "NB_VP = 30"
   ]
  },
  {
   "cell_type": "code",
   "execution_count": null,
   "metadata": {},
   "outputs": [],
   "source": [
    "# set logging utilities\n",
    "logging.basicConfig(\n",
    "        filename=LOG_PATH / (str(measurement_uuid) + \".log\"),\n",
    "        filemode=\"a\",\n",
    "        format=\"%(asctime)s::%(name)s:%(levelname)s:%(message)s\",\n",
    "        datefmt=\"%H:%M:%S\",\n",
    "        level=logging.DEBUG,\n",
    ")\n",
    "\n",
    "logging.getLogger().addHandler(logging.StreamHandler(sys.stdout))"
   ]
  },
  {
   "cell_type": "code",
   "execution_count": 5,
   "metadata": {},
   "outputs": [],
   "source": [
    "logger = logging.getLogger()"
   ]
  },
  {
   "attachments": {},
   "cell_type": "markdown",
   "metadata": {},
   "source": [
    "## load data"
   ]
  },
  {
   "cell_type": "code",
   "execution_count": 6,
   "metadata": {},
   "outputs": [],
   "source": [
    "# load probes\n",
    "probes = load_atlas_probes()\n",
    "\n",
    "# load anchors\n",
    "anchors = load_atlas_anchors()"
   ]
  },
  {
   "attachments": {},
   "cell_type": "markdown",
   "metadata": {},
   "source": [
    "## get targets and vps datasets"
   ]
  },
  {
   "cell_type": "code",
   "execution_count": 9,
   "metadata": {},
   "outputs": [
    {
     "name": "stdout",
     "output_type": "stream",
     "text": [
      "nb targets: 10\n",
      "nb targets: 10\n",
      "nb_vps : 30\n",
      "nb_vps : 30\n"
     ]
    }
   ],
   "source": [
    "# select targets and vps from anchors\n",
    "targets= list(anchors.keys())[:NB_TARGET]\n",
    "vps = {}\n",
    "for i, probe in enumerate(probes):\n",
    "    if i >= NB_VP: break\n",
    "    vps[probe] = probes[probe]\n",
    "\n",
    "logger.info(f\"nb targets: {len(targets)}\")\n",
    "logger.info(f\"nb_vps : {len(vps)}\")"
   ]
  },
  {
   "attachments": {},
   "cell_type": "markdown",
   "metadata": {},
   "source": [
    "## measure targets"
   ]
  },
  {
   "cell_type": "code",
   "execution_count": 10,
   "metadata": {},
   "outputs": [
    {
     "name": "stdout",
     "output_type": "stream",
     "text": [
      "starting measurement for target_addr='213.225.160.239' with 30 vps\n",
      "starting measurement for target_addr='213.225.160.239' with 30 vps\n",
      "starting measurement for target_addr='145.220.0.55' with 30 vps\n",
      "starting measurement for target_addr='145.220.0.55' with 30 vps\n",
      "starting measurement for target_addr='5.28.0.17' with 30 vps\n",
      "starting measurement for target_addr='5.28.0.17' with 30 vps\n",
      "starting measurement for target_addr='193.171.255.2' with 30 vps\n",
      "starting measurement for target_addr='193.171.255.2' with 30 vps\n",
      "starting measurement for target_addr='192.65.184.54' with 30 vps\n",
      "starting measurement for target_addr='192.65.184.54' with 30 vps\n",
      "starting measurement for target_addr='185.42.136.158' with 30 vps\n",
      "starting measurement for target_addr='185.42.136.158' with 30 vps\n",
      "starting measurement for target_addr='197.80.104.36' with 30 vps\n",
      "starting measurement for target_addr='197.80.104.36' with 30 vps\n",
      "starting measurement for target_addr='200.7.84.24' with 30 vps\n",
      "starting measurement for target_addr='200.7.84.24' with 30 vps\n",
      "starting measurement for target_addr='76.26.115.194' with 30 vps\n",
      "starting measurement for target_addr='76.26.115.194' with 30 vps\n",
      "starting measurement for target_addr='194.150.191.46' with 30 vps\n",
      "starting measurement for target_addr='194.150.191.46' with 30 vps\n",
      "measurement : 6801cd44-aaa0-4efa-ad5c-69c8983adc24 done\n",
      "measurement : 6801cd44-aaa0-4efa-ad5c-69c8983adc24 done\n"
     ]
    }
   ],
   "source": [
    "# measurement configuration for retrieval\n",
    "measurement_config = {\n",
    "    \"UUID\": str(measurement_uuid),\n",
    "    \"is_dry_run\": dry_run,\n",
    "    \"description\": \"measurement towards all anchors with all probes as vps\",\n",
    "    \"type\" : \"target address\",\n",
    "    \"af\" : 4,\n",
    "    \"targets\": targets,\n",
    "    \"vps\": vps,\n",
    "}\n",
    "\n",
    "# save measurement configuration before starting measurement\n",
    "save_config_file(measurement_config)\n",
    "\n",
    "cbg = CBG(RIPE_CREDENTIALS)\n",
    "\n",
    "# measurement for 3 targets in every target prefixes\n",
    "measurement_config[\"ids\"], measurement_config[\"start_time\"], measurement_config[\"end_time\"] = cbg.target_probing(\n",
    "    targets= targets, \n",
    "    vps= vps,\n",
    "    tag= measurement_uuid,\n",
    "    dry_run=dry_run\n",
    ")\n",
    "\n",
    "save_config_file(measurement_config)"
   ]
  },
  {
   "attachments": {},
   "cell_type": "markdown",
   "metadata": {},
   "source": [
    "## retrieve measurement results"
   ]
  },
  {
   "cell_type": "code",
   "execution_count": 14,
   "metadata": {},
   "outputs": [
    {
     "name": "stderr",
     "output_type": "stream",
     "text": [
      "INFO:root:measurements for 10 target addr\n",
      "INFO:root: 188.94.96.182 : number of measurements 4\n",
      "INFO:root: 104.167.214.46 : number of measurements 4\n",
      "INFO:root: 85.236.41.237 : number of measurements 4\n",
      "INFO:root: 185.97.141.2 : number of measurements 4\n",
      "INFO:root: 92.38.132.60 : number of measurements 4\n",
      "INFO:root: 95.217.19.69 : number of measurements 4\n",
      "INFO:root: 204.9.92.179 : number of measurements 4\n",
      "INFO:root: 54.39.185.31 : number of measurements 4\n",
      "INFO:root: 80.79.16.242 : number of measurements 4\n",
      "INFO:root: 195.32.69.197 : number of measurements 4\n",
      "INFO:root:../results/db5b34f9-edef-4c08-a0fc-332106015718.pickle\n"
     ]
    }
   ],
   "source": [
    "measurement_results = get_measurements_from_tag(measurement_config[\"UUID\"])\n",
    "\n",
    "logger.info(f\"measurements for {len(measurement_results)} target addr\")\n",
    "for i, (target_addr, results) in enumerate(measurement_results.items()):\n",
    "    if i > 10: break\n",
    "    logger.info(f\" {target_addr} : number of measurements {len(results)}\")\n",
    "\n",
    "# save results\n",
    "out_file = f\"../results/{measurement_config['UUID']}.pickle\"\n",
    "logger.info(out_file)\n",
    "with open(out_file, \"wb\") as f:\n",
    "    pickle.dump(measurement_results,f)"
   ]
  },
  {
   "attachments": {},
   "cell_type": "markdown",
   "metadata": {},
   "source": [
    "## testbench"
   ]
  },
  {
   "cell_type": "code",
   "execution_count": 6,
   "metadata": {},
   "outputs": [
    {
     "name": "stdout",
     "output_type": "stream",
     "text": [
      "Starting new HTTPS connection (1): atlas.ripe.net:443\n",
      "https://atlas.ripe.net:443 \"GET /api/v2/measurements/tags/2e756f0f-4493-4c6d-898d-e9e87cc2d64b/results/ HTTP/1.1\" 200 None\n",
      "measurements for 2 target addr\n",
      " 213.225.160.239 : number of measurements 24\n",
      " 145.220.0.55 : number of measurements 24\n"
     ]
    }
   ],
   "source": [
    "uuid = \"2e756f0f-4493-4c6d-898d-e9e87cc2d64b\"\n",
    "\n",
    "measurement_results = get_measurements_from_tag(uuid)\n",
    "\n",
    "logger.info(f\"measurements for {len(measurement_results)} target addr\")\n",
    "for i, (target_addr, results) in enumerate(measurement_results.items()):\n",
    "    if i > 10: break\n",
    "    logger.info(f\" {target_addr} : number of measurements {len(results)}\")\n"
   ]
  }
 ],
 "metadata": {
  "kernelspec": {
   "display_name": "geoloc-imc-2023-GZT64Hva-py3.10",
   "language": "python",
   "name": "python3"
  },
  "language_info": {
   "codemirror_mode": {
    "name": "ipython",
    "version": 3
   },
   "file_extension": ".py",
   "mimetype": "text/x-python",
   "name": "python",
   "nbconvert_exporter": "python",
   "pygments_lexer": "ipython3",
   "version": "3.10.9"
  },
  "orig_nbformat": 4
 },
 "nbformat": 4,
 "nbformat_minor": 2
}

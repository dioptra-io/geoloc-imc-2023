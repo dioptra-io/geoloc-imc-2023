{
 "cells": [
  {
   "attachments": {},
   "cell_type": "markdown",
   "metadata": {},
   "source": [
    "# Tier 1: probing each target prefixes"
   ]
  },
  {
   "cell_type": "code",
   "execution_count": 1,
   "metadata": {},
   "outputs": [],
   "source": [
    "import logging\n",
    "import pickle\n",
    "import json\n",
    "\n",
    "from pathlib import Path\n",
    "import uuid\n",
    "\n",
    "from geoloc_imc_2023.cbg import CBG, get_prefix_from_ip\n",
    "from geoloc_imc_2023.query_api import get_measurements_from_tag\n",
    "\n",
    "from geoloc_imc_2023.default import (\n",
    "    PROBES_PATH,\n",
    "    ANCHORS_PATH,\n",
    "    HITLIST_PATH,\n",
    "    RIPE_CREDENTIALS,\n",
    ")\n",
    "\n",
    "logging.basicConfig(level=logging.INFO)\n",
    "\n",
    "NB_TARGET = 2\n",
    "NB_VP = 5"
   ]
  },
  {
   "attachments": {},
   "cell_type": "markdown",
   "metadata": {},
   "source": [
    "## load datasets"
   ]
  },
  {
   "cell_type": "code",
   "execution_count": 2,
   "metadata": {},
   "outputs": [],
   "source": [
    "# load hitlist\n",
    "with open(HITLIST_PATH, \"rb\") as f:\n",
    "    targets_per_prefix = pickle.load(f)\n",
    "\n",
    "# load probes\n",
    "with open(PROBES_PATH, \"rb\") as f:\n",
    "    probes = pickle.load(f)\n",
    "\n",
    "# load anchors\n",
    "with open(ANCHORS_PATH, \"rb\") as f:\n",
    "    anchors = pickle.load(f)"
   ]
  },
  {
   "attachments": {},
   "cell_type": "markdown",
   "metadata": {},
   "source": [
    "## select target and vps dataset"
   ]
  },
  {
   "cell_type": "code",
   "execution_count": 3,
   "metadata": {},
   "outputs": [
    {
     "name": "stderr",
     "output_type": "stream",
     "text": [
      "INFO:root:nb targets: 3\n",
      "INFO:root:nb_vps : 10\n"
     ]
    }
   ],
   "source": [
    "# select targets and vps from anchors\n",
    "targets= list(anchors.keys())[:NB_TARGET]\n",
    "vps = {}\n",
    "for i, probe in enumerate(probes):\n",
    "    if i >= NB_VP: break\n",
    "    vps[probe] = probes[probe]\n",
    "\n",
    "logging.info(f\"nb targets: {len(targets)}\")\n",
    "logging.info(f\"nb_vps : {len(vps)}\")"
   ]
  },
  {
   "attachments": {},
   "cell_type": "markdown",
   "metadata": {},
   "source": [
    "## measure target prefixes"
   ]
  },
  {
   "cell_type": "code",
   "execution_count": 4,
   "metadata": {},
   "outputs": [
    {
     "name": "stderr",
     "output_type": "stream",
     "text": [
      "INFO:root:starting measurement for target_prefix='213.225.160.0' with ['213.225.160.159', '213.225.160.140', '213.225.160.14'] with 10 vps\n",
      "INFO:root:starting measurement for target_prefix='145.220.0.0' with ['145.220.0.1', '145.220.0.28', '145.220.0.29'] with 10 vps\n",
      "INFO:root:Reached limit for number of conccurent measurements: 5 (limit is 5)\n",
      "INFO:root:starting measurement for target_prefix='5.28.0.0' with ['5.28.0.6', '5.28.0.13', '5.28.0.14'] with 10 vps\n",
      "INFO:root:measurement : e6000fd2-d187-4947-99ed-8b1cf36f2d8c done\n"
     ]
    }
   ],
   "source": [
    "dry_run = True\n",
    "measurement_uuid = uuid.uuid4()\n",
    "\n",
    "# measurement configuration for retrieval\n",
    "measurement_config = {\n",
    "    \"UUID\": str(measurement_uuid),\n",
    "    \"is_dry_run\": dry_run,\n",
    "    \"description\": \"measurement towards all anchors with all probes as vps\",\n",
    "    \"type\" : \"target prefix\",\n",
    "    \"af\" : 4,\n",
    "    \"targets\": targets,\n",
    "    \"vps\": vps,\n",
    "}\n",
    "\n",
    "# save measurement configuration before starting measurement\n",
    "measurement_config_path = Path(\".\") / f\"../measurements_metadata/{str(measurement_uuid)}.json\"\n",
    "with open(measurement_config_path, \"w\") as f:\n",
    "    json.dump(measurement_config, f, indent=4)\n",
    "\n",
    "cbg = CBG(RIPE_CREDENTIALS)\n",
    "\n",
    "# get target prefixes\n",
    "target_prefixes = []\n",
    "for target_addr in targets:\n",
    "    target_prefix = get_prefix_from_ip(target_addr)\n",
    "    target_prefixes.append(target_prefix)\n",
    "\n",
    "# measurement for 3 targets in every target prefixes\n",
    "measurement_config[\"start_time\"], measurement_config[\"end_time\"] = cbg.prefix_probing(\n",
    "    target_prefixes= target_prefixes, \n",
    "    vps= vps,\n",
    "    targets_per_prefix= targets_per_prefix,\n",
    "    tag= measurement_uuid,\n",
    "    dry_run=dry_run\n",
    ")\n",
    "\n",
    "# save measurement configuration before starting measurement\n",
    "measurement_config_path = Path(\".\") / f\"../measurements_metadata/{str(measurement_uuid)}.json\"\n",
    "with open(measurement_config_path, \"w\") as f:\n",
    "    json.dump(measurement_config, f, indent=4)"
   ]
  },
  {
   "attachments": {},
   "cell_type": "markdown",
   "metadata": {},
   "source": [
    "## Retrieve prefix probing results "
   ]
  },
  {
   "cell_type": "code",
   "execution_count": null,
   "metadata": {},
   "outputs": [],
   "source": [
    "measurement_results = get_measurements_from_tag(measurement_config[\"UUID\"])\n",
    "\n",
    "# test that everything is alright\n",
    "logging.info(f\"nb measurements retrieved: {len(measurement_results)}\")\n",
    "\n",
    "print(f\"measurements for {len(measurement_results)} target addr.\")\n",
    "for i, (target_addr, results) in enumerate(measurement_results.items()):\n",
    "    if i > 10: break\n",
    "    print(target_addr, \":\", len(results))\n",
    "\n",
    "# save results\n",
    "out_file = f\"../results/{measurement_config['UUID']}.pickle\"\n",
    "print(out_file)\n",
    "with open(out_file, \"wb\") as f:\n",
    "    pickle.dump(measurement_results,f)\n",
    "    "
   ]
  },
  {
   "attachments": {},
   "cell_type": "markdown",
   "metadata": {},
   "source": [
    "# Tier 2: probe each target"
   ]
  },
  {
   "cell_type": "code",
   "execution_count": 4,
   "metadata": {},
   "outputs": [],
   "source": [
    "import logging\n",
    "import pickle\n",
    "import json\n",
    "import uuid\n",
    "\n",
    "from pathlib import Path\n",
    "from random import choice\n",
    "\n",
    "from geoloc_imc_2023.query_api import get_measurements_from_tag, get_measurement_from_id\n",
    "from geoloc_imc_2023.cbg import CBG\n",
    "from geoloc_imc_2023.default import (\n",
    "    PROBES_PATH,\n",
    "    ANCHORS_PATH,\n",
    "    RIPE_CREDENTIALS,\n",
    ")\n",
    "\n",
    "logging.basicConfig(level=logging.DEBUG)\n",
    "\n",
    "\n",
    "NB_TARGET = 10\n",
    "NB_VP = 30"
   ]
  },
  {
   "attachments": {},
   "cell_type": "markdown",
   "metadata": {},
   "source": [
    "## load data"
   ]
  },
  {
   "cell_type": "code",
   "execution_count": 5,
   "metadata": {},
   "outputs": [],
   "source": [
    "# load probes\n",
    "with open(PROBES_PATH, \"rb\") as f:\n",
    "    probes = pickle.load(f)\n",
    "\n",
    "# load anchors\n",
    "with open(ANCHORS_PATH, \"rb\") as f:\n",
    "    anchors = pickle.load(f)"
   ]
  },
  {
   "attachments": {},
   "cell_type": "markdown",
   "metadata": {},
   "source": [
    "## get targets and vps datasets"
   ]
  },
  {
   "cell_type": "code",
   "execution_count": 9,
   "metadata": {},
   "outputs": [
    {
     "name": "stderr",
     "output_type": "stream",
     "text": [
      "INFO:root:nb targets: 10\n",
      "INFO:root:nb_vps : 30\n"
     ]
    }
   ],
   "source": [
    "# select targets and vps from anchors\n",
    "targets= set()\n",
    "while len(targets) < NB_TARGET:\n",
    "    random_target = choice(list(anchors))\n",
    "    targets.add(random_target)\n",
    "targets = list(targets)\n",
    "\n",
    "# select vps from probes\n",
    "vps = {}\n",
    "while len(vps) < NB_VP:\n",
    "    random_vp = choice(list(probes))\n",
    "    vps[random_vp] = probes[random_vp]\n",
    "\n",
    "logging.info(f\"nb targets: {len(targets)}\")\n",
    "logging.info(f\"nb_vps : {len(vps)}\")"
   ]
  },
  {
   "attachments": {},
   "cell_type": "markdown",
   "metadata": {},
   "source": [
    "## measure targets"
   ]
  },
  {
   "cell_type": "code",
   "execution_count": 11,
   "metadata": {},
   "outputs": [
    {
     "name": "stderr",
     "output_type": "stream",
     "text": [
      "INFO:root:Reached limit for number of concurrent measurements: 5\n",
      "INFO:root:Reached limit for number of concurrent measurements: 5\n",
      "INFO:root:measurement : db5b34f9-edef-4c08-a0fc-332106015718 done\n"
     ]
    }
   ],
   "source": [
    "dry_run = False\n",
    "measurement_uuid = uuid.uuid4()\n",
    "\n",
    "# measurement configuration for retrieval\n",
    "measurement_config = {\n",
    "    \"UUID\": str(measurement_uuid),\n",
    "    \"is_dry_run\": dry_run,\n",
    "    \"description\": \"measurement towards all anchors with all probes as vps\",\n",
    "    \"type\" : \"target prefix\",\n",
    "    \"af\" : 4,\n",
    "    \"targets\": targets,\n",
    "    \"vps\": vps,\n",
    "}\n",
    "\n",
    "# save measurement configuration before starting measurement\n",
    "measurement_config_path = Path(\".\") / f\"../measurements_metadata/{str(measurement_uuid)}.json\"\n",
    "with open(measurement_config_path, \"w\") as f:\n",
    "    json.dump(measurement_config, f)\n",
    "\n",
    "cbg = CBG(RIPE_CREDENTIALS)\n",
    "\n",
    "# measurement for 3 targets in every target prefixes\n",
    "measurement_config[\"ids\"], measurement_config[\"start_time\"], measurement_config[\"end_time\"] = cbg.target_probing(\n",
    "    targets= targets, \n",
    "    vps= vps,\n",
    "    tag= measurement_uuid,\n",
    "    dry_run=dry_run\n",
    ")"
   ]
  },
  {
   "cell_type": "code",
   "execution_count": 12,
   "metadata": {},
   "outputs": [],
   "source": [
    "measurement_config_path = Path(\".\") / f\"../measurements_metadata/{str(measurement_uuid)}.json\"\n",
    "with open(measurement_config_path, \"w\") as f:\n",
    "    json.dump(measurement_config, f, indent=4)"
   ]
  },
  {
   "attachments": {},
   "cell_type": "markdown",
   "metadata": {},
   "source": [
    "## retrieve measurement results"
   ]
  },
  {
   "cell_type": "code",
   "execution_count": 13,
   "metadata": {},
   "outputs": [
    {
     "name": "stderr",
     "output_type": "stream",
     "text": [
      "INFO:root:getting measurement with id : 52717385\n",
      "INFO:root:getting measurement with id : 52717387\n",
      "INFO:root:getting measurement with id : 52717389\n",
      "INFO:root:getting measurement with id : 52717392\n",
      "INFO:root:getting measurement with id : 52717393\n",
      "INFO:root:getting measurement with id : 52717416\n",
      "INFO:root:getting measurement with id : 52717418\n",
      "INFO:root:getting measurement with id : 52717419\n",
      "INFO:root:getting measurement with id : 52717420\n",
      "INFO:root:getting measurement with id : 52717421\n"
     ]
    },
    {
     "name": "stdout",
     "output_type": "stream",
     "text": [
      "https://atlas.ripe.net/api/v2/measurements/52712915/\n"
     ]
    },
    {
     "name": "stderr",
     "output_type": "stream",
     "text": [
      "INFO:root:RESP: {'id': 4, 'name': 'Stopped', 'when': 1682590507}\n",
      "INFO:root:RESP: https://atlas.ripe.net/api/v2/measurements/52712915/results/\n"
     ]
    },
    {
     "name": "stdout",
     "output_type": "stream",
     "text": [
      "b'[{\"fw\":5080,\"mver\":\"2.6.2\",\"lts\":11,\"dst_name\":\"217.70.176.109\",\"af\":4,\"dst_addr\":\"217.70.176.109\",\"src_addr\":\"10.71.71.15\",\"proto\":\"ICMP\",\"ttl\":50,\"size\":48,\"result\":[{\"rtt\":167.635967},{\"rtt\":167.593986},{\"rtt\":167.989166}],\"dup\":0,\"rcvd\":3,\"sent\":3,\"min\":167.593986,\"max\":167.989166,\"avg\":167.7397063333,\"msm_id\":52712915,\"prb_id\":1000927,\"timestamp\":1682590165,\"msm_name\":\"Ping\",\"from\":\"103.38.202.251\",\"type\":\"ping\",\"group_id\":52712915,\"step\":null,\"stored_timestamp\":1682598256},{\"fw\":5080,\"mver\":\"2.6.2\",\"lts\":9,\"dst_name\":\"217.70.176.109\",\"af\":4,\"dst_addr\":\"217.70.176.109\",\"src_addr\":\"192.168.178.49\",\"proto\":\"ICMP\",\"ttl\":47,\"size\":48,\"result\":[{\"rtt\":67.862515},{\"rtt\":68.294253},{\"rtt\":65.89308}],\"dup\":0,\"rcvd\":3,\"sent\":3,\"min\":65.89308,\"max\":68.294253,\"avg\":67.3499493333,\"msm_id\":52712915,\"prb_id\":22312,\"timestamp\":1682590164,\"msm_name\":\"Ping\",\"from\":\"89.144.206.159\",\"type\":\"ping\",\"group_id\":52712915,\"step\":null,\"stored_timestamp\":1682599993},{\"fw\":5080,\"mver\":\"2.6.2\",\"lts\":6,\"dst_name\":\"217.70.176.109\",\"af\":4,\"dst_addr\":\"217.70.176.109\",\"src_addr\":\"192.168.0.46\",\"proto\":\"ICMP\",\"ttl\":53,\"size\":48,\"result\":[{\"rtt\":90.787459},{\"rtt\":89.425583},{\"rtt\":91.57775}],\"dup\":0,\"rcvd\":3,\"sent\":3,\"min\":89.425583,\"max\":91.57775,\"avg\":90.5969306667,\"msm_id\":52712915,\"prb_id\":55212,\"timestamp\":1682590166,\"msm_name\":\"Ping\",\"from\":\"64.65.80.109\",\"type\":\"ping\",\"group_id\":52712915,\"step\":null,\"stored_timestamp\":1682597314},{\"fw\":5080,\"mver\":\"2.6.2\",\"lts\":2,\"dst_name\":\"217.70.176.109\",\"af\":4,\"dst_addr\":\"217.70.176.109\",\"src_addr\":\"192.168.1.87\",\"proto\":\"ICMP\",\"ttl\":48,\"size\":48,\"result\":[{\"rtt\":257.657625},{\"rtt\":258.815542},{\"rtt\":257.028917}],\"dup\":0,\"rcvd\":3,\"sent\":3,\"min\":257.028917,\"max\":258.815542,\"avg\":257.834028,\"msm_id\":52712915,\"prb_id\":55328,\"timestamp\":1682590166,\"msm_name\":\"Ping\",\"from\":\"115.204.155.38\",\"type\":\"ping\",\"group_id\":52712915,\"step\":null,\"stored_timestamp\":1682598818}]'\n"
     ]
    }
   ],
   "source": [
    "from geoloc_imc_2023.query_api import get_measurements_from_tag, get_measurement_url\n",
    "import time\n",
    "import requests\n",
    "\n",
    "def get_from_atlas(url: str, max_retry: int = 60):\n",
    "    \"\"\"request to Atlas API\"\"\"\n",
    "\n",
    "    for _ in range(max_retry):\n",
    "        response = requests.get(url, timeout=20).json()\n",
    "        print(response)\n",
    "        if response:\n",
    "            break\n",
    "        time.sleep(2)\n",
    "\n",
    "    return response\n",
    "\n",
    "for measurement_id in measurement_config[\"ids\"]: \n",
    "    logging.info(f\"getting measurement with id : {measurement_id}\")\n",
    "\n",
    "measurement_id = 52712915\n",
    "url = f\"https://atlas.ripe.net/api/v2/measurements/{measurement_id}/\"\n",
    "print(url)\n",
    "response = requests.get(url, timeout=20).json()\n",
    "logging.info(f\"RESP: {response['status']}\")\n",
    "logging.info(f\"RESP: {response['result']}\")\n",
    "\n",
    "result = requests.get(response['result'])\n",
    "print(result.content)\n"
   ]
  },
  {
   "cell_type": "code",
   "execution_count": 14,
   "metadata": {},
   "outputs": [
    {
     "name": "stderr",
     "output_type": "stream",
     "text": [
      "INFO:root:measurements for 10 target addr\n",
      "INFO:root: 188.94.96.182 : number of measurements 4\n",
      "INFO:root: 104.167.214.46 : number of measurements 4\n",
      "INFO:root: 85.236.41.237 : number of measurements 4\n",
      "INFO:root: 185.97.141.2 : number of measurements 4\n",
      "INFO:root: 92.38.132.60 : number of measurements 4\n",
      "INFO:root: 95.217.19.69 : number of measurements 4\n",
      "INFO:root: 204.9.92.179 : number of measurements 4\n",
      "INFO:root: 54.39.185.31 : number of measurements 4\n",
      "INFO:root: 80.79.16.242 : number of measurements 4\n",
      "INFO:root: 195.32.69.197 : number of measurements 4\n",
      "INFO:root:../results/db5b34f9-edef-4c08-a0fc-332106015718.pickle\n"
     ]
    }
   ],
   "source": [
    "measurement_results = get_measurements_from_tag(measurement_config[\"UUID\"])\n",
    "\n",
    "if not measurement_results:\n",
    "    for measurement_id in measurement_config[\"ids\"]: \n",
    "        logging.info(f\"getting measurement with id : {measurement_id}\")\n",
    "        measurement_result = get_measurement_from_id(measurement_id)\n",
    "\n",
    "logging.info(f\"measurements for {len(measurement_results)} target addr\")\n",
    "for i, (target_addr, results) in enumerate(measurement_results.items()):\n",
    "    if i > 10: break\n",
    "    logging.info(f\" {target_addr} : number of measurements {len(results)}\")\n",
    "\n",
    "# save results\n",
    "out_file = f\"../results/{measurement_config['UUID']}.pickle\"\n",
    "logging.info(out_file)\n",
    "with open(out_file, \"wb\") as f:\n",
    "    pickle.dump(measurement_results,f)"
   ]
  }
 ],
 "metadata": {
  "kernelspec": {
   "display_name": "geoloc-imc-2023-GZT64Hva-py3.10",
   "language": "python",
   "name": "python3"
  },
  "language_info": {
   "codemirror_mode": {
    "name": "ipython",
    "version": 3
   },
   "file_extension": ".py",
   "mimetype": "text/x-python",
   "name": "python",
   "nbconvert_exporter": "python",
   "pygments_lexer": "ipython3",
   "version": "3.10.9"
  },
  "orig_nbformat": 4
 },
 "nbformat": 4,
 "nbformat_minor": 2
}

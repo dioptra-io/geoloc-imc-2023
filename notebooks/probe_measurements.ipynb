{
 "cells": [
  {
   "cell_type": "code",
   "execution_count": 2,
   "metadata": {},
   "outputs": [],
   "source": [
    "import logging\n",
    "import pickle\n",
    "import json\n",
    "import time\n",
    "\n",
    "from pathlib import Path\n",
    "import uuid\n",
    "from timeit import default_timer as timer\n",
    "\n",
    "from geoloc_imc_2023.cbg import CBG, get_prefix_from_ip\n",
    "from geoloc_imc_2023.query_api import get_measurements_from_tag\n",
    "\n",
    "from geoloc_imc_2023.default import (\n",
    "    PROBES_PATH,\n",
    "    ANCHORS_PATH,\n",
    "    HITLIST_PATH,\n",
    ")\n",
    "\n",
    "logging.basicConfig(level=logging.INFO)\n",
    "\n",
    "ripe_credentials = {\n",
    "    \"username\": \"timur.friedman@sorbonne-universite.fr\",\n",
    "    \"key\": \"b3d3d4fc-724e-4505-befe-1ad16a70dc87\",\n",
    "}\n",
    "\n",
    "NB_TARGET = 3\n",
    "NB_VP = 10"
   ]
  },
  {
   "cell_type": "code",
   "execution_count": 2,
   "metadata": {},
   "outputs": [],
   "source": [
    "# load hitlist\n",
    "with open(HITLIST_PATH, \"rb\") as f:\n",
    "    targets_per_prefix = pickle.load(f)\n",
    "\n",
    "# load probes\n",
    "with open(PROBES_PATH, \"rb\") as f:\n",
    "    probes = pickle.load(f)\n",
    "\n",
    "# load anchors\n",
    "with open(ANCHORS_PATH, \"rb\") as f:\n",
    "    anchors = pickle.load(f)"
   ]
  },
  {
   "attachments": {},
   "cell_type": "markdown",
   "metadata": {},
   "source": [
    "## select target and vps dataset"
   ]
  },
  {
   "cell_type": "code",
   "execution_count": 3,
   "metadata": {},
   "outputs": [
    {
     "name": "stderr",
     "output_type": "stream",
     "text": [
      "INFO:root:nb targets: 3 : ['213.225.160.239', '145.220.0.55', '5.28.0.17']\n",
      "INFO:root:nb_vps : 10 ['45.138.229.91', '77.174.76.85', '82.217.219.124', '83.81.82.33', '193.0.0.78', '87.3.187.45', '77.174.30.45', '93.108.63.51', '86.89.224.211', '216.147.123.181']\n"
     ]
    }
   ],
   "source": [
    "# select targets and vps from anchors\n",
    "targets= list(anchors.keys())[:NB_TARGET]\n",
    "vps = {}\n",
    "for i, probe in enumerate(probes):\n",
    "    if i >= NB_VP: break\n",
    "    vps[probe] = probes[probe]\n",
    "\n",
    "logging.info(f\"nb targets: {len(targets)} : {[target for target in targets]}\")\n",
    "logging.info(f\"nb_vps : {len(vps)} {[vp for vp in vps]}\")"
   ]
  },
  {
   "attachments": {},
   "cell_type": "markdown",
   "metadata": {},
   "source": [
    "## Tier 1: probing each target prefixes"
   ]
  },
  {
   "cell_type": "code",
   "execution_count": 4,
   "metadata": {},
   "outputs": [
    {
     "name": "stderr",
     "output_type": "stream",
     "text": [
      "INFO:root:starting measurement for target_prefix='213.225.160.0' with ['213.225.160.254', '213.225.160.14', '213.225.160.159'] with 10 vps\n",
      "DEBUG:root:starting measurement for target_addr='213.225.160.254' with 5\n",
      "DEBUG:urllib3.connectionpool:Starting new HTTPS connection (1): atlas.ripe.net:443\n",
      "DEBUG:urllib3.connectionpool:https://atlas.ripe.net:443 \"POST /api/v2/measurements/?key=b3d3d4fc-724e-4505-befe-1ad16a70dc87 HTTP/1.1\" 201 27\n",
      "DEBUG:root:starting measurement for target_addr='213.225.160.254' with 5\n",
      "DEBUG:urllib3.connectionpool:Starting new HTTPS connection (1): atlas.ripe.net:443\n",
      "DEBUG:urllib3.connectionpool:https://atlas.ripe.net:443 \"POST /api/v2/measurements/?key=b3d3d4fc-724e-4505-befe-1ad16a70dc87 HTTP/1.1\" 201 27\n",
      "DEBUG:root:starting measurement for target_addr='213.225.160.14' with 5\n",
      "DEBUG:urllib3.connectionpool:Starting new HTTPS connection (1): atlas.ripe.net:443\n",
      "DEBUG:urllib3.connectionpool:https://atlas.ripe.net:443 \"POST /api/v2/measurements/?key=b3d3d4fc-724e-4505-befe-1ad16a70dc87 HTTP/1.1\" 201 27\n",
      "DEBUG:root:starting measurement for target_addr='213.225.160.14' with 5\n",
      "DEBUG:urllib3.connectionpool:Starting new HTTPS connection (1): atlas.ripe.net:443\n",
      "DEBUG:urllib3.connectionpool:https://atlas.ripe.net:443 \"POST /api/v2/measurements/?key=b3d3d4fc-724e-4505-befe-1ad16a70dc87 HTTP/1.1\" 201 27\n",
      "DEBUG:root:starting measurement for target_addr='213.225.160.159' with 5\n",
      "DEBUG:urllib3.connectionpool:Starting new HTTPS connection (1): atlas.ripe.net:443\n",
      "DEBUG:urllib3.connectionpool:https://atlas.ripe.net:443 \"POST /api/v2/measurements/?key=b3d3d4fc-724e-4505-befe-1ad16a70dc87 HTTP/1.1\" 201 27\n",
      "INFO:root:Reached limit for number of conccurent measurements: 5 (limit is 5)\n",
      "DEBUG:urllib3.connectionpool:Starting new HTTPS connection (1): atlas.ripe.net:443\n",
      "DEBUG:urllib3.connectionpool:https://atlas.ripe.net:443 \"GET /api/v2/measurements/%3Cbuilt-in%20function%20id%3E/results/?key=b3d3d4fc-724e-4505-befe-1ad16a70dc87 HTTP/1.1\" 405 103\n",
      "DEBUG:urllib3.connectionpool:Starting new HTTPS connection (1): atlas.ripe.net:443\n",
      "DEBUG:urllib3.connectionpool:https://atlas.ripe.net:443 \"GET /api/v2/measurements/%3Cbuilt-in%20function%20id%3E/results/?key=b3d3d4fc-724e-4505-befe-1ad16a70dc87 HTTP/1.1\" 405 103\n",
      "DEBUG:urllib3.connectionpool:Starting new HTTPS connection (1): atlas.ripe.net:443\n",
      "DEBUG:urllib3.connectionpool:https://atlas.ripe.net:443 \"GET /api/v2/measurements/%3Cbuilt-in%20function%20id%3E/results/?key=b3d3d4fc-724e-4505-befe-1ad16a70dc87 HTTP/1.1\" 405 103\n",
      "DEBUG:urllib3.connectionpool:Starting new HTTPS connection (1): atlas.ripe.net:443\n",
      "DEBUG:urllib3.connectionpool:https://atlas.ripe.net:443 \"GET /api/v2/measurements/%3Cbuilt-in%20function%20id%3E/results/?key=b3d3d4fc-724e-4505-befe-1ad16a70dc87 HTTP/1.1\" 405 103\n",
      "DEBUG:urllib3.connectionpool:Starting new HTTPS connection (1): atlas.ripe.net:443\n",
      "DEBUG:urllib3.connectionpool:https://atlas.ripe.net:443 \"GET /api/v2/measurements/%3Cbuilt-in%20function%20id%3E/results/?key=b3d3d4fc-724e-4505-befe-1ad16a70dc87 HTTP/1.1\" 405 103\n",
      "DEBUG:root:starting measurement for target_addr='213.225.160.159' with 5\n",
      "DEBUG:urllib3.connectionpool:Starting new HTTPS connection (1): atlas.ripe.net:443\n",
      "DEBUG:urllib3.connectionpool:https://atlas.ripe.net:443 \"POST /api/v2/measurements/?key=b3d3d4fc-724e-4505-befe-1ad16a70dc87 HTTP/1.1\" 201 27\n",
      "INFO:root:starting measurement for target_prefix='145.220.0.0' with ['145.220.0.28', '145.220.0.1', '145.220.0.29'] with 10 vps\n",
      "DEBUG:root:starting measurement for target_addr='145.220.0.28' with 5\n",
      "DEBUG:urllib3.connectionpool:Starting new HTTPS connection (1): atlas.ripe.net:443\n",
      "DEBUG:urllib3.connectionpool:https://atlas.ripe.net:443 \"POST /api/v2/measurements/?key=b3d3d4fc-724e-4505-befe-1ad16a70dc87 HTTP/1.1\" 201 27\n",
      "DEBUG:root:starting measurement for target_addr='145.220.0.28' with 5\n",
      "DEBUG:urllib3.connectionpool:Starting new HTTPS connection (1): atlas.ripe.net:443\n",
      "DEBUG:urllib3.connectionpool:https://atlas.ripe.net:443 \"POST /api/v2/measurements/?key=b3d3d4fc-724e-4505-befe-1ad16a70dc87 HTTP/1.1\" 201 27\n",
      "DEBUG:root:starting measurement for target_addr='145.220.0.1' with 5\n",
      "DEBUG:urllib3.connectionpool:Starting new HTTPS connection (1): atlas.ripe.net:443\n",
      "DEBUG:urllib3.connectionpool:https://atlas.ripe.net:443 \"POST /api/v2/measurements/?key=b3d3d4fc-724e-4505-befe-1ad16a70dc87 HTTP/1.1\" 201 27\n",
      "DEBUG:root:starting measurement for target_addr='145.220.0.1' with 5\n",
      "DEBUG:urllib3.connectionpool:Starting new HTTPS connection (1): atlas.ripe.net:443\n",
      "DEBUG:urllib3.connectionpool:https://atlas.ripe.net:443 \"POST /api/v2/measurements/?key=b3d3d4fc-724e-4505-befe-1ad16a70dc87 HTTP/1.1\" 201 27\n",
      "INFO:root:Reached limit for number of conccurent measurements: 5 (limit is 5)\n",
      "DEBUG:urllib3.connectionpool:Starting new HTTPS connection (1): atlas.ripe.net:443\n",
      "DEBUG:urllib3.connectionpool:https://atlas.ripe.net:443 \"GET /api/v2/measurements/%3Cbuilt-in%20function%20id%3E/results/?key=b3d3d4fc-724e-4505-befe-1ad16a70dc87 HTTP/1.1\" 405 103\n",
      "DEBUG:urllib3.connectionpool:Starting new HTTPS connection (1): atlas.ripe.net:443\n",
      "DEBUG:urllib3.connectionpool:https://atlas.ripe.net:443 \"GET /api/v2/measurements/%3Cbuilt-in%20function%20id%3E/results/?key=b3d3d4fc-724e-4505-befe-1ad16a70dc87 HTTP/1.1\" 405 103\n",
      "DEBUG:urllib3.connectionpool:Starting new HTTPS connection (1): atlas.ripe.net:443\n",
      "DEBUG:urllib3.connectionpool:https://atlas.ripe.net:443 \"GET /api/v2/measurements/%3Cbuilt-in%20function%20id%3E/results/?key=b3d3d4fc-724e-4505-befe-1ad16a70dc87 HTTP/1.1\" 405 103\n",
      "DEBUG:urllib3.connectionpool:Starting new HTTPS connection (1): atlas.ripe.net:443\n",
      "DEBUG:urllib3.connectionpool:https://atlas.ripe.net:443 \"GET /api/v2/measurements/%3Cbuilt-in%20function%20id%3E/results/?key=b3d3d4fc-724e-4505-befe-1ad16a70dc87 HTTP/1.1\" 405 103\n",
      "DEBUG:urllib3.connectionpool:Starting new HTTPS connection (1): atlas.ripe.net:443\n",
      "DEBUG:urllib3.connectionpool:https://atlas.ripe.net:443 \"GET /api/v2/measurements/%3Cbuilt-in%20function%20id%3E/results/?key=b3d3d4fc-724e-4505-befe-1ad16a70dc87 HTTP/1.1\" 405 103\n",
      "DEBUG:root:starting measurement for target_addr='145.220.0.29' with 5\n",
      "DEBUG:urllib3.connectionpool:Starting new HTTPS connection (1): atlas.ripe.net:443\n",
      "DEBUG:urllib3.connectionpool:https://atlas.ripe.net:443 \"POST /api/v2/measurements/?key=b3d3d4fc-724e-4505-befe-1ad16a70dc87 HTTP/1.1\" 201 27\n",
      "DEBUG:root:starting measurement for target_addr='145.220.0.29' with 5\n",
      "DEBUG:urllib3.connectionpool:Starting new HTTPS connection (1): atlas.ripe.net:443\n",
      "DEBUG:urllib3.connectionpool:https://atlas.ripe.net:443 \"POST /api/v2/measurements/?key=b3d3d4fc-724e-4505-befe-1ad16a70dc87 HTTP/1.1\" 201 27\n",
      "INFO:root:starting measurement for target_prefix='5.28.0.0' with ['5.28.0.6', '5.28.0.13', '5.28.0.14'] with 10 vps\n",
      "DEBUG:root:starting measurement for target_addr='5.28.0.6' with 5\n",
      "DEBUG:urllib3.connectionpool:Starting new HTTPS connection (1): atlas.ripe.net:443\n",
      "DEBUG:urllib3.connectionpool:https://atlas.ripe.net:443 \"POST /api/v2/measurements/?key=b3d3d4fc-724e-4505-befe-1ad16a70dc87 HTTP/1.1\" 201 27\n",
      "DEBUG:root:starting measurement for target_addr='5.28.0.6' with 5\n",
      "DEBUG:urllib3.connectionpool:Starting new HTTPS connection (1): atlas.ripe.net:443\n",
      "DEBUG:urllib3.connectionpool:https://atlas.ripe.net:443 \"POST /api/v2/measurements/?key=b3d3d4fc-724e-4505-befe-1ad16a70dc87 HTTP/1.1\" 201 27\n",
      "DEBUG:root:starting measurement for target_addr='5.28.0.13' with 5\n",
      "DEBUG:urllib3.connectionpool:Starting new HTTPS connection (1): atlas.ripe.net:443\n",
      "DEBUG:urllib3.connectionpool:https://atlas.ripe.net:443 \"POST /api/v2/measurements/?key=b3d3d4fc-724e-4505-befe-1ad16a70dc87 HTTP/1.1\" 201 27\n",
      "INFO:root:Reached limit for number of conccurent measurements: 5 (limit is 5)\n",
      "DEBUG:urllib3.connectionpool:Starting new HTTPS connection (1): atlas.ripe.net:443\n",
      "DEBUG:urllib3.connectionpool:https://atlas.ripe.net:443 \"GET /api/v2/measurements/%3Cbuilt-in%20function%20id%3E/results/?key=b3d3d4fc-724e-4505-befe-1ad16a70dc87 HTTP/1.1\" 405 103\n",
      "DEBUG:urllib3.connectionpool:Starting new HTTPS connection (1): atlas.ripe.net:443\n",
      "DEBUG:urllib3.connectionpool:https://atlas.ripe.net:443 \"GET /api/v2/measurements/%3Cbuilt-in%20function%20id%3E/results/?key=b3d3d4fc-724e-4505-befe-1ad16a70dc87 HTTP/1.1\" 405 103\n",
      "DEBUG:urllib3.connectionpool:Starting new HTTPS connection (1): atlas.ripe.net:443\n",
      "DEBUG:urllib3.connectionpool:https://atlas.ripe.net:443 \"GET /api/v2/measurements/%3Cbuilt-in%20function%20id%3E/results/?key=b3d3d4fc-724e-4505-befe-1ad16a70dc87 HTTP/1.1\" 405 103\n",
      "DEBUG:urllib3.connectionpool:Starting new HTTPS connection (1): atlas.ripe.net:443\n",
      "DEBUG:urllib3.connectionpool:https://atlas.ripe.net:443 \"GET /api/v2/measurements/%3Cbuilt-in%20function%20id%3E/results/?key=b3d3d4fc-724e-4505-befe-1ad16a70dc87 HTTP/1.1\" 405 103\n",
      "DEBUG:urllib3.connectionpool:Starting new HTTPS connection (1): atlas.ripe.net:443\n",
      "DEBUG:urllib3.connectionpool:https://atlas.ripe.net:443 \"GET /api/v2/measurements/%3Cbuilt-in%20function%20id%3E/results/?key=b3d3d4fc-724e-4505-befe-1ad16a70dc87 HTTP/1.1\" 405 103\n",
      "DEBUG:root:starting measurement for target_addr='5.28.0.13' with 5\n",
      "DEBUG:urllib3.connectionpool:Starting new HTTPS connection (1): atlas.ripe.net:443\n",
      "DEBUG:urllib3.connectionpool:https://atlas.ripe.net:443 \"POST /api/v2/measurements/?key=b3d3d4fc-724e-4505-befe-1ad16a70dc87 HTTP/1.1\" 201 27\n",
      "DEBUG:root:starting measurement for target_addr='5.28.0.14' with 5\n",
      "DEBUG:urllib3.connectionpool:Starting new HTTPS connection (1): atlas.ripe.net:443\n",
      "DEBUG:urllib3.connectionpool:https://atlas.ripe.net:443 \"POST /api/v2/measurements/?key=b3d3d4fc-724e-4505-befe-1ad16a70dc87 HTTP/1.1\" 201 27\n",
      "DEBUG:root:starting measurement for target_addr='5.28.0.14' with 5\n",
      "DEBUG:urllib3.connectionpool:Starting new HTTPS connection (1): atlas.ripe.net:443\n",
      "DEBUG:urllib3.connectionpool:https://atlas.ripe.net:443 \"POST /api/v2/measurements/?key=b3d3d4fc-724e-4505-befe-1ad16a70dc87 HTTP/1.1\" 201 27\n"
     ]
    }
   ],
   "source": [
    "dry_run = False\n",
    "measurement_uuid = uuid.uuid4()\n",
    "start_time = time.time()\n",
    "\n",
    "# measurement configuration for retreival\n",
    "measurement_config = {\n",
    "    \"UUID\": str(measurement_uuid),\n",
    "    \"is_dry_run\": dry_run,\n",
    "    \"description\": \"mesurement towards all anchors with all probes as vps\",\n",
    "    \"type\" : \"target prefix\",\n",
    "    \"af\" : 4,\n",
    "    \"targets\": targets,\n",
    "    \"vps\": vps,\n",
    "}\n",
    "\n",
    "# save measurement configuration before starting measurement\n",
    "measurement_config_path = Path(\".\") / f\"../measurements_metadata/{str(measurement_uuid)}.json\"\n",
    "with open(measurement_config_path, \"w\") as f:\n",
    "    json.dump(measurement_config, f)\n",
    "\n",
    "cbg = CBG(ripe_credentials)\n",
    "\n",
    "# get target prefixes\n",
    "target_prefixes = []\n",
    "for target_addr in targets:\n",
    "    target_prefix = get_prefix_from_ip(target_addr)\n",
    "    target_prefixes.append(target_prefix)\n",
    "\n",
    "# measurement for 3 targets in every target prefixes\n",
    "measurement_config[\"start_time\"], measurement_config[\"end_time\"] = cbg.prefix_probing(\n",
    "    target_prefixes= target_prefixes, \n",
    "    vps= vps,\n",
    "    targets_per_prefix= targets_per_prefix,\n",
    "    tag= measurement_uuid,\n",
    "    dry_run=dry_run\n",
    ")"
   ]
  },
  {
   "attachments": {},
   "cell_type": "markdown",
   "metadata": {},
   "source": [
    "## Retrieve prefix probing results "
   ]
  },
  {
   "cell_type": "code",
   "execution_count": 3,
   "metadata": {},
   "outputs": [
    {
     "name": "stderr",
     "output_type": "stream",
     "text": [
      "DEBUG:urllib3.connectionpool:Starting new HTTPS connection (1): atlas.ripe.net:443\n",
      "DEBUG:urllib3.connectionpool:https://atlas.ripe.net:443 \"GET /api/v2/measurements/tags/3f3c373e-f213-4230-8652-bfb852481c0c/results/?key=b3d3d4fc-724e-4505-befe-1ad16a70dc87 HTTP/1.1\" 200 None\n"
     ]
    }
   ],
   "source": [
    "measurement_results = get_measurements_from_tag(\"3f3c373e-f213-4230-8652-bfb852481c0c\", ripe_credentials[\"key\"])"
   ]
  },
  {
   "cell_type": "code",
   "execution_count": 4,
   "metadata": {},
   "outputs": [
    {
     "name": "stderr",
     "output_type": "stream",
     "text": [
      "INFO:root:nb measurements retrieved: 9\n"
     ]
    },
    {
     "name": "stdout",
     "output_type": "stream",
     "text": [
      "213.225.160.254 : 7\n",
      "213.225.160.14 : 7\n",
      "213.225.160.159 : 7\n",
      "145.220.0.28 : 7\n",
      "145.220.0.1 : 7\n",
      "145.220.0.29 : 7\n",
      "5.28.0.6 : 7\n",
      "5.28.0.13 : 7\n",
      "5.28.0.14 : 7\n"
     ]
    }
   ],
   "source": [
    "# test that everything is alright\n",
    "logging.info(f\"nb measurements retrieved: {len(measurement_results)}\")\n",
    "\n",
    "for i, (target_addr, results) in enumerate(measurement_results.items()):\n",
    "    print(target_addr, \":\", len(results))\n",
    "    "
   ]
  },
  {
   "cell_type": "code",
   "execution_count": 2,
   "metadata": {},
   "outputs": [
    {
     "name": "stdout",
     "output_type": "stream",
     "text": [
      "../results/init_measurement.pickle\n"
     ]
    }
   ],
   "source": [
    "# save results\n",
    "out_file = f\"../results/{measurement_config['UUID']}.pickle\"\n",
    "print(out_file)\n",
    "with open(out_file, \"wb\") as f:\n",
    "    pickle.dump(measurement_results,f)"
   ]
  },
  {
   "attachments": {},
   "cell_type": "markdown",
   "metadata": {},
   "source": [
    "## Tier 2: probe each target"
   ]
  },
  {
   "cell_type": "code",
   "execution_count": 1,
   "metadata": {},
   "outputs": [],
   "source": [
    "ripe_credentials = {\n",
    "    \"username\": \"timur.friedman@sorbonne-universite.fr\",\n",
    "    \"key\": \"b3d3d4fc-724e-4505-befe-1ad16a70dc87\",\n",
    "}\n",
    "\n",
    "# load anchors\n",
    "anchor_file = \"../datasets/anchors.pickle\"\n",
    "with open(anchor_file, \"rb\") as f:\n",
    "    anchors = pickle.load(f)\n",
    "\n",
    "# load hitlist\n",
    "hitlist_file = Path(\".\") / \"../datasets/parsed_hitlist.pickle\"\n",
    "with open(hitlist_file, \"rb\") as f:\n",
    "    hitlist_addr = pickle.load(f)\n",
    "\n",
    "targets = [anchor_addr for anchor_addr in anchors][:NB_TARGET]\n",
    "vps = [anchor_addr for anchor_addr in anchors][:NB_VP]\n",
    "\n",
    "logging.info(f\"nb targets: {len(targets)}\")\n",
    "logging.info(f\"nb_vps : {len(vps)}\")"
   ]
  },
  {
   "cell_type": "code",
   "execution_count": null,
   "metadata": {},
   "outputs": [],
   "source": [
    "cbg = CBG(targets, vps, ripe_credentials, hitlist_addr, anchors)\n",
    "\n",
    "start = timer()\n",
    "measurement_ids = await cbg.target_probing(targets, vps)\n",
    "end =timer()\n",
    "\n",
    "time_elapsed = end - start\n",
    "print(time_elapsed)"
   ]
  },
  {
   "cell_type": "code",
   "execution_count": null,
   "metadata": {},
   "outputs": [],
   "source": [
    "# save results\n",
    "out_file = f\"../results/target_measurement_ids.pickle\"\n",
    "with open(out_file, \"wb\") as f:\n",
    "    pickle.dump(measurement_ids,f)"
   ]
  },
  {
   "attachments": {},
   "cell_type": "markdown",
   "metadata": {},
   "source": [
    "## Retreive target measurements"
   ]
  },
  {
   "cell_type": "code",
   "execution_count": null,
   "metadata": {},
   "outputs": [],
   "source": [
    "# load hitlist\n",
    "in_file = Path(\".\") / \"../results/target_measurement_ids.pickle\"\n",
    "with open(in_file, \"rb\") as f:\n",
    "    measurement_ids = pickle.load(f)\n",
    "\n",
    "# load anchors\n",
    "anchor_file = \"../datasets/anchors.pickle\"\n",
    "with open(anchor_file, \"rb\") as f:\n",
    "    anchors = pickle.load(f)\n",
    "\n",
    "print(len(measurement_ids))\n",
    "\n",
    "measurement_results = []\n",
    "for measurement_id in measurement_ids:\n",
    "    measurement_result = retreive_single_measurement(measurement_id, anchors, ripe_credentials[\"key\"])\n",
    "    print(f\"got results for target: {measurement_result['target_addr']} from {len(measurement_result['results'])} servers\")\n",
    "    measurement_results.append(measurement_result)"
   ]
  },
  {
   "cell_type": "code",
   "execution_count": 15,
   "metadata": {},
   "outputs": [
    {
     "name": "stdout",
     "output_type": "stream",
     "text": [
      "../results/target_measurement.pickle\n"
     ]
    }
   ],
   "source": [
    "# save results\n",
    "out_file = f\"../results/target_measurement.pickle\"\n",
    "print(out_file)\n",
    "with open(out_file, \"wb\") as f:\n",
    "    pickle.dump(measurement_results,f)"
   ]
  }
 ],
 "metadata": {
  "kernelspec": {
   "display_name": "geoloc-imc-2023-GZT64Hva-py3.10",
   "language": "python",
   "name": "python3"
  },
  "language_info": {
   "codemirror_mode": {
    "name": "ipython",
    "version": 3
   },
   "file_extension": ".py",
   "mimetype": "text/x-python",
   "name": "python",
   "nbconvert_exporter": "python",
   "pygments_lexer": "ipython3",
   "version": "3.10.9"
  },
  "orig_nbformat": 4
 },
 "nbformat": 4,
 "nbformat_minor": 2
}

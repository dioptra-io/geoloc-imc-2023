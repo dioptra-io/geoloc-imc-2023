{
 "cells": [
  {
   "cell_type": "code",
   "execution_count": 1,
   "metadata": {},
   "outputs": [],
   "source": [
    "import logging\n",
    "import pickle\n",
    "\n",
    "from pathlib import Path\n",
    "from random import choice\n",
    "from timeit import default_timer as timer\n",
    "\n",
    "from geoloc_imc_2023.cbg import CBG, get_prefix_from_ip\n",
    "from geoloc_imc_2023.query_api import retreive_single_measurement\n",
    "\n",
    "from geoloc_imc_2023.default import (\n",
    "    PROBES_PATH,\n",
    "    RESULTS_PATH,\n",
    "    HITLIST_PATH,\n",
    ")\n",
    "\n",
    "logging.basicConfig(level=logging.INFO)\n",
    "\n",
    "ripe_credentials = {\n",
    "    \"username\": \"timur.friedman@sorbonne-universite.fr\",\n",
    "    \"key\": \"b3d3d4fc-724e-4505-befe-1ad16a70dc87\",\n",
    "}\n",
    "\n",
    "NB_TARGET = 3\n",
    "NB_VP = 3"
   ]
  },
  {
   "cell_type": "code",
   "execution_count": 2,
   "metadata": {},
   "outputs": [],
   "source": [
    "# load hitlist\n",
    "with open(HITLIST_PATH, \"rb\") as f:\n",
    "    targets_per_prefix = pickle.load(f)\n",
    "\n",
    "# load anchors\n",
    "with open(PROBES_PATH, \"rb\") as f:\n",
    "    probes = pickle.load(f)"
   ]
  },
  {
   "attachments": {},
   "cell_type": "markdown",
   "metadata": {},
   "source": [
    "## select target and vps dataset"
   ]
  },
  {
   "cell_type": "code",
   "execution_count": 3,
   "metadata": {},
   "outputs": [
    {
     "name": "stderr",
     "output_type": "stream",
     "text": [
      "INFO:root:nb targets: 3 : ['45.138.229.91', '77.174.76.85', '82.217.219.124']\n",
      "INFO:root:nb_vps : 3 ['45.138.229.91', '77.174.76.85', '82.217.219.124']\n"
     ]
    }
   ],
   "source": [
    "# select targets and vps from anchors\n",
    "targets= list(probes.keys())[:NB_TARGET]\n",
    "vps = {}\n",
    "for i, probe in enumerate(probes):\n",
    "    if i >= NB_VP: break\n",
    "    vps[probe] = probes[probe]\n",
    "\n",
    "logging.info(f\"nb targets: {len(targets)} : {[target for target in targets]}\")\n",
    "logging.info(f\"nb_vps : {len(vps)} {[vp for vp in vps]}\")"
   ]
  },
  {
   "attachments": {},
   "cell_type": "markdown",
   "metadata": {},
   "source": [
    "## Tier 1: probing each target prefixes"
   ]
  },
  {
   "cell_type": "code",
   "execution_count": 4,
   "metadata": {},
   "outputs": [
    {
     "ename": "TypeError",
     "evalue": "CBG.prefix_probing() missing 1 required positional argument: 'target_hitlist'",
     "output_type": "error",
     "traceback": [
      "\u001b[0;31m---------------------------------------------------------------------------\u001b[0m",
      "\u001b[0;31mTypeError\u001b[0m                                 Traceback (most recent call last)",
      "Cell \u001b[0;32mIn[4], line 11\u001b[0m\n\u001b[1;32m      8\u001b[0m     target_prefixes\u001b[39m.\u001b[39mappend(target_prefix)\n\u001b[1;32m     10\u001b[0m \u001b[39m# initialization: start measurements from all vps to targets\u001b[39;00m\n\u001b[0;32m---> 11\u001b[0m init_measurement_ids \u001b[39m=\u001b[39m cbg\u001b[39m.\u001b[39;49mprefix_probing(target_prefixes,targets_per_prefix, dry_run\u001b[39m=\u001b[39;49m\u001b[39mTrue\u001b[39;49;00m)\n\u001b[1;32m     13\u001b[0m \u001b[39m# retreive measurement results from RIPE Atlas\u001b[39;00m\n\u001b[1;32m     14\u001b[0m logging\u001b[39m.\u001b[39minfo(init_measurement_ids)\n",
      "\u001b[0;31mTypeError\u001b[0m: CBG.prefix_probing() missing 1 required positional argument: 'target_hitlist'"
     ]
    }
   ],
   "source": [
    "# use all probes as targets and all probes as vps\n",
    "cbg = CBG(ripe_credentials)\n",
    "\n",
    "# get target prefixes\n",
    "target_prefixes = []\n",
    "for target_addr in targets:\n",
    "    target_prefix = get_prefix_from_ip(target_addr)\n",
    "    target_prefixes.append(target_prefix)\n",
    "\n",
    "# initialization: start measurements from all vps to targets\n",
    "init_measurement_ids = cbg.prefix_probing(target_prefixes, vps, targets_per_prefix, dry_run=True)\n",
    "\n",
    "# retreive measurement results from RIPE Atlas\n",
    "logging.info(init_measurement_ids)"
   ]
  },
  {
   "cell_type": "code",
   "execution_count": 2,
   "metadata": {},
   "outputs": [
    {
     "name": "stdout",
     "output_type": "stream",
     "text": [
      "../results/init_measurement_ids.pickle\n"
     ]
    }
   ],
   "source": [
    "# save results\n",
    "out_file = f\"../results/init_measurement_ids.pickle\"\n",
    "print(out_file)\n",
    "with open(out_file, \"wb\") as f:\n",
    "    pickle.dump(init_measurement_ids,f)"
   ]
  },
  {
   "attachments": {},
   "cell_type": "markdown",
   "metadata": {},
   "source": [
    "## Retrieve prefix probing results "
   ]
  },
  {
   "cell_type": "code",
   "execution_count": 1,
   "metadata": {},
   "outputs": [],
   "source": [
    "measurement_ids_file = Path(\".\") / \"../results/init_measurement_ids.pickle\"\n",
    "with open(measurement_ids_file, \"rb\") as f:\n",
    "    init_measurement_ids = pickle.load(f)\n",
    "\n",
    "# load anchors\n",
    "anchor_file = \"../datasets/anchors.pickle\"\n",
    "with open(anchor_file, \"rb\") as f:\n",
    "    anchors = pickle.load(f)\n",
    "\n",
    "ripe_credentials = {\n",
    "    \"username\": \"timur.friedman@sorbonne-universite.fr\",\n",
    "    \"key\": \"b3d3d4fc-724e-4505-befe-1ad16a70dc87\",\n",
    "}\n",
    "\n",
    "measurement_results = {}\n",
    "for prefix in init_measurement_ids:\n",
    "    for measurement_id in init_measurement_ids[prefix]:\n",
    "        measurement_results[prefix] = retreive_single_measurement(measurement_id, anchors, ripe_credentials[\"key\"])"
   ]
  },
  {
   "cell_type": "code",
   "execution_count": 2,
   "metadata": {},
   "outputs": [
    {
     "name": "stdout",
     "output_type": "stream",
     "text": [
      "../results/init_measurement.pickle\n"
     ]
    }
   ],
   "source": [
    "# save results\n",
    "out_file = f\"../results/init_measurement.pickle\"\n",
    "print(out_file)\n",
    "with open(out_file, \"wb\") as f:\n",
    "    pickle.dump(measurement_results,f)"
   ]
  },
  {
   "attachments": {},
   "cell_type": "markdown",
   "metadata": {},
   "source": [
    "## Tier 2: probe each target"
   ]
  },
  {
   "cell_type": "code",
   "execution_count": 1,
   "metadata": {},
   "outputs": [],
   "source": [
    "ripe_credentials = {\n",
    "    \"username\": \"timur.friedman@sorbonne-universite.fr\",\n",
    "    \"key\": \"b3d3d4fc-724e-4505-befe-1ad16a70dc87\",\n",
    "}\n",
    "\n",
    "# load anchors\n",
    "anchor_file = \"../datasets/anchors.pickle\"\n",
    "with open(anchor_file, \"rb\") as f:\n",
    "    anchors = pickle.load(f)\n",
    "\n",
    "# load hitlist\n",
    "hitlist_file = Path(\".\") / \"../datasets/parsed_hitlist.pickle\"\n",
    "with open(hitlist_file, \"rb\") as f:\n",
    "    hitlist_addr = pickle.load(f)\n",
    "\n",
    "targets = [anchor_addr for anchor_addr in anchors][:NB_TARGET]\n",
    "vps = [anchor_addr for anchor_addr in anchors][:NB_VP]\n",
    "\n",
    "logging.info(f\"nb targets: {len(targets)}\")\n",
    "logging.info(f\"nb_vps : {len(vps)}\")"
   ]
  },
  {
   "cell_type": "code",
   "execution_count": null,
   "metadata": {},
   "outputs": [],
   "source": [
    "cbg = CBG(targets, vps, ripe_credentials, hitlist_addr, anchors)\n",
    "\n",
    "start = timer()\n",
    "measurement_ids = await cbg.target_probing(targets, vps)\n",
    "end =timer()\n",
    "\n",
    "time_elapsed = end - start\n",
    "print(time_elapsed)"
   ]
  },
  {
   "cell_type": "code",
   "execution_count": null,
   "metadata": {},
   "outputs": [],
   "source": [
    "# save results\n",
    "out_file = f\"../results/target_measurement_ids.pickle\"\n",
    "with open(out_file, \"wb\") as f:\n",
    "    pickle.dump(measurement_ids,f)"
   ]
  },
  {
   "attachments": {},
   "cell_type": "markdown",
   "metadata": {},
   "source": [
    "## Retreive target measurements"
   ]
  },
  {
   "cell_type": "code",
   "execution_count": null,
   "metadata": {},
   "outputs": [],
   "source": [
    "# load hitlist\n",
    "in_file = Path(\".\") / \"../results/target_measurement_ids.pickle\"\n",
    "with open(in_file, \"rb\") as f:\n",
    "    measurement_ids = pickle.load(f)\n",
    "\n",
    "# load anchors\n",
    "anchor_file = \"../datasets/anchors.pickle\"\n",
    "with open(anchor_file, \"rb\") as f:\n",
    "    anchors = pickle.load(f)\n",
    "\n",
    "print(len(measurement_ids))\n",
    "\n",
    "measurement_results = []\n",
    "for measurement_id in measurement_ids:\n",
    "    measurement_result = retreive_single_measurement(measurement_id, anchors, ripe_credentials[\"key\"])\n",
    "    print(f\"got results for target: {measurement_result['target_addr']} from {len(measurement_result['results'])} servers\")\n",
    "    measurement_results.append(measurement_result)"
   ]
  },
  {
   "cell_type": "code",
   "execution_count": 15,
   "metadata": {},
   "outputs": [
    {
     "name": "stdout",
     "output_type": "stream",
     "text": [
      "../results/target_measurement.pickle\n"
     ]
    }
   ],
   "source": [
    "# save results\n",
    "out_file = f\"../results/target_measurement.pickle\"\n",
    "print(out_file)\n",
    "with open(out_file, \"wb\") as f:\n",
    "    pickle.dump(measurement_results,f)"
   ]
  }
 ],
 "metadata": {
  "kernelspec": {
   "display_name": "geoloc-imc-2023-GZT64Hva-py3.10",
   "language": "python",
   "name": "python3"
  },
  "language_info": {
   "codemirror_mode": {
    "name": "ipython",
    "version": 3
   },
   "file_extension": ".py",
   "mimetype": "text/x-python",
   "name": "python",
   "nbconvert_exporter": "python",
   "pygments_lexer": "ipython3",
   "version": "3.10.9"
  },
  "orig_nbformat": 4
 },
 "nbformat": 4,
 "nbformat_minor": 2
}

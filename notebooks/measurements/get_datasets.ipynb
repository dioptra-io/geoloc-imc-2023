{
 "cells": [
  {
   "cell_type": "code",
   "execution_count": 1,
   "metadata": {},
   "outputs": [],
   "source": [
    "from geoloc_imc_2023.measurement_utils import (\n",
    "    get_atlas_anchors,\n",
    "    get_atlas_probes,\n",
    "    load_atlas_anchors,\n",
    "    load_atlas_probes,\n",
    ")"
   ]
  },
  {
   "attachments": {},
   "cell_type": "markdown",
   "metadata": {},
   "source": [
    "## retrieve atlas probes"
   ]
  },
  {
   "cell_type": "code",
   "execution_count": 2,
   "metadata": {},
   "outputs": [],
   "source": [
    "probes, probes_rejected, probes_geoloc_disputed = get_atlas_probes()"
   ]
  },
  {
   "cell_type": "code",
   "execution_count": 3,
   "metadata": {},
   "outputs": [],
   "source": [
    "anchors, anchors_rejected, anchors_geoloc_disputed_anchors = get_atlas_anchors()"
   ]
  },
  {
   "cell_type": "code",
   "execution_count": 4,
   "metadata": {},
   "outputs": [
    {
     "name": "stdout",
     "output_type": "stream",
     "text": [
      "selected probes: 10117, rejected: 34478, geoloc rejected: 2 [29.343349382214747%]\n",
      "selected probes: 784, rejected: 421, geoloc rejected: 1 [186.22327790973873%]\n"
     ]
    }
   ],
   "source": [
    "print(f\"selected probes: {len(probes)}, rejected: {probes_rejected}, geoloc rejected: {probes_geoloc_disputed} [{len(probes) * 100 / probes_rejected}%]\")\n",
    "print(f\"selected probes: {len(anchors)}, rejected: {anchors_rejected}, geoloc rejected: {anchors_geoloc_disputed_anchors} [{len(anchors) * 100 / anchors_rejected}%]\")"
   ]
  },
  {
   "attachments": {},
   "cell_type": "markdown",
   "metadata": {},
   "source": [
    "## test loading"
   ]
  },
  {
   "cell_type": "code",
   "execution_count": 5,
   "metadata": {},
   "outputs": [],
   "source": [
    "probes = load_atlas_probes()\n",
    "anchors = load_atlas_anchors()"
   ]
  },
  {
   "cell_type": "code",
   "execution_count": 6,
   "metadata": {},
   "outputs": [
    {
     "name": "stdout",
     "output_type": "stream",
     "text": [
      "selected probes: 10117\n",
      "selected probes: 784\n"
     ]
    }
   ],
   "source": [
    "print(f\"selected probes: {len(probes)}\")\n",
    "print(f\"selected probes: {len(anchors)}\")"
   ]
  },
  {
   "attachments": {},
   "cell_type": "markdown",
   "metadata": {},
   "source": [
    "## extract some metadata about both datasets"
   ]
  }
 ],
 "metadata": {
  "kernelspec": {
   "display_name": ".venv",
   "language": "python",
   "name": "python3"
  },
  "language_info": {
   "codemirror_mode": {
    "name": "ipython",
    "version": 3
   },
   "file_extension": ".py",
   "mimetype": "text/x-python",
   "name": "python",
   "nbconvert_exporter": "python",
   "pygments_lexer": "ipython3",
   "version": "3.10.9"
  },
  "orig_nbformat": 4
 },
 "nbformat": 4,
 "nbformat_minor": 2
}

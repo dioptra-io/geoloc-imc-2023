{
 "cells": [
  {
   "cell_type": "code",
   "execution_count": 1,
   "metadata": {},
   "outputs": [
    {
     "name": "stdout",
     "output_type": "stream",
     "text": [
      "0     42.228065\n",
      "1     42.237719\n",
      "3     42.363498\n",
      "4     42.357649\n",
      "5     42.350586\n",
      "6     42.365215\n",
      "8     42.343330\n",
      "10    42.339342\n",
      "11    42.323002\n",
      "12    42.332539\n",
      "13    42.305792\n",
      "15    42.281721\n",
      "16    42.310813\n",
      "17    42.272444\n",
      "19    42.375254\n",
      "21    42.309087\n",
      "22    42.285216\n",
      "23    42.280316\n",
      "24    42.355355\n",
      "25    42.357537\n",
      "26    42.255064\n",
      "28    42.351129\n",
      "29    42.367263\n",
      "30    42.258883\n",
      "31    42.346991\n",
      "32    42.347148\n",
      "33    42.348709\n",
      "34    42.286356\n",
      "35    42.314277\n",
      "Name: Latitude, dtype: float64\n",
      "42.228065 -71.131057 174\n",
      "42.237719 -71.143038 193\n",
      "42.363498 -71.054027 45\n",
      "42.357649 -71.053642 14\n",
      "42.350586 -71.06028 30\n",
      "42.365215 -71.054618 77\n",
      "42.34333 -71.095106 116\n",
      "42.339342 -71.072103 318\n",
      "42.323002 -71.085268 804\n",
      "42.332539 -71.097569 168\n",
      "42.305792 -71.086649 781\n",
      "42.281721 -71.066702 1938\n",
      "42.310813 -71.053049 859\n",
      "42.272444 -71.090424 882\n",
      "42.375254 -71.016037 786\n",
      "42.309087 -71.11408 886\n",
      "42.285216 -71.121464 1222\n",
      "42.280316 -71.16815 1348\n",
      "42.355355 -71.123323 230\n",
      "42.357537 -71.147046 584\n",
      "42.255064 -71.12555 1712\n",
      "42.351129 -70.960324 119\n",
      "42.367263 -71.12042 1\n",
      "42.258883 -71.113223 361\n",
      "42.346991 -71.082279 4\n",
      "42.347148 -71.044281 35\n",
      "42.348709 -71.103877 83\n",
      "42.286356 -71.187563 27\n",
      "42.314277 -71.157691 66\n"
     ]
    },
    {
     "data": {
      "text/plain": [
       "True"
      ]
     },
     "execution_count": 1,
     "metadata": {},
     "output_type": "execute_result"
    }
   ],
   "source": [
    "import pandas as pd\n",
    "import io\n",
    "import folium\n",
    "import folium.plugins\n",
    "\n",
    "text = '''\n",
    "Zipcode Employees       Longitude Latitude\n",
    "0   02021   174 -71.131057  42.228065\n",
    "1   02026   193 -71.143038  42.237719\n",
    "3   02109   45  -71.054027  42.363498\n",
    "4   02110   14  -71.053642  42.357649\n",
    "5   02111   30  -71.060280  42.350586\n",
    "6   02113   77  -71.054618  42.365215\n",
    "8   02115   116 -71.095106  42.343330\n",
    "10  02118   318 -71.072103  42.339342\n",
    "11  02119   804 -71.085268  42.323002\n",
    "12  02120   168 -71.097569  42.332539\n",
    "13  02121   781 -71.086649  42.305792\n",
    "15  02124   1938    -71.066702  42.281721\n",
    "16  02125   859 -71.053049  42.310813\n",
    "17  02126   882 -71.090424  42.272444\n",
    "19  02128   786 -71.016037  42.375254\n",
    "21  02130   886 -71.114080  42.309087\n",
    "22  02131   1222    -71.121464  42.285216\n",
    "23  02132   1348    -71.168150  42.280316\n",
    "24  02134   230 -71.123323  42.355355\n",
    "25  02135   584 -71.147046  42.357537\n",
    "26  02136   1712    -71.125550  42.255064\n",
    "28  02152   119 -70.960324  42.351129\n",
    "29  02163   1   -71.120420  42.367263\n",
    "30  02186   361 -71.113223  42.258883\n",
    "31  02199   4   -71.082279  42.346991\n",
    "32  02210   35  -71.044281  42.347148\n",
    "33  02215   83  -71.103877  42.348709\n",
    "34  02459   27  -71.187563  42.286356\n",
    "35  02467   66  -71.157691  42.314277\n",
    "'''\n",
    "\n",
    "boston = pd.read_csv(io.StringIO(text), sep='\\s+')\n",
    "\n",
    "print(boston.Latitude)\n",
    "\n",
    "boston_map = folium.Map([boston.Latitude.mean(), boston.Longitude.mean(), ], zoom_start=12)\n",
    "\n",
    "incidents2 = folium.plugins.MarkerCluster().add_to(boston_map)\n",
    "\n",
    "for latitude, longitude, employees in zip(boston.Latitude, boston.Longitude, boston.Employees):\n",
    "    print(latitude, longitude, employees)\n",
    "    folium.vector_layers.CircleMarker(\n",
    "        location=[latitude, longitude],\n",
    "        tooltip=str(employees),\n",
    "        radius=employees/10,\n",
    "        color='#3186cc',\n",
    "        fill=True,\n",
    "        fill_color='#3186cc'\n",
    "    ).add_to(incidents2)\n",
    "\n",
    "boston_map.add_child(incidents2)\n",
    "\n",
    "#display in web browser\n",
    "import webbrowser\n",
    "boston_map.save('map.html')\n",
    "webbrowser.open('map.html')"
   ]
  },
  {
   "cell_type": "code",
   "execution_count": 10,
   "metadata": {},
   "outputs": [
    {
     "data": {
      "text/plain": [
       "600.0"
      ]
     },
     "execution_count": 10,
     "metadata": {},
     "output_type": "execute_result"
    }
   ],
   "source": [
    "speed_threshold = 4 / 9\n",
    "\n",
    "4/9 *  4.5 * 300\n"
   ]
  },
  {
   "cell_type": "code",
   "execution_count": null,
   "metadata": {},
   "outputs": [],
   "source": [
    "import pandas as pd\n",
    "import io\n",
    "import webbrowser\n",
    "import folium\n",
    "import folium.plugins\n",
    "from statistics import mean\n",
    "\n",
    "\n",
    "def print_circles(probe_circles: dict):\n",
    "\n",
    "    latitude = []\n",
    "    longitude = []\n",
    "    rtts = []\n",
    "    # probe_circles = {}\n",
    "    # probe_circles[\"a\"] = (48.68559000514443, 1.4890742633310852, 580, None, None)\n",
    "    # probe_circles[\"b\"] = (49.386153229694834, 2.2976143160251232, 550, None, None)\n",
    "    # probe_circles[\"c\"] = (48.86168126136162, 2.916765060171397, 550, None, None)\n",
    "\n",
    "    for  lat, lon, r in probe_circles.values():\n",
    "        print(f\"circle: {lat}, {lon} : {r}\" )\n",
    "        latitude.append(lat)\n",
    "        longitude.append(lon)\n",
    "        rtts.append(r)\n",
    "\n",
    "    target_map = folium.Map([mean(latitude), mean(longitude), ], zoom_start=9)\n",
    "\n",
    "    circles = folium.plugins.MarkerCluster().add_to(target_map)\n",
    "\n",
    "    for key, (lat, lon, r) in probe_circles.items():\n",
    "        folium.vector_layers.CircleMarker(\n",
    "            location=[lat, lon],\n",
    "            tooltip=str(key),\n",
    "            radius=r,\n",
    "            color='#3186cc',\n",
    "        ).add_to(circles)\n",
    "\n",
    "    target_map.add_child(circles)\n",
    "\n",
    "    target_map.save('map.html')\n",
    "    webbrowser.open('map.html')\n",
    "    return target_map\n"
   ]
  },
  {
   "cell_type": "code",
   "execution_count": 11,
   "metadata": {},
   "outputs": [
    {
     "data": {
      "text/plain": [
       "'\\nExample: the output of below is  [(36.989311051533505, -88.15142628069133), (38.2383796094578, -92.39048549120287)]\\n         intersection_points = intersection((37.673442, -90.234036), 107.5*1852, (36.109997, -90.953669), 145*1852)\\n         print(intersection_points)\\n'"
      ]
     },
     "execution_count": 11,
     "metadata": {},
     "output_type": "execute_result"
    }
   ],
   "source": [
    "'''\n",
    "FINDING THE INTERSECTION COORDINATES (LAT/LON) OF TWO CIRCLES (GIVEN THE COORDINATES OF THE CENTER AND THE RADII)\n",
    "\n",
    "Many thanks to Ture Pålsson who directed me to the right source, the code below is based on whuber's brilliant logic and\n",
    "explanation here https://gis.stackexchange.com/questions/48937/calculating-intersection-of-two-circles \n",
    "\n",
    "The idea is that;\n",
    "  1. The points in question are the mutual intersections of three spheres: a sphere centered beneath location x1 (on the \n",
    "  earth's surface) of a given radius, a sphere centered beneath location x2 (on the earth's surface) of a given radius, and\n",
    "  the earth itself, which is a sphere centered at O = (0,0,0) of a given radius.\n",
    "  2. The intersection of each of the first two spheres with the earth's surface is a circle, which defines two planes.\n",
    "  The mutual intersections of all three spheres therefore lies on the intersection of those two planes: a line.\n",
    "  Consequently, the problem is reduced to intersecting a line with a sphere.\n",
    "\n",
    "Note that \"Decimal\" is used to have higher precision which is important if the distance between two points are a few\n",
    "meters.\n",
    "'''\n",
    "from decimal import Decimal\n",
    "from math import cos, sin, sqrt\n",
    "import math\n",
    "import numpy as np\n",
    "\n",
    "def intersection(p1, r1_meter, p2, r2_meter):\n",
    "    # p1 = Coordinates of Point 1: latitude, longitude. This serves as the center of circle 1. Ex: (36.110174,  -90.953524)\n",
    "    # r1_meter = Radius of circle 1 in meters\n",
    "    # p2 = Coordinates of Point 2: latitude, longitude. This serves as the center of circle 1. Ex: (36.110174,  -90.953524)\n",
    "    # r2_meter = Radius of circle 2 in meters\n",
    "    '''\n",
    "    1. Convert (lat, lon) to (x,y,z) geocentric coordinates.\n",
    "    As usual, because we may choose units of measurement in which the earth has a unit radius\n",
    "    '''\n",
    "    x_p1 = Decimal(cos(math.radians(p1[1]))*cos(math.radians(p1[0])))  # x = cos(lon)*cos(lat)\n",
    "    y_p1 = Decimal(sin(math.radians(p1[1]))*cos(math.radians(p1[0])))  # y = sin(lon)*cos(lat)\n",
    "    z_p1 = Decimal(sin(math.radians(p1[0])))                           # z = sin(lat)\n",
    "    x1 = (x_p1, y_p1, z_p1)\n",
    "\n",
    "    x_p2 = Decimal(cos(math.radians(p2[1]))*cos(math.radians(p2[0])))  # x = cos(lon)*cos(lat)\n",
    "    y_p2 = Decimal(sin(math.radians(p2[1]))*cos(math.radians(p2[0])))  # y = sin(lon)*cos(lat)\n",
    "    z_p2 = Decimal(sin(math.radians(p2[0])))                           # z = sin(lat)\n",
    "    x2 = (x_p2, y_p2, z_p2)\n",
    "    '''\n",
    "    2. Convert the radii r1 and r2 (which are measured along the sphere) to angles along the sphere.\n",
    "    By definition, one nautical mile (NM) is 1/60 degree of arc (which is pi/180 * 1/60 = 0.0002908888 radians).\n",
    "    '''\n",
    "    r1 = Decimal(math.radians((r1_meter/1852) / 60)) # r1_meter/1852 converts meter to Nautical mile.\n",
    "    r2 = Decimal(math.radians((r2_meter/1852) / 60))\n",
    "    '''\n",
    "    3. The geodesic circle of radius r1 around x1 is the intersection of the earth's surface with an Euclidean sphere\n",
    "    of radius sin(r1) centered at cos(r1)*x1.\n",
    "\n",
    "    4. The plane determined by the intersection of the sphere of radius sin(r1) around cos(r1)*x1 and the earth's surface\n",
    "    is perpendicular to x1 and passes through the point cos(r1)x1, whence its equation is x.x1 = cos(r1)\n",
    "    (the \".\" represents the usual dot product); likewise for the other plane. There will be a unique point x0 on the\n",
    "    intersection of those two planes that is a linear combination of x1 and x2. Writing x0 = ax1 + b*x2 the two planar\n",
    "    equations are;\n",
    "       cos(r1) = x.x1 = (a*x1 + b*x2).x1 = a + b*(x2.x1)\n",
    "       cos(r2) = x.x2 = (a*x1 + b*x2).x2 = a*(x1.x2) + b\n",
    "    Using the fact that x2.x1 = x1.x2, which I shall write as q, the solution (if it exists) is given by\n",
    "       a = (cos(r1) - cos(r2)*q) / (1 - q^2),\n",
    "       b = (cos(r2) - cos(r1)*q) / (1 - q^2).\n",
    "    '''\n",
    "    q = Decimal(np.dot(x1, x2))\n",
    "\n",
    "    if q**2 != 1 :\n",
    "        a = (Decimal(cos(r1)) - Decimal(cos(r2))*q) / (1 - q**2)\n",
    "        b = (Decimal(cos(r2)) - Decimal(cos(r1))*q) / (1 - q**2)\n",
    "        '''\n",
    "        5. Now all other points on the line of intersection of the two planes differ from x0 by some multiple of a vector\n",
    "        n which is mutually perpendicular to both planes. The cross product  n = x1~Cross~x2  does the job provided n is \n",
    "        nonzero: once again, this means that x1 and x2 are neither coincident nor diametrically opposite. (We need to \n",
    "        take care to compute the cross product with high precision, because it involves subtractions with a lot of\n",
    "        cancellation when x1 and x2 are close to each other.)\n",
    "        '''\n",
    "        n = np.cross(x1, x2)\n",
    "        '''\n",
    "        6. Therefore, we seek up to two points of the form x0 + t*n which lie on the earth's surface: that is, their length\n",
    "        equals 1. Equivalently, their squared length is 1:  \n",
    "        1 = squared length = (x0 + t*n).(x0 + t*n) = x0.x0 + 2t*x0.n + t^2*n.n = x0.x0 + t^2*n.n\n",
    "        '''\n",
    "        x0_1 = [a*f for f in x1]\n",
    "        x0_2 = [b*f for f in x2]\n",
    "        x0 = [sum(f) for f in zip(x0_1, x0_2)]\n",
    "        '''\n",
    "          The term with x0.n disappears because x0 (being a linear combination of x1 and x2) is perpendicular to n.\n",
    "          The two solutions easily are   t = sqrt((1 - x0.x0)/n.n)    and its negative. Once again high precision\n",
    "          is called for, because when x1 and x2 are close, x0.x0 is very close to 1, leading to some loss of\n",
    "          floating point precision.\n",
    "        '''\n",
    "        if (np.dot(x0, x0) <= 1) & (np.dot(n,n) != 0): # This is to secure that (1 - np.dot(x0, x0)) / np.dot(n,n) > 0\n",
    "            t = Decimal(sqrt((1 - np.dot(x0, x0)) / np.dot(n,n)))\n",
    "            t1 = t\n",
    "            t2 = -t\n",
    "\n",
    "            i1 = x0 + t1*n\n",
    "            i2 = x0 + t2*n\n",
    "            '''\n",
    "            7. Finally, we may convert these solutions back to (lat, lon) by converting geocentric (x,y,z) to geographic\n",
    "            coordinates. For the longitude, use the generalized arctangent returning values in the range -180 to 180\n",
    "            degrees (in computing applications, this function takes both x and y as arguments rather than just the\n",
    "            ratio y/x; it is sometimes called \"ATan2\").\n",
    "            '''\n",
    "\n",
    "            i1_lat = math.degrees( math.asin(i1[2]))\n",
    "            i1_lon = math.degrees( math.atan2(i1[1], i1[0] ) )\n",
    "            ip1 = (i1_lat, i1_lon)\n",
    "\n",
    "            i2_lat = math.degrees( math.asin(i2[2]))\n",
    "            i2_lon = math.degrees( math.atan2(i2[1], i2[0] ) )\n",
    "            ip2 = (i2_lat, i2_lon)\n",
    "            return [ip1, ip2]\n",
    "        elif (np.dot(n,n) == 0):\n",
    "            return(\"The centers of the circles can be neither the same point nor antipodal points.\")\n",
    "        else:\n",
    "            return(\"The circles do not intersect\")\n",
    "    else:\n",
    "        return(\"The centers of the circles can be neither the same point nor antipodal points.\")\n",
    "\n",
    "'''\n",
    "Example: the output of below is  [(36.989311051533505, -88.15142628069133), (38.2383796094578, -92.39048549120287)]\n",
    "         intersection_points = intersection((37.673442, -90.234036), 107.5*1852, (36.109997, -90.953669), 145*1852)\n",
    "         print(intersection_points)\n",
    "'''\n"
   ]
  },
  {
   "cell_type": "code",
   "execution_count": 1,
   "metadata": {},
   "outputs": [],
   "source": [
    "import pandas as pd\n",
    "import io\n",
    "import webbrowser\n",
    "import folium\n",
    "import folium.plugins\n",
    "from statistics import mean\n",
    "\n",
    "\n",
    "def print_circles(probe_circles: dict):\n",
    "\n",
    "    latitude = []\n",
    "    longitude = []\n",
    "    rtts = []\n",
    "\n",
    "    for  lat, lon, r in probe_circles.values():\n",
    "        print(f\"circle: {lat}, {lon} : {r}\" )\n",
    "        latitude.append(lat)\n",
    "        longitude.append(lon)\n",
    "        rtts.append(r)\n",
    "\n",
    "    target_map = folium.Map([mean(latitude), mean(longitude), ], zoom_start=9)\n",
    "\n",
    "    circles = folium.plugins.MarkerCluster().add_to(target_map)\n",
    "\n",
    "    for key, (lat, lon, r) in probe_circles.items():\n",
    "        folium.vector_layers.CircleMarker(\n",
    "            location=[lat, lon],\n",
    "            tooltip=str(key),\n",
    "            radius=r,\n",
    "            color='#3186cc',\n",
    "        ).add_to(circles)\n",
    "\n",
    "    target_map.add_child(circles)\n",
    "\n",
    "    target_map.save('map.html')\n",
    "    return target_map\n",
    "\n",
    "#display in web browser"
   ]
  },
  {
   "cell_type": "code",
   "execution_count": 1,
   "metadata": {},
   "outputs": [
    {
     "name": "stdout",
     "output_type": "stream",
     "text": [
      "      Address     Lat    Long   Listed\n",
      "0  Address #1 -33.941  18.467  1250000\n",
      "1  Address #2 -33.942  18.468  1900000\n",
      "2  Address #3 -33.941  18.467  1200000\n",
      "3  Address #4 -33.936  18.467  1195000\n",
      "4  Address #5 -33.944  18.470  2400000\n"
     ]
    },
    {
     "data": {
      "application/vnd.plotly.v1+json": {
       "config": {
        "plotlyServerURL": "https://plot.ly"
       },
       "data": [
        {
         "customdata": [
          [
           "Address #1",
           1250000
          ],
          [
           "Address #2",
           1900000
          ],
          [
           "Address #3",
           1200000
          ],
          [
           "Address #4",
           1195000
          ],
          [
           "Address #5",
           2400000
          ]
         ],
         "hovertemplate": "<b>%{hovertext}</b><br><br>Listed=%{marker.color}<br>Lat=%{lat}<br>Long=%{lon}<br>Address=%{customdata[0]}<extra></extra>",
         "hovertext": [
          "Address #1",
          "Address #2",
          "Address #3",
          "Address #4",
          "Address #5"
         ],
         "lat": [
          -33.941,
          -33.942,
          -33.941,
          -33.936,
          -33.944
         ],
         "legendgroup": "",
         "lon": [
          18.467,
          18.468,
          18.467,
          18.467,
          18.47
         ],
         "marker": {
          "color": [
           1250000,
           1900000,
           1200000,
           1195000,
           2400000
          ],
          "coloraxis": "coloraxis",
          "size": [
           1250000,
           1900000,
           1200000,
           1195000,
           2400000
          ],
          "sizemode": "area",
          "sizeref": 6000
         },
         "mode": "markers",
         "name": "",
         "showlegend": false,
         "subplot": "mapbox",
         "type": "scattermapbox"
        }
       ],
       "layout": {
        "coloraxis": {
         "colorbar": {
          "title": {
           "text": "Listed"
          }
         },
         "colorscale": [
          [
           0,
           "orange"
          ],
          [
           1,
           "red"
          ]
         ]
        },
        "height": 800,
        "legend": {
         "itemsizing": "constant",
         "tracegroupgap": 0
        },
        "mapbox": {
         "center": {
          "lat": -33.9408,
          "lon": 18.4678
         },
         "domain": {
          "x": [
           0,
           1
          ],
          "y": [
           0,
           1
          ]
         },
         "style": "open-street-map",
         "zoom": 8
        },
        "margin": {
         "b": 0,
         "l": 0,
         "r": 0,
         "t": 0
        },
        "template": {
         "data": {
          "bar": [
           {
            "error_x": {
             "color": "#2a3f5f"
            },
            "error_y": {
             "color": "#2a3f5f"
            },
            "marker": {
             "line": {
              "color": "#E5ECF6",
              "width": 0.5
             },
             "pattern": {
              "fillmode": "overlay",
              "size": 10,
              "solidity": 0.2
             }
            },
            "type": "bar"
           }
          ],
          "barpolar": [
           {
            "marker": {
             "line": {
              "color": "#E5ECF6",
              "width": 0.5
             },
             "pattern": {
              "fillmode": "overlay",
              "size": 10,
              "solidity": 0.2
             }
            },
            "type": "barpolar"
           }
          ],
          "carpet": [
           {
            "aaxis": {
             "endlinecolor": "#2a3f5f",
             "gridcolor": "white",
             "linecolor": "white",
             "minorgridcolor": "white",
             "startlinecolor": "#2a3f5f"
            },
            "baxis": {
             "endlinecolor": "#2a3f5f",
             "gridcolor": "white",
             "linecolor": "white",
             "minorgridcolor": "white",
             "startlinecolor": "#2a3f5f"
            },
            "type": "carpet"
           }
          ],
          "choropleth": [
           {
            "colorbar": {
             "outlinewidth": 0,
             "ticks": ""
            },
            "type": "choropleth"
           }
          ],
          "contour": [
           {
            "colorbar": {
             "outlinewidth": 0,
             "ticks": ""
            },
            "colorscale": [
             [
              0,
              "#0d0887"
             ],
             [
              0.1111111111111111,
              "#46039f"
             ],
             [
              0.2222222222222222,
              "#7201a8"
             ],
             [
              0.3333333333333333,
              "#9c179e"
             ],
             [
              0.4444444444444444,
              "#bd3786"
             ],
             [
              0.5555555555555556,
              "#d8576b"
             ],
             [
              0.6666666666666666,
              "#ed7953"
             ],
             [
              0.7777777777777778,
              "#fb9f3a"
             ],
             [
              0.8888888888888888,
              "#fdca26"
             ],
             [
              1,
              "#f0f921"
             ]
            ],
            "type": "contour"
           }
          ],
          "contourcarpet": [
           {
            "colorbar": {
             "outlinewidth": 0,
             "ticks": ""
            },
            "type": "contourcarpet"
           }
          ],
          "heatmap": [
           {
            "colorbar": {
             "outlinewidth": 0,
             "ticks": ""
            },
            "colorscale": [
             [
              0,
              "#0d0887"
             ],
             [
              0.1111111111111111,
              "#46039f"
             ],
             [
              0.2222222222222222,
              "#7201a8"
             ],
             [
              0.3333333333333333,
              "#9c179e"
             ],
             [
              0.4444444444444444,
              "#bd3786"
             ],
             [
              0.5555555555555556,
              "#d8576b"
             ],
             [
              0.6666666666666666,
              "#ed7953"
             ],
             [
              0.7777777777777778,
              "#fb9f3a"
             ],
             [
              0.8888888888888888,
              "#fdca26"
             ],
             [
              1,
              "#f0f921"
             ]
            ],
            "type": "heatmap"
           }
          ],
          "heatmapgl": [
           {
            "colorbar": {
             "outlinewidth": 0,
             "ticks": ""
            },
            "colorscale": [
             [
              0,
              "#0d0887"
             ],
             [
              0.1111111111111111,
              "#46039f"
             ],
             [
              0.2222222222222222,
              "#7201a8"
             ],
             [
              0.3333333333333333,
              "#9c179e"
             ],
             [
              0.4444444444444444,
              "#bd3786"
             ],
             [
              0.5555555555555556,
              "#d8576b"
             ],
             [
              0.6666666666666666,
              "#ed7953"
             ],
             [
              0.7777777777777778,
              "#fb9f3a"
             ],
             [
              0.8888888888888888,
              "#fdca26"
             ],
             [
              1,
              "#f0f921"
             ]
            ],
            "type": "heatmapgl"
           }
          ],
          "histogram": [
           {
            "marker": {
             "pattern": {
              "fillmode": "overlay",
              "size": 10,
              "solidity": 0.2
             }
            },
            "type": "histogram"
           }
          ],
          "histogram2d": [
           {
            "colorbar": {
             "outlinewidth": 0,
             "ticks": ""
            },
            "colorscale": [
             [
              0,
              "#0d0887"
             ],
             [
              0.1111111111111111,
              "#46039f"
             ],
             [
              0.2222222222222222,
              "#7201a8"
             ],
             [
              0.3333333333333333,
              "#9c179e"
             ],
             [
              0.4444444444444444,
              "#bd3786"
             ],
             [
              0.5555555555555556,
              "#d8576b"
             ],
             [
              0.6666666666666666,
              "#ed7953"
             ],
             [
              0.7777777777777778,
              "#fb9f3a"
             ],
             [
              0.8888888888888888,
              "#fdca26"
             ],
             [
              1,
              "#f0f921"
             ]
            ],
            "type": "histogram2d"
           }
          ],
          "histogram2dcontour": [
           {
            "colorbar": {
             "outlinewidth": 0,
             "ticks": ""
            },
            "colorscale": [
             [
              0,
              "#0d0887"
             ],
             [
              0.1111111111111111,
              "#46039f"
             ],
             [
              0.2222222222222222,
              "#7201a8"
             ],
             [
              0.3333333333333333,
              "#9c179e"
             ],
             [
              0.4444444444444444,
              "#bd3786"
             ],
             [
              0.5555555555555556,
              "#d8576b"
             ],
             [
              0.6666666666666666,
              "#ed7953"
             ],
             [
              0.7777777777777778,
              "#fb9f3a"
             ],
             [
              0.8888888888888888,
              "#fdca26"
             ],
             [
              1,
              "#f0f921"
             ]
            ],
            "type": "histogram2dcontour"
           }
          ],
          "mesh3d": [
           {
            "colorbar": {
             "outlinewidth": 0,
             "ticks": ""
            },
            "type": "mesh3d"
           }
          ],
          "parcoords": [
           {
            "line": {
             "colorbar": {
              "outlinewidth": 0,
              "ticks": ""
             }
            },
            "type": "parcoords"
           }
          ],
          "pie": [
           {
            "automargin": true,
            "type": "pie"
           }
          ],
          "scatter": [
           {
            "fillpattern": {
             "fillmode": "overlay",
             "size": 10,
             "solidity": 0.2
            },
            "type": "scatter"
           }
          ],
          "scatter3d": [
           {
            "line": {
             "colorbar": {
              "outlinewidth": 0,
              "ticks": ""
             }
            },
            "marker": {
             "colorbar": {
              "outlinewidth": 0,
              "ticks": ""
             }
            },
            "type": "scatter3d"
           }
          ],
          "scattercarpet": [
           {
            "marker": {
             "colorbar": {
              "outlinewidth": 0,
              "ticks": ""
             }
            },
            "type": "scattercarpet"
           }
          ],
          "scattergeo": [
           {
            "marker": {
             "colorbar": {
              "outlinewidth": 0,
              "ticks": ""
             }
            },
            "type": "scattergeo"
           }
          ],
          "scattergl": [
           {
            "marker": {
             "colorbar": {
              "outlinewidth": 0,
              "ticks": ""
             }
            },
            "type": "scattergl"
           }
          ],
          "scattermapbox": [
           {
            "marker": {
             "colorbar": {
              "outlinewidth": 0,
              "ticks": ""
             }
            },
            "type": "scattermapbox"
           }
          ],
          "scatterpolar": [
           {
            "marker": {
             "colorbar": {
              "outlinewidth": 0,
              "ticks": ""
             }
            },
            "type": "scatterpolar"
           }
          ],
          "scatterpolargl": [
           {
            "marker": {
             "colorbar": {
              "outlinewidth": 0,
              "ticks": ""
             }
            },
            "type": "scatterpolargl"
           }
          ],
          "scatterternary": [
           {
            "marker": {
             "colorbar": {
              "outlinewidth": 0,
              "ticks": ""
             }
            },
            "type": "scatterternary"
           }
          ],
          "surface": [
           {
            "colorbar": {
             "outlinewidth": 0,
             "ticks": ""
            },
            "colorscale": [
             [
              0,
              "#0d0887"
             ],
             [
              0.1111111111111111,
              "#46039f"
             ],
             [
              0.2222222222222222,
              "#7201a8"
             ],
             [
              0.3333333333333333,
              "#9c179e"
             ],
             [
              0.4444444444444444,
              "#bd3786"
             ],
             [
              0.5555555555555556,
              "#d8576b"
             ],
             [
              0.6666666666666666,
              "#ed7953"
             ],
             [
              0.7777777777777778,
              "#fb9f3a"
             ],
             [
              0.8888888888888888,
              "#fdca26"
             ],
             [
              1,
              "#f0f921"
             ]
            ],
            "type": "surface"
           }
          ],
          "table": [
           {
            "cells": {
             "fill": {
              "color": "#EBF0F8"
             },
             "line": {
              "color": "white"
             }
            },
            "header": {
             "fill": {
              "color": "#C8D4E3"
             },
             "line": {
              "color": "white"
             }
            },
            "type": "table"
           }
          ]
         },
         "layout": {
          "annotationdefaults": {
           "arrowcolor": "#2a3f5f",
           "arrowhead": 0,
           "arrowwidth": 1
          },
          "autotypenumbers": "strict",
          "coloraxis": {
           "colorbar": {
            "outlinewidth": 0,
            "ticks": ""
           }
          },
          "colorscale": {
           "diverging": [
            [
             0,
             "#8e0152"
            ],
            [
             0.1,
             "#c51b7d"
            ],
            [
             0.2,
             "#de77ae"
            ],
            [
             0.3,
             "#f1b6da"
            ],
            [
             0.4,
             "#fde0ef"
            ],
            [
             0.5,
             "#f7f7f7"
            ],
            [
             0.6,
             "#e6f5d0"
            ],
            [
             0.7,
             "#b8e186"
            ],
            [
             0.8,
             "#7fbc41"
            ],
            [
             0.9,
             "#4d9221"
            ],
            [
             1,
             "#276419"
            ]
           ],
           "sequential": [
            [
             0,
             "#0d0887"
            ],
            [
             0.1111111111111111,
             "#46039f"
            ],
            [
             0.2222222222222222,
             "#7201a8"
            ],
            [
             0.3333333333333333,
             "#9c179e"
            ],
            [
             0.4444444444444444,
             "#bd3786"
            ],
            [
             0.5555555555555556,
             "#d8576b"
            ],
            [
             0.6666666666666666,
             "#ed7953"
            ],
            [
             0.7777777777777778,
             "#fb9f3a"
            ],
            [
             0.8888888888888888,
             "#fdca26"
            ],
            [
             1,
             "#f0f921"
            ]
           ],
           "sequentialminus": [
            [
             0,
             "#0d0887"
            ],
            [
             0.1111111111111111,
             "#46039f"
            ],
            [
             0.2222222222222222,
             "#7201a8"
            ],
            [
             0.3333333333333333,
             "#9c179e"
            ],
            [
             0.4444444444444444,
             "#bd3786"
            ],
            [
             0.5555555555555556,
             "#d8576b"
            ],
            [
             0.6666666666666666,
             "#ed7953"
            ],
            [
             0.7777777777777778,
             "#fb9f3a"
            ],
            [
             0.8888888888888888,
             "#fdca26"
            ],
            [
             1,
             "#f0f921"
            ]
           ]
          },
          "colorway": [
           "#636efa",
           "#EF553B",
           "#00cc96",
           "#ab63fa",
           "#FFA15A",
           "#19d3f3",
           "#FF6692",
           "#B6E880",
           "#FF97FF",
           "#FECB52"
          ],
          "font": {
           "color": "#2a3f5f"
          },
          "geo": {
           "bgcolor": "white",
           "lakecolor": "white",
           "landcolor": "#E5ECF6",
           "showlakes": true,
           "showland": true,
           "subunitcolor": "white"
          },
          "hoverlabel": {
           "align": "left"
          },
          "hovermode": "closest",
          "mapbox": {
           "style": "light"
          },
          "paper_bgcolor": "white",
          "plot_bgcolor": "#E5ECF6",
          "polar": {
           "angularaxis": {
            "gridcolor": "white",
            "linecolor": "white",
            "ticks": ""
           },
           "bgcolor": "#E5ECF6",
           "radialaxis": {
            "gridcolor": "white",
            "linecolor": "white",
            "ticks": ""
           }
          },
          "scene": {
           "xaxis": {
            "backgroundcolor": "#E5ECF6",
            "gridcolor": "white",
            "gridwidth": 2,
            "linecolor": "white",
            "showbackground": true,
            "ticks": "",
            "zerolinecolor": "white"
           },
           "yaxis": {
            "backgroundcolor": "#E5ECF6",
            "gridcolor": "white",
            "gridwidth": 2,
            "linecolor": "white",
            "showbackground": true,
            "ticks": "",
            "zerolinecolor": "white"
           },
           "zaxis": {
            "backgroundcolor": "#E5ECF6",
            "gridcolor": "white",
            "gridwidth": 2,
            "linecolor": "white",
            "showbackground": true,
            "ticks": "",
            "zerolinecolor": "white"
           }
          },
          "shapedefaults": {
           "line": {
            "color": "#2a3f5f"
           }
          },
          "ternary": {
           "aaxis": {
            "gridcolor": "white",
            "linecolor": "white",
            "ticks": ""
           },
           "baxis": {
            "gridcolor": "white",
            "linecolor": "white",
            "ticks": ""
           },
           "bgcolor": "#E5ECF6",
           "caxis": {
            "gridcolor": "white",
            "linecolor": "white",
            "ticks": ""
           }
          },
          "title": {
           "x": 0.05
          },
          "xaxis": {
           "automargin": true,
           "gridcolor": "white",
           "linecolor": "white",
           "ticks": "",
           "title": {
            "standoff": 15
           },
           "zerolinecolor": "white",
           "zerolinewidth": 2
          },
          "yaxis": {
           "automargin": true,
           "gridcolor": "white",
           "linecolor": "white",
           "ticks": "",
           "title": {
            "standoff": 15
           },
           "zerolinecolor": "white",
           "zerolinewidth": 2
          }
         }
        },
        "width": 800
       }
      }
     },
     "metadata": {},
     "output_type": "display_data"
    }
   ],
   "source": [
    "import plotly.express as px\n",
    "import pandas as pd\n",
    "from pathlib import Path\n",
    "\n",
    "test_file = Path(\".\") / \"../datasets/dataset.csv\"\n",
    "\n",
    "df = pd.read_csv(test_file)\n",
    "\n",
    "print(df)\n",
    "\n",
    "\n",
    "df.dropna(\n",
    "    axis=0,\n",
    "    how='any',\n",
    "    subset=None,\n",
    "    inplace=True\n",
    ")\n",
    "\n",
    "color_scale = [(0, 'orange'), (1,'red')]\n",
    "\n",
    "fig = px.scatter_mapbox(df,\n",
    "                        lat=\"Lat\",\n",
    "                        lon=\"Long\",\n",
    "                        hover_name=\"Address\",\n",
    "                        hover_data=[\"Address\", \"Listed\"],\n",
    "                        color_continuous_scale=color_scale,\n",
    "                        size=\"Listed\",\n",
    "                        zoom=8,\n",
    "                        height=800,\n",
    "                        width=800)\n",
    "\n",
    "fig.update_layout(mapbox_style=\"open-street-map\")\n",
    "fig.update_layout(margin={\"r\":0,\"t\":0,\"l\":0,\"b\":0})\n",
    "fig.show()"
   ]
  },
  {
   "cell_type": "code",
   "execution_count": 1,
   "metadata": {},
   "outputs": [
    {
     "name": "stdout",
     "output_type": "stream",
     "text": [
      "48.68559000514443 1.4890742633310852 666.6666666666667\n",
      "49.386153229694834 2.2976143160251232 666.6666666666667\n",
      "48.86168126136162 2.916765060171397 666.6666666666667\n"
     ]
    },
    {
     "data": {
      "application/vnd.plotly.v1+json": {
       "config": {
        "plotlyServerURL": "https://plot.ly"
       },
       "data": [
        {
         "hovertemplate": "<b>%{hovertext}</b><br><br>lat=%{lat}<br>lon=%{lon}<extra></extra>",
         "hovertext": [
          666.6666666666667,
          666.6666666666667,
          666.6666666666667
         ],
         "lat": [
          48.68559000514443,
          49.386153229694834,
          48.86168126136162
         ],
         "legendgroup": "",
         "lon": [
          1.4890742633310852,
          2.2976143160251232,
          2.916765060171397
         ],
         "marker": {
          "color": "#636efa"
         },
         "mode": "markers",
         "name": "",
         "showlegend": false,
         "subplot": "mapbox",
         "type": "scattermapbox"
        },
        {
         "lat": [
          48.68559000514443,
          48.79010842812628,
          48.894595013784,
          48.999017934491405,
          49.10334538201529,
          49.2075455772045,
          49.31158677967015,
          49.415437297454126,
          49.519065496682664,
          49.622439811202426,
          49.7255287521958,
          49.8283009177727,
          49.93072500253593,
          50.03276980711706,
          50.13440424768009,
          50.23559736538986,
          50.336318335842435,
          50.43653647845452,
          50.53622126580904,
          50.63534233295409,
          50.73386948665241,
          50.83177271457854,
          50.929022194460835,
          51.02558830316565,
          51.12144162572081,
          51.21655296427573,
          51.3108933469953,
          51.40443403688506,
          51.49714654054471,
          51.58900261684753,
          51.67997428554283,
          51.770033835779074,
          51.85915383454482,
          51.947307135025135,
          52.034466884870724,
          52.120606534377444,
          52.20569984457361,
          52.28972089521262,
          52.37264409266851,
          52.45444417773205,
          52.535096233304905,
          52.61457569198966,
          52.69285834357326,
          52.769920342401704,
          52.84573821464361,
          52.920288865440654,
          52.9935495859424,
          53.06549806022369,
          53.13611237208228,
          53.205371011714725,
          53.273252882268466,
          53.33973730626814,
          53.40480403191417,
          53.46843323925158,
          53.53060554620744,
          53.59130201449478,
          53.65050415538136,
          53.70819393532159,
          53.76435378144962,
          53.818966586932305,
          53.87201571618004,
          53.92348500991415,
          53.97335879008919,
          54.02162186466857,
          54.06825953225223,
          54.113257586554845,
          54.15660232073317,
          54.198280531561274,
          54.238279523452405,
          54.27658711232615,
          54.31319162931983,
          54.348081924343,
          54.38124736947378,
          54.41267786219632,
          54.44236382847805,
          54.470296225686084,
          54.49646654534162,
          54.5208668157118,
          54.54348960423787,
          54.56432801979932,
          54.58337571481289,
          54.60062688716616,
          54.61607628198492,
          54.62971919323384,
          54.641551465149995,
          54.651569493508745,
          54.65977022672159,
          54.666151166765765,
          54.67071036994511,
          54.67344644748218,
          54.67435856594123,
          54.67344644748218,
          54.67071036994511,
          54.666151166765765,
          54.65977022672159,
          54.651569493508745,
          54.64155146515,
          54.62971919323384,
          54.61607628198492,
          54.60062688716616,
          54.58337571481289,
          54.56432801979932,
          54.54348960423788,
          54.5208668157118,
          54.49646654534162,
          54.470296225686084,
          54.44236382847805,
          54.41267786219632,
          54.38124736947378,
          54.348081924343,
          54.31319162931983,
          54.27658711232615,
          54.238279523452405,
          54.198280531561274,
          54.15660232073317,
          54.113257586554845,
          54.06825953225223,
          54.02162186466857,
          53.97335879008919,
          53.92348500991415,
          53.87201571618004,
          53.818966586932305,
          53.76435378144962,
          53.70819393532159,
          53.65050415538136,
          53.59130201449478,
          53.53060554620744,
          53.46843323925158,
          53.40480403191417,
          53.33973730626815,
          53.273252882268466,
          53.20537101171472,
          53.13611237208228,
          53.06549806022369,
          52.9935495859424,
          52.920288865440654,
          52.84573821464361,
          52.769920342401704,
          52.69285834357326,
          52.61457569198966,
          52.535096233304905,
          52.45444417773205,
          52.37264409266851,
          52.28972089521262,
          52.20569984457361,
          52.120606534377444,
          52.034466884870724,
          51.947307135025135,
          51.85915383454482,
          51.770033835779074,
          51.67997428554283,
          51.58900261684753,
          51.49714654054472,
          51.40443403688506,
          51.3108933469953,
          51.21655296427573,
          51.12144162572081,
          51.02558830316565,
          50.929022194460835,
          50.83177271457854,
          50.73386948665241,
          50.63534233295409,
          50.53622126580904,
          50.43653647845452,
          50.336318335842435,
          50.23559736538986,
          50.13440424768009,
          50.032769807117056,
          49.93072500253593,
          49.8283009177727,
          49.7255287521958,
          49.62243981120243,
          49.51906549668267,
          49.415437297454126,
          49.31158677967016,
          49.2075455772045,
          49.10334538201529,
          48.999017934491405,
          48.89459501378399,
          48.790108428126274,
          48.68559000514443,
          48.58107158216258,
          48.476584996504855,
          48.37216207579745,
          48.26783462827356,
          48.16363443308436,
          48.0595932306187,
          47.95574271283473,
          47.85211451360619,
          47.74874019908643,
          47.645651258093054,
          47.54287909251615,
          47.440455007752924,
          47.33841020317179,
          47.23677576260877,
          47.135582644899,
          47.03486167444642,
          46.93464353183433,
          46.83495874447981,
          46.735837677334764,
          46.637310523636444,
          46.53940729571031,
          46.44215781582802,
          46.345591707123205,
          46.24973838456804,
          46.15462704601313,
          46.06028666329356,
          45.966745973403796,
          45.874033469744134,
          45.78217739344132,
          45.69120572474602,
          45.60114617450978,
          45.51202617574403,
          45.42387287526372,
          45.336713125418136,
          45.25057347591141,
          45.165480165715245,
          45.081459115076235,
          44.998535917620345,
          44.9167358325568,
          44.83608377698395,
          44.756604318299196,
          44.67832166671559,
          44.601259667887156,
          44.525441795645236,
          44.4508911448482,
          44.377630424346464,
          44.30568195006517,
          44.23506763820657,
          44.165808998574136,
          44.09792712802039,
          44.031442704020705,
          43.966375978374685,
          43.90274677103727,
          43.84057446408141,
          43.77987799579408,
          43.72067585490749,
          43.662986074967264,
          43.60682622883923,
          43.55221342335655,
          43.499164294108816,
          43.4476950003747,
          43.39782122019966,
          43.349558145620286,
          43.302920478036626,
          43.25792242373401,
          43.21457768955568,
          43.17289947872758,
          43.13290048683645,
          43.094592897962706,
          43.05798838096902,
          43.023098085945854,
          42.98993264081507,
          42.958502148092535,
          42.9288161818108,
          42.90088378460277,
          42.874713464947234,
          42.85031319457706,
          42.82769040605098,
          42.806851990489534,
          42.787804295475965,
          42.770553123122696,
          42.755103728303936,
          42.741460817055014,
          42.72962854513885,
          42.71961051678011,
          42.71140978356726,
          42.70502884352309,
          42.70046964034374,
          42.697733562806675,
          42.69682144434762,
          42.697733562806675,
          42.70046964034374,
          42.70502884352309,
          42.71140978356726,
          42.71961051678011,
          42.72962854513885,
          42.741460817055014,
          42.755103728303936,
          42.770553123122696,
          42.787804295475965,
          42.806851990489534,
          42.827690406050976,
          42.850313194577055,
          42.874713464947234,
          42.900883784602776,
          42.9288161818108,
          42.958502148092535,
          42.98993264081507,
          43.023098085945854,
          43.05798838096902,
          43.094592897962706,
          43.13290048683645,
          43.17289947872757,
          43.21457768955568,
          43.25792242373401,
          43.302920478036626,
          43.349558145620286,
          43.39782122019966,
          43.4476950003747,
          43.499164294108816,
          43.55221342335655,
          43.60682622883923,
          43.662986074967264,
          43.72067585490748,
          43.779877995794074,
          43.84057446408141,
          43.90274677103727,
          43.966375978374685,
          44.03144270402071,
          44.09792712802039,
          44.16580899857413,
          44.23506763820657,
          44.305681950065164,
          44.37763042434646,
          44.4508911448482,
          44.525441795645236,
          44.601259667887156,
          44.67832166671559,
          44.756604318299196,
          44.83608377698395,
          44.9167358325568,
          44.99853591762034,
          45.081459115076235,
          45.16548016571524,
          45.25057347591141,
          45.33671312541813,
          45.42387287526372,
          45.512026175744026,
          45.60114617450978,
          45.69120572474602,
          45.78217739344132,
          45.87403346974414,
          45.966745973403796,
          46.06028666329356,
          46.154627046013125,
          46.24973838456804,
          46.3455917071232,
          46.44215781582802,
          46.53940729571031,
          46.637310523636444,
          46.735837677334764,
          46.83495874447981,
          46.93464353183433,
          47.03486167444642,
          47.135582644898996,
          47.236775762608765,
          47.33841020317179,
          47.44045500775292,
          47.54287909251615,
          47.64565125809305,
          47.74874019908642,
          47.85211451360618,
          47.95574271283473,
          48.0595932306187,
          48.163634433084354,
          48.26783462827356,
          48.37216207579744,
          48.476584996504855,
          48.58107158216257,
          48.68559000514443
         ],
         "lon": [
          10.560346466736634,
          10.558964868042361,
          10.554820492807893,
          10.547914603450067,
          10.538249303569684,
          10.52582753731072,
          10.510653088463505,
          10.492730579312159,
          10.472065469226587,
          10.448664052999511,
          10.422533458929006,
          10.39368164664716,
          10.362117404695487,
          10.327850347847853,
          10.290890914181732,
          10.251250361898649,
          10.208940765894834,
          10.163975014083094,
          10.116366803467027,
          10.066130635968776,
          10.013281814011608,
          9.957836435858649,
          9.899811390709196,
          9.839224353554105,
          9.776093779791813,
          9.710438899606645,
          9.642279712111117,
          9.571636979254022,
          9.49853221949611,
          9.422987701255387,
          9.345026436123929,
          9.264672171858322,
          9.181949385145868,
          9.096883274148755,
          9.009499750828445,
          8.919825433052647,
          8.827887636487247,
          8.733714366275706,
          8.637334308508402,
          8.538776821484586,
          8.438071926769554,
          8.335250300049786,
          8.230343261788839,
          8.123382767686824,
          8.014401398946388,
          7.903432352348185,
          7.7905094301387825,
          7.675667029734197,
          7.558940133242096,
          7.4403642968059085,
          7.319975639774086,
          7.197810833697786,
          7.07390709116038,
          6.948302154442129,
          6.821034284023515,
          6.692142246930742,
          6.561665304926913,
          6.429643202552523,
          6.296116155018877,
          6.161124835958167,
          6.02471036503386,
          5.886914295415283,
          5.747778601120101,
          5.60734566422863,
          5.465658261973856,
          5.322759553711062,
          5.178693067771075,
          5.033502688201117,
          4.887232641397291,
          4.739927482632811,
          4.591632082486007,
          4.442391613172336,
          4.292251534784475,
          4.141257581444742,
          3.989455747374034,
          3.836892272881548,
          3.683613630279532,
          3.529666509727358,
          3.375097805009275,
          3.219954599250075,
          3.0642841505731395,
          2.908133877705149,
          2.751551345531883,
          2.594584250609485,
          2.437280406635648,
          2.2796877298850813,
          2.1218542246137595,
          1.9638279684363518,
          1.8056570976813269,
          1.64738979272815,
          1.4890742633310858,
          1.3307587339340194,
          1.1724914289808466,
          1.0143205582258217,
          0.8562943020484121,
          0.6984607967770883,
          0.5408681200265235,
          0.3835642760526865,
          0.22659718113029004,
          0.07001464895702036,
          -0.08613562391096785,
          -0.24180607258790365,
          -0.3969492783471018,
          -0.5515179830651864,
          -0.7054651036173605,
          -0.8587437462193794,
          -1.0113072207118627,
          -1.1631090547825702,
          -1.3141030081223029,
          -1.464243086510162,
          -1.6134835558238356,
          -1.7617789559706394,
          -1.909084114735122,
          -2.0553541615389443,
          -2.2005445411089033,
          -2.3446110270488916,
          -2.4875097353116873,
          -2.629197137566459,
          -2.7696300744579263,
          -2.9087657687531108,
          -3.0465618383716864,
          -3.182976309295995,
          -3.317967628356705,
          -3.451494675890351,
          -3.583516778264741,
          -3.7139937202685678,
          -3.8428857573613424,
          -3.9701536277799585,
          -4.095758564498209,
          -4.219662307035613,
          -4.341827113111915,
          -4.46221577014374,
          -4.5807916065799255,
          -4.697518503072025,
          -4.812360903476609,
          -4.925283825686012,
          -5.036252872284218,
          -5.145234241024652,
          -5.252194735126667,
          -5.357101773387616,
          -5.459923400107382,
          -5.560628294822412,
          -5.6591857818462294,
          -5.755565839613536,
          -5.8497391098250775,
          -5.941676906390475,
          -6.031351224166274,
          -6.118734747486585,
          -6.2038008584836986,
          -6.2865236451961515,
          -6.366877909461759,
          -6.444839174593216,
          -6.520383692833937,
          -6.593488452591849,
          -6.664131185448946,
          -6.732290372944474,
          -6.79794525312964,
          -6.861075826891932,
          -6.9216628640470255,
          -6.979687909196478,
          -7.035133287349435,
          -7.087982109306605,
          -7.1382182768048565,
          -7.185826487420924,
          -7.23079223923266,
          -7.273101835236476,
          -7.312742387519561,
          -7.349701821185683,
          -7.383968878033317,
          -7.415533119984989,
          -7.444384932266836,
          -7.470515526337339,
          -7.4939169425644145,
          -7.514582052649988,
          -7.532504561801334,
          -7.547679010648549,
          -7.560100776907513,
          -7.5697660767878965,
          -7.576671966145723,
          -7.58081634138019,
          -7.5821979400744635,
          -7.58081634138019,
          -7.576671966145723,
          -7.5697660767878965,
          -7.560100776907515,
          -7.547679010648549,
          -7.5325045618013355,
          -7.514582052649988,
          -7.4939169425644145,
          -7.470515526337341,
          -7.444384932266836,
          -7.415533119984989,
          -7.383968878033317,
          -7.349701821185683,
          -7.312742387519561,
          -7.273101835236478,
          -7.230792239232663,
          -7.185826487420927,
          -7.1382182768048565,
          -7.087982109306605,
          -7.035133287349437,
          -6.979687909196478,
          -6.9216628640470255,
          -6.861075826891934,
          -6.797945253129644,
          -6.732290372944474,
          -6.66413118544895,
          -6.593488452591853,
          -6.5203836928339385,
          -6.444839174593216,
          -6.366877909461757,
          -6.2865236451961515,
          -6.2038008584836986,
          -6.118734747486585,
          -6.0313512241662774,
          -5.941676906390479,
          -5.849739109825081,
          -5.755565839613537,
          -5.659185781846232,
          -5.560628294822415,
          -5.4599234001073835,
          -5.357101773387615,
          -5.252194735126668,
          -5.145234241024653,
          -5.0362528722842175,
          -4.925283825686014,
          -4.812360903476614,
          -4.69751850307203,
          -4.580791606579927,
          -4.46221577014374,
          -4.341827113111916,
          -4.219662307035613,
          -4.095758564498208,
          -3.9701536277799567,
          -3.842885757361344,
          -3.713993720268573,
          -3.5835167782647463,
          -3.45149467589035,
          -3.3179676283567074,
          -3.182976309295996,
          -3.0465618383716935,
          -2.90876576875311,
          -2.769630074457928,
          -2.629197137566462,
          -2.487509735311689,
          -2.344611027048898,
          -2.200544541108904,
          -2.055354161538946,
          -1.9090841147351243,
          -1.7617789559706434,
          -1.6134835558238418,
          -1.4642430865101639,
          -1.3141030081223055,
          -1.1631090547825746,
          -1.0113072207118614,
          -0.8587437462193772,
          -0.7054651036173605,
          -0.5515179830651904,
          -0.3969492783471078,
          -0.24180607258790965,
          -0.0861356239109683,
          0.07001464895702036,
          0.22659718113029403,
          0.3835642760526883,
          0.5408681200265233,
          0.698460796777088,
          0.85629430204841,
          1.0143205582258155,
          1.1724914289808384,
          1.3307587339340192,
          1.4890742633310834,
          1.6473897927281478,
          1.8056570976813286,
          1.9638279684363515,
          2.1218542246137573,
          2.2796877298850786,
          2.4372804066356437,
          2.594584250609487,
          2.751551345531881,
          2.908133877705147,
          3.064284150573135,
          3.2199545992500687,
          3.375097805009267,
          3.529666509727358,
          3.6836136302795275,
          3.8368922728815518,
          3.989455747374037,
          4.141257581444742,
          4.292251534784473,
          4.442391613172331,
          4.591632082486001,
          4.739927482632803,
          4.887232641397291,
          5.033502688201114,
          5.1786930677710785,
          5.322759553711064,
          5.465658261973856,
          5.607345664228628,
          5.747778601120096,
          5.886914295415278,
          6.02471036503386,
          6.161124835958164,
          6.296116155018875,
          6.429643202552517,
          6.561665304926908,
          6.692142246930741,
          6.821034284023512,
          6.948302154442125,
          7.0739070911603825,
          7.197810833697786,
          7.319975639774084,
          7.440364296805907,
          7.558940133242093,
          7.675667029734193,
          7.790509430138775,
          7.903432352348182,
          8.014401398946385,
          8.123382767686826,
          8.230343261788839,
          8.335250300049786,
          8.43807192676955,
          8.538776821484582,
          8.637334308508397,
          8.733714366275706,
          8.827887636487247,
          8.919825433052646,
          9.009499750828441,
          9.096883274148755,
          9.181949385145861,
          9.264672171858322,
          9.345026436123927,
          9.422987701255387,
          9.49853221949611,
          9.57163697925402,
          9.64227971211112,
          9.710438899606642,
          9.776093779791813,
          9.839224353554103,
          9.899811390709196,
          9.957836435858647,
          10.013281814011608,
          10.066130635968772,
          10.116366803467027,
          10.163975014083098,
          10.20894076589483,
          10.251250361898649,
          10.290890914181732,
          10.327850347847852,
          10.362117404695484,
          10.39368164664716,
          10.422533458929005,
          10.44866405299951,
          10.472065469226585,
          10.492730579312159,
          10.510653088463505,
          10.52582753731072,
          10.538249303569685,
          10.547914603450067,
          10.554820492807893,
          10.558964868042361,
          10.560346466736634
         ],
         "marker": {
          "color": "BlueViolet",
          "size": 1
         },
         "mode": "lines",
         "type": "scattermapbox"
        },
        {
         "lat": [
          49.386153229694834,
          49.49067165267669,
          49.595158238334406,
          49.69958115904181,
          49.8039086065657,
          49.908108801754906,
          50.01215000422056,
          50.11600052200453,
          50.21962872123307,
          50.32300303575283,
          50.42609197674621,
          50.52886414232311,
          50.63128822708634,
          50.73333303166747,
          50.834967472230495,
          50.936160589940265,
          51.03688156039284,
          51.13709970300493,
          51.23678449035945,
          51.335905557504496,
          51.43443271120282,
          51.53233593912895,
          51.62958541901124,
          51.726151527716056,
          51.82200485027122,
          51.917116188826135,
          52.01145657154571,
          52.104997261435464,
          52.19770976509512,
          52.28956584139794,
          52.38053751009324,
          52.47059706032948,
          52.55971705909523,
          52.64787035957554,
          52.73503010942113,
          52.82116975892785,
          52.906263069124016,
          52.990284119763025,
          53.073207317218916,
          53.15500740228246,
          53.23565945785531,
          53.315138916540064,
          53.39342156812367,
          53.47048356695211,
          53.54630143919402,
          53.62085208999106,
          53.694112810492804,
          53.766061284774096,
          53.83667559663269,
          53.90593423626513,
          53.97381610681887,
          54.04030053081855,
          54.105367256464575,
          54.16899646380199,
          54.23116877075785,
          54.29186523904519,
          54.35106737993177,
          54.408757159871996,
          54.46491700600003,
          54.51952981148271,
          54.572578940730445,
          54.62404823446456,
          54.6739220146396,
          54.722185089218975,
          54.768822756802635,
          54.81382081110525,
          54.85716554528358,
          54.89884375611168,
          54.93884274800281,
          54.977150336876555,
          55.01375485387024,
          55.04864514889341,
          55.08181059402419,
          55.113241086746726,
          55.14292705302846,
          55.17085945023649,
          55.197029769892026,
          55.221430040262206,
          55.24405282878828,
          55.26489124434973,
          55.283938939363296,
          55.301190111716565,
          55.316639506535324,
          55.33028241778425,
          55.3421146897004,
          55.35213271805915,
          55.360333451272,
          55.36671439131617,
          55.37127359449552,
          55.374009672032585,
          55.37492179049164,
          55.374009672032585,
          55.37127359449552,
          55.36671439131617,
          55.360333451272,
          55.35213271805915,
          55.34211468970041,
          55.33028241778425,
          55.316639506535324,
          55.301190111716565,
          55.283938939363296,
          55.26489124434973,
          55.244052828788284,
          55.221430040262206,
          55.197029769892026,
          55.17085945023649,
          55.14292705302846,
          55.113241086746726,
          55.08181059402419,
          55.04864514889341,
          55.01375485387024,
          54.977150336876555,
          54.93884274800281,
          54.89884375611168,
          54.85716554528358,
          54.81382081110525,
          54.768822756802635,
          54.722185089218975,
          54.6739220146396,
          54.62404823446456,
          54.572578940730445,
          54.51952981148271,
          54.46491700600003,
          54.408757159871996,
          54.35106737993177,
          54.29186523904519,
          54.23116877075785,
          54.16899646380199,
          54.105367256464575,
          54.040300530818556,
          53.97381610681887,
          53.905934236265125,
          53.83667559663269,
          53.766061284774096,
          53.694112810492804,
          53.62085208999106,
          53.54630143919402,
          53.47048356695211,
          53.39342156812367,
          53.315138916540064,
          53.23565945785531,
          53.15500740228246,
          53.073207317218916,
          52.990284119763025,
          52.906263069124016,
          52.82116975892785,
          52.73503010942113,
          52.64787035957554,
          52.55971705909523,
          52.47059706032948,
          52.38053751009324,
          52.28956584139794,
          52.19770976509513,
          52.104997261435464,
          52.01145657154571,
          51.917116188826135,
          51.82200485027122,
          51.726151527716056,
          51.62958541901124,
          51.53233593912895,
          51.43443271120282,
          51.335905557504496,
          51.23678449035945,
          51.13709970300493,
          51.03688156039284,
          50.936160589940265,
          50.834967472230495,
          50.73333303166746,
          50.63128822708634,
          50.52886414232311,
          50.42609197674621,
          50.32300303575284,
          50.21962872123308,
          50.11600052200453,
          50.012150004220565,
          49.908108801754906,
          49.8039086065657,
          49.69958115904181,
          49.5951582383344,
          49.49067165267668,
          49.386153229694834,
          49.28163480671299,
          49.17714822105526,
          49.072725300347855,
          48.96839785282397,
          48.86419765763477,
          48.76015645516911,
          48.656305937385135,
          48.552677738156596,
          48.449303423636835,
          48.34621448264346,
          48.24344231706656,
          48.14101823230333,
          48.0389734277222,
          47.93733898715918,
          47.83614586944941,
          47.735424898996826,
          47.63520675638474,
          47.53552196903022,
          47.43640090188517,
          47.33787374818685,
          47.23997052026072,
          47.142721040378426,
          47.04615493167361,
          46.95030160911845,
          46.85519027056354,
          46.76084988784397,
          46.667309197954204,
          46.57459669429454,
          46.48274061799173,
          46.39176894929643,
          46.30170939906019,
          46.21258940029444,
          46.124436099814126,
          46.03727634996854,
          45.95113670046182,
          45.86604339026565,
          45.78202233962664,
          45.69909914217075,
          45.61729905710721,
          45.536647001534355,
          45.457167542849604,
          45.378884891266,
          45.30182289243756,
          45.22600502019564,
          45.15145436939861,
          45.07819364889687,
          45.00624517461558,
          44.93563086275698,
          44.86637222312454,
          44.798490352570795,
          44.73200592857111,
          44.66693920292509,
          44.60330999558768,
          44.54113768863182,
          44.48044122034449,
          44.4212390794579,
          44.36354929951767,
          44.30738945338964,
          44.252776647906956,
          44.19972751865922,
          44.14825822492511,
          44.09838444475007,
          44.05012137017069,
          44.00348370258703,
          43.958485648284416,
          43.91514091410609,
          43.87346270327799,
          43.833463711386855,
          43.79515612251311,
          43.75855160551943,
          43.72366131049626,
          43.69049586536548,
          43.65906537264294,
          43.62937940636121,
          43.601447009153176,
          43.57527668949764,
          43.55087641912747,
          43.52825363060139,
          43.50741521503994,
          43.48836752002637,
          43.4711163476731,
          43.455666952854344,
          43.44202404160542,
          43.43019176968926,
          43.420173741330515,
          43.41197300811767,
          43.405592068073496,
          43.40103286489415,
          43.39829678735708,
          43.39738466889803,
          43.39829678735708,
          43.40103286489415,
          43.405592068073496,
          43.41197300811767,
          43.420173741330515,
          43.43019176968926,
          43.44202404160542,
          43.455666952854344,
          43.4711163476731,
          43.48836752002637,
          43.50741521503994,
          43.528253630601384,
          43.55087641912746,
          43.57527668949764,
          43.60144700915318,
          43.62937940636121,
          43.65906537264294,
          43.69049586536548,
          43.72366131049626,
          43.75855160551943,
          43.79515612251311,
          43.833463711386855,
          43.87346270327798,
          43.91514091410609,
          43.958485648284416,
          44.00348370258703,
          44.05012137017069,
          44.09838444475007,
          44.14825822492511,
          44.19972751865922,
          44.252776647906956,
          44.30738945338964,
          44.36354929951767,
          44.42123907945789,
          44.48044122034448,
          44.54113768863182,
          44.60330999558768,
          44.66693920292509,
          44.73200592857112,
          44.798490352570795,
          44.866372223124536,
          44.93563086275698,
          45.00624517461557,
          45.078193648896864,
          45.15145436939861,
          45.22600502019564,
          45.30182289243756,
          45.378884891266,
          45.457167542849604,
          45.536647001534355,
          45.61729905710721,
          45.699099142170745,
          45.78202233962664,
          45.866043390265645,
          45.95113670046182,
          46.037276349968536,
          46.124436099814126,
          46.21258940029443,
          46.30170939906019,
          46.39176894929643,
          46.48274061799173,
          46.57459669429455,
          46.667309197954204,
          46.76084988784397,
          46.85519027056353,
          46.95030160911845,
          47.046154931673605,
          47.142721040378426,
          47.23997052026072,
          47.33787374818685,
          47.43640090188517,
          47.53552196903022,
          47.63520675638474,
          47.735424898996826,
          47.8361458694494,
          47.93733898715917,
          48.0389734277222,
          48.141018232303324,
          48.24344231706656,
          48.346214482643454,
          48.44930342363683,
          48.55267773815659,
          48.656305937385135,
          48.76015645516911,
          48.86419765763476,
          48.96839785282397,
          49.07272530034785,
          49.17714822105526,
          49.28163480671298,
          49.386153229694834
         ],
         "lon": [
          11.497549470356864,
          11.496148275671972,
          11.491945118434776,
          11.48494127896768,
          11.475138890708036,
          11.46254093955827,
          11.447151262976334,
          11.428974548806805,
          11.408016333852897,
          11.384283002189914,
          11.357781783220588,
          11.328520749472942,
          11.296508814141312,
          11.261755728371305,
          11.224272078289513,
          11.184069281778859,
          11.141159585000613,
          11.09555605866409,
          11.047272594045186,
          10.996323898754953,
          10.942725492259529,
          10.88649370115275,
          10.82764565418292,
          10.766199277035216,
          10.702173286871366,
          10.635587186628205,
          10.5664612590769,
          10.494816560644626,
          10.420674915000555,
          10.344058906408183,
          10.26499187284592,
          10.183497898898132,
          10.099601808418733,
          10.013329156969597,
          9.924706224036102,
          9.83376000502213,
          9.740518203027007,
          9.645009220406873,
          9.547262150123053,
          9.44730676688005,
          9.345173518055892,
          9.240893514427555,
          9.13449852069433,
          9.026020945801978,
          8.915493833070656,
          8.802950850129605,
          8.688426278661655,
          8.5719550039607,
          8.453572504305297,
          8.333314840151639,
          8.211218643149188,
          8.087321104982323,
          7.96165996604139,
          7.8342735039266245,
          7.705200521788399,
          7.574480336507435,
          7.442152766718483,
          7.308258120681188,
          7.172837184001796,
          7.035931207209478,
          6.897581893190994,
          6.757831384487622,
          6.616722250458102,
          6.474297474311616,
          6.330600440014676,
          6.185674919075957,
          6.039565057213059,
          5.8923153609053065,
          5.743970683836629,
          5.594576213232716,
          5.444177456096525,
          5.292820225346426,
          5.140550625861136,
          4.987415040435729,
          4.833460115652981,
          4.678732747674376,
          4.523280067955081,
          4.367149428887236,
          4.21038838937598,
          4.053044700352522,
          3.8951662902287607,
          3.7368012502978236,
          3.577997820084992,
          3.418804372653467,
          3.2592693998694826,
          3.099441497631197,
          2.9393693510659222,
          2.7791017197001513,
          2.6186874226069476,
          2.458175323535172,
          2.2976143160251237,
          2.1370533085150734,
          1.976541209443302,
          1.8161269123500985,
          1.6558592809843256,
          1.4957871344190485,
          1.3359592321807652,
          1.1764242593967806,
          1.0172308119652573,
          0.858427381752422,
          0.7000623418214871,
          0.5421839316977259,
          0.3848402426742692,
          0.22807920316301145,
          0.07194856409516603,
          -0.08350411562413118,
          -0.23823148360273283,
          -0.39218640838548113,
          -0.5453219938108882,
          -0.6975915932961763,
          -0.8489488240462775,
          -0.9993475811824686,
          -1.148742051786384,
          -1.2970867288550574,
          -1.444336425162811,
          -1.5904462870257103,
          -1.7353718079644307,
          -1.879068842261368,
          -2.021493618407853,
          -2.162602752437374,
          -2.302353261140745,
          -2.44070257515923,
          -2.5776085519515477,
          -2.713029488630941,
          -2.846924134668235,
          -2.979251704457185,
          -3.109971889738151,
          -3.2390448718763776,
          -3.366431333991144,
          -3.492092472932073,
          -3.615990011098941,
          -3.7380862081013944,
          -3.8583438722550514,
          -3.9767263719104524,
          -4.093197646611406,
          -4.207722218079358,
          -4.32026520102041,
          -4.430792313751731,
          -4.539269888644082,
          -4.645664882377309,
          -4.749944886005643,
          -4.852078134829801,
          -4.952033518072804,
          -5.049780588356628,
          -5.145289570976759,
          -5.238531372971883,
          -5.329477591985857,
          -5.4181005249193515,
          -5.504373176368485,
          -5.588269266847886,
          -5.669763240795675,
          -5.748830274357935,
          -5.825446282950306,
          -5.899587928594377,
          -5.971232627026653,
          -6.040358554577958,
          -6.106944654821119,
          -6.170970644984969,
          -6.232417022132671,
          -6.2912650691025025,
          -6.347496860209279,
          -6.401095266704706,
          -6.452043961994939,
          -6.500327426613843,
          -6.545930952950362,
          -6.58884064972861,
          -6.629043446239265,
          -6.666527096321058,
          -6.701280182091065,
          -6.733292117422694,
          -6.762553151170341,
          -6.789054370139667,
          -6.81278770180265,
          -6.833745916756557,
          -6.8519226309260866,
          -6.867312307508023,
          -6.879910258657789,
          -6.889712646917433,
          -6.896716486384529,
          -6.900919643621725,
          -6.902320838306617,
          -6.900919643621725,
          -6.896716486384529,
          -6.889712646917433,
          -6.879910258657791,
          -6.867312307508023,
          -6.85192263092609,
          -6.833745916756557,
          -6.81278770180265,
          -6.789054370139667,
          -6.762553151170341,
          -6.733292117422694,
          -6.701280182091065,
          -6.666527096321058,
          -6.629043446239265,
          -6.588840649728612,
          -6.545930952950366,
          -6.500327426613845,
          -6.452043961994939,
          -6.401095266704706,
          -6.347496860209281,
          -6.2912650691025025,
          -6.2324170221326725,
          -6.170970644984969,
          -6.106944654821122,
          -6.040358554577958,
          -5.971232627026655,
          -5.899587928594379,
          -5.825446282950308,
          -5.748830274357935,
          -5.669763240795673,
          -5.588269266847886,
          -5.504373176368485,
          -5.4181005249193515,
          -5.329477591985858,
          -5.238531372971886,
          -5.145289570976763,
          -5.049780588356629,
          -4.952033518072808,
          -4.852078134829803,
          -4.749944886005645,
          -4.645664882377307,
          -4.539269888644082,
          -4.430792313751732,
          -4.320265201020408,
          -4.207722218079359,
          -4.0931976466114115,
          -3.9767263719104577,
          -3.8583438722550523,
          -3.7380862081013944,
          -3.615990011098942,
          -3.492092472932073,
          -3.366431333991143,
          -3.2390448718763767,
          -3.1099718897381528,
          -2.9792517044571905,
          -2.846924134668241,
          -2.7130294886309394,
          -2.5776085519515513,
          -2.4407025751592317,
          -2.3023532611407522,
          -2.162602752437372,
          -2.021493618407854,
          -1.8790688422613706,
          -1.7353718079644325,
          -1.5904462870257157,
          -1.4443364251628124,
          -1.2970867288550596,
          -1.1487420517863858,
          -0.9993475811824726,
          -0.8489488240462837,
          -0.697591593296178,
          -0.5453219938108909,
          -0.3921864083854856,
          -0.2382314836027315,
          -0.08350411562412896,
          0.07194856409516603,
          0.22807920316300745,
          0.384840242674263,
          0.5421839316977197,
          0.7000623418214869,
          0.858427381752422,
          1.017230811965261,
          1.1764242593967826,
          1.335959232180765,
          1.4957871344190483,
          1.6558592809843233,
          1.816126912350092,
          1.9765412094432937,
          2.1370533085150734,
          2.2976143160251215,
          2.45817532353517,
          2.6186874226069494,
          2.779101719700151,
          2.93936935106592,
          3.0994414976311946,
          3.259269399869478,
          3.4188043726534687,
          3.57799782008499,
          3.7368012502978214,
          3.8951662902287563,
          4.053044700352515,
          4.210388389375972,
          4.367149428887236,
          4.523280067955077,
          4.678732747674379,
          4.833460115652983,
          4.987415040435728,
          5.140550625861135,
          5.292820225346421,
          5.444177456096519,
          5.594576213232708,
          5.743970683836629,
          5.892315360905304,
          6.039565057213062,
          6.185674919075959,
          6.330600440014676,
          6.474297474311612,
          6.616722250458098,
          6.757831384487616,
          6.897581893190994,
          7.035931207209476,
          7.172837184001795,
          7.308258120681183,
          7.442152766718477,
          7.574480336507435,
          7.705200521788397,
          7.834273503926621,
          7.961659966041394,
          8.087321104982323,
          8.211218643149186,
          8.333314840151637,
          8.453572504305294,
          8.571955003960696,
          8.688426278661648,
          8.802950850129603,
          8.915493833070652,
          9.02602094580198,
          9.13449852069433,
          9.240893514427555,
          9.345173518055889,
          9.447306766880047,
          9.547262150123048,
          9.645009220406873,
          9.740518203027007,
          9.833760005022128,
          9.924706224036099,
          10.013329156969597,
          10.099601808418726,
          10.183497898898132,
          10.26499187284592,
          10.344058906408183,
          10.420674915000555,
          10.494816560644624,
          10.566461259076902,
          10.635587186628202,
          10.702173286871366,
          10.766199277035215,
          10.827645654182918,
          10.886493701152748,
          10.942725492259529,
          10.996323898754948,
          11.047272594045186,
          11.095556058664092,
          11.14115958500061,
          11.184069281778859,
          11.224272078289513,
          11.261755728371304,
          11.29650881414131,
          11.328520749472942,
          11.357781783220586,
          11.384283002189914,
          11.408016333852897,
          11.428974548806805,
          11.447151262976334,
          11.46254093955827,
          11.475138890708038,
          11.48494127896768,
          11.491945118434776,
          11.496148275671972,
          11.497549470356864
         ],
         "marker": {
          "color": "BlueViolet",
          "size": 1
         },
         "mode": "lines",
         "type": "scattermapbox"
        },
        {
         "lat": [
          48.86168126136162,
          48.96619968434347,
          49.07068627000119,
          49.175109190708596,
          49.27943663823248,
          49.38363683342169,
          49.48767803588734,
          49.59152855367132,
          49.695156752899855,
          49.79853106741962,
          49.90162000841299,
          50.00439217398989,
          50.10681625875312,
          50.208861063334254,
          50.31049550389728,
          50.41168862160705,
          50.512409592059626,
          50.61262773467171,
          50.71231252202623,
          50.81143358917128,
          50.9099607428696,
          51.00786397079573,
          51.105113450678026,
          51.20167955938284,
          51.297532881938004,
          51.39264422049292,
          51.48698460321249,
          51.58052529310225,
          51.6732377967619,
          51.76509387306472,
          51.856065541760024,
          51.946125091996265,
          52.03524509076201,
          52.123398391242326,
          52.210558141087915,
          52.296697790594635,
          52.3817911007908,
          52.46581215142981,
          52.5487353488857,
          52.63053543394924,
          52.711187489522096,
          52.79066694820685,
          52.868949599790454,
          52.946011598618895,
          53.0218294708608,
          53.096380121657845,
          53.16964084215959,
          53.24158931644088,
          53.31220362829947,
          53.381462267931916,
          53.44934413848566,
          53.51582856248533,
          53.58089528813136,
          53.64452449546877,
          53.70669680242463,
          53.76739327071197,
          53.826595411598554,
          53.88428519153878,
          53.94044503766681,
          53.995057843149496,
          54.04810697239723,
          54.09957626613134,
          54.149450046306384,
          54.19771312088576,
          54.24435078846942,
          54.289348842772036,
          54.33269357695036,
          54.374371787778465,
          54.414370779669596,
          54.45267836854334,
          54.48928288553702,
          54.52417318056019,
          54.557338625690974,
          54.58876911841351,
          54.61845508469524,
          54.646387481903275,
          54.67255780155881,
          54.69695807192899,
          54.71958086045506,
          54.74041927601651,
          54.75946697103008,
          54.77671814338335,
          54.79216753820211,
          54.80581044945103,
          54.817642721367186,
          54.827660749725936,
          54.83586148293878,
          54.842242422982956,
          54.8468016261623,
          54.84953770369937,
          54.850449822158424,
          54.84953770369937,
          54.8468016261623,
          54.842242422982956,
          54.83586148293878,
          54.827660749725936,
          54.81764272136719,
          54.80581044945103,
          54.79216753820211,
          54.77671814338335,
          54.75946697103008,
          54.74041927601651,
          54.71958086045507,
          54.69695807192899,
          54.67255780155881,
          54.646387481903275,
          54.61845508469524,
          54.58876911841351,
          54.557338625690974,
          54.52417318056019,
          54.48928288553702,
          54.45267836854334,
          54.414370779669596,
          54.374371787778465,
          54.33269357695036,
          54.289348842772036,
          54.24435078846942,
          54.19771312088576,
          54.149450046306384,
          54.09957626613134,
          54.04810697239723,
          53.995057843149496,
          53.94044503766681,
          53.88428519153878,
          53.826595411598554,
          53.76739327071197,
          53.70669680242463,
          53.64452449546877,
          53.58089528813136,
          53.51582856248534,
          53.44934413848566,
          53.38146226793191,
          53.31220362829947,
          53.24158931644088,
          53.16964084215959,
          53.096380121657845,
          53.0218294708608,
          52.946011598618895,
          52.868949599790454,
          52.79066694820685,
          52.711187489522096,
          52.63053543394924,
          52.5487353488857,
          52.46581215142981,
          52.3817911007908,
          52.296697790594635,
          52.210558141087915,
          52.123398391242326,
          52.03524509076201,
          51.946125091996265,
          51.856065541760024,
          51.76509387306472,
          51.67323779676191,
          51.58052529310225,
          51.48698460321249,
          51.39264422049292,
          51.297532881938004,
          51.20167955938284,
          51.105113450678026,
          51.00786397079573,
          50.9099607428696,
          50.81143358917128,
          50.71231252202623,
          50.61262773467171,
          50.512409592059626,
          50.41168862160705,
          50.31049550389728,
          50.20886106333425,
          50.10681625875312,
          50.00439217398989,
          49.90162000841299,
          49.798531067419624,
          49.69515675289986,
          49.59152855367132,
          49.48767803588735,
          49.38363683342169,
          49.27943663823248,
          49.175109190708596,
          49.07068627000118,
          48.966199684343465,
          48.86168126136162,
          48.75716283837977,
          48.652676252722046,
          48.54825333201464,
          48.44392588449075,
          48.33972568930155,
          48.23568448683589,
          48.13183396905192,
          48.02820576982338,
          47.92483145530362,
          47.821742514310245,
          47.71897034873334,
          47.616546263970115,
          47.51450145938898,
          47.41286701882596,
          47.311673901116194,
          47.21095293066361,
          47.11073478805152,
          47.011050000697004,
          46.911928933551955,
          46.813401779853635,
          46.7154985519275,
          46.61824907204521,
          46.521682963340396,
          46.42582964078523,
          46.33071830223032,
          46.23637791951075,
          46.14283722962099,
          46.050124725961325,
          45.958268649658514,
          45.86729698096321,
          45.77723743072697,
          45.688117431961224,
          45.59996413148091,
          45.51280438163533,
          45.4266647321286,
          45.341571421932436,
          45.257550371293426,
          45.174627173837536,
          45.092827088773994,
          45.01217503320114,
          44.93269557451639,
          44.85441292293278,
          44.77735092410435,
          44.70153305186243,
          44.62698240106539,
          44.553721680563655,
          44.48177320628236,
          44.411158894423764,
          44.34190025479133,
          44.27401838423758,
          44.207533960237896,
          44.14246723459188,
          44.07883802725446,
          44.016665720298604,
          43.95596925201127,
          43.89676711112468,
          43.839077331184455,
          43.78291748505642,
          43.72830467957374,
          43.67525555032601,
          43.62378625659189,
          43.57391247641685,
          43.52564940183748,
          43.47901173425382,
          43.4340136799512,
          43.39066894577287,
          43.34899073494477,
          43.30899174305364,
          43.2706841541799,
          43.23407963718621,
          43.199189342163045,
          43.16602389703226,
          43.134593404309726,
          43.10490743802799,
          43.07697504081996,
          43.050804721164425,
          43.02640445079425,
          43.003781662268175,
          42.982943246706725,
          42.963895551693156,
          42.94664437933989,
          42.93119498452113,
          42.917552073272205,
          42.90571980135604,
          42.8957017729973,
          42.88750103978445,
          42.88112009974028,
          42.87656089656093,
          42.873824819023866,
          42.87291270056481,
          42.873824819023866,
          42.87656089656093,
          42.88112009974028,
          42.88750103978445,
          42.8957017729973,
          42.90571980135604,
          42.917552073272205,
          42.93119498452113,
          42.94664437933989,
          42.963895551693156,
          42.982943246706725,
          43.00378166226817,
          43.026404450794246,
          43.050804721164425,
          43.07697504081997,
          43.10490743802799,
          43.134593404309726,
          43.16602389703226,
          43.199189342163045,
          43.23407963718621,
          43.2706841541799,
          43.30899174305364,
          43.34899073494476,
          43.39066894577287,
          43.4340136799512,
          43.47901173425382,
          43.52564940183748,
          43.57391247641685,
          43.62378625659189,
          43.67525555032601,
          43.72830467957374,
          43.78291748505642,
          43.839077331184455,
          43.896767111124674,
          43.955969252011265,
          44.016665720298604,
          44.07883802725446,
          44.14246723459188,
          44.2075339602379,
          44.27401838423758,
          44.34190025479132,
          44.411158894423764,
          44.481773206282355,
          44.55372168056365,
          44.62698240106539,
          44.70153305186243,
          44.77735092410435,
          44.85441292293278,
          44.93269557451639,
          45.01217503320114,
          45.092827088773994,
          45.17462717383753,
          45.257550371293426,
          45.34157142193243,
          45.4266647321286,
          45.51280438163532,
          45.59996413148091,
          45.68811743196122,
          45.77723743072697,
          45.86729698096321,
          45.958268649658514,
          46.05012472596133,
          46.14283722962099,
          46.23637791951075,
          46.330718302230316,
          46.42582964078523,
          46.52168296334039,
          46.61824907204521,
          46.7154985519275,
          46.813401779853635,
          46.911928933551955,
          47.011050000697004,
          47.11073478805152,
          47.21095293066361,
          47.31167390111619,
          47.412867018825956,
          47.51450145938898,
          47.61654626397011,
          47.71897034873334,
          47.82174251431024,
          47.92483145530361,
          48.02820576982337,
          48.13183396905192,
          48.23568448683589,
          48.339725689301545,
          48.44392588449075,
          48.54825333201463,
          48.652676252722046,
          48.75716283837976,
          48.86168126136162
         ],
         "lon": [
          12.019910009554286,
          12.018523556486421,
          12.014364619609868,
          12.00743446577708,
          11.997735205980053,
          11.985269794707282,
          11.97004202904379,
          11.95205654751452,
          11.93131882867137,
          11.907835189424393,
          11.88161278311759,
          11.85265959734995,
          11.820984451542332,
          11.786596994250989,
          11.749507700228536,
          11.709727867233223,
          11.667269612587534,
          11.622145869487138,
          11.574370383061309,
          11.523957706186021,
          11.470923195051009,
          11.415283004482122,
          11.357054083020406,
          11.296254167759415,
          11.232901778942319,
          11.16701621432046,
          11.098617543275068,
          11.027726600703941,
          10.954364980674917,
          10.878555029848128,
          10.800319840668987,
          10.719683244333995,
          10.636669803531541,
          10.551304804959864,
          10.463614251624474,
          10.3736248549174,
          10.281364026480624,
          10.186859869856239,
          10.090141171925834,
          9.99123739414173,
          9.89017866355275,
          9.786995763627205,
          9.681720124875966,
          9.57438381527843,
          9.465019530514285,
          9.35366058400411,
          9.240340896761767,
          9.125094987061743,
          9.007957959924548,
          8.888965496423376,
          8.768153842815318,
          8.64555979950039,
          8.52122070981178,
          8.395174448640713,
          8.267459410899372,
          8.138114499825459,
          8.007179115131878,
          7.874693141005212,
          7.740696933956594,
          7.605231310528744,
          7.468337534862842,
          7.330057306129078,
          7.190432745824673,
          7.049506384943266,
          6.907321151019572,
          6.763920355053221,
          6.619347678315818,
          6.473647159045207,
          6.326863179030985,
          6.1790404500954,
          6.030224000473671,
          5.8804591610979715,
          5.72979155178918,
          5.578267067360644,
          5.4259318636381675,
          5.272832343400511,
          5.119015142244649,
          4.9645271143801075,
          4.8094153183567405,
          4.653727002730215,
          4.497509591669657,
          4.3408106705117895,
          4.183677971265974,
          4.026159358074574,
          3.8683028126330914,
          3.7101564195744556,
          3.551768351821993,
          3.3931868559154763,
          3.2344602373147744,
          3.0756368456855308,
          2.9167650601713975,
          2.7578932746572624,
          2.5990698830280228,
          2.440343264427321,
          2.2817617685208025,
          2.1233737007683375,
          1.9652273077097036,
          1.807370762268221,
          1.6498521490768232,
          1.4927194498310037,
          1.336020528673138,
          1.17980311761258,
          1.0241148019860564,
          0.8690030059626883,
          0.7145149780981468,
          0.5606977769422818,
          0.4075982567046279,
          0.2552630529821518,
          0.10373856855361518,
          -0.04692904075517479,
          -0.1966938801308764,
          -0.3455103297526052,
          -0.4933330586881923,
          -0.6401170387024107,
          -0.7858175579730222,
          -0.9303902347104267,
          -1.0737910306767788,
          -1.2159762646004713,
          -1.3569026254818746,
          -1.4965271857862814,
          -1.6348074145200449,
          -1.7717011901859503,
          -1.9071668136137974,
          -2.041163020662417,
          -2.1736489947890836,
          -2.304584379482661,
          -2.4339292905565757,
          -2.5616443282979184,
          -2.687690589468987,
          -2.8120296791575936,
          -2.9346237224725233,
          -3.055435376080584,
          -3.1744278395817536,
          -3.291564866718948,
          -3.4068107764189697,
          -3.520130463661314,
          -3.631489410171491,
          -3.7408536949356352,
          -3.8481900045331714,
          -3.9534656432844106,
          -4.056648543209954,
          -4.157707273798934,
          -4.256611051583038,
          -4.3533297495134455,
          -4.447833906137831,
          -4.540094734574605,
          -4.630084131281681,
          -4.717774684617069,
          -4.803139683188748,
          -4.8861531239912,
          -4.966789720326192,
          -5.045024909505335,
          -5.120834860332122,
          -5.194196480361146,
          -5.265087422932275,
          -5.333486093977667,
          -5.399371658599524,
          -5.46272404741662,
          -5.523523962677611,
          -5.581752884139329,
          -5.637393074708214,
          -5.690427585843228,
          -5.740840262718516,
          -5.788615749144345,
          -5.833739492244739,
          -5.87619774689043,
          -5.915977579885743,
          -5.953066873908195,
          -5.9874543311995385,
          -6.019129477007157,
          -6.048082662774798,
          -6.074305069081598,
          -6.097788708328576,
          -6.118526427171727,
          -6.136511908700998,
          -6.151739674364489,
          -6.16420508563726,
          -6.173904345434288,
          -6.180834499267075,
          -6.184993436143628,
          -6.1863798892114925,
          -6.184993436143628,
          -6.180834499267075,
          -6.173904345434288,
          -6.164205085637262,
          -6.151739674364489,
          -6.136511908701001,
          -6.118526427171727,
          -6.097788708328576,
          -6.0743050690816,
          -6.048082662774798,
          -6.019129477007157,
          -5.9874543311995385,
          -5.953066873908195,
          -5.915977579885743,
          -5.87619774689043,
          -5.8337394922447405,
          -5.788615749144348,
          -5.740840262718516,
          -5.690427585843228,
          -5.637393074708216,
          -5.581752884139329,
          -5.523523962677613,
          -5.462724047416621,
          -5.399371658599529,
          -5.333486093977667,
          -5.265087422932277,
          -5.19419648036115,
          -5.120834860332124,
          -5.045024909505335,
          -4.96678972032619,
          -4.8861531239912,
          -4.803139683188748,
          -4.717774684617069,
          -4.6300841312816825,
          -4.540094734574609,
          -4.4478339061378325,
          -4.3533297495134455,
          -4.2566110515830395,
          -4.157707273798938,
          -4.056648543209956,
          -3.953465643284409,
          -3.8481900045331723,
          -3.740853694935637,
          -3.6314894101714903,
          -3.520130463661316,
          -3.406810776418976,
          -3.291564866718953,
          -3.1744278395817553,
          -3.055435376080584,
          -2.934623722472525,
          -2.8120296791575936,
          -2.687690589468986,
          -2.5616443282979175,
          -2.4339292905565775,
          -2.3045843794826664,
          -2.17364899478909,
          -2.0411630206624163,
          -1.9071668136138,
          -1.7717011901859512,
          -1.634807414520052,
          -1.4965271857862805,
          -1.3569026254818755,
          -1.215976264600474,
          -1.0737910306767806,
          -0.930390234710432,
          -0.7858175579730236,
          -0.6401170387024124,
          -0.49333305868819455,
          -0.3455103297526092,
          -0.19669388013088218,
          -0.04692904075517612,
          0.10373856855361252,
          0.25526305298214735,
          0.40759825670462924,
          0.5606977769422845,
          0.7145149780981468,
          0.8690030059626843,
          1.0241148019860502,
          1.179803117612574,
          1.3360205286731375,
          1.4927194498310037,
          1.649852149076827,
          1.8073707622682227,
          1.9652273077097036,
          2.1233737007683375,
          2.2817617685208003,
          2.4403432644273146,
          2.5990698830280143,
          2.7578932746572624,
          2.9167650601713953,
          3.0756368456855285,
          3.234460237314776,
          3.393186855915476,
          3.5517683518219907,
          3.710156419574453,
          3.868302812633087,
          4.026159358074576,
          4.183677971265972,
          4.340810670511788,
          4.497509591669653,
          4.653727002730209,
          4.8094153183567325,
          4.9645271143801075,
          5.119015142244644,
          5.272832343400514,
          5.425931863638169,
          5.578267067360644,
          5.729791551789178,
          5.880459161097968,
          6.030224000473665,
          6.179040450095393,
          6.326863179030985,
          6.473647159045203,
          6.619347678315822,
          6.763920355053223,
          6.907321151019572,
          7.049506384943264,
          7.190432745824667,
          7.330057306129072,
          7.468337534862842,
          7.605231310528742,
          7.74069693395659,
          7.874693141005206,
          8.007179115131875,
          8.138114499825457,
          8.267459410899368,
          8.39517444864071,
          8.521220709811784,
          8.64555979950039,
          8.768153842815316,
          8.888965496423374,
          9.007957959924545,
          9.12509498706174,
          9.24034089676176,
          9.353660584004107,
          9.465019530514281,
          9.574383815278432,
          9.681720124875966,
          9.786995763627203,
          9.890178663552748,
          9.991237394141729,
          10.09014117192583,
          10.186859869856239,
          10.281364026480624,
          10.373624854917399,
          10.463614251624472,
          10.551304804959864,
          10.636669803531534,
          10.719683244333995,
          10.800319840668985,
          10.878555029848128,
          10.954364980674917,
          11.02772660070394,
          11.09861754327507,
          11.167016214320457,
          11.232901778942319,
          11.296254167759413,
          11.357054083020405,
          11.41528300448212,
          11.470923195051009,
          11.523957706186017,
          11.574370383061309,
          11.622145869487142,
          11.667269612587532,
          11.709727867233223,
          11.749507700228536,
          11.786596994250989,
          11.82098445154233,
          11.85265959734995,
          11.881612783117589,
          11.907835189424391,
          11.931318828671369,
          11.95205654751452,
          11.97004202904379,
          11.985269794707282,
          11.997735205980055,
          12.00743446577708,
          12.014364619609868,
          12.018523556486421,
          12.019910009554286
         ],
         "marker": {
          "color": "BlueViolet",
          "size": 1
         },
         "mode": "lines",
         "type": "scattermapbox"
        }
       ],
       "layout": {
        "height": 500,
        "legend": {
         "tracegroupgap": 0
        },
        "mapbox": {
         "center": {
          "lat": 48.97780816540029,
          "lon": 2.234484546509202
         },
         "domain": {
          "x": [
           0,
           1
          ],
          "y": [
           0,
           1
          ]
         },
         "style": "open-street-map",
         "zoom": 9
        },
        "margin": {
         "b": 0,
         "l": 0,
         "r": 0,
         "t": 0
        },
        "template": {
         "data": {
          "bar": [
           {
            "error_x": {
             "color": "#2a3f5f"
            },
            "error_y": {
             "color": "#2a3f5f"
            },
            "marker": {
             "line": {
              "color": "#E5ECF6",
              "width": 0.5
             },
             "pattern": {
              "fillmode": "overlay",
              "size": 10,
              "solidity": 0.2
             }
            },
            "type": "bar"
           }
          ],
          "barpolar": [
           {
            "marker": {
             "line": {
              "color": "#E5ECF6",
              "width": 0.5
             },
             "pattern": {
              "fillmode": "overlay",
              "size": 10,
              "solidity": 0.2
             }
            },
            "type": "barpolar"
           }
          ],
          "carpet": [
           {
            "aaxis": {
             "endlinecolor": "#2a3f5f",
             "gridcolor": "white",
             "linecolor": "white",
             "minorgridcolor": "white",
             "startlinecolor": "#2a3f5f"
            },
            "baxis": {
             "endlinecolor": "#2a3f5f",
             "gridcolor": "white",
             "linecolor": "white",
             "minorgridcolor": "white",
             "startlinecolor": "#2a3f5f"
            },
            "type": "carpet"
           }
          ],
          "choropleth": [
           {
            "colorbar": {
             "outlinewidth": 0,
             "ticks": ""
            },
            "type": "choropleth"
           }
          ],
          "contour": [
           {
            "colorbar": {
             "outlinewidth": 0,
             "ticks": ""
            },
            "colorscale": [
             [
              0,
              "#0d0887"
             ],
             [
              0.1111111111111111,
              "#46039f"
             ],
             [
              0.2222222222222222,
              "#7201a8"
             ],
             [
              0.3333333333333333,
              "#9c179e"
             ],
             [
              0.4444444444444444,
              "#bd3786"
             ],
             [
              0.5555555555555556,
              "#d8576b"
             ],
             [
              0.6666666666666666,
              "#ed7953"
             ],
             [
              0.7777777777777778,
              "#fb9f3a"
             ],
             [
              0.8888888888888888,
              "#fdca26"
             ],
             [
              1,
              "#f0f921"
             ]
            ],
            "type": "contour"
           }
          ],
          "contourcarpet": [
           {
            "colorbar": {
             "outlinewidth": 0,
             "ticks": ""
            },
            "type": "contourcarpet"
           }
          ],
          "heatmap": [
           {
            "colorbar": {
             "outlinewidth": 0,
             "ticks": ""
            },
            "colorscale": [
             [
              0,
              "#0d0887"
             ],
             [
              0.1111111111111111,
              "#46039f"
             ],
             [
              0.2222222222222222,
              "#7201a8"
             ],
             [
              0.3333333333333333,
              "#9c179e"
             ],
             [
              0.4444444444444444,
              "#bd3786"
             ],
             [
              0.5555555555555556,
              "#d8576b"
             ],
             [
              0.6666666666666666,
              "#ed7953"
             ],
             [
              0.7777777777777778,
              "#fb9f3a"
             ],
             [
              0.8888888888888888,
              "#fdca26"
             ],
             [
              1,
              "#f0f921"
             ]
            ],
            "type": "heatmap"
           }
          ],
          "heatmapgl": [
           {
            "colorbar": {
             "outlinewidth": 0,
             "ticks": ""
            },
            "colorscale": [
             [
              0,
              "#0d0887"
             ],
             [
              0.1111111111111111,
              "#46039f"
             ],
             [
              0.2222222222222222,
              "#7201a8"
             ],
             [
              0.3333333333333333,
              "#9c179e"
             ],
             [
              0.4444444444444444,
              "#bd3786"
             ],
             [
              0.5555555555555556,
              "#d8576b"
             ],
             [
              0.6666666666666666,
              "#ed7953"
             ],
             [
              0.7777777777777778,
              "#fb9f3a"
             ],
             [
              0.8888888888888888,
              "#fdca26"
             ],
             [
              1,
              "#f0f921"
             ]
            ],
            "type": "heatmapgl"
           }
          ],
          "histogram": [
           {
            "marker": {
             "pattern": {
              "fillmode": "overlay",
              "size": 10,
              "solidity": 0.2
             }
            },
            "type": "histogram"
           }
          ],
          "histogram2d": [
           {
            "colorbar": {
             "outlinewidth": 0,
             "ticks": ""
            },
            "colorscale": [
             [
              0,
              "#0d0887"
             ],
             [
              0.1111111111111111,
              "#46039f"
             ],
             [
              0.2222222222222222,
              "#7201a8"
             ],
             [
              0.3333333333333333,
              "#9c179e"
             ],
             [
              0.4444444444444444,
              "#bd3786"
             ],
             [
              0.5555555555555556,
              "#d8576b"
             ],
             [
              0.6666666666666666,
              "#ed7953"
             ],
             [
              0.7777777777777778,
              "#fb9f3a"
             ],
             [
              0.8888888888888888,
              "#fdca26"
             ],
             [
              1,
              "#f0f921"
             ]
            ],
            "type": "histogram2d"
           }
          ],
          "histogram2dcontour": [
           {
            "colorbar": {
             "outlinewidth": 0,
             "ticks": ""
            },
            "colorscale": [
             [
              0,
              "#0d0887"
             ],
             [
              0.1111111111111111,
              "#46039f"
             ],
             [
              0.2222222222222222,
              "#7201a8"
             ],
             [
              0.3333333333333333,
              "#9c179e"
             ],
             [
              0.4444444444444444,
              "#bd3786"
             ],
             [
              0.5555555555555556,
              "#d8576b"
             ],
             [
              0.6666666666666666,
              "#ed7953"
             ],
             [
              0.7777777777777778,
              "#fb9f3a"
             ],
             [
              0.8888888888888888,
              "#fdca26"
             ],
             [
              1,
              "#f0f921"
             ]
            ],
            "type": "histogram2dcontour"
           }
          ],
          "mesh3d": [
           {
            "colorbar": {
             "outlinewidth": 0,
             "ticks": ""
            },
            "type": "mesh3d"
           }
          ],
          "parcoords": [
           {
            "line": {
             "colorbar": {
              "outlinewidth": 0,
              "ticks": ""
             }
            },
            "type": "parcoords"
           }
          ],
          "pie": [
           {
            "automargin": true,
            "type": "pie"
           }
          ],
          "scatter": [
           {
            "fillpattern": {
             "fillmode": "overlay",
             "size": 10,
             "solidity": 0.2
            },
            "type": "scatter"
           }
          ],
          "scatter3d": [
           {
            "line": {
             "colorbar": {
              "outlinewidth": 0,
              "ticks": ""
             }
            },
            "marker": {
             "colorbar": {
              "outlinewidth": 0,
              "ticks": ""
             }
            },
            "type": "scatter3d"
           }
          ],
          "scattercarpet": [
           {
            "marker": {
             "colorbar": {
              "outlinewidth": 0,
              "ticks": ""
             }
            },
            "type": "scattercarpet"
           }
          ],
          "scattergeo": [
           {
            "marker": {
             "colorbar": {
              "outlinewidth": 0,
              "ticks": ""
             }
            },
            "type": "scattergeo"
           }
          ],
          "scattergl": [
           {
            "marker": {
             "colorbar": {
              "outlinewidth": 0,
              "ticks": ""
             }
            },
            "type": "scattergl"
           }
          ],
          "scattermapbox": [
           {
            "marker": {
             "colorbar": {
              "outlinewidth": 0,
              "ticks": ""
             }
            },
            "type": "scattermapbox"
           }
          ],
          "scatterpolar": [
           {
            "marker": {
             "colorbar": {
              "outlinewidth": 0,
              "ticks": ""
             }
            },
            "type": "scatterpolar"
           }
          ],
          "scatterpolargl": [
           {
            "marker": {
             "colorbar": {
              "outlinewidth": 0,
              "ticks": ""
             }
            },
            "type": "scatterpolargl"
           }
          ],
          "scatterternary": [
           {
            "marker": {
             "colorbar": {
              "outlinewidth": 0,
              "ticks": ""
             }
            },
            "type": "scatterternary"
           }
          ],
          "surface": [
           {
            "colorbar": {
             "outlinewidth": 0,
             "ticks": ""
            },
            "colorscale": [
             [
              0,
              "#0d0887"
             ],
             [
              0.1111111111111111,
              "#46039f"
             ],
             [
              0.2222222222222222,
              "#7201a8"
             ],
             [
              0.3333333333333333,
              "#9c179e"
             ],
             [
              0.4444444444444444,
              "#bd3786"
             ],
             [
              0.5555555555555556,
              "#d8576b"
             ],
             [
              0.6666666666666666,
              "#ed7953"
             ],
             [
              0.7777777777777778,
              "#fb9f3a"
             ],
             [
              0.8888888888888888,
              "#fdca26"
             ],
             [
              1,
              "#f0f921"
             ]
            ],
            "type": "surface"
           }
          ],
          "table": [
           {
            "cells": {
             "fill": {
              "color": "#EBF0F8"
             },
             "line": {
              "color": "white"
             }
            },
            "header": {
             "fill": {
              "color": "#C8D4E3"
             },
             "line": {
              "color": "white"
             }
            },
            "type": "table"
           }
          ]
         },
         "layout": {
          "annotationdefaults": {
           "arrowcolor": "#2a3f5f",
           "arrowhead": 0,
           "arrowwidth": 1
          },
          "autotypenumbers": "strict",
          "coloraxis": {
           "colorbar": {
            "outlinewidth": 0,
            "ticks": ""
           }
          },
          "colorscale": {
           "diverging": [
            [
             0,
             "#8e0152"
            ],
            [
             0.1,
             "#c51b7d"
            ],
            [
             0.2,
             "#de77ae"
            ],
            [
             0.3,
             "#f1b6da"
            ],
            [
             0.4,
             "#fde0ef"
            ],
            [
             0.5,
             "#f7f7f7"
            ],
            [
             0.6,
             "#e6f5d0"
            ],
            [
             0.7,
             "#b8e186"
            ],
            [
             0.8,
             "#7fbc41"
            ],
            [
             0.9,
             "#4d9221"
            ],
            [
             1,
             "#276419"
            ]
           ],
           "sequential": [
            [
             0,
             "#0d0887"
            ],
            [
             0.1111111111111111,
             "#46039f"
            ],
            [
             0.2222222222222222,
             "#7201a8"
            ],
            [
             0.3333333333333333,
             "#9c179e"
            ],
            [
             0.4444444444444444,
             "#bd3786"
            ],
            [
             0.5555555555555556,
             "#d8576b"
            ],
            [
             0.6666666666666666,
             "#ed7953"
            ],
            [
             0.7777777777777778,
             "#fb9f3a"
            ],
            [
             0.8888888888888888,
             "#fdca26"
            ],
            [
             1,
             "#f0f921"
            ]
           ],
           "sequentialminus": [
            [
             0,
             "#0d0887"
            ],
            [
             0.1111111111111111,
             "#46039f"
            ],
            [
             0.2222222222222222,
             "#7201a8"
            ],
            [
             0.3333333333333333,
             "#9c179e"
            ],
            [
             0.4444444444444444,
             "#bd3786"
            ],
            [
             0.5555555555555556,
             "#d8576b"
            ],
            [
             0.6666666666666666,
             "#ed7953"
            ],
            [
             0.7777777777777778,
             "#fb9f3a"
            ],
            [
             0.8888888888888888,
             "#fdca26"
            ],
            [
             1,
             "#f0f921"
            ]
           ]
          },
          "colorway": [
           "#636efa",
           "#EF553B",
           "#00cc96",
           "#ab63fa",
           "#FFA15A",
           "#19d3f3",
           "#FF6692",
           "#B6E880",
           "#FF97FF",
           "#FECB52"
          ],
          "font": {
           "color": "#2a3f5f"
          },
          "geo": {
           "bgcolor": "white",
           "lakecolor": "white",
           "landcolor": "#E5ECF6",
           "showlakes": true,
           "showland": true,
           "subunitcolor": "white"
          },
          "hoverlabel": {
           "align": "left"
          },
          "hovermode": "closest",
          "mapbox": {
           "style": "light"
          },
          "paper_bgcolor": "white",
          "plot_bgcolor": "#E5ECF6",
          "polar": {
           "angularaxis": {
            "gridcolor": "white",
            "linecolor": "white",
            "ticks": ""
           },
           "bgcolor": "#E5ECF6",
           "radialaxis": {
            "gridcolor": "white",
            "linecolor": "white",
            "ticks": ""
           }
          },
          "scene": {
           "xaxis": {
            "backgroundcolor": "#E5ECF6",
            "gridcolor": "white",
            "gridwidth": 2,
            "linecolor": "white",
            "showbackground": true,
            "ticks": "",
            "zerolinecolor": "white"
           },
           "yaxis": {
            "backgroundcolor": "#E5ECF6",
            "gridcolor": "white",
            "gridwidth": 2,
            "linecolor": "white",
            "showbackground": true,
            "ticks": "",
            "zerolinecolor": "white"
           },
           "zaxis": {
            "backgroundcolor": "#E5ECF6",
            "gridcolor": "white",
            "gridwidth": 2,
            "linecolor": "white",
            "showbackground": true,
            "ticks": "",
            "zerolinecolor": "white"
           }
          },
          "shapedefaults": {
           "line": {
            "color": "#2a3f5f"
           }
          },
          "ternary": {
           "aaxis": {
            "gridcolor": "white",
            "linecolor": "white",
            "ticks": ""
           },
           "baxis": {
            "gridcolor": "white",
            "linecolor": "white",
            "ticks": ""
           },
           "bgcolor": "#E5ECF6",
           "caxis": {
            "gridcolor": "white",
            "linecolor": "white",
            "ticks": ""
           }
          },
          "title": {
           "x": 0.05
          },
          "xaxis": {
           "automargin": true,
           "gridcolor": "white",
           "linecolor": "white",
           "ticks": "",
           "title": {
            "standoff": 15
           },
           "zerolinecolor": "white",
           "zerolinewidth": 2
          },
          "yaxis": {
           "automargin": true,
           "gridcolor": "white",
           "linecolor": "white",
           "ticks": "",
           "title": {
            "standoff": 15
           },
           "zerolinecolor": "white",
           "zerolinewidth": 2
          }
         }
        },
        "width": 500
       }
      }
     },
     "metadata": {},
     "output_type": "display_data"
    }
   ],
   "source": [
    "import numpy as np\n",
    "import pandas as pd\n",
    "import plotly.graph_objects as go\n",
    "import plotly.express as px\n",
    "from math import radians, cos, sin, asin, sqrt, pi\n",
    "from analysis.helpers import rtt_to_km\n",
    "\n",
    "probe_circles = {}\n",
    "probe_circles[\"a\"] = (48.68559000514443, 1.4890742633310852, 5, None, None)\n",
    "probe_circles[\"b\"] = (49.386153229694834, 2.2976143160251232, 5, None, None)\n",
    "probe_circles[\"c\"] = (48.86168126136162, 2.916765060171397, 5, None, None)\n",
    "\n",
    "test_circles = {}\n",
    "for key, (lat, lon, rtt, _, _) in probe_circles.items():\n",
    "    d = rtt_to_km(rtt,  4/9)\n",
    "    r = d / 2\n",
    "    test_circles[key] = (lat, lon, d)\n",
    "\n",
    "df_circles = pd.DataFrame({\n",
    "    'Latitude': np.array([lat_long[0] for lat_long in test_circles.values()]),\n",
    "    'Longitude': np.array([lat_long[1] for lat_long in test_circles.values()]),\n",
    "    'Radius': np.array([lat_long[2] for lat_long in test_circles.values()]),\n",
    "})\n",
    "\n",
    "fig_map3 = px.scatter_mapbox(df_circles['Radius'], lon=df_circles['Longitude'], lat=df_circles['Latitude'],\n",
    "                             hover_name='Radius', zoom=9, width=300, height=500)\n",
    "\n",
    "# # parameters\n",
    "N = 360 # number of discrete sample points to be generated along the circle\n",
    "\n",
    "# generate points\n",
    "circles = []\n",
    "for i, (index, row) in enumerate(df_circles.iterrows()):\n",
    "    circle_lats, circle_lons = [], []\n",
    "\n",
    "    lat = df_circles['Latitude'][i]\n",
    "    lon = df_circles['Longitude'][i]\n",
    "    r = df_circles['Radius'][i]\n",
    "\n",
    "    print(lat, lon, r)\n",
    "\n",
    "    for k in range(N):\n",
    "        # compute\n",
    "        angle = pi*2*k/N\n",
    "        dx = r*1000*cos(angle)\n",
    "        dy = r*1000*sin(angle)\n",
    "        circle_lats.append(lat + (180/pi)*(dy/6378137))\n",
    "        circle_lons.append(lon + (180/pi)*(dx/6378137)/cos(lat*pi/180))\n",
    "\n",
    "    circle_lats.append(circle_lats[0])\n",
    "    circle_lons.append(circle_lons[0])\n",
    "\n",
    "    fig_map3.add_trace(go.Scattermapbox(\n",
    "        lat=circle_lats,\n",
    "        lon=circle_lons,\n",
    "        mode='lines',\n",
    "        marker=go.scattermapbox.Marker(\n",
    "            size=1, color=\"BlueViolet\"\n",
    "        ),\n",
    "    ))\n",
    "\n",
    "fig_map3.update_layout(mapbox_style='open-street-map', margin={'r':0, 't':0, 'l':0, 'b':0}, width=500)\n",
    "\n",
    "fig_map3.show()"
   ]
  },
  {
   "cell_type": "code",
   "execution_count": 4,
   "metadata": {},
   "outputs": [],
   "source": [
    "def polygon_area(points):\n",
    "    poly_area = 0\n",
    "\n",
    "    count = len(points)\n",
    "    j = count - 1\n",
    "\n",
    "    if count < 3:\n",
    "        return None\n",
    "\n",
    "    for i in range(0, count):\n",
    "        p1_x, p1_y = points[i]\n",
    "        p2_x, p2_y = points[j]\n",
    "\n",
    "        poly_area += p1_x * p2_y\n",
    "        poly_area -= p1_y * p2_x\n",
    "        j = i\n",
    "\n",
    "    poly_area /= 2\n",
    "    if np.isnan(poly_area):\n",
    "        return None\n",
    "\n",
    "    return abs(poly_area)\n",
    "\n",
    "\n",
    "def polygon_centroid(points):\n",
    "    f_total = 0\n",
    "    x_total = 0\n",
    "    y_total = 0\n",
    "\n",
    "    count = len(points)\n",
    "    j = count - 1\n",
    "\n",
    "    if count < 3:\n",
    "        return None\n",
    "\n",
    "    for i in range(0, count):\n",
    "        p1_x, p1_y = points[i]\n",
    "        p2_x, p2_y = points[j]\n",
    "\n",
    "        f_total = p1_x * p2_y - p2_x * p1_y\n",
    "        x_total += (p1_x + p2_x) * f_total\n",
    "        y_total += (p1_y + p2_y) * f_total\n",
    "        j = i\n",
    "\n",
    "    six_area = polygon_area(points) * 6\n",
    "    if six_area is None:\n",
    "        return None\n",
    "\n",
    "    print(six_area)\n",
    "\n",
    "    return x_total / six_area, y_total / six_area, six_area"
   ]
  },
  {
   "cell_type": "code",
   "execution_count": 9,
   "metadata": {},
   "outputs": [
    {
     "ename": "TypeError",
     "evalue": "'numpy.float64' object is not callable",
     "output_type": "error",
     "traceback": [
      "\u001b[0;31m---------------------------------------------------------------------------\u001b[0m",
      "\u001b[0;31mTypeError\u001b[0m                                 Traceback (most recent call last)",
      "Cell \u001b[0;32mIn[9], line 24\u001b[0m\n\u001b[1;32m     18\u001b[0m \u001b[39m# CONCLUSION: if we take one working example and use it for calculation\u001b[39;00m\n\u001b[1;32m     19\u001b[0m \u001b[39m# results differs from reality\u001b[39;00m\n\u001b[1;32m     20\u001b[0m \u001b[39m# noethless, program seems to work otherwise\u001b[39;00m\n\u001b[1;32m     22\u001b[0m intersections \u001b[39m=\u001b[39m circle_intersections(probe_circles\u001b[39m.\u001b[39mvalues(), speed_threshold\u001b[39m=\u001b[39m\u001b[39m4\u001b[39m\u001b[39m/\u001b[39m\u001b[39m9\u001b[39m)\n\u001b[0;32m---> 24\u001b[0m centroid_x, centroid_y, polygon_area \u001b[39m=\u001b[39m polygon_centroid(intersections)\n\u001b[1;32m     26\u001b[0m \u001b[39mprint\u001b[39m(\u001b[39m\"\u001b[39m\u001b[39mintersecion:\u001b[39m\u001b[39m\"\u001b[39m, intersections)\n\u001b[1;32m     27\u001b[0m \u001b[39mprint\u001b[39m(\u001b[39m\"\u001b[39m\u001b[39mcentroid:\u001b[39m\u001b[39m\"\u001b[39m, centroid_x, centroid_y)\n",
      "Cell \u001b[0;32mIn[4], line 45\u001b[0m, in \u001b[0;36mpolygon_centroid\u001b[0;34m(points)\u001b[0m\n\u001b[1;32m     42\u001b[0m     y_total \u001b[39m+\u001b[39m\u001b[39m=\u001b[39m (p1_y \u001b[39m+\u001b[39m p2_y) \u001b[39m*\u001b[39m f_total\n\u001b[1;32m     43\u001b[0m     j \u001b[39m=\u001b[39m i\n\u001b[0;32m---> 45\u001b[0m six_area \u001b[39m=\u001b[39m polygon_area(points) \u001b[39m*\u001b[39m \u001b[39m6\u001b[39m\n\u001b[1;32m     46\u001b[0m \u001b[39mif\u001b[39;00m six_area \u001b[39mis\u001b[39;00m \u001b[39mNone\u001b[39;00m:\n\u001b[1;32m     47\u001b[0m     \u001b[39mreturn\u001b[39;00m \u001b[39mNone\u001b[39;00m\n",
      "\u001b[0;31mTypeError\u001b[0m: 'numpy.float64' object is not callable"
     ]
    }
   ],
   "source": [
    "import numpy as np\n",
    "import pandas as pd\n",
    "import plotly.graph_objects as go\n",
    "import plotly.express as px\n",
    "from math import radians, cos, sin, asin, sqrt, pi\n",
    "from utils.helpers import circle_intersections, rtt_to_km\n",
    "\n",
    "probe_circles = {}\n",
    "probe_circles[\"a\"] = (48.68559000514443, 1.4890742633310852, 4.5, None, None)\n",
    "probe_circles[\"b\"] = (49.386153229694834, 2.2976143160251232, 4.5, None, None)\n",
    "probe_circles[\"c\"] = (48.86168126136162, 2.916765060171397, 4.5, None, None)\n",
    "\n",
    "test_circles = {}\n",
    "for key, (lat, lon, rtt, _, _) in probe_circles.items():\n",
    "    d = rtt_to_km(rtt,  4/9)\n",
    "    test_circles[key] = (lat, lon, d)\n",
    "\n",
    "# CONCLUSION: if we take one working example and use it for calculation\n",
    "# results differs from reality\n",
    "# noethless, program seems to work otherwise\n",
    "\n",
    "intersections = circle_intersections(probe_circles.values(), speed_threshold=4/9)\n",
    "\n",
    "centroid = polygon_centroid(intersections)\n",
    "\n",
    "print(\"intersecion:\", intersections)\n",
    "print(\"centroid:\", centroid)\n",
    "print(\"polygon:\")\n",
    "\n",
    "df_circles = pd.DataFrame({\n",
    "    'Latitude': np.array([lat_long[0] for lat_long in test_circles.values()]),\n",
    "    'Longitude': np.array([lat_long[1] for lat_long in test_circles.values()]),\n",
    "    'Radius': np.array([lat_long[2] for lat_long in test_circles.values()]),\n",
    "})\n",
    "\n",
    "fig_map3 = px.scatter_mapbox(df_circles['Radius'], lon=df_circles['Longitude'], lat=df_circles['Latitude'],\n",
    "                             hover_name='Radius', zoom=9, width=300, height=500)\n",
    "\n",
    "# # parameters\n",
    "N = 360 # number of discrete sample points to be generated along the circle\n",
    "\n",
    "# generate points\n",
    "circles = []\n",
    "for i, (index, row) in enumerate(df_circles.iterrows()):\n",
    "    circle_lats, circle_lons = [], []\n",
    "\n",
    "    lat = df_circles['Latitude'][i]\n",
    "    lon = df_circles['Longitude'][i]\n",
    "    r = df_circles['Radius'][i]\n",
    "\n",
    "    print(lat, lon, r)\n",
    "\n",
    "    for k in range(N):\n",
    "        # compute\n",
    "        angle = pi*2*k/N\n",
    "        dx = r*1000*cos(angle)\n",
    "        dy = r*1000*sin(angle)\n",
    "        circle_lats.append(lat + (180/pi)*(dy/6378137))\n",
    "        circle_lons.append(lon + (180/pi)*(dx/6378137)/cos(lat*pi/180))\n",
    "\n",
    "    circle_lats.append(circle_lats[0])\n",
    "    circle_lons.append(circle_lons[0])\n",
    "\n",
    "    fig_map3.add_trace(go.Scattermapbox(\n",
    "        lat=circle_lats,\n",
    "        lon=circle_lons,\n",
    "        mode='lines',\n",
    "        marker=go.scattermapbox.Marker(\n",
    "            size=1, color=\"BlueViolet\"\n",
    "        ),\n",
    "    ))\n",
    "\n",
    "# add calculated intersections\n",
    "print(\"calculated intersections:\")\n",
    "for lat, lon in intersections:\n",
    "    print(lat, lon)\n",
    "    fig_map3.add_trace(go.Scattermapbox(\n",
    "        lat=[lat],\n",
    "        lon=[lon],\n",
    "        marker=go.scattermapbox.Marker(\n",
    "            size=10, color=\"Red\"\n",
    "        ),\n",
    "    ))\n",
    "\n",
    "    print(lat, lon)\n",
    "\n",
    "fig_map3.update_layout(mapbox_style='open-street-map', margin={'r':0, 't':0, 'l':0, 'b':0}, width=500)\n",
    "\n",
    "fig_map3.show()"
   ]
  },
  {
   "cell_type": "code",
   "execution_count": 1,
   "metadata": {},
   "outputs": [
    {
     "name": "stdout",
     "output_type": "stream",
     "text": [
      "a (48.68559000514443, 1.4890742633310852, 6, None, None)\n",
      "b (49.386153229694834, 2.2976143160251232, 6, None, None)\n",
      "c (48.86168126136162, 2.916765060171397, 6, None, None)\n",
      "intersecion: [(46.80516379449255, 6.051286722446926), (46.85777327653742, -1.5374828427557328), (52.27563699722426, 1.1302907170221195)]\n"
     ]
    },
    {
     "ename": "NameError",
     "evalue": "name 'print_circles' is not defined",
     "output_type": "error",
     "traceback": [
      "\u001b[0;31m---------------------------------------------------------------------------\u001b[0m",
      "\u001b[0;31mNameError\u001b[0m                                 Traceback (most recent call last)",
      "Cell \u001b[0;32mIn[1], line 26\u001b[0m\n\u001b[1;32m     24\u001b[0m \u001b[39mfor\u001b[39;00m i, intersection \u001b[39min\u001b[39;00m \u001b[39menumerate\u001b[39m(intersections):\n\u001b[1;32m     25\u001b[0m     test[\u001b[39mstr\u001b[39m(i)] \u001b[39m=\u001b[39m (intersection[\u001b[39m0\u001b[39m], intersection[\u001b[39m1\u001b[39m], \u001b[39m10\u001b[39m)\n\u001b[0;32m---> 26\u001b[0m print_circles(test)\n",
      "\u001b[0;31mNameError\u001b[0m: name 'print_circles' is not defined"
     ]
    }
   ],
   "source": [
    "from analysis.helpers import rtt_to_km, circle_intersections, polygon_centroid, haversine, circle_preprocessing\n",
    "\n",
    "\n",
    "probe_circles = {}\n",
    "probe_circles[\"a\"] = (48.68559000514443, 1.4890742633310852, 6, None, None)\n",
    "probe_circles[\"b\"] = (49.386153229694834, 2.2976143160251232, 6, None, None)\n",
    "probe_circles[\"c\"] = (48.86168126136162, 2.916765060171397, 6, None, None)\n",
    "\n",
    "test = {}\n",
    "for key, (lat, lon, rtt, _, _) in probe_circles.items():\n",
    "    d = rtt_to_km(rtt,  4/9)\n",
    "    r = d / 2\n",
    "    test[key] = (lat, lon, d)\n",
    "# CONCLUSION: if we take one working example and use it for calculation\n",
    "# results differs from reality\n",
    "# noethless, program seems to work otherwise\n",
    "\n",
    "for ip, circle in probe_circles.items():\n",
    "    print(ip, circle)\n",
    "\n",
    "intersections = circle_intersections(probe_circles.values(), speed_threshold=4/9)\n",
    "print(\"intersecion:\", intersections)\n",
    "\n",
    "for i, intersection in enumerate(intersections):\n",
    "    test[str(i)] = (intersection[0], intersection[1], 10)\n",
    "print_circles(test)"
   ]
  },
  {
   "cell_type": "code",
   "execution_count": null,
   "metadata": {},
   "outputs": [],
   "source": [
    "import numpy as np\n",
    "import itertools\n",
    "\n",
    "from math import radians, cos, sin, asin, sqrt\n",
    "\n",
    "def internet_speed(rtt, speed_threshold):\n",
    "    if speed_threshold is not None:\n",
    "        return speed_threshold\n",
    "\n",
    "    if rtt >= 80:\n",
    "        speed_threshold = 4 / 9\n",
    "    if rtt >= 5 and rtt < 80:\n",
    "        speed_threshold = 3 / 9\n",
    "    if rtt >= 0 and rtt < 5:\n",
    "        speed_threshold = 1 / 6\n",
    "\n",
    "    return speed_threshold\n",
    "\n",
    "\n",
    "def rtt_to_km(rtt, speed_threshold=None, c=300):\n",
    "    return internet_speed(rtt, speed_threshold) * rtt * c\n",
    "\n",
    "\n",
    "def is_within_cirle(vp_geo, rtt, candidate_geo, speed_threshold=None):\n",
    "    d = rtt_to_km(rtt, speed_threshold)\n",
    "    d_vp_candidate = haversine(vp_geo, candidate_geo)\n",
    "    if d < d_vp_candidate:\n",
    "        return False\n",
    "    else:\n",
    "        return True\n",
    "\n",
    "\n",
    "def geo_to_cartesian(lat, lon):\n",
    "    lat *= np.pi / 180\n",
    "    lon *= np.pi / 180\n",
    "\n",
    "    x = np.cos(lon) * np.cos(lat)\n",
    "    y = np.sin(lon) * np.cos(lat)\n",
    "    z = np.sin(lat)\n",
    "\n",
    "    return x, y, z\n",
    "\n",
    "\n",
    "def check_circle_inclusion(c_1, c_2):\n",
    "    lat_1, lon_1, rtt_1, d_1, r_1 = c_1\n",
    "    lat_2, lon_2, rtt_2, d_2, r_2 = c_2\n",
    "    d = haversine((lat_1, lon_1), (lat_2, lon_2))\n",
    "    #print(f\"distance between: d1 :{round(d_1,3)} / d2: {round(d_2,3)}  : {d}\")\n",
    "    if d_1 > (d + d_2):\n",
    "        #print(f\"remove c1 keep c2\")\n",
    "        return c_1, c_2\n",
    "    elif d_2 > (d + d_1):\n",
    "        #print(f\"remove c1 keep c2\")\n",
    "        return c_2, c_1\n",
    "    return None, None\n",
    "\n",
    "\n",
    "def circle_preprocessing(circles, speed_threshold=None):\n",
    "    circles_to_ignore = set()\n",
    "    circles_to_keep = set()\n",
    "    for c_1, c_2 in itertools.combinations(circles, 2):\n",
    "        lat_1, lon_1, rtt_1, d_1, r_1 = c_1\n",
    "        if d_1 is None:\n",
    "            d_1 = rtt_to_km(rtt_1, speed_threshold)\n",
    "        if r_1 is None:\n",
    "            r_1 = d_1 / 6371\n",
    "\n",
    "        lat_2, lon_2, rtt_2, d_2, r_2 = c_2\n",
    "        if d_2 is None:\n",
    "            d_2 = rtt_to_km(rtt_2, speed_threshold)\n",
    "        if r_2 is None:\n",
    "            r_2 = d_2 / 6371\n",
    "\n",
    "        remove, keep = check_circle_inclusion(\n",
    "            (lat_1, lon_1, rtt_1, d_1, r_1), (lat_2, lon_2, rtt_2, d_2, r_2)\n",
    "        )\n",
    "\n",
    "        # if remove:\n",
    "        #     circles_to_ignore.add(remove)\n",
    "        #     circles_to_keep.add(keep)\n",
    "        # else:\n",
    "        circles_to_keep.add((lat_1, lon_1, rtt_1, d_1, r_1))\n",
    "        circles_to_keep.add((lat_2, lon_2, rtt_2, d_2, r_2))\n",
    "\n",
    "    return circles_to_keep - circles_to_ignore\n",
    "\n",
    "\n",
    "def circle_intersections(circles, speed_threshold=None):\n",
    "    intersect_points = []\n",
    "\n",
    "    circles = circle_preprocessing(circles, speed_threshold=speed_threshold)\n",
    "\n",
    "    if len(circles) <= 2:\n",
    "        print(f\"Not enough circles ({len(circles)}).\")\n",
    "        return [], circles\n",
    "\n",
    "    for c_1, c_2 in itertools.combinations(circles, 2):\n",
    "        lat_1, lon_1, rtt_1, d_1, r_1 = c_1\n",
    "        lat_2, lon_2, rtt_2, d_2, r_2 = c_2\n",
    "\n",
    "        # print(\"circle:\", lat_1, lon_1, rtt_1, d_1, r_1)\n",
    "        # print(\"circle:\", lat_2, lon_2, rtt_2, d_2, r_2)\n",
    "\n",
    "        x1 = np.array(list(geo_to_cartesian(lat_1, lon_1)))\n",
    "        x2 = np.array(list(geo_to_cartesian(lat_2, lon_2)))\n",
    "\n",
    "        q = np.dot(x1, x2)\n",
    "\n",
    "        a = (np.cos(r_1) - np.cos(r_2) * q) / (1 - (q ** 2))\n",
    "        b = (np.cos(r_2) - np.cos(r_1) * q) / (1 - (q ** 2))\n",
    "\n",
    "        x0 = a * x1 + b * x2\n",
    "\n",
    "        n = np.cross(x1, x2)\n",
    "        if (1 - np.dot(x0, x0)) / np.dot(n, n) <= 0:\n",
    "            print(\"ANYCAST???\", (lat_1, lon_1, rtt_1, d_1), (lat_2, lon_2, rtt_2, d_2))\n",
    "            continue\n",
    "\n",
    "        t = np.sqrt((1 - np.dot(x0, x0)) / np.dot(n, n))\n",
    "\n",
    "        i1 = x0 + t * n\n",
    "        i2 = x0 - t * n\n",
    "\n",
    "        i_lon_1 = np.arctan(i1[1] / i1[0]) / (np.pi / 180)\n",
    "        i_lat_1 = np.arctan(i1[2] / np.sqrt((i1[0] ** 2) + (i1[1] ** 2))) / (\n",
    "            np.pi / 180\n",
    "        )\n",
    "        intersect_points.append((i_lat_1, i_lon_1))\n",
    "\n",
    "        i_lon_2 = np.arctan(i2[1] / i2[0]) / (np.pi / 180)\n",
    "        i_lat_2 = np.arctan(i2[2] / np.sqrt((i2[0] ** 2) + (i2[1] ** 2))) / (\n",
    "            np.pi / 180\n",
    "        )\n",
    "        intersect_points.append((i_lat_2, i_lon_2))\n",
    "\n",
    "    filtred_points = []\n",
    "    for point_geo in intersect_points:\n",
    "        # for lat_c, long_c, rtt_c, d_c, r_c in circles:\n",
    "        #     if not is_within_cirle((lat_c, long_c), rtt_c, point_geo, speed_threshold):\n",
    "        #         print(\"point is not within circle\")\n",
    "        #         break\n",
    "        # else:\n",
    "        filtred_points.append(point_geo)\n",
    "\n",
    "    return filtred_points, circles\n",
    "\n",
    "\n",
    "def polygon_area(points):\n",
    "    poly_area = 0\n",
    "\n",
    "    count = len(points)\n",
    "    j = count - 1\n",
    "\n",
    "    if count < 3:\n",
    "        return None\n",
    "\n",
    "    for i in range(0, count):\n",
    "        p1_x, p1_y = points[i]\n",
    "        p2_x, p2_y = points[j]\n",
    "\n",
    "        poly_area += p1_x * p2_y\n",
    "        poly_area -= p1_y * p2_x\n",
    "        j = i\n",
    "\n",
    "    poly_area /= 2\n",
    "    if np.isnan(poly_area):\n",
    "        return None\n",
    "\n",
    "    return abs(poly_area)\n",
    "\n",
    "\n",
    "def polygon_centroid(points):\n",
    "    f_total = 0\n",
    "    x_total = 0\n",
    "    y_total = 0\n",
    "\n",
    "    count = len(points)\n",
    "    j = count - 1\n",
    "\n",
    "    if count < 3:\n",
    "        return None\n",
    "\n",
    "    for i in range(0, count):\n",
    "        p1_x, p1_y = points[i]\n",
    "        p2_x, p2_y = points[j]\n",
    "\n",
    "        f_total = p1_x * p2_y - p2_x * p1_y\n",
    "        x_total += (p1_x + p2_x) * f_total\n",
    "        y_total += (p1_y + p2_y) * f_total\n",
    "        j = i\n",
    "\n",
    "    six_area = polygon_area(points) * 6\n",
    "    if six_area is None:\n",
    "        return None\n",
    "\n",
    "    return x_total / six_area, y_total / six_area\n",
    "\n",
    "\n",
    "def haversine(input_location, block_location):\n",
    "    \"\"\"Distance between two locations in earth.\"\"\"\n",
    "    in_lat, in_lon, block_lat, block_lon = map(\n",
    "        np.radians, [*input_location, *block_location]\n",
    "    )\n",
    "\n",
    "    dlat = block_lat - in_lat\n",
    "    dlon = block_lon - in_lon\n",
    "\n",
    "    distances = (\n",
    "        np.sin(dlat / 2.0) ** 2\n",
    "        + np.cos(in_lat) * np.cos(block_lat) * np.sin(dlon / 2.0) ** 2\n",
    "    )\n",
    "\n",
    "    return 6367 * 2 * np.arcsin(np.sqrt(distances))\n",
    "\n",
    "def distance(lat1, lat2, lon1, lon2):\n",
    "\n",
    "    lon1 = radians(lon1)\n",
    "    lon2 = radians(lon2)\n",
    "    lat1 = radians(lat1)\n",
    "    lat2 = radians(lat2)\n",
    "\n",
    "    # Haversine formula\n",
    "    dlon = lon2 - lon1\n",
    "    dlat = lat2 - lat1\n",
    "    a = sin(dlat / 2)**2 + cos(lat1) * cos(lat2) * sin(dlon / 2)**2\n",
    "\n",
    "    c = 2 * asin(sqrt(a))\n",
    "\n",
    "    r = 6371\n",
    "\n",
    "    return(c * r)\n"
   ]
  }
 ],
 "metadata": {
  "kernelspec": {
   "display_name": ".venv",
   "language": "python",
   "name": "python3"
  },
  "language_info": {
   "codemirror_mode": {
    "name": "ipython",
    "version": 3
   },
   "file_extension": ".py",
   "mimetype": "text/x-python",
   "name": "python",
   "nbconvert_exporter": "python",
   "pygments_lexer": "ipython3",
   "version": "3.10.6"
  },
  "orig_nbformat": 4
 },
 "nbformat": 4,
 "nbformat_minor": 2
}

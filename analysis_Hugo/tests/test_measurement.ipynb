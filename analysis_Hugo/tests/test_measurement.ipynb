{
 "cells": [
  {
   "cell_type": "code",
   "execution_count": 3,
   "metadata": {},
   "outputs": [],
   "source": [
    "import time\n",
    " \n",
    "from random import randint\n",
    "\n",
    "from default import PROBES_FILE, ANCHORS_FILE, RIPE_CREDENTIALS\n",
    "from utils.measurement_utils import load_pickle\n",
    "from utils.helpers import distance\n",
    "from measurements.src.ping import PING\n",
    "\n",
    "NB_ANCHOR = 5\n",
    "NB_VP = 10\n",
    "NB_PACKETS = 5"
   ]
  },
  {
   "attachments": {},
   "cell_type": "markdown",
   "metadata": {},
   "source": [
    "## get measurement datasets"
   ]
  },
  {
   "cell_type": "code",
   "execution_count": 4,
   "metadata": {},
   "outputs": [],
   "source": [
    "probes = load_pickle(PROBES_FILE)\n",
    "\n",
    "anchors = load_pickle(ANCHORS_FILE)"
   ]
  },
  {
   "cell_type": "code",
   "execution_count": 5,
   "metadata": {},
   "outputs": [],
   "source": [
    "target_anchors_index = [randint(0, len(anchors)) for _ in range(0, NB_ANCHOR)]\n",
    "\n",
    "# get target dataset\n",
    "target_anchors = {}\n",
    "anchors_ip = list(anchors.keys())\n",
    "for index in target_anchors_index:\n",
    "    target_anchors[anchors_ip[index]] = anchors[anchors_ip[index]]\n",
    "\n",
    "# get vantage points dataset\n",
    "vp_anchors = {}\n",
    "for probe, probe_description in anchors.items():\n",
    "    if not probe in target_anchors:\n",
    "        vp_anchors[probe] = probe_description"
   ]
  },
  {
   "cell_type": "code",
   "execution_count": 7,
   "metadata": {},
   "outputs": [
    {
     "name": "stdout",
     "output_type": "stream",
     "text": [
      "targets\n",
      "target_ip: 207.246.88.250 : {'id': 6436, 'is_anchor': True, 'country_code': 'US', 'latitude': 40.5605, 'longitude': -74.4815}\n",
      "target_ip: 76.26.115.194 : {'id': 6072, 'is_anchor': True, 'country_code': 'US', 'latitude': 39.9585, 'longitude': -75.6095}\n",
      "target_ip: 217.28.166.213 : {'id': 6952, 'is_anchor': True, 'country_code': 'DK', 'latitude': 56.1085, 'longitude': 10.1595}\n",
      "target_ip: 81.211.201.45 : {'id': 6757, 'is_anchor': True, 'country_code': 'KZ', 'latitude': 52.2805, 'longitude': 76.9695}\n",
      "target_ip: 185.151.70.11 : {'id': 6395, 'is_anchor': True, 'country_code': 'FR', 'latitude': 43.5395, 'longitude': 1.5215}\n",
      "\n",
      "vps:\n",
      "target_ip: 213.225.160.239 : {'id': 6025, 'is_anchor': True, 'country_code': 'FR', 'latitude': 48.5795, 'longitude': 7.7485}\n",
      "target_ip: 145.220.0.55 : {'id': 6031, 'is_anchor': True, 'country_code': 'NL', 'latitude': 52.3675, 'longitude': 4.8985}\n",
      "target_ip: 5.28.0.17 : {'id': 6039, 'is_anchor': True, 'country_code': 'HU', 'latitude': 47.5015, 'longitude': 19.0385}\n",
      "target_ip: 193.171.255.2 : {'id': 6042, 'is_anchor': True, 'country_code': 'AT', 'latitude': 48.2085, 'longitude': 16.3695}\n",
      "target_ip: 192.65.184.54 : {'id': 6043, 'is_anchor': True, 'country_code': 'FR', 'latitude': 46.2285, 'longitude': 6.0495}\n",
      "target_ip: 185.42.136.158 : {'id': 6049, 'is_anchor': True, 'country_code': 'SE', 'latitude': 59.3315, 'longitude': 18.0595}\n",
      "target_ip: 197.80.104.36 : {'id': 6053, 'is_anchor': True, 'country_code': 'ZA', 'latitude': -26.1415, 'longitude': 28.0095}\n",
      "target_ip: 200.7.84.24 : {'id': 6054, 'is_anchor': True, 'country_code': 'UY', 'latitude': -34.8805, 'longitude': -56.1805}\n",
      "target_ip: 194.150.191.46 : {'id': 6081, 'is_anchor': True, 'country_code': 'DE', 'latitude': 49.4275, 'longitude': 11.0215}\n",
      "target_ip: 199.10.66.231 : {'id': 6082, 'is_anchor': True, 'country_code': 'NL', 'latitude': 52.3485, 'longitude': 4.8315}\n",
      "target_ip: 5.57.16.65 : {'id': 6087, 'is_anchor': True, 'country_code': 'GB', 'latitude': 51.5205, 'longitude': -0.6185}\n"
     ]
    }
   ],
   "source": [
    "print(\"targets\")\n",
    "for index, (probe, probe_description) in enumerate(target_anchors.items()):\n",
    "    print(f\"target_ip: {probe} : {probe_description}\")\n",
    "print()\n",
    "\n",
    "print(\"vps:\")\n",
    "for index, (probe, probe_description) in enumerate(vp_anchors.items()):\n",
    "    if index > 10:\n",
    "        break\n",
    "    print(f\"target_ip: {probe} : {probe_description}\")"
   ]
  },
  {
   "attachments": {},
   "cell_type": "markdown",
   "metadata": {},
   "source": [
    "## from ip target list select probes"
   ]
  },
  {
   "cell_type": "code",
   "execution_count": 8,
   "metadata": {},
   "outputs": [],
   "source": [
    "def get_closest_vp(target_ip: str, target_description: dict, vp_anchors: dict, nb_vp: int):\n",
    "\n",
    "    distance_probes_target = []\n",
    "    for vp_ip, vp_description in vp_anchors.items():\n",
    "\n",
    "        p_lat = vp_description[\"latitude\"]\n",
    "        p_lon = vp_description[\"longitude\"]\n",
    "\n",
    "        t_lat = target_description[\"latitude\"]\n",
    "        t_lon = target_description[\"longitude\"]\n",
    "\n",
    "        d = distance(p_lat, t_lat, p_lon, t_lon)\n",
    "        distance_probes_target.append((vp_ip, d))\n",
    "\n",
    "    distance_probes_target = sorted(distance_probes_target, key=lambda d: d[1])\n",
    "    closest_vp = [vp_ip for vp_ip, _ in distance_probes_target[:nb_vp]]\n",
    "\n",
    "    # filter out the target ip\n",
    "    for vp_ip in closest_vp:\n",
    "        if target_ip in closest_vp:\n",
    "            raise RuntimeError(\n",
    "                \"the two datasets should not have IP addresses in common\")\n",
    "\n",
    "    return closest_vp"
   ]
  },
  {
   "cell_type": "code",
   "execution_count": 12,
   "metadata": {},
   "outputs": [
    {
     "name": "stdout",
     "output_type": "stream",
     "text": [
      "traget ip: 207.246.88.250: {'id': 6436, 'is_anchor': True, 'country_code': 'US', 'latitude': 40.5605, 'longitude': -74.4815}\n",
      "probe ip 23.148.232.6: {'id': 7193, 'is_anchor': True, 'country_code': 'US', 'latitude': 40.5585, 'longitude': -74.4785}\n",
      "probe ip 144.172.124.251: {'id': 7095, 'is_anchor': True, 'country_code': 'US', 'latitude': 40.6095, 'longitude': -74.1685}\n",
      "probe ip 92.38.169.178: {'id': 6644, 'is_anchor': True, 'country_code': 'US', 'latitude': 40.7795, 'longitude': -74.0805}\n",
      "probe ip 170.39.226.151: {'id': 6927, 'is_anchor': True, 'country_code': 'US', 'latitude': 40.7905, 'longitude': -74.0815}\n",
      "probe ip 162.255.145.7: {'id': 6574, 'is_anchor': True, 'country_code': 'US', 'latitude': 40.7795, 'longitude': -74.0695}\n",
      "probe ip 104.131.160.184: {'id': 6972, 'is_anchor': True, 'country_code': 'US', 'latitude': 40.7085, 'longitude': -74.0095}\n",
      "probe ip 152.195.68.35: {'id': 6549, 'is_anchor': True, 'country_code': 'US', 'latitude': 40.7115, 'longitude': -74.0105}\n",
      "probe ip 217.243.179.165: {'id': 7065, 'is_anchor': True, 'country_code': 'US', 'latitude': 40.7195, 'longitude': -74.0095}\n",
      "probe ip 109.230.208.226: {'id': 6783, 'is_anchor': True, 'country_code': 'US', 'latitude': 40.7185, 'longitude': -74.0085}\n",
      "probe ip 23.157.160.140: {'id': 6725, 'is_anchor': True, 'country_code': 'US', 'latitude': 40.7395, 'longitude': -74.0115}\n",
      "\n",
      "traget ip: 76.26.115.194: {'id': 6072, 'is_anchor': True, 'country_code': 'US', 'latitude': 39.9585, 'longitude': -75.6095}\n",
      "probe ip 23.148.232.6: {'id': 7193, 'is_anchor': True, 'country_code': 'US', 'latitude': 40.5585, 'longitude': -74.4785}\n",
      "probe ip 144.172.124.251: {'id': 7095, 'is_anchor': True, 'country_code': 'US', 'latitude': 40.6095, 'longitude': -74.1685}\n",
      "probe ip 68.64.60.178: {'id': 7014, 'is_anchor': True, 'country_code': 'US', 'latitude': 39.0595, 'longitude': -76.9625}\n",
      "probe ip 92.38.169.178: {'id': 6644, 'is_anchor': True, 'country_code': 'US', 'latitude': 40.7795, 'longitude': -74.0805}\n",
      "probe ip 170.39.226.151: {'id': 6927, 'is_anchor': True, 'country_code': 'US', 'latitude': 40.7905, 'longitude': -74.0815}\n",
      "probe ip 104.131.160.184: {'id': 6972, 'is_anchor': True, 'country_code': 'US', 'latitude': 40.7085, 'longitude': -74.0095}\n",
      "probe ip 162.255.145.7: {'id': 6574, 'is_anchor': True, 'country_code': 'US', 'latitude': 40.7795, 'longitude': -74.0695}\n",
      "probe ip 152.195.68.35: {'id': 6549, 'is_anchor': True, 'country_code': 'US', 'latitude': 40.7115, 'longitude': -74.0105}\n",
      "probe ip 217.243.179.165: {'id': 7065, 'is_anchor': True, 'country_code': 'US', 'latitude': 40.7195, 'longitude': -74.0095}\n",
      "probe ip 109.230.208.226: {'id': 6783, 'is_anchor': True, 'country_code': 'US', 'latitude': 40.7185, 'longitude': -74.0085}\n",
      "\n",
      "traget ip: 217.28.166.213: {'id': 6952, 'is_anchor': True, 'country_code': 'DK', 'latitude': 56.1085, 'longitude': 10.1595}\n",
      "probe ip 185.221.36.2: {'id': 6448, 'is_anchor': True, 'country_code': 'DK', 'latitude': 56.0715, 'longitude': 9.9795}\n",
      "probe ip 212.10.11.213: {'id': 6545, 'is_anchor': True, 'country_code': 'DK', 'latitude': 55.5095, 'longitude': 9.5095}\n",
      "probe ip 77.214.52.102: {'id': 6225, 'is_anchor': True, 'country_code': 'DK', 'latitude': 57.0195, 'longitude': 9.8985}\n",
      "probe ip 46.30.208.71: {'id': 6714, 'is_anchor': True, 'country_code': 'DK', 'latitude': 55.6595, 'longitude': 12.2975}\n",
      "probe ip 213.184.86.101: {'id': 6426, 'is_anchor': True, 'country_code': 'DK', 'latitude': 55.7305, 'longitude': 12.3785}\n",
      "probe ip 185.38.27.194: {'id': 6340, 'is_anchor': True, 'country_code': 'DK', 'latitude': 55.7275, 'longitude': 12.3795}\n",
      "probe ip 185.156.96.242: {'id': 6743, 'is_anchor': True, 'country_code': 'DK', 'latitude': 54.9485, 'longitude': 8.8695}\n",
      "probe ip 192.42.97.214: {'id': 7127, 'is_anchor': True, 'country_code': 'SE', 'latitude': 55.6005, 'longitude': 12.9985}\n",
      "probe ip 193.138.218.50: {'id': 6350, 'is_anchor': True, 'country_code': 'SE', 'latitude': 55.5975, 'longitude': 13.0395}\n",
      "probe ip 91.209.0.21: {'id': 6441, 'is_anchor': True, 'country_code': 'SE', 'latitude': 55.6875, 'longitude': 13.2095}\n",
      "\n",
      "traget ip: 81.211.201.45: {'id': 6757, 'is_anchor': True, 'country_code': 'KZ', 'latitude': 52.2805, 'longitude': 76.9695}\n",
      "probe ip 81.211.202.45: {'id': 6758, 'is_anchor': True, 'country_code': 'KZ', 'latitude': 50.4115, 'longitude': 80.2495}\n",
      "probe ip 80.241.3.66: {'id': 7209, 'is_anchor': True, 'country_code': 'KZ', 'latitude': 50.4015, 'longitude': 80.2575}\n",
      "probe ip 193.169.52.51: {'id': 6853, 'is_anchor': True, 'country_code': 'RU', 'latitude': 54.9885, 'longitude': 73.3595}\n",
      "probe ip 81.211.204.45: {'id': 6755, 'is_anchor': True, 'country_code': 'KZ', 'latitude': 49.7895, 'longitude': 73.0795}\n",
      "probe ip 81.211.193.45: {'id': 6745, 'is_anchor': True, 'country_code': 'KZ', 'latitude': 51.1695, 'longitude': 71.4195}\n",
      "probe ip 81.211.203.45: {'id': 6753, 'is_anchor': True, 'country_code': 'KZ', 'latitude': 49.9485, 'longitude': 82.6295}\n",
      "probe ip 94.247.111.19: {'id': 6538, 'is_anchor': True, 'country_code': 'RU', 'latitude': 55.0315, 'longitude': 82.9385}\n",
      "probe ip 193.42.115.222: {'id': 7234, 'is_anchor': True, 'country_code': 'RU', 'latitude': 56.4895, 'longitude': 84.9485}\n",
      "probe ip 91.185.6.14: {'id': 6881, 'is_anchor': True, 'country_code': 'KZ', 'latitude': 43.2475, 'longitude': 76.9515}\n",
      "probe ip 217.76.65.78: {'id': 6839, 'is_anchor': True, 'country_code': 'KZ', 'latitude': 43.2115, 'longitude': 76.8985}\n",
      "\n",
      "traget ip: 185.151.70.11: {'id': 6395, 'is_anchor': True, 'country_code': 'FR', 'latitude': 43.5395, 'longitude': 1.5215}\n",
      "probe ip 80.247.237.225: {'id': 6310, 'is_anchor': True, 'country_code': 'FR', 'latitude': 43.5475, 'longitude': 1.4875}\n",
      "probe ip 185.119.168.5: {'id': 7000, 'is_anchor': True, 'country_code': 'FR', 'latitude': 43.6175, 'longitude': 1.4175}\n",
      "probe ip 185.233.100.99: {'id': 6320, 'is_anchor': True, 'country_code': 'FR', 'latitude': 44.8575, 'longitude': -0.5615}\n",
      "probe ip 94.24.115.154: {'id': 7089, 'is_anchor': True, 'country_code': 'ES', 'latitude': 41.4915, 'longitude': 2.1215}\n",
      "probe ip 84.88.18.254: {'id': 6352, 'is_anchor': True, 'country_code': 'ES', 'latitude': 41.3885, 'longitude': 2.1095}\n",
      "probe ip 91.223.159.7: {'id': 6430, 'is_anchor': True, 'country_code': 'FR', 'latitude': 45.8075, 'longitude': 4.7685}\n",
      "probe ip 77.95.65.42: {'id': 6495, 'is_anchor': True, 'country_code': 'FR', 'latitude': 45.7795, 'longitude': 4.8715}\n",
      "probe ip 81.18.177.166: {'id': 6717, 'is_anchor': True, 'country_code': 'FR', 'latitude': 45.7605, 'longitude': 4.8975}\n",
      "probe ip 5.182.144.161: {'id': 6736, 'is_anchor': True, 'country_code': 'FR', 'latitude': 45.9405, 'longitude': 4.7285}\n",
      "probe ip 193.49.43.151: {'id': 7136, 'is_anchor': True, 'country_code': 'FR', 'latitude': 45.2105, 'longitude': 5.6885}\n",
      "\n"
     ]
    }
   ],
   "source": [
    "measurements = {}\n",
    "for target_ip, target_description in target_anchors.items():\n",
    "    # retrieve the ten closest vp for each targets\n",
    "    measurements[target_ip] = get_closest_vp(target_ip, target_description, vp_anchors, NB_VP)\n",
    "\n",
    "    print(f\"traget ip: {target_ip}: {target_description}\")\n",
    "    for vp_ip in measurements[target_ip]:\n",
    "        print(f\"probe ip {vp_ip}: {vp_anchors[vp_ip]}\")\n",
    "    print()"
   ]
  },
  {
   "attachments": {},
   "cell_type": "markdown",
   "metadata": {},
   "source": [
    "## start measurement"
   ]
  },
  {
   "cell_type": "code",
   "execution_count": 13,
   "metadata": {},
   "outputs": [
    {
     "name": "stdout",
     "output_type": "stream",
     "text": [
      "starting measurement for target 207.246.88.250\n",
      "with 10 vp: ['23.148.232.6', '144.172.124.251', '92.38.169.178', '170.39.226.151', '162.255.145.7', '104.131.160.184', '152.195.68.35', '217.243.179.165', '109.230.208.226', '23.157.160.140']\n"
     ]
    },
    {
     "ename": "IndexError",
     "evalue": "list index out of range",
     "output_type": "error",
     "traceback": [
      "\u001b[1;31m---------------------------------------------------------------------------\u001b[0m",
      "\u001b[1;31mIndexError\u001b[0m                                Traceback (most recent call last)",
      "Cell \u001b[1;32mIn[13], line 15\u001b[0m\n\u001b[0;32m     10\u001b[0m vp_ids \u001b[39m=\u001b[39m [\n\u001b[0;32m     11\u001b[0m     vp_anchors[vp_ip][\u001b[39m'\u001b[39m\u001b[39mid\u001b[39m\u001b[39m'\u001b[39m]\n\u001b[0;32m     12\u001b[0m     \u001b[39mfor\u001b[39;00m vp_ip \u001b[39min\u001b[39;00m measurements[target_ip]\n\u001b[0;32m     13\u001b[0m ]\n\u001b[0;32m     14\u001b[0m \u001b[39m# run measurement\u001b[39;00m\n\u001b[1;32m---> 15\u001b[0m measurement_id \u001b[39m=\u001b[39m pinger\u001b[39m.\u001b[39;49mping_by_target(target_ip, vp_ids,\u001b[39m\"\u001b[39;49m\u001b[39mtest\u001b[39;49m\u001b[39m\"\u001b[39;49m, NB_PACKETS, dry_run)\n\u001b[0;32m     17\u001b[0m \u001b[39mif\u001b[39;00m measurement_id:\n\u001b[0;32m     18\u001b[0m     measurement_ids\u001b[39m.\u001b[39mappend(measurement_id)\n",
      "File \u001b[1;32m~\\Desktop\\Stage\\review\\measurements\\src\\ping.py:139\u001b[0m, in \u001b[0;36mPING.ping_by_target\u001b[1;34m(self, targets, vps, tag, nb_packets, dry_run)\u001b[0m\n\u001b[0;32m    136\u001b[0m start_time \u001b[39m=\u001b[39m time\u001b[39m.\u001b[39mtime()\n\u001b[0;32m    137\u001b[0m \u001b[39mfor\u001b[39;00m _, target_addr \u001b[39min\u001b[39;00m \u001b[39menumerate\u001b[39m(targets):\n\u001b[0;32m    138\u001b[0m     \u001b[39m# get vps id for measurement, remove target if in vps\u001b[39;00m\n\u001b[1;32m--> 139\u001b[0m     vp_ids \u001b[39m=\u001b[39m [vps[vp_addr][\u001b[39m\"\u001b[39m\u001b[39mid\u001b[39m\u001b[39m\"\u001b[39m]\n\u001b[0;32m    140\u001b[0m               \u001b[39mfor\u001b[39;00m vp_addr \u001b[39min\u001b[39;00m vps \u001b[39mif\u001b[39;00m vp_addr \u001b[39m!=\u001b[39m target_addr]\n\u001b[0;32m    142\u001b[0m     \u001b[39mfor\u001b[39;00m i \u001b[39min\u001b[39;00m \u001b[39mrange\u001b[39m(\u001b[39m0\u001b[39m, \u001b[39mlen\u001b[39m(vp_ids), MAX_NUMBER_OF_VPS):\n\u001b[0;32m    143\u001b[0m         subset_vp_ids \u001b[39m=\u001b[39m vp_ids[i: i \u001b[39m+\u001b[39m MAX_NUMBER_OF_VPS]\n",
      "File \u001b[1;32m~\\Desktop\\Stage\\review\\measurements\\src\\ping.py:139\u001b[0m, in \u001b[0;36m<listcomp>\u001b[1;34m(.0)\u001b[0m\n\u001b[0;32m    136\u001b[0m start_time \u001b[39m=\u001b[39m time\u001b[39m.\u001b[39mtime()\n\u001b[0;32m    137\u001b[0m \u001b[39mfor\u001b[39;00m _, target_addr \u001b[39min\u001b[39;00m \u001b[39menumerate\u001b[39m(targets):\n\u001b[0;32m    138\u001b[0m     \u001b[39m# get vps id for measurement, remove target if in vps\u001b[39;00m\n\u001b[1;32m--> 139\u001b[0m     vp_ids \u001b[39m=\u001b[39m [vps[vp_addr][\u001b[39m\"\u001b[39m\u001b[39mid\u001b[39m\u001b[39m\"\u001b[39m]\n\u001b[0;32m    140\u001b[0m               \u001b[39mfor\u001b[39;00m vp_addr \u001b[39min\u001b[39;00m vps \u001b[39mif\u001b[39;00m vp_addr \u001b[39m!=\u001b[39m target_addr]\n\u001b[0;32m    142\u001b[0m     \u001b[39mfor\u001b[39;00m i \u001b[39min\u001b[39;00m \u001b[39mrange\u001b[39m(\u001b[39m0\u001b[39m, \u001b[39mlen\u001b[39m(vp_ids), MAX_NUMBER_OF_VPS):\n\u001b[0;32m    143\u001b[0m         subset_vp_ids \u001b[39m=\u001b[39m vp_ids[i: i \u001b[39m+\u001b[39m MAX_NUMBER_OF_VPS]\n",
      "\u001b[1;31mIndexError\u001b[0m: list index out of range"
     ]
    }
   ],
   "source": [
    "pinger = PING(RIPE_CREDENTIALS)\n",
    "dry_run = True\n",
    "\n",
    "measurement_ids = []\n",
    "for target_ip in measurements:\n",
    "    print(f\"starting measurement for target {target_ip}\")\n",
    "    print(f\"with {len(measurements[target_ip])} vp: {[vp_ip for vp_ip in measurements[target_ip]]}\")\n",
    "\n",
    "    # get anchor ids\n",
    "    vp_ids = [\n",
    "        vp_anchors[vp_ip]['id']\n",
    "        for vp_ip in measurements[target_ip]\n",
    "    ]\n",
    "    # run measurement\n",
    "    measurement_id = pinger.ping_by_target(target_ip, vp_ids,\"test\", NB_PACKETS, dry_run)\n",
    "    \n",
    "    if measurement_id:\n",
    "        measurement_ids.append(measurement_id)\n",
    "\n",
    "        print(f\"measurement done, measurement id: {measurement_id}\")\n",
    "        print()\n",
    "    else:\n",
    "        print(\"two many concurrent measurements\")\n",
    "        time.sleep(4)"
   ]
  }
 ],
 "metadata": {
  "kernelspec": {
   "display_name": ".venv",
   "language": "python",
   "name": "python3"
  },
  "language_info": {
   "codemirror_mode": {
    "name": "ipython",
    "version": 3
   },
   "file_extension": ".py",
   "mimetype": "text/x-python",
   "name": "python",
   "nbconvert_exporter": "python",
   "pygments_lexer": "ipython3",
   "version": "3.10.0"
  },
  "orig_nbformat": 4
 },
 "nbformat": 4,
 "nbformat_minor": 2
}

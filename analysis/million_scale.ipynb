{
 "cells": [
  {
   "cell_type": "markdown",
   "metadata": {},
   "source": [
    "# First step of the analysis\n",
    "\n",
    "Preprocess results and save them before they can be plotted.  \n",
    "\n",
    "To do after measurements notebooks"
   ]
  },
  {
   "cell_type": "code",
   "execution_count": null,
   "metadata": {},
   "outputs": [],
   "source": [
    "from scripts.utils.file_utils import load_json, dump_json\n",
    "from scripts.analysis.analysis import *\n",
    "from default import *"
   ]
  },
  {
   "cell_type": "code",
   "execution_count": null,
   "metadata": {},
   "outputs": [],
   "source": [
    "filtered_probes = load_json(FILTERED_PROBES_FILE)\n",
    "\n",
    "filter = \"\"\n",
    "if len(filtered_probes) > 0:\n",
    "    # Remove probes that are wrongly geolocated\n",
    "    in_clause = f\"\".join(\n",
    "        [f\",toIPv4('{p}')\" for p in filtered_probes])[1:]\n",
    "    filter += f\"AND dst not in ({in_clause}) AND src not in ({in_clause}) \""
   ]
  },
  {
   "cell_type": "markdown",
   "metadata": {},
   "source": [
    "## Compute errors\n",
    "\n",
    "Compute the median error between the guessed geolocations and the real geolocations"
   ]
  },
  {
   "cell_type": "code",
   "execution_count": null,
   "metadata": {},
   "outputs": [],
   "source": [
    "all_probes = load_json(PROBES_AND_ANCHORS_FILE)\n",
    "vp_coordinates_per_ip, ip_per_coordinates, country_per_vp, asn_per_vp, vp_distance_matrix, probes_per_ip = compute_geo_info(all_probes, PAIRWISE_DISTANCE_FILE)"
   ]
  },
  {
   "cell_type": "code",
   "execution_count": null,
   "metadata": {},
   "outputs": [],
   "source": [
    "rtt_per_srcs_dst = compute_rtts_per_dst_src(PROBES_TO_ANCHORS_PING_TABLE, filter, threshold=70)\n",
    "\n",
    "vps_per_target = {dst: set(vp_coordinates_per_ip.keys())\n",
    "                    for dst in rtt_per_srcs_dst}\n",
    "features = compute_geolocation_features_per_ip(rtt_per_srcs_dst, vp_coordinates_per_ip, THRESHOLD_DISTANCES,\n",
    "                                                vps_per_target=vps_per_target,\n",
    "                                                distance_operator=\">\", max_vps=100000,\n",
    "                                                is_use_prefix=False,\n",
    "                                                vp_distance_matrix=vp_distance_matrix,\n",
    "                                                )\n",
    "\n",
    "dump_json(features, PROBES_TO_ANCHORS_RESULT_FILE)"
   ]
  },
  {
   "cell_type": "markdown",
   "metadata": {},
   "source": [
    "## Round Algorithm\n",
    "\n",
    "First is to use a subset of greedy probes, and then take 1 probe/AS in the given CBG area to compute the median error."
   ]
  },
  {
   "cell_type": "code",
   "execution_count": null,
   "metadata": {},
   "outputs": [],
   "source": [
    "all_probes = load_json(PROBES_AND_ANCHORS_FILE)\n",
    "\n",
    "asn_per_vp_ip = {}\n",
    "vp_coordinates_per_ip = {}\n",
    "\n",
    "for probe in all_probes:\n",
    "    if \"address_v4\" in probe and \"geometry\" in probe and \"coordinates\" in probe[\"geometry\"]:\n",
    "        ip_v4_address = probe[\"address_v4\"]\n",
    "        if ip_v4_address is None:\n",
    "            continue\n",
    "        long, lat = probe[\"geometry\"][\"coordinates\"]\n",
    "        asn_v4 = probe[\"asn_v4\"]\n",
    "        asn_per_vp_ip[ip_v4_address] = asn_v4\n",
    "        vp_coordinates_per_ip[ip_v4_address] = lat, long\n"
   ]
  },
  {
   "cell_type": "code",
   "execution_count": null,
   "metadata": {},
   "outputs": [],
   "source": [
    "# clickhouse is required here\n",
    "rtt_per_srcs_dst = compute_rtts_per_dst_src(PROBES_TO_ANCHORS_PING_TABLE, filter, threshold=100)"
   ]
  },
  {
   "cell_type": "code",
   "execution_count": null,
   "metadata": {},
   "outputs": [],
   "source": [
    "TIER1_VPS = [10, 100, 300, 500, 1000]\n",
    "greedy_probes = load_json(GREEDY_PROBES_FILE)\n",
    "error_cdf_per_tier1_vps = {}\n",
    "for tier1_vps in TIER1_VPS:\n",
    "    print(f\"Using {tier1_vps} tier1_vps\")\n",
    "    error_cdf = round_based_algorithm(greedy_probes, rtt_per_srcs_dst, vp_coordinates_per_ip,\n",
    "                                        asn_per_vp_ip,\n",
    "                                        tier1_vps,\n",
    "                                        threshold=40)\n",
    "    error_cdf_per_tier1_vps[tier1_vps] = error_cdf\n",
    "    \n",
    "dump_json(error_cdf_per_tier1_vps, ROUND_BASED_ALGORITHM_FILE)"
   ]
  },
  {
   "cell_type": "markdown",
   "metadata": {},
   "source": [
    "## Accuracy vs number of vps probes\n",
    "WARNING : Time consumming section  \n",
    "\n",
    "Compute median error for each target, depending on the number of initial VPs."
   ]
  },
  {
   "cell_type": "code",
   "execution_count": null,
   "metadata": {},
   "outputs": [],
   "source": [
    "all_probes = load_json(PROBES_AND_ANCHORS_FILE)\n",
    "\n",
    "vp_coordinates_per_ip, ip_per_coordinates, country_per_vp, asn_per_vp, \\\n",
    "        vp_distance_matrix, probe_per_ip = compute_geo_info(\n",
    "            all_probes, serialized_file=PAIRWISE_DISTANCE_FILE)"
   ]
  },
  {
   "cell_type": "code",
   "execution_count": null,
   "metadata": {},
   "outputs": [],
   "source": [
    "subset_sizes = []\n",
    "subset_sizes.extend([i for i in range(100, 1000, 100)])\n",
    "subset_sizes.extend([i for i in range(1000, 10001, 1000)])\n",
    "\n",
    "rtt_per_srcs_dst = compute_rtts_per_dst_src(PROBES_TO_ANCHORS_PING_TABLE, filter, threshold=50)\n",
    "\n",
    "available_vps = list(vp_coordinates_per_ip.keys())\n",
    "accuracy_vs_nb_vps = compute_accuracy_vs_number_of_vps(available_vps, rtt_per_srcs_dst, vp_coordinates_per_ip,\n",
    "                                    vp_distance_matrix, subset_sizes)\n",
    "\n",
    "dump_json(accuracy_vs_nb_vps, ACCURACY_VS_N_VPS_PROBES_FILE)"
   ]
  },
  {
   "cell_type": "markdown",
   "metadata": {},
   "source": [
    "## VPs selection algorithm\n",
    "\n",
    "Select respectively the 1, 3, and 10 closest probes (with minimal round trip time) for each target."
   ]
  },
  {
   "cell_type": "code",
   "execution_count": null,
   "metadata": {},
   "outputs": [],
   "source": [
    "all_probes = load_json(PROBES_AND_ANCHORS_FILE)\n",
    "\n",
    "vp_coordinates_per_ip, ip_per_coordinates, country_per_vp, asn_per_vp, vp_distance_matrix, probes_per_ip = compute_geo_info(all_probes, PAIRWISE_DISTANCE_FILE)"
   ]
  },
  {
   "cell_type": "code",
   "execution_count": null,
   "metadata": {},
   "outputs": [],
   "source": [
    "ping_table_prefix = PROBES_TO_PREFIX_TABLE\n",
    "ping_table = PROBES_TO_ANCHORS_PING_TABLE\n",
    "N_VPS_SELECTION_ALGORITHM = [1, 3, 10]\n",
    "results_files = [VP_SELECTION_ALGORITHM_PROBES_1_FILE, VP_SELECTION_ALGORITHM_PROBES_3_FILE, VP_SELECTION_ALGORITHM_PROBES_10_FILE]\n",
    "\n",
    "rtt_per_srcs_dst_prefix = compute_rtts_per_dst_src(ping_table_prefix, filter, threshold=100, is_per_prefix=True)\n",
    "rtt_per_srcs_dst = compute_rtts_per_dst_src(ping_table, filter, threshold=70)\n",
    "\n",
    "for i, n_vp in enumerate(N_VPS_SELECTION_ALGORITHM):\n",
    "    vps_per_target, _ = compute_closest_rtt_probes(rtt_per_srcs_dst_prefix,\n",
    "                                                    vp_coordinates_per_ip,\n",
    "                                                    vp_distance_matrix,\n",
    "                                                    n_shortest=n_vp,\n",
    "                                                    is_prefix=True)\n",
    "    features = compute_geolocation_features_per_ip(rtt_per_srcs_dst, vp_coordinates_per_ip,\n",
    "                                                    [0],\n",
    "                                                    vps_per_target=vps_per_target,\n",
    "                                                    distance_operator=\">\", max_vps=100000,\n",
    "                                                    is_use_prefix=True,\n",
    "                                                    vp_distance_matrix=vp_distance_matrix,\n",
    "                                                    is_multiprocess=True)\n",
    "    \n",
    "    ofile = results_files[i]\n",
    "    dump_json(features, ofile)"
   ]
  }
 ],
 "metadata": {
  "kernelspec": {
   "display_name": "review-fXCvvitn-py3.10",
   "language": "python",
   "name": "python3"
  },
  "language_info": {
   "codemirror_mode": {
    "name": "ipython",
    "version": 3
   },
   "file_extension": ".py",
   "mimetype": "text/x-python",
   "name": "python",
   "nbconvert_exporter": "python",
   "pygments_lexer": "ipython3",
   "version": "3.10.0"
  },
  "orig_nbformat": 4
 },
 "nbformat": 4,
 "nbformat_minor": 2
}

{
 "cells": [
  {
   "cell_type": "markdown",
   "metadata": {},
   "source": [
    "# First step of the analysis\n",
    "\n",
    "Preprocess results and save them before they can be plotted.  \n",
    "\n",
    "To do after measurements notebooks"
   ]
  },
  {
   "cell_type": "code",
   "execution_count": 1,
   "metadata": {},
   "outputs": [],
   "source": [
    "from scripts.utils.file_utils import load_json, dump_json\n",
    "\n",
    "from scripts.analysis.analysis import *\n",
    "from default import *\n",
    "\n",
    "# set to True to use your own datasets/measurements\n",
    "run_repro = True\n",
    "if run_repro:\n",
    "    PROBES_FILE = REPRO_PROBES_FILE\n",
    "    PROBES_AND_ANCHORS_FILE = REPRO_PROBES_AND_ANCHORS_FILE\n",
    "    FILTERED_PROBES_FILE = REPRO_FILTERED_PROBES_FILE\n",
    "    GREEDY_PROBES_FILE = REPRO_GREEDY_PROBES_FILE\n",
    "    PAIRWISE_DISTANCE_FILE = REPRO_PAIRWISE_DISTANCE_FILE\n",
    "\n",
    "    # TODO: separate user's results from measurement\n",
    "    PROBES_TO_ANCHORS_RESULT_FILE = PROBES_TO_ANCHORS_RESULT_FILE\n",
    "else:\n",
    "    PROBES_FILE = USER_PROBES_FILE\n",
    "    PROBES_AND_ANCHORS_FILE = USER_PROBES_AND_ANCHORS_FILE\n",
    "    FILTERED_PROBES_FILE = USER_FILTERED_PROBES_FILE\n",
    "    GREEDY_PROBES_FILE = USER_GREEDY_PROBES_FILE\n",
    "    PAIRWISE_DISTANCE_FILE = USER_PAIRWISE_DISTANCE_FILE\n",
    "\n",
    "    PROBES_TO_ANCHORS_RESULT_FILE = PROBES_TO_ANCHORS_RESULT_FILE\n",
    "\n",
    "LIMIT = 1000"
   ]
  },
  {
   "cell_type": "code",
   "execution_count": 2,
   "metadata": {},
   "outputs": [],
   "source": [
    "filtered_probes = load_json(FILTERED_PROBES_FILE)\n",
    "\n",
    "filter = \"\"\n",
    "if len(filtered_probes) > 0:\n",
    "    # Remove probes that are wrongly geolocated\n",
    "    in_clause = f\"\".join(\n",
    "        [f\",toIPv4('{p}')\" for p in filtered_probes])[1:]\n",
    "    filter += f\"AND dst not in ({in_clause}) AND src not in ({in_clause}) \"\n"
   ]
  },
  {
   "cell_type": "markdown",
   "metadata": {},
   "source": [
    "## Compute errors\n",
    "\n",
    "Compute the median error between the guessed geolocations and the real geolocations"
   ]
  },
  {
   "cell_type": "code",
   "execution_count": 3,
   "metadata": {},
   "outputs": [],
   "source": [
    "all_probes = load_json(PROBES_AND_ANCHORS_FILE)\n",
    "vp_coordinates_per_ip, ip_per_coordinates, country_per_vp, asn_per_vp, vp_distance_matrix, probes_per_ip = compute_geo_info(all_probes, PAIRWISE_DISTANCE_FILE)"
   ]
  },
  {
   "cell_type": "code",
   "execution_count": 4,
   "metadata": {},
   "outputs": [],
   "source": [
    "rtt_per_srcs_dst = compute_rtts_per_dst_src(PROBES_TO_ANCHORS_PING_TABLE, filter, threshold=70)\n",
    "\n",
    "vps_per_target = {dst: set(vp_coordinates_per_ip.keys())\n",
    "                    for dst in rtt_per_srcs_dst}\n",
    "features = compute_geolocation_features_per_ip(rtt_per_srcs_dst, vp_coordinates_per_ip, THRESHOLD_DISTANCES,\n",
    "                                                vps_per_target=vps_per_target,\n",
    "                                                distance_operator=\">\", max_vps=100000,\n",
    "                                                is_use_prefix=False,\n",
    "                                                vp_distance_matrix=vp_distance_matrix,\n",
    "                                                )\n",
    "\n",
    "dump_json(features, PROBES_TO_ANCHORS_RESULT_FILE)"
   ]
  },
  {
   "cell_type": "markdown",
   "metadata": {},
   "source": [
    "## Round Algorithm\n",
    "\n",
    "First is to use a subset of greedy probes, and then take 1 probe/AS in the given CBG area to compute the median error."
   ]
  },
  {
   "cell_type": "code",
   "execution_count": 5,
   "metadata": {},
   "outputs": [],
   "source": [
    "all_probes = load_json(PROBES_AND_ANCHORS_FILE)\n",
    "\n",
    "asn_per_vp_ip = {}\n",
    "vp_coordinates_per_ip = {}\n",
    "\n",
    "for probe in all_probes:\n",
    "    if \"address_v4\" in probe and \"geometry\" in probe and \"coordinates\" in probe[\"geometry\"]:\n",
    "        ip_v4_address = probe[\"address_v4\"]\n",
    "        if ip_v4_address is None:\n",
    "            continue\n",
    "        long, lat = probe[\"geometry\"][\"coordinates\"]\n",
    "        asn_v4 = probe[\"asn_v4\"]\n",
    "        asn_per_vp_ip[ip_v4_address] = asn_v4\n",
    "        vp_coordinates_per_ip[ip_v4_address] = lat, long\n"
   ]
  },
  {
   "cell_type": "code",
   "execution_count": 6,
   "metadata": {},
   "outputs": [],
   "source": [
    "# clickhouse is required here\n",
    "rtt_per_srcs_dst = compute_rtts_per_dst_src(PROBES_TO_ANCHORS_PING_TABLE, filter, threshold=100)"
   ]
  },
  {
   "cell_type": "code",
   "execution_count": 7,
   "metadata": {},
   "outputs": [],
   "source": [
    "vp_distance_matrix = load_json(PAIRWISE_DISTANCE_FILE)"
   ]
  },
  {
   "cell_type": "code",
   "execution_count": 8,
   "metadata": {},
   "outputs": [
    {
     "name": "stdout",
     "output_type": "stream",
     "text": [
      "Using 10 tier1_vps\n",
      "Using 100 tier1_vps\n",
      "Using 300 tier1_vps\n",
      "Using 500 tier1_vps\n",
      "Using 1000 tier1_vps\n"
     ]
    }
   ],
   "source": [
    "TIER1_VPS = [10, 100, 300, 500, 1000]\n",
    "greedy_probes = load_json(GREEDY_PROBES_FILE)\n",
    "error_cdf_per_tier1_vps = {}\n",
    "for tier1_vps in TIER1_VPS:\n",
    "    print(f\"Using {tier1_vps} tier1_vps\")\n",
    "    error_cdf = round_based_algorithm(greedy_probes, rtt_per_srcs_dst, vp_coordinates_per_ip,\n",
    "                                        asn_per_vp_ip,\n",
    "                                        tier1_vps,\n",
    "                                        threshold=40)\n",
    "    error_cdf_per_tier1_vps[tier1_vps] = error_cdf\n",
    "    \n",
    "dump_json(error_cdf_per_tier1_vps, ROUND_BASED_ALGORITHM_FILE)"
   ]
  },
  {
   "cell_type": "markdown",
   "metadata": {},
   "source": [
    "## Accuracy vs number of vps probes\n",
    "WARNING : Time consumming section  \n",
    "\n",
    "Compute median error for each target, depending on the number of initial VPs."
   ]
  },
  {
   "cell_type": "code",
   "execution_count": 9,
   "metadata": {},
   "outputs": [],
   "source": [
    "all_probes = load_json(PROBES_AND_ANCHORS_FILE)\n",
    "\n",
    "vp_coordinates_per_ip, ip_per_coordinates, country_per_vp, asn_per_vp, \\\n",
    "        vp_distance_matrix, probe_per_ip = compute_geo_info(\n",
    "            all_probes, serialized_file=PAIRWISE_DISTANCE_FILE)"
   ]
  },
  {
   "cell_type": "code",
   "execution_count": 10,
   "metadata": {},
   "outputs": [
    {
     "name": "stderr",
     "output_type": "stream",
     "text": [
      "2023-09-11 20:19:18::INFO:root:analysis:: Starting computing for random VPs 100\n"
     ]
    },
    {
     "ename": "KeyboardInterrupt",
     "evalue": "",
     "output_type": "error",
     "traceback": [
      "\u001b[0;31m---------------------------------------------------------------------------\u001b[0m",
      "\u001b[0;31mKeyboardInterrupt\u001b[0m                         Traceback (most recent call last)",
      "Cell \u001b[0;32mIn[10], line 8\u001b[0m\n\u001b[1;32m      5\u001b[0m rtt_per_srcs_dst \u001b[39m=\u001b[39m compute_rtts_per_dst_src(PROBES_TO_ANCHORS_PING_TABLE, \u001b[39mfilter\u001b[39m, threshold\u001b[39m=\u001b[39m\u001b[39m50\u001b[39m)\n\u001b[1;32m      7\u001b[0m available_vps \u001b[39m=\u001b[39m \u001b[39mlist\u001b[39m(vp_coordinates_per_ip\u001b[39m.\u001b[39mkeys())\n\u001b[0;32m----> 8\u001b[0m accuracy_vs_nb_vps \u001b[39m=\u001b[39m compute_accuracy_vs_number_of_vps(available_vps, rtt_per_srcs_dst, vp_coordinates_per_ip,\n\u001b[1;32m      9\u001b[0m                                     vp_distance_matrix, subset_sizes)\n\u001b[1;32m     11\u001b[0m dump_json(accuracy_vs_nb_vps, ACCURACY_VS_N_VPS_PROBES_FILE)\n",
      "File \u001b[0;32m~/Documents/geoloc/geoloc-imc-2023/scripts/analysis/analysis.py:265\u001b[0m, in \u001b[0;36mcompute_accuracy_vs_number_of_vps\u001b[0;34m(available_vps, rtt_per_srcs_dst, vp_coordinates_per_ip, vp_distance_matrix, subset_sizes)\u001b[0m\n\u001b[1;32m    263\u001b[0m median_error_cdf \u001b[39m=\u001b[39m []\n\u001b[1;32m    264\u001b[0m \u001b[39mfor\u001b[39;00m trial \u001b[39min\u001b[39;00m \u001b[39mrange\u001b[39m(\u001b[39m0\u001b[39m, \u001b[39m100\u001b[39m):\n\u001b[0;32m--> 265\u001b[0m     median_error \u001b[39m=\u001b[39m compute_accuracy_vs_number_of_vps_impl(\n\u001b[1;32m    266\u001b[0m         rtt_per_srcs_dst,\n\u001b[1;32m    267\u001b[0m         vp_distance_matrix,\n\u001b[1;32m    268\u001b[0m         available_vps,\n\u001b[1;32m    269\u001b[0m         random_n_vp,\n\u001b[1;32m    270\u001b[0m         vp_coordinates_per_ip,\n\u001b[1;32m    271\u001b[0m     )\n\u001b[1;32m    272\u001b[0m     median_error_cdf\u001b[39m.\u001b[39mappend(median_error)\n\u001b[1;32m    273\u001b[0m accuracy_vs_n_vps[random_n_vp] \u001b[39m=\u001b[39m median_error_cdf\n",
      "File \u001b[0;32m~/Documents/geoloc/geoloc-imc-2023/scripts/analysis/analysis.py:234\u001b[0m, in \u001b[0;36mcompute_accuracy_vs_number_of_vps_impl\u001b[0;34m(rtt_per_srcs_dst, vp_distance_matrix, available_vps, random_n_vp, vp_coordinates_per_ip)\u001b[0m\n\u001b[1;32m    232\u001b[0m random_vps \u001b[39m=\u001b[39m random\u001b[39m.\u001b[39msample(available_vps, random_n_vp)\n\u001b[1;32m    233\u001b[0m vps_per_target \u001b[39m=\u001b[39m {x: \u001b[39mlist\u001b[39m(\u001b[39mset\u001b[39m(random_vps)) \u001b[39mfor\u001b[39;00m x \u001b[39min\u001b[39;00m rtt_per_srcs_dst}\n\u001b[0;32m--> 234\u001b[0m features \u001b[39m=\u001b[39m compute_geolocation_features_per_ip(\n\u001b[1;32m    235\u001b[0m     rtt_per_srcs_dst,\n\u001b[1;32m    236\u001b[0m     vp_coordinates_per_ip,\n\u001b[1;32m    237\u001b[0m     [\u001b[39m0\u001b[39;49m],\n\u001b[1;32m    238\u001b[0m     vps_per_target\u001b[39m=\u001b[39;49mvps_per_target,\n\u001b[1;32m    239\u001b[0m     distance_operator\u001b[39m=\u001b[39;49m\u001b[39m\"\u001b[39;49m\u001b[39m>\u001b[39;49m\u001b[39m\"\u001b[39;49m,\n\u001b[1;32m    240\u001b[0m     max_vps\u001b[39m=\u001b[39;49m\u001b[39m100000\u001b[39;49m,\n\u001b[1;32m    241\u001b[0m     is_use_prefix\u001b[39m=\u001b[39;49m\u001b[39mFalse\u001b[39;49;00m,\n\u001b[1;32m    242\u001b[0m     vp_distance_matrix\u001b[39m=\u001b[39;49mvp_distance_matrix,\n\u001b[1;32m    243\u001b[0m     is_multiprocess\u001b[39m=\u001b[39;49m\u001b[39mTrue\u001b[39;49;00m,\n\u001b[1;32m    244\u001b[0m )\n\u001b[1;32m    246\u001b[0m features \u001b[39m=\u001b[39m features[\u001b[39m0\u001b[39m]\n\u001b[1;32m    247\u001b[0m median_error \u001b[39m=\u001b[39m np\u001b[39m.\u001b[39mmedian([x[\u001b[39m1\u001b[39m] \u001b[39mfor\u001b[39;00m x \u001b[39min\u001b[39;00m features \u001b[39mif\u001b[39;00m x[\u001b[39m1\u001b[39m] \u001b[39mis\u001b[39;00m \u001b[39mnot\u001b[39;00m \u001b[39mNone\u001b[39;00m])\n",
      "File \u001b[0;32m~/Documents/geoloc/geoloc-imc-2023/scripts/analysis/analysis.py:189\u001b[0m, in \u001b[0;36mcompute_geolocation_features_per_ip\u001b[0;34m(rtt_per_srcs_dst, vp_coordinates_per_ip, threshold_distances, vps_per_target, distance_operator, max_vps, is_use_prefix, vp_distance_matrix, is_multiprocess)\u001b[0m\n\u001b[1;32m    187\u001b[0m \u001b[39mif\u001b[39;00m is_multiprocess:\n\u001b[1;32m    188\u001b[0m     \u001b[39mwith\u001b[39;00m Pool(\u001b[39m24\u001b[39m) \u001b[39mas\u001b[39;00m p:\n\u001b[0;32m--> 189\u001b[0m         features_all_process \u001b[39m=\u001b[39m p\u001b[39m.\u001b[39;49mstarmap(\n\u001b[1;32m    190\u001b[0m             compute_geolocation_features_per_ip_impl, args[:]\n\u001b[1;32m    191\u001b[0m         )\n\u001b[1;32m    192\u001b[0m         \u001b[39mfor\u001b[39;00m features_process \u001b[39min\u001b[39;00m features_all_process:\n\u001b[1;32m    193\u001b[0m             \u001b[39mfor\u001b[39;00m threshold, dst_error_distances \u001b[39min\u001b[39;00m features_process\u001b[39m.\u001b[39mitems():\n",
      "File \u001b[0;32m/Library/Frameworks/Python.framework/Versions/3.10/lib/python3.10/multiprocessing/pool.py:375\u001b[0m, in \u001b[0;36mPool.starmap\u001b[0;34m(self, func, iterable, chunksize)\u001b[0m\n\u001b[1;32m    369\u001b[0m \u001b[39mdef\u001b[39;00m \u001b[39mstarmap\u001b[39m(\u001b[39mself\u001b[39m, func, iterable, chunksize\u001b[39m=\u001b[39m\u001b[39mNone\u001b[39;00m):\n\u001b[1;32m    370\u001b[0m \u001b[39m    \u001b[39m\u001b[39m'''\u001b[39;00m\n\u001b[1;32m    371\u001b[0m \u001b[39m    Like `map()` method but the elements of the `iterable` are expected to\u001b[39;00m\n\u001b[1;32m    372\u001b[0m \u001b[39m    be iterables as well and will be unpacked as arguments. Hence\u001b[39;00m\n\u001b[1;32m    373\u001b[0m \u001b[39m    `func` and (a, b) becomes func(a, b).\u001b[39;00m\n\u001b[1;32m    374\u001b[0m \u001b[39m    '''\u001b[39;00m\n\u001b[0;32m--> 375\u001b[0m     \u001b[39mreturn\u001b[39;00m \u001b[39mself\u001b[39;49m\u001b[39m.\u001b[39;49m_map_async(func, iterable, starmapstar, chunksize)\u001b[39m.\u001b[39;49mget()\n",
      "File \u001b[0;32m/Library/Frameworks/Python.framework/Versions/3.10/lib/python3.10/multiprocessing/pool.py:768\u001b[0m, in \u001b[0;36mApplyResult.get\u001b[0;34m(self, timeout)\u001b[0m\n\u001b[1;32m    767\u001b[0m \u001b[39mdef\u001b[39;00m \u001b[39mget\u001b[39m(\u001b[39mself\u001b[39m, timeout\u001b[39m=\u001b[39m\u001b[39mNone\u001b[39;00m):\n\u001b[0;32m--> 768\u001b[0m     \u001b[39mself\u001b[39;49m\u001b[39m.\u001b[39;49mwait(timeout)\n\u001b[1;32m    769\u001b[0m     \u001b[39mif\u001b[39;00m \u001b[39mnot\u001b[39;00m \u001b[39mself\u001b[39m\u001b[39m.\u001b[39mready():\n\u001b[1;32m    770\u001b[0m         \u001b[39mraise\u001b[39;00m \u001b[39mTimeoutError\u001b[39;00m\n",
      "File \u001b[0;32m/Library/Frameworks/Python.framework/Versions/3.10/lib/python3.10/multiprocessing/pool.py:765\u001b[0m, in \u001b[0;36mApplyResult.wait\u001b[0;34m(self, timeout)\u001b[0m\n\u001b[1;32m    764\u001b[0m \u001b[39mdef\u001b[39;00m \u001b[39mwait\u001b[39m(\u001b[39mself\u001b[39m, timeout\u001b[39m=\u001b[39m\u001b[39mNone\u001b[39;00m):\n\u001b[0;32m--> 765\u001b[0m     \u001b[39mself\u001b[39;49m\u001b[39m.\u001b[39;49m_event\u001b[39m.\u001b[39;49mwait(timeout)\n",
      "File \u001b[0;32m/Library/Frameworks/Python.framework/Versions/3.10/lib/python3.10/threading.py:607\u001b[0m, in \u001b[0;36mEvent.wait\u001b[0;34m(self, timeout)\u001b[0m\n\u001b[1;32m    605\u001b[0m signaled \u001b[39m=\u001b[39m \u001b[39mself\u001b[39m\u001b[39m.\u001b[39m_flag\n\u001b[1;32m    606\u001b[0m \u001b[39mif\u001b[39;00m \u001b[39mnot\u001b[39;00m signaled:\n\u001b[0;32m--> 607\u001b[0m     signaled \u001b[39m=\u001b[39m \u001b[39mself\u001b[39;49m\u001b[39m.\u001b[39;49m_cond\u001b[39m.\u001b[39;49mwait(timeout)\n\u001b[1;32m    608\u001b[0m \u001b[39mreturn\u001b[39;00m signaled\n",
      "File \u001b[0;32m/Library/Frameworks/Python.framework/Versions/3.10/lib/python3.10/threading.py:320\u001b[0m, in \u001b[0;36mCondition.wait\u001b[0;34m(self, timeout)\u001b[0m\n\u001b[1;32m    318\u001b[0m \u001b[39mtry\u001b[39;00m:    \u001b[39m# restore state no matter what (e.g., KeyboardInterrupt)\u001b[39;00m\n\u001b[1;32m    319\u001b[0m     \u001b[39mif\u001b[39;00m timeout \u001b[39mis\u001b[39;00m \u001b[39mNone\u001b[39;00m:\n\u001b[0;32m--> 320\u001b[0m         waiter\u001b[39m.\u001b[39;49macquire()\n\u001b[1;32m    321\u001b[0m         gotit \u001b[39m=\u001b[39m \u001b[39mTrue\u001b[39;00m\n\u001b[1;32m    322\u001b[0m     \u001b[39melse\u001b[39;00m:\n",
      "\u001b[0;31mKeyboardInterrupt\u001b[0m: "
     ]
    }
   ],
   "source": [
    "subset_sizes = []\n",
    "subset_sizes.extend([i for i in range(100, 1000, 100)])\n",
    "subset_sizes.extend([i for i in range(1000, 10001, 1000)])\n",
    "\n",
    "rtt_per_srcs_dst = compute_rtts_per_dst_src(PROBES_TO_ANCHORS_PING_TABLE, filter, threshold=50)\n",
    "\n",
    "available_vps = list(vp_coordinates_per_ip.keys())\n",
    "accuracy_vs_nb_vps = compute_accuracy_vs_number_of_vps(available_vps, rtt_per_srcs_dst, vp_coordinates_per_ip,\n",
    "                                    vp_distance_matrix, subset_sizes)\n",
    "\n",
    "dump_json(accuracy_vs_nb_vps, ACCURACY_VS_N_VPS_PROBES_FILE)"
   ]
  },
  {
   "cell_type": "markdown",
   "metadata": {},
   "source": [
    "## VPs selection algorithm\n",
    "\n",
    "Select respectively the 1, 3, and 10 closest probes (with minimal round trip time) for each target."
   ]
  },
  {
   "cell_type": "code",
   "execution_count": null,
   "metadata": {},
   "outputs": [],
   "source": [
    "all_probes = load_json(PROBES_AND_ANCHORS_FILE)\n",
    "\n",
    "vp_coordinates_per_ip, ip_per_coordinates, country_per_vp, asn_per_vp, vp_distance_matrix, probes_per_ip = compute_geo_info(all_probes, PAIRWISE_DISTANCE_FILE)"
   ]
  },
  {
   "cell_type": "code",
   "execution_count": null,
   "metadata": {},
   "outputs": [],
   "source": [
    "ping_table_prefix = PROBES_TO_PREFIX_TABLE\n",
    "ping_table = PROBES_TO_ANCHORS_PING_TABLE\n",
    "N_VPS_SELECTION_ALGORITHM = [1, 3, 10]\n",
    "results_files = [VP_SELECTION_ALGORITHM_PROBES_1_FILE, VP_SELECTION_ALGORITHM_PROBES_3_FILE, VP_SELECTION_ALGORITHM_PROBES_10_FILE]\n",
    "\n",
    "rtt_per_srcs_dst_prefix = compute_rtts_per_dst_src(ping_table_prefix, filter, threshold=100, is_per_prefix=True)\n",
    "rtt_per_srcs_dst = compute_rtts_per_dst_src(ping_table, filter, threshold=70)\n",
    "\n",
    "for i, n_vp in enumerate(N_VPS_SELECTION_ALGORITHM):\n",
    "    vps_per_target, _ = compute_closest_rtt_probes(rtt_per_srcs_dst_prefix,\n",
    "                                                    vp_coordinates_per_ip,\n",
    "                                                    vp_distance_matrix,\n",
    "                                                    n_shortest=n_vp,\n",
    "                                                    is_prefix=True)\n",
    "    features = compute_geolocation_features_per_ip(rtt_per_srcs_dst, vp_coordinates_per_ip,\n",
    "                                                    [0],\n",
    "                                                    vps_per_target=vps_per_target,\n",
    "                                                    distance_operator=\">\", max_vps=100000,\n",
    "                                                    is_use_prefix=True,\n",
    "                                                    vp_distance_matrix=vp_distance_matrix,\n",
    "                                                    is_multiprocess=True)\n",
    "    \n",
    "    ofile = results_files[i]\n",
    "    dump_json(features, ofile)"
   ]
  }
 ],
 "metadata": {
  "kernelspec": {
   "display_name": "review-fXCvvitn-py3.10",
   "language": "python",
   "name": "python3"
  },
  "language_info": {
   "codemirror_mode": {
    "name": "ipython",
    "version": 3
   },
   "file_extension": ".py",
   "mimetype": "text/x-python",
   "name": "python",
   "nbconvert_exporter": "python",
   "pygments_lexer": "ipython3",
   "version": "3.10.9"
  },
  "orig_nbformat": 4
 },
 "nbformat": 4,
 "nbformat_minor": 2
}

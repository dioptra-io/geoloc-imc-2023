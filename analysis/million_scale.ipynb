{
 "cells": [
  {
   "cell_type": "markdown",
   "metadata": {},
   "source": [
    "# First step of the analysis\n",
    "\n",
    "Preprocess results and save them before they can be plotted.  \n",
    "\n",
    "To do after measurements notebooks"
   ]
  },
  {
   "cell_type": "code",
   "execution_count": 5,
   "metadata": {},
   "outputs": [],
   "source": [
    "from scripts.utils.file_utils import load_json, dump_json\n",
    "from scripts.analysis.analysis import *\n",
    "from default import (\n",
    "    REPRO_PROBES_FILE, \n",
    "    REPRO_PROBES_AND_ANCHORS_FILE,\n",
    "    PAIRWISE_DISTANCE_FILE,\n",
    "    THRESHOLD_DISTANCES,\n",
    "    PROBES_TO_ANCHORS_RESULT_FILE,\n",
    "    GREEDY_PROBES_FILE,\n",
    "    ROUND_BASED_ALGORITHM_FILE,\n",
    "    ACCURACY_VS_N_VPS_PROBES_FILE,\n",
    "    PROBES_TO_ANCHORS_PING_TABLE,\n",
    "    PROBES_TO_PREFIX_TABLE,\n",
    ")"
   ]
  },
  {
   "cell_type": "code",
   "execution_count": 6,
   "metadata": {},
   "outputs": [],
   "source": [
    "filtered_probes = load_json(REPRO_PROBES_FILE)\n",
    "\n",
    "filter = \"\"\n",
    "if len(filtered_probes) > 0:\n",
    "    # Remove probes that are wrongly geolocated\n",
    "    in_clause = f\"\".join(\n",
    "        [f\",toIPv4('{p}')\" for p in filtered_probes])[1:]\n",
    "    filter += f\"AND dst not in ({in_clause}) AND src not in ({in_clause}) \"\n"
   ]
  },
  {
   "cell_type": "markdown",
   "metadata": {},
   "source": [
    "## Compute errors\n",
    "\n",
    "Compute the median error between the guessed geolocations and the real geolocations"
   ]
  },
  {
   "cell_type": "code",
   "execution_count": 8,
   "metadata": {},
   "outputs": [],
   "source": [
    "all_probes = load_json(REPRO_PROBES_AND_ANCHORS_FILE)\n",
    "vp_coordinates_per_ip, ip_per_coordinates, country_per_vp, asn_per_vp, vp_distance_matrix, probes_per_ip = compute_geo_info(all_probes, PAIRWISE_DISTANCE_FILE)"
   ]
  },
  {
   "cell_type": "code",
   "execution_count": 9,
   "metadata": {},
   "outputs": [
    {
     "ename": "ServerException",
     "evalue": "Code: 62.\nDB::Exception: Syntax error: failed at position 215 ('('): (toIPv4('{'address_v4': '45.138.229.91', 'address_v6': '2a10:3781:e22:1:220:4aff:fec8:23d7', 'asn_v4': 206238, 'asn_v6': 206238, 'country_code': 'NL', 'descript. Unmatched parentheses: ((. Stack trace:\n\n0. DB::Exception::Exception(std::__1::basic_string<char, std::__1::char_traits<char>, std::__1::allocator<char> > const&, int, bool) @ 0x8e2c788 in /usr/bin/clickhouse\n1. DB::parseQueryAndMovePosition(DB::IParser&, char const*&, char const*, std::__1::basic_string<char, std::__1::char_traits<char>, std::__1::allocator<char> > const&, bool, unsigned long, unsigned long) @ 0x12e4bfec in /usr/bin/clickhouse\n2. ? @ 0x11ea8088 in /usr/bin/clickhouse\n3. DB::executeQuery(std::__1::basic_string<char, std::__1::char_traits<char>, std::__1::allocator<char> > const&, std::__1::shared_ptr<DB::Context>, bool, DB::QueryProcessingStage::Enum) @ 0x11ea7c3c in /usr/bin/clickhouse\n4. DB::TCPHandler::runImpl() @ 0x128468c4 in /usr/bin/clickhouse\n5. DB::TCPHandler::run() @ 0x12858aa4 in /usr/bin/clickhouse\n6. Poco::Net::TCPServerConnection::start() @ 0x1347b160 in /usr/bin/clickhouse\n7. Poco::Net::TCPServerDispatcher::run() @ 0x1347c6d8 in /usr/bin/clickhouse\n8. Poco::PooledThread::run() @ 0x13664fb0 in /usr/bin/clickhouse\n9. Poco::ThreadImpl::runnableEntry(void*) @ 0x13662944 in /usr/bin/clickhouse\n10. start_thread @ 0x7624 in /usr/lib/aarch64-linux-gnu/libpthread-2.31.so\n11. ? @ 0xd149c in /usr/lib/aarch64-linux-gnu/libc-2.31.so\n",
     "output_type": "error",
     "traceback": [
      "\u001b[0;31m---------------------------------------------------------------------------\u001b[0m",
      "\u001b[0;31mServerException\u001b[0m                           Traceback (most recent call last)",
      "Cell \u001b[0;32mIn[9], line 1\u001b[0m\n\u001b[0;32m----> 1\u001b[0m rtt_per_srcs_dst \u001b[39m=\u001b[39m compute_rtts_per_dst_src(PROBES_TO_ANCHORS_PING_TABLE, \u001b[39mfilter\u001b[39;49m, threshold\u001b[39m=\u001b[39;49m\u001b[39m70\u001b[39;49m)\n\u001b[1;32m      3\u001b[0m vps_per_target \u001b[39m=\u001b[39m {dst: \u001b[39mset\u001b[39m(vp_coordinates_per_ip\u001b[39m.\u001b[39mkeys())\n\u001b[1;32m      4\u001b[0m                     \u001b[39mfor\u001b[39;00m dst \u001b[39min\u001b[39;00m rtt_per_srcs_dst}\n\u001b[1;32m      5\u001b[0m features \u001b[39m=\u001b[39m compute_geolocation_features_per_ip(rtt_per_srcs_dst, vp_coordinates_per_ip, THRESHOLD_DISTANCES,\n\u001b[1;32m      6\u001b[0m                                                 vps_per_target\u001b[39m=\u001b[39mvps_per_target,\n\u001b[1;32m      7\u001b[0m                                                 distance_operator\u001b[39m=\u001b[39m\u001b[39m\"\u001b[39m\u001b[39m>\u001b[39m\u001b[39m\"\u001b[39m, max_vps\u001b[39m=\u001b[39m\u001b[39m100000\u001b[39m,\n\u001b[1;32m      8\u001b[0m                                                 is_use_prefix\u001b[39m=\u001b[39m\u001b[39mFalse\u001b[39;00m,\n\u001b[1;32m      9\u001b[0m                                                 vp_distance_matrix\u001b[39m=\u001b[39mvp_distance_matrix,\n\u001b[1;32m     10\u001b[0m                                                 )\n",
      "File \u001b[0;32m~/Documents/geoloc/geoloc-imc-2023/scripts/analysis/analysis.py:290\u001b[0m, in \u001b[0;36mcompute_rtts_per_dst_src\u001b[0;34m(table, filter, threshold, is_per_prefix)\u001b[0m\n\u001b[1;32m    288\u001b[0m rows \u001b[39m=\u001b[39m client\u001b[39m.\u001b[39mexecute_iter(query, settings\u001b[39m=\u001b[39msettings)\n\u001b[1;32m    289\u001b[0m rtt_per_srcs_dst \u001b[39m=\u001b[39m {}\n\u001b[0;32m--> 290\u001b[0m \u001b[39mfor\u001b[39;00m dst, src, min_rtt \u001b[39min\u001b[39;00m rows:\n\u001b[1;32m    291\u001b[0m     rtt_per_srcs_dst\u001b[39m.\u001b[39msetdefault(dst, {})[src] \u001b[39m=\u001b[39m [min_rtt]\n\u001b[1;32m    292\u001b[0m client\u001b[39m.\u001b[39mdisconnect()\n",
      "File \u001b[0;32m~/Library/Caches/pypoetry/virtualenvs/geoscale-vuwYL6YT-py3.10/lib/python3.10/site-packages/clickhouse_driver/client.py:213\u001b[0m, in \u001b[0;36mClient.iter_receive_result\u001b[0;34m(self, with_column_types)\u001b[0m\n\u001b[1;32m    207\u001b[0m gen \u001b[39m=\u001b[39m \u001b[39mself\u001b[39m\u001b[39m.\u001b[39mpacket_generator()\n\u001b[1;32m    209\u001b[0m result \u001b[39m=\u001b[39m \u001b[39mself\u001b[39m\u001b[39m.\u001b[39miter_query_result_cls(\n\u001b[1;32m    210\u001b[0m     gen, with_column_types\u001b[39m=\u001b[39mwith_column_types\n\u001b[1;32m    211\u001b[0m )\n\u001b[0;32m--> 213\u001b[0m \u001b[39mfor\u001b[39;00m rows \u001b[39min\u001b[39;00m result:\n\u001b[1;32m    214\u001b[0m     \u001b[39mfor\u001b[39;00m row \u001b[39min\u001b[39;00m rows:\n\u001b[1;32m    215\u001b[0m         \u001b[39myield\u001b[39;00m row\n",
      "File \u001b[0;32m~/Library/Caches/pypoetry/virtualenvs/geoscale-vuwYL6YT-py3.10/lib/python3.10/site-packages/clickhouse_driver/result.py:114\u001b[0m, in \u001b[0;36mIterQueryResult.__next__\u001b[0;34m(self)\u001b[0m\n\u001b[1;32m    113\u001b[0m \u001b[39mdef\u001b[39;00m \u001b[39m__next__\u001b[39m(\u001b[39mself\u001b[39m):\n\u001b[0;32m--> 114\u001b[0m     packet \u001b[39m=\u001b[39m \u001b[39mnext\u001b[39;49m(\u001b[39mself\u001b[39;49m\u001b[39m.\u001b[39;49mpacket_generator)\n\u001b[1;32m    115\u001b[0m     block \u001b[39m=\u001b[39m \u001b[39mgetattr\u001b[39m(packet, \u001b[39m'\u001b[39m\u001b[39mblock\u001b[39m\u001b[39m'\u001b[39m, \u001b[39mNone\u001b[39;00m)\n\u001b[1;32m    116\u001b[0m     \u001b[39mif\u001b[39;00m block \u001b[39mis\u001b[39;00m \u001b[39mNone\u001b[39;00m:\n",
      "File \u001b[0;32m~/Library/Caches/pypoetry/virtualenvs/geoscale-vuwYL6YT-py3.10/lib/python3.10/site-packages/clickhouse_driver/client.py:220\u001b[0m, in \u001b[0;36mClient.packet_generator\u001b[0;34m(self)\u001b[0m\n\u001b[1;32m    218\u001b[0m \u001b[39mwhile\u001b[39;00m \u001b[39mTrue\u001b[39;00m:\n\u001b[1;32m    219\u001b[0m     \u001b[39mtry\u001b[39;00m:\n\u001b[0;32m--> 220\u001b[0m         packet \u001b[39m=\u001b[39m \u001b[39mself\u001b[39;49m\u001b[39m.\u001b[39;49mreceive_packet()\n\u001b[1;32m    221\u001b[0m         \u001b[39mif\u001b[39;00m \u001b[39mnot\u001b[39;00m packet:\n\u001b[1;32m    222\u001b[0m             \u001b[39mbreak\u001b[39;00m\n",
      "File \u001b[0;32m~/Library/Caches/pypoetry/virtualenvs/geoscale-vuwYL6YT-py3.10/lib/python3.10/site-packages/clickhouse_driver/client.py:237\u001b[0m, in \u001b[0;36mClient.receive_packet\u001b[0;34m(self)\u001b[0m\n\u001b[1;32m    234\u001b[0m packet \u001b[39m=\u001b[39m \u001b[39mself\u001b[39m\u001b[39m.\u001b[39mconnection\u001b[39m.\u001b[39mreceive_packet()\n\u001b[1;32m    236\u001b[0m \u001b[39mif\u001b[39;00m packet\u001b[39m.\u001b[39mtype \u001b[39m==\u001b[39m ServerPacketTypes\u001b[39m.\u001b[39mEXCEPTION:\n\u001b[0;32m--> 237\u001b[0m     \u001b[39mraise\u001b[39;00m packet\u001b[39m.\u001b[39mexception\n\u001b[1;32m    239\u001b[0m \u001b[39melif\u001b[39;00m packet\u001b[39m.\u001b[39mtype \u001b[39m==\u001b[39m ServerPacketTypes\u001b[39m.\u001b[39mPROGRESS:\n\u001b[1;32m    240\u001b[0m     \u001b[39mself\u001b[39m\u001b[39m.\u001b[39mlast_query\u001b[39m.\u001b[39mstore_progress(packet\u001b[39m.\u001b[39mprogress)\n",
      "\u001b[0;31mServerException\u001b[0m: Code: 62.\nDB::Exception: Syntax error: failed at position 215 ('('): (toIPv4('{'address_v4': '45.138.229.91', 'address_v6': '2a10:3781:e22:1:220:4aff:fec8:23d7', 'asn_v4': 206238, 'asn_v6': 206238, 'country_code': 'NL', 'descript. Unmatched parentheses: ((. Stack trace:\n\n0. DB::Exception::Exception(std::__1::basic_string<char, std::__1::char_traits<char>, std::__1::allocator<char> > const&, int, bool) @ 0x8e2c788 in /usr/bin/clickhouse\n1. DB::parseQueryAndMovePosition(DB::IParser&, char const*&, char const*, std::__1::basic_string<char, std::__1::char_traits<char>, std::__1::allocator<char> > const&, bool, unsigned long, unsigned long) @ 0x12e4bfec in /usr/bin/clickhouse\n2. ? @ 0x11ea8088 in /usr/bin/clickhouse\n3. DB::executeQuery(std::__1::basic_string<char, std::__1::char_traits<char>, std::__1::allocator<char> > const&, std::__1::shared_ptr<DB::Context>, bool, DB::QueryProcessingStage::Enum) @ 0x11ea7c3c in /usr/bin/clickhouse\n4. DB::TCPHandler::runImpl() @ 0x128468c4 in /usr/bin/clickhouse\n5. DB::TCPHandler::run() @ 0x12858aa4 in /usr/bin/clickhouse\n6. Poco::Net::TCPServerConnection::start() @ 0x1347b160 in /usr/bin/clickhouse\n7. Poco::Net::TCPServerDispatcher::run() @ 0x1347c6d8 in /usr/bin/clickhouse\n8. Poco::PooledThread::run() @ 0x13664fb0 in /usr/bin/clickhouse\n9. Poco::ThreadImpl::runnableEntry(void*) @ 0x13662944 in /usr/bin/clickhouse\n10. start_thread @ 0x7624 in /usr/lib/aarch64-linux-gnu/libpthread-2.31.so\n11. ? @ 0xd149c in /usr/lib/aarch64-linux-gnu/libc-2.31.so\n"
     ]
    }
   ],
   "source": [
    "rtt_per_srcs_dst = compute_rtts_per_dst_src(PROBES_TO_ANCHORS_PING_TABLE, filter, threshold=70)\n",
    "\n",
    "vps_per_target = {dst: set(vp_coordinates_per_ip.keys())\n",
    "                    for dst in rtt_per_srcs_dst}\n",
    "features = compute_geolocation_features_per_ip(rtt_per_srcs_dst, vp_coordinates_per_ip, THRESHOLD_DISTANCES,\n",
    "                                                vps_per_target=vps_per_target,\n",
    "                                                distance_operator=\">\", max_vps=100000,\n",
    "                                                is_use_prefix=False,\n",
    "                                                vp_distance_matrix=vp_distance_matrix,\n",
    "                                                )\n",
    "\n",
    "dump_json(features, PROBES_TO_ANCHORS_RESULT_FILE)"
   ]
  },
  {
   "cell_type": "markdown",
   "metadata": {},
   "source": [
    "## Round Algorithm\n",
    "\n",
    "First is to use a subset of greedy probes, and then take 1 probe/AS in the given CBG area to compute the median error."
   ]
  },
  {
   "cell_type": "code",
   "execution_count": null,
   "metadata": {},
   "outputs": [],
   "source": [
    "all_probes = load_json(REPRO_PROBES_AND_ANCHORS_FILE)\n",
    "\n",
    "asn_per_vp_ip = {}\n",
    "vp_coordinates_per_ip = {}\n",
    "\n",
    "for probe in all_probes:\n",
    "    if \"address_v4\" in probe and \"geometry\" in probe and \"coordinates\" in probe[\"geometry\"]:\n",
    "        ip_v4_address = probe[\"address_v4\"]\n",
    "        if ip_v4_address is None:\n",
    "            continue\n",
    "        long, lat = probe[\"geometry\"][\"coordinates\"]\n",
    "        asn_v4 = probe[\"asn_v4\"]\n",
    "        asn_per_vp_ip[ip_v4_address] = asn_v4\n",
    "        vp_coordinates_per_ip[ip_v4_address] = lat, long\n"
   ]
  },
  {
   "cell_type": "code",
   "execution_count": null,
   "metadata": {},
   "outputs": [],
   "source": [
    "# clickhouse is required here\n",
    "rtt_per_srcs_dst = compute_rtts_per_dst_src(PROBES_TO_ANCHORS_PING_TABLE, filter, threshold=100)"
   ]
  },
  {
   "cell_type": "code",
   "execution_count": null,
   "metadata": {},
   "outputs": [],
   "source": [
    "TIER1_VPS = [10, 100, 300, 500, 1000]\n",
    "greedy_probes = load_json(GREEDY_PROBES_FILE)\n",
    "error_cdf_per_tier1_vps = {}\n",
    "for tier1_vps in TIER1_VPS:\n",
    "    print(f\"Using {tier1_vps} tier1_vps\")\n",
    "    error_cdf = round_based_algorithm(greedy_probes, rtt_per_srcs_dst, vp_coordinates_per_ip,\n",
    "                                        asn_per_vp_ip,\n",
    "                                        tier1_vps,\n",
    "                                        threshold=40)\n",
    "    error_cdf_per_tier1_vps[tier1_vps] = error_cdf\n",
    "    \n",
    "dump_json(error_cdf_per_tier1_vps, ROUND_BASED_ALGORITHM_FILE)"
   ]
  },
  {
   "cell_type": "markdown",
   "metadata": {},
   "source": [
    "## Accuracy vs number of vps probes\n",
    "WARNING : Time consumming section  \n",
    "\n",
    "Compute median error for each target, depending on the number of initial VPs."
   ]
  },
  {
   "cell_type": "code",
   "execution_count": null,
   "metadata": {},
   "outputs": [],
   "source": [
    "all_probes = load_json(PROBES_AND_ANCHORS_FILE)\n",
    "\n",
    "vp_coordinates_per_ip, ip_per_coordinates, country_per_vp, asn_per_vp, \\\n",
    "        vp_distance_matrix, probe_per_ip = compute_geo_info(\n",
    "            all_probes, serialized_file=PAIRWISE_DISTANCE_FILE)"
   ]
  },
  {
   "cell_type": "code",
   "execution_count": null,
   "metadata": {},
   "outputs": [],
   "source": [
    "subset_sizes = []\n",
    "subset_sizes.extend([i for i in range(100, 1000, 100)])\n",
    "subset_sizes.extend([i for i in range(1000, 10001, 1000)])\n",
    "\n",
    "rtt_per_srcs_dst = compute_rtts_per_dst_src(PROBES_TO_ANCHORS_PING_TABLE, filter, threshold=50)\n",
    "\n",
    "available_vps = list(vp_coordinates_per_ip.keys())\n",
    "accuracy_vs_nb_vps = compute_accuracy_vs_number_of_vps(available_vps, rtt_per_srcs_dst, vp_coordinates_per_ip,\n",
    "                                    vp_distance_matrix, subset_sizes)\n",
    "\n",
    "dump_json(accuracy_vs_nb_vps, ACCURACY_VS_N_VPS_PROBES_FILE)"
   ]
  },
  {
   "cell_type": "markdown",
   "metadata": {},
   "source": [
    "## VPs selection algorithm\n",
    "\n",
    "Select respectively the 1, 3, and 10 closest probes (with minimal round trip time) for each target."
   ]
  },
  {
   "cell_type": "code",
   "execution_count": null,
   "metadata": {},
   "outputs": [],
   "source": [
    "all_probes = load_json(PROBES_AND_ANCHORS_FILE)\n",
    "\n",
    "vp_coordinates_per_ip, ip_per_coordinates, country_per_vp, asn_per_vp, vp_distance_matrix, probes_per_ip = compute_geo_info(all_probes, PAIRWISE_DISTANCE_FILE)"
   ]
  },
  {
   "cell_type": "code",
   "execution_count": null,
   "metadata": {},
   "outputs": [],
   "source": [
    "ping_table_prefix = PROBES_TO_PREFIX_TABLE\n",
    "ping_table = PROBES_TO_ANCHORS_PING_TABLE\n",
    "N_VPS_SELECTION_ALGORITHM = [1, 3, 10]\n",
    "results_files = [VP_SELECTION_ALGORITHM_PROBES_1_FILE, VP_SELECTION_ALGORITHM_PROBES_3_FILE, VP_SELECTION_ALGORITHM_PROBES_10_FILE]\n",
    "\n",
    "rtt_per_srcs_dst_prefix = compute_rtts_per_dst_src(ping_table_prefix, filter, threshold=100, is_per_prefix=True)\n",
    "rtt_per_srcs_dst = compute_rtts_per_dst_src(ping_table, filter, threshold=70)\n",
    "\n",
    "for i, n_vp in enumerate(N_VPS_SELECTION_ALGORITHM):\n",
    "    vps_per_target, _ = compute_closest_rtt_probes(rtt_per_srcs_dst_prefix,\n",
    "                                                    vp_coordinates_per_ip,\n",
    "                                                    vp_distance_matrix,\n",
    "                                                    n_shortest=n_vp,\n",
    "                                                    is_prefix=True)\n",
    "    features = compute_geolocation_features_per_ip(rtt_per_srcs_dst, vp_coordinates_per_ip,\n",
    "                                                    [0],\n",
    "                                                    vps_per_target=vps_per_target,\n",
    "                                                    distance_operator=\">\", max_vps=100000,\n",
    "                                                    is_use_prefix=True,\n",
    "                                                    vp_distance_matrix=vp_distance_matrix,\n",
    "                                                    is_multiprocess=True)\n",
    "    \n",
    "    ofile = results_files[i]\n",
    "    dump_json(features, ofile)"
   ]
  }
 ],
 "metadata": {
  "kernelspec": {
   "display_name": "review-fXCvvitn-py3.10",
   "language": "python",
   "name": "python3"
  },
  "language_info": {
   "codemirror_mode": {
    "name": "ipython",
    "version": 3
   },
   "file_extension": ".py",
   "mimetype": "text/x-python",
   "name": "python",
   "nbconvert_exporter": "python",
   "pygments_lexer": "ipython3",
   "version": "3.10.9"
  },
  "orig_nbformat": 4
 },
 "nbformat": 4,
 "nbformat_minor": 2
}

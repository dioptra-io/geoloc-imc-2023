{
 "cells": [
  {
   "cell_type": "code",
   "execution_count": null,
   "metadata": {},
   "outputs": [],
   "source": [
    "from utils.measurement_utils import load_json, dump_json\n",
    "from utils.common import compute_geo_info, compute_rtts_per_dst_src, compute_remove_wrongly_geolocated_probes\n",
    "from default import ANCHORS_FILE, PROBES_FILE, PROBES_AND_ANCHORS_FILE, REMOVED_PROBES_FILE, ANCHORS_MESHED_PING_TABLE, PROBES_TO_ANCHORS_PING_TABLE, PAIRWISE_DISTANCE_FILE"
   ]
  },
  {
   "cell_type": "markdown",
   "metadata": {},
   "source": [
    "## Find probes that disrespect the internet speed rule"
   ]
  },
  {
   "cell_type": "code",
   "execution_count": null,
   "metadata": {},
   "outputs": [],
   "source": [
    "anchors = load_json(ANCHORS_FILE)\n",
    "probes = load_json(PROBES_FILE)\n",
    "all_probes = load_json(PROBES_AND_ANCHORS_FILE)"
   ]
  },
  {
   "cell_type": "code",
   "execution_count": null,
   "metadata": {},
   "outputs": [],
   "source": [
    "vp_coordinates_per_ip, ip_per_coordinates, country_per_vp, asn_per_vp, \\\n",
    "    vp_distance_matrix, probe_per_ip = compute_geo_info(\n",
    "        all_probes, serialized_file=PAIRWISE_DISTANCE_FILE)"
   ]
  },
  {
   "cell_type": "code",
   "execution_count": null,
   "metadata": {},
   "outputs": [],
   "source": [
    "removed_probes = set()\n",
    "\n",
    "\n",
    "rtt_per_srcs_dst = compute_rtts_per_dst_src(\n",
    "    ANCHORS_MESHED_PING_TABLE, filter, threshold=300)\n",
    "removed_anchors = compute_remove_wrongly_geolocated_probes(rtt_per_srcs_dst,\n",
    "                                                            vp_coordinates_per_ip,\n",
    "                                                            vp_distance_matrix,\n",
    "                                                            removed_anchors=set())\n",
    "\n",
    "# Remove the probes to compute the removed probes\n",
    "vp_coordinates_per_ip = {ip: vp_coordinates_per_ip[ip]\n",
    "                            for ip in vp_coordinates_per_ip\n",
    "                            if ip not in removed_anchors}\n",
    "\n",
    "rtt_per_srcs_dst = compute_rtts_per_dst_src(\n",
    "    PROBES_TO_ANCHORS_PING_TABLE, filter, threshold=300)\n",
    "removed_probes = compute_remove_wrongly_geolocated_probes(rtt_per_srcs_dst,\n",
    "                                                            vp_coordinates_per_ip,\n",
    "                                                            vp_distance_matrix,\n",
    "                                                            removed_anchors)\n",
    "\n",
    "removed_probes.update(removed_anchors)\n",
    "\n",
    "print(f\"Removing {len(removed_probes)} probes\")\n",
    "dump_json(list(removed_probes), REMOVED_PROBES_FILE)"
   ]
  }
 ],
 "metadata": {
  "language_info": {
   "name": "python"
  },
  "orig_nbformat": 4
 },
 "nbformat": 4,
 "nbformat_minor": 2
}

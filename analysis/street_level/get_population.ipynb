{
 "cells": [
  {
   "cell_type": "code",
   "execution_count": 1,
   "metadata": {},
   "outputs": [],
   "source": [
    "import csv\n",
    "import requests\n",
    "\n",
    "from subprocess import Popen, PIPE, STDOUT\n",
    "from pprint import pprint\n",
    "\n",
    "from utils.file_utils import load_json, dump_json\n",
    "from default import GOOD_ANCHORS_FILE, POPULATION_CITY_FILE, CITIES_500_FILE"
   ]
  },
  {
   "cell_type": "markdown",
   "metadata": {},
   "source": [
    "## City coordinates"
   ]
  },
  {
   "cell_type": "code",
   "execution_count": null,
   "metadata": {},
   "outputs": [],
   "source": [
    "good_anchors = load_json(GOOD_ANCHORS_FILE)"
   ]
  },
  {
   "cell_type": "code",
   "execution_count": null,
   "metadata": {},
   "outputs": [],
   "source": [
    "anchors_with_location = []\n",
    "\n",
    "for anchor in good_anchors:\n",
    "    ip = anchor['address_v4']\n",
    "    lat = anchor['geometry']['coordinates'][1]\n",
    "    lon = anchor['geometry']['coordinates'][0]\n",
    "    country_code = anchor['country_code']\n",
    "    anchors_with_location.append({'target_ip': ip, 'lat': lat, 'lon': lon,\n",
    "                'country_code': country_code})\n",
    "\n",
    "\n",
    "for anchor in anchors_with_location:\n",
    "    if 'city' in anchor:\n",
    "        anchors_with_location.append(anchor)\n",
    "    else:\n",
    "        url = f\"http://nominatim.openstreetmap.org/reverse?format=geojson&lat={anchor['lat']}&lon={anchor['lon']}\"\n",
    "        r = requests.get(url)\n",
    "        elem = r.json()\n",
    "        if 'features' not in elem or len(elem['features']) != 1:\n",
    "            continue\n",
    "        info = elem['features'][0]\n",
    "        if 'properties' not in info or 'address' not in info['properties']:\n",
    "            continue\n",
    "        address = info['properties']['address']\n",
    "        if 'city' in address:\n",
    "            anchor['city'] = address['city']\n",
    "        elif 'village' in address:\n",
    "            anchor['city'] = address['village']\n",
    "        elif 'town' in address:\n",
    "            anchor['city'] = address['town']\n",
    "        elif 'country' in address:\n",
    "            anchor['city'] = address['country']\n",
    "        else:\n",
    "            pprint(info)\n",
    "            break\n",
    "        anchors_with_location.append(anchor)\n",
    "\n",
    "\n",
    "dump_json(anchors_with_location, POPULATION_CITY_FILE)"
   ]
  },
  {
   "cell_type": "markdown",
   "metadata": {},
   "source": [
    "## test"
   ]
  },
  {
   "cell_type": "code",
   "execution_count": null,
   "metadata": {},
   "outputs": [],
   "source": [
    "anchors_with_pop = load_json(POPULATION_CITY_FILE)\n",
    "\n",
    "max_pop = 0\n",
    "max_v = None\n",
    "for p in anchors_with_pop:\n",
    "    if p['density'] > max_pop:\n",
    "        max_pop = p['density']\n",
    "        max_v = p\n",
    "\n",
    "pprint(max_v)"
   ]
  },
  {
   "cell_type": "markdown",
   "metadata": {},
   "source": [
    "## City population"
   ]
  },
  {
   "cell_type": "code",
   "execution_count": null,
   "metadata": {},
   "outputs": [],
   "source": [
    "anchors_with_pop = load_json(POPULATION_CITY_FILE)"
   ]
  },
  {
   "cell_type": "code",
   "execution_count": null,
   "metadata": {},
   "outputs": [],
   "source": [
    "population_threshold = 100000\n",
    "population_by_city = {}\n",
    "\n",
    "with open(CITIES_500_FILE) as csvfile:\n",
    "    reader = csv.reader(csvfile, delimiter=\"\\t\", quotechar='\"', )\n",
    "    next(reader, None)\n",
    "    for row in reader:\n",
    "        city = row[1]\n",
    "        ascii_city = row[2]\n",
    "        # Iso2 code\n",
    "        country = row[8]\n",
    "        population = row[14]\n",
    "        city_key = f\"{city}_{country}\"\n",
    "        ascii_city_key = f\"{ascii_city}_{country}\"\n",
    "        if population != \"\":\n",
    "            population = int(float(population))\n",
    "            if population >= population_threshold:\n",
    "                population_by_city[ascii_city_key] = population\n",
    "                population_by_city[city_key] = population\n",
    "\n",
    "\n",
    "print(len(population_by_city))"
   ]
  },
  {
   "cell_type": "code",
   "execution_count": null,
   "metadata": {},
   "outputs": [],
   "source": [
    "for anchor in anchors_with_pop:\n",
    "    try:\n",
    "        anchor['population'] = population_by_city[f\"{anchor['city']}_{anchor['country_code']}\"]\n",
    "    except:\n",
    "        try:\n",
    "            cmd = f\"cat {CITIES_500_FILE} | grep \\\"{anchor['city']}\\\"\"\n",
    "            print(cmd)\n",
    "            process = Popen(cmd, stdout=PIPE, stderr=STDOUT, shell=True)\n",
    "            output, err = process.communicate()\n",
    "            row = output.decode().split(\"\\t\")\n",
    "            anchor['population'] = int(row[14])\n",
    "            anchors_with_pop.append(anchor)\n",
    "        except Exception as e:\n",
    "            pprint(e)\n",
    "            pprint(row)\n",
    "            pprint(anchor)\n",
    "            print(f\"{anchor['lat']}, {anchor['lon']}\")\n",
    "            anchor['population'] = 0\n",
    "            anchors_with_pop.append(anchor)\n",
    "\n",
    "\n",
    "dump_json(anchors_with_pop, POPULATION_CITY_FILE)"
   ]
  }
 ],
 "metadata": {
  "kernelspec": {
   "display_name": "review-bH8GUATB-py3.10",
   "language": "python",
   "name": "python3"
  },
  "language_info": {
   "codemirror_mode": {
    "name": "ipython",
    "version": 3
   },
   "file_extension": ".py",
   "mimetype": "text/x-python",
   "name": "python",
   "nbconvert_exporter": "python",
   "pygments_lexer": "ipython3",
   "version": "3.10.0"
  },
  "orig_nbformat": 4
 },
 "nbformat": 4,
 "nbformat_minor": 2
}

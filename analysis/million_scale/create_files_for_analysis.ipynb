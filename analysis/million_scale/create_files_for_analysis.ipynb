{
 "cells": [
  {
   "cell_type": "code",
   "execution_count": 1,
   "metadata": {},
   "outputs": [],
   "source": [
    "from utils.file_utils import load_json, dump_json\n",
    "from utils.common import compute_geo_info, compute_rtts_per_dst_src, compute_remove_wrongly_geolocated_anchors\n",
    "from utils.helpers import haversine\n",
    "from default import *"
   ]
  },
  {
   "cell_type": "markdown",
   "metadata": {},
   "source": [
    "## Pairwise files"
   ]
  },
  {
   "cell_type": "markdown",
   "metadata": {},
   "source": [
    "### Probes"
   ]
  },
  {
   "cell_type": "code",
   "execution_count": 3,
   "metadata": {},
   "outputs": [],
   "source": [
    "probes = load_json(PROBES_FILE)"
   ]
  },
  {
   "cell_type": "code",
   "execution_count": null,
   "metadata": {},
   "outputs": [],
   "source": [
    "vp_coordinates_per_ip = {}\n",
    "\n",
    "for probe in probes:\n",
    "    if \"address_v4\" in probe and \"geometry\" in probe and \"coordinates\" in probe[\"geometry\"]:\n",
    "        ip_v4_address = probe[\"address_v4\"]\n",
    "        if ip_v4_address is None:\n",
    "            continue\n",
    "        long, lat = probe[\"geometry\"][\"coordinates\"]\n",
    "        vp_coordinates_per_ip[ip_v4_address] = lat, long\n",
    "\n",
    "\n",
    "vp_distance_matrix = {}\n",
    "vp_coordinates_per_ip_l = sorted(\n",
    "    vp_coordinates_per_ip.items(), key=lambda x: x[0])\n",
    "for i in range(len(vp_coordinates_per_ip_l)):\n",
    "    vp_i, vp_i_coordinates = vp_coordinates_per_ip_l[i]\n",
    "    for j in range(len(vp_coordinates_per_ip)):\n",
    "        vp_j, vp_j_coordinates = vp_coordinates_per_ip_l[j]\n",
    "        distance = haversine(vp_i_coordinates, vp_j_coordinates)\n",
    "        vp_distance_matrix.setdefault(vp_i, {})[vp_j] = distance\n",
    "        vp_distance_matrix.setdefault(vp_j, {})[vp_i] = distance\n",
    "\n",
    "\n",
    "dump_json(vp_distance_matrix, PAIRWISE_DISTANCE_PROBE_FILE)"
   ]
  },
  {
   "cell_type": "markdown",
   "metadata": {},
   "source": [
    "### Anchors"
   ]
  },
  {
   "cell_type": "code",
   "execution_count": null,
   "metadata": {},
   "outputs": [],
   "source": [
    "anchors = load_json(ANCHORS_FILE)"
   ]
  },
  {
   "cell_type": "code",
   "execution_count": null,
   "metadata": {},
   "outputs": [],
   "source": [
    "vp_coordinates_per_ip = {}\n",
    "\n",
    "for anchor in anchors:\n",
    "    if \"address_v4\" in anchor and \"geometry\" in anchor and \"coordinates\" in anchor[\"geometry\"]:\n",
    "        ip_v4_address = anchor[\"address_v4\"]\n",
    "        if ip_v4_address is None:\n",
    "            continue\n",
    "        long, lat = anchor[\"geometry\"][\"coordinates\"]\n",
    "        vp_coordinates_per_ip[ip_v4_address] = lat, long\n",
    "\n",
    "\n",
    "vp_distance_matrix = {}\n",
    "vp_coordinates_per_ip_l = sorted(\n",
    "    vp_coordinates_per_ip.items(), key=lambda x: x[0])\n",
    "for i in range(len(vp_coordinates_per_ip_l)):\n",
    "    vp_i, vp_i_coordinates = vp_coordinates_per_ip_l[i]\n",
    "    for j in range(len(vp_coordinates_per_ip)):\n",
    "        vp_j, vp_j_coordinates = vp_coordinates_per_ip_l[j]\n",
    "        distance = haversine(vp_i_coordinates, vp_j_coordinates)\n",
    "        vp_distance_matrix.setdefault(vp_i, {})[vp_j] = distance\n",
    "        vp_distance_matrix.setdefault(vp_j, {})[vp_i] = distance\n",
    "\n",
    "\n",
    "dump_json(vp_distance_matrix, PAIRWISE_DISTANCE_ANCHOR_FILE)"
   ]
  },
  {
   "cell_type": "markdown",
   "metadata": {},
   "source": [
    "## Find probes that disrespect the internet speed rule"
   ]
  },
  {
   "cell_type": "markdown",
   "metadata": {},
   "source": [
    "### Anchors"
   ]
  },
  {
   "cell_type": "code",
   "execution_count": null,
   "metadata": {},
   "outputs": [],
   "source": [
    "anchors = load_json(ANCHORS_FILE)"
   ]
  },
  {
   "cell_type": "code",
   "execution_count": null,
   "metadata": {},
   "outputs": [],
   "source": [
    "vp_coordinates_per_ip = {}\n",
    "\n",
    "for anchor in anchors:\n",
    "    if \"address_v4\" in anchor and \"geometry\" in anchor and \"coordinates\" in anchor[\"geometry\"]:\n",
    "        ip_v4_address = anchor[\"address_v4\"]\n",
    "        if ip_v4_address is None:\n",
    "            continue\n",
    "        long, lat = anchor[\"geometry\"][\"coordinates\"]\n",
    "        vp_coordinates_per_ip[ip_v4_address] = lat, long"
   ]
  },
  {
   "cell_type": "code",
   "execution_count": null,
   "metadata": {},
   "outputs": [],
   "source": [
    "removed_anchors = set()\n",
    "\n",
    "vp_distance_matrix = load_json(PAIRWISE_DISTANCE_ANCHOR_FILE)\n",
    "\n",
    "rtt_per_srcs_dst = compute_rtts_per_dst_src(ANCHORS_MESHED_PING_TABLE, filter, threshold=300)\n",
    "\n",
    "removed_anchors = compute_remove_wrongly_geolocated_probes(rtt_per_srcs_dst,\n",
    "                                                            vp_coordinates_per_ip,\n",
    "                                                            vp_distance_matrix,\n",
    "                                                            removed_anchors)"
   ]
  },
  {
   "cell_type": "markdown",
   "metadata": {},
   "source": [
    "### Probes"
   ]
  },
  {
   "cell_type": "code",
   "execution_count": null,
   "metadata": {},
   "outputs": [],
   "source": [
    "probes = load_json(PROBES_FILE)"
   ]
  },
  {
   "cell_type": "code",
   "execution_count": 5,
   "metadata": {},
   "outputs": [],
   "source": [
    "vp_coordinates_per_ip = {}\n",
    "\n",
    "for probe in probes:\n",
    "    if \"address_v4\" in probe and \"geometry\" in probe and \"coordinates\" in probe[\"geometry\"]:\n",
    "        ip_v4_address = probe[\"address_v4\"]\n",
    "        if ip_v4_address is None:\n",
    "            continue\n",
    "        long, lat = probe[\"geometry\"][\"coordinates\"]\n",
    "        vp_coordinates_per_ip[ip_v4_address] = lat, long"
   ]
  },
  {
   "cell_type": "code",
   "execution_count": null,
   "metadata": {},
   "outputs": [],
   "source": [
    "removed_probes = set()\n",
    "\n",
    "vp_coordinates_per_ip = {ip: vp_coordinates_per_ip[ip]\n",
    "                            for ip in vp_coordinates_per_ip\n",
    "                            if ip not in removed_anchors}\n",
    "\n",
    "rtt_per_srcs_dst = compute_rtts_per_dst_src(PROBES_TO_ANCHORS_PING_TABLE, filter, threshold=300)\n",
    "\n",
    "removed_probes = compute_remove_wrongly_geolocated_probes(rtt_per_srcs_dst,\n",
    "                                                            vp_coordinates_per_ip,\n",
    "                                                            vp_distance_matrix,\n",
    "                                                            removed_anchors)\n",
    "\n",
    "removed_probes.update(removed_anchors)\n",
    "\n",
    "print(f\"Removing {len(removed_probes)} probes\")\n",
    "dump_json(list(removed_probes), REMOVED_PROBES_FILE)"
   ]
  },
  {
   "cell_type": "markdown",
   "metadata": {},
   "source": [
    "## Bad anchors"
   ]
  },
  {
   "cell_type": "code",
   "execution_count": null,
   "metadata": {},
   "outputs": [],
   "source": [
    "def remove_bad_anchors():\n",
    "    with open(ALL_ANCHORS_FILE_PATH, 'r') as json_file:\n",
    "        anchors = json.load(json_file)\n",
    "    with open(MISLOCATED_PROBES_FILE_PATH, 'r') as json_file:\n",
    "        miss_placed_probes_ip = json.load(json_file)\n",
    "\n",
    "    print(f\"{len(anchors)} total anchors\")\n",
    "    good_anchors = []\n",
    "    bad_anchors = []\n",
    "    incorrect_geolocation_count = 0\n",
    "    not_enough_vps = 0\n",
    "    client = Client('127.0.0.1')\n",
    "    for p in anchors:\n",
    "        if p['address_v4'] in miss_placed_probes_ip:\n",
    "            bad_anchors.append(p)\n",
    "            bad_anchors[-1]['remove_reason'] = \"Incorrect geolocation\"\n",
    "            incorrect_geolocation_count += 1\n",
    "            continue\n",
    "        target_ip = p['address_v4']\n",
    "        tmp_res_db = client.execute(\n",
    "            f'select distinct src_addr from bgp_interdomain_te.street_lvl_traceroutes where resp_addr = \\'{target_ip}\\' and dst_addr = \\'{target_ip}\\' and src_addr <> \\'{target_ip}\\'')\n",
    "        if len(tmp_res_db) < 100:\n",
    "            bad_anchors.append(p)\n",
    "            bad_anchors[-1]['remove_reason'] = \"Not enought traceroute data towards\"\n",
    "            bad_anchors[-1]['vp_traceroutes_count'] = len(tmp_res_db)\n",
    "            not_enough_vps += 1\n",
    "            continue\n",
    "        good_anchors.append(p)\n",
    "\n",
    "    print(f\"{len(good_anchors)} anchors to keep\")\n",
    "    print(f\"{incorrect_geolocation_count} anchors removed because of incorrect geolocation\")\n",
    "    print(f\"{not_enough_vps} anchors removed because the lack of traceroute data towards\")\n",
    "\n",
    "    print(len(good_anchors))\n",
    "    # with open(GOOD_ANCHORS_FILE_PATH, 'w') as outfile:\n",
    "    #     json.dump(good_anchors, outfile)\n",
    "    # with open(BAD_ANCHORS_FILE_PATH, 'w') as outfile:\n",
    "    #     json.dump(bad_anchors, outfile)"
   ]
  },
  {
   "cell_type": "markdown",
   "metadata": {},
   "source": [
    "## Greedy probes"
   ]
  },
  {
   "cell_type": "code",
   "execution_count": null,
   "metadata": {},
   "outputs": [],
   "source": [
    "# Greedily compute the probe with the greatest distance to other probes\n",
    "LIMIT = 1000\n",
    "\n",
    "removed_probes = load_json(REMOVED_PROBES_FILE)\n",
    "# First of all remove entries with removed probes\n",
    "for probe in removed_probes:\n",
    "    if probe in vp_distance_matrix:\n",
    "        del vp_distance_matrix[probe]\n",
    "\n",
    "for probe, distance_per_probe in vp_distance_matrix.items():\n",
    "    for removed_probe in removed_probes:\n",
    "        if removed_probe in distance_per_probe:\n",
    "            del distance_per_probe[removed_probe]\n",
    "\n",
    "logging.info(\"Starting greedy algorithm\")\n",
    "selected_probes = []\n",
    "remaining_probes = set(vp_distance_matrix.keys())\n",
    "with Pool(12) as p:\n",
    "    while len(remaining_probes) > 0 and len(selected_probes) < LIMIT:\n",
    "        args = []\n",
    "        for probe in remaining_probes:\n",
    "            args.append(\n",
    "                (probe, vp_distance_matrix[probe], selected_probes))\n",
    "        \n",
    "        distances_log = [math.log(distance_per_probe[p]) for p in selected_probes\n",
    "                     if p in distance_per_probe and distance_per_probe[p] > 0]\n",
    "        total_distance = sum(distances_log)\n",
    "        impl = probe, total_distance\n",
    "        results = p.starmap(impl, args)\n",
    "\n",
    "        furthest_probe_from_selected, _ = max(results, key=lambda x: x[1])\n",
    "        selected_probes.append(furthest_probe_from_selected)\n",
    "        remaining_probes.remove(furthest_probe_from_selected)\n",
    "\n",
    "\n",
    "dump_json(selected_probes, GREEDY_PROBES_FILE)"
   ]
  },
  {
   "cell_type": "markdown",
   "metadata": {},
   "source": [
    "## IP list"
   ]
  },
  {
   "cell_type": "code",
   "execution_count": null,
   "metadata": {},
   "outputs": [],
   "source": [
    "def get_ip_list(anchors_file):\n",
    "    with open(anchors_file, 'r') as json_file:\n",
    "        anchors = json.load(json_file)\n",
    "\n",
    "    ip_lst = []\n",
    "    for anchor in anchors:\n",
    "        ip_lst.append(anchor['address_v4'])\n",
    "    print(len(ip_lst))\n",
    "\n",
    "    with open(\"anchors_ip_lst.json\", 'w') as outfile:\n",
    "        json.dump(ip_lst, outfile)\n",
    "\n",
    "    get_ip_list(ANCHORS_FILE)"
   ]
  },
  {
   "cell_type": "markdown",
   "metadata": {},
   "source": [
    "## DEnsity"
   ]
  },
  {
   "cell_type": "code",
   "execution_count": null,
   "metadata": {},
   "outputs": [],
   "source": [
    "import rasterio\n",
    "import geopandas as gpd\n",
    "from rasterio.transform import from_bounds\n",
    "import ujson as json\n",
    "\n",
    "\n",
    "if __name__ == \"__main__\":\n",
    "    resources_dir = \"resources/replicability/street/\"\n",
    "    # Load the population density data\n",
    "    with rasterio.open(f'{resources_dir}/gpw_v4_population_density_rev11_2020_30_sec.tif') as dataset:\n",
    "        population_density = dataset.read(1)\n",
    "\n",
    "    ofile = f\"{resources_dir}/population_target.json\"\n",
    "\n",
    "    with open(ofile) as f:\n",
    "        all_data = json.load(f)\n",
    "\n",
    "    res = []\n",
    "    for d in all_data:\n",
    "        if 'density' not in d:\n",
    "            lat, lon = d['lat'], d['lon']\n",
    "            point = gpd.GeoDataFrame(geometry=gpd.points_from_xy([lon], [lat]))\n",
    "\n",
    "            # Convert lat-lon to pixel coordinates\n",
    "            xmin, ymin, xmax, ymax = dataset.bounds\n",
    "            transform = from_bounds(\n",
    "                xmin, ymin, xmax, ymax, dataset.width, dataset.height)\n",
    "            row, col = dataset.index(lon, lat)\n",
    "\n",
    "            # Extract the population density value\n",
    "            population_density_value = population_density[row, col]\n",
    "            d['density'] = float(population_density_value)\n",
    "\n",
    "        res.append(d)\n",
    "    with open(ofile, \"w\") as f:\n",
    "        json.dump(res, f)"
   ]
  }
 ],
 "metadata": {
  "kernelspec": {
   "display_name": "review-fXCvvitn-py3.10",
   "language": "python",
   "name": "python3"
  },
  "language_info": {
   "codemirror_mode": {
    "name": "ipython",
    "version": 3
   },
   "file_extension": ".py",
   "mimetype": "text/x-python",
   "name": "python",
   "nbconvert_exporter": "python",
   "pygments_lexer": "ipython3",
   "version": "3.10.0"
  },
  "orig_nbformat": 4
 },
 "nbformat": 4,
 "nbformat_minor": 2
}

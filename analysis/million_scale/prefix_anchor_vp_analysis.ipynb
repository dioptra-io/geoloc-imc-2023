{
 "cells": [
  {
   "cell_type": "code",
   "execution_count": 1,
   "metadata": {},
   "outputs": [],
   "source": [
    "from utils.atlas_api import get_measurements_from_tag\n",
    "from default import PREFIX_ANCHOR_VP\n",
    "from utils.measurement_utils import load_json, dump_json"
   ]
  },
  {
   "attachments": {},
   "cell_type": "markdown",
   "metadata": {},
   "source": [
    "## load results"
   ]
  },
  {
   "cell_type": "code",
   "execution_count": 3,
   "metadata": {},
   "outputs": [],
   "source": [
    "# time and memory consuming operation\n",
    "\n",
    "# to get the original result\n",
    "uuids = [\"93022217-3d42-415d-949b-48dfd1ea1d4f\"]\n",
    "\n",
    "# to get your own result\n",
    "#uuids = [\"insert tag\"]\n",
    "\n",
    "\n",
    "measurement_results = {}\n",
    "for uuid in uuids:\n",
    "    measurement_result = get_measurements_from_tag(uuid)\n",
    "    measurement_results.update(measurement_result)\n",
    "\n",
    "dump_json(measurement_results, PREFIX_ANCHOR_VP)"
   ]
  },
  {
   "cell_type": "code",
   "execution_count": 4,
   "metadata": {},
   "outputs": [
    {
     "name": "stdout",
     "output_type": "stream",
     "text": [
      "6\n",
      "103.160.63.5 4\n",
      "103.160.63.1 4\n",
      "103.160.63.2 3\n",
      "193.49.43.13 4\n",
      "193.49.43.2 4\n",
      "193.49.43.10 4\n"
     ]
    }
   ],
   "source": [
    "print(len(measurement_result))\n",
    "\n",
    "for i, (target_addr, results) in enumerate(measurement_results.items()):\n",
    "    if i > 20 : break\n",
    "    print(target_addr, len(results))\n"
   ]
  },
  {
   "cell_type": "markdown",
   "metadata": {},
   "source": [
    "## analysis"
   ]
  },
  {
   "cell_type": "code",
   "execution_count": 5,
   "metadata": {},
   "outputs": [],
   "source": [
    "data = load_json(PREFIX_ANCHOR_VP)"
   ]
  },
  {
   "cell_type": "code",
   "execution_count": 3,
   "metadata": {},
   "outputs": [
    {
     "ename": "KeyError",
     "evalue": "'cbg'",
     "output_type": "error",
     "traceback": [
      "\u001b[1;31m---------------------------------------------------------------------------\u001b[0m",
      "\u001b[1;31mKeyError\u001b[0m                                  Traceback (most recent call last)",
      "Cell \u001b[1;32mIn[3], line 1\u001b[0m\n\u001b[1;32m----> 1\u001b[0m \u001b[39mprint\u001b[39m(\u001b[39m\"\u001b[39m\u001b[39msubset analyzed\u001b[39m\u001b[39m\"\u001b[39m, \u001b[39mlen\u001b[39m(data[\u001b[39m\"\u001b[39;49m\u001b[39mcbg\u001b[39;49m\u001b[39m\"\u001b[39;49m]))\n\u001b[0;32m      3\u001b[0m \u001b[39m# tmp = deepcopy(data)\u001b[39;00m\n\u001b[0;32m      4\u001b[0m \n\u001b[0;32m      5\u001b[0m \u001b[39m# for subset in tmp[\"cbg\"]:\u001b[39;00m\n\u001b[1;32m   (...)\u001b[0m\n\u001b[0;32m      8\u001b[0m \u001b[39m#         data[\"cbg\"].pop(subset)\u001b[39;00m\n\u001b[0;32m      9\u001b[0m \u001b[39m#         data[\"shortest_ping\"].pop(subset)\u001b[39;00m\n\u001b[0;32m     11\u001b[0m \u001b[39mfor\u001b[39;00m subset \u001b[39min\u001b[39;00m data[\u001b[39m\"\u001b[39m\u001b[39mcbg\u001b[39m\u001b[39m\"\u001b[39m]:\n",
      "\u001b[1;31mKeyError\u001b[0m: 'cbg'"
     ]
    }
   ],
   "source": [
    "print(\"subset analyzed\", len(data[\"cbg\"]))\n",
    "\n",
    "# tmp = deepcopy(data)\n",
    "\n",
    "# for subset in tmp[\"cbg\"]:\n",
    "\n",
    "#     if subset > 1000:\n",
    "#         data[\"cbg\"].pop(subset)\n",
    "#         data[\"shortest_ping\"].pop(subset)\n",
    "\n",
    "for subset in data[\"cbg\"]:\n",
    "\n",
    "    print(subset)\n",
    "\n",
    "# with open(ANCHOR_TARGET_PROBE_VP_RESULT_FILE, \"wb\") as f:\n",
    "#     pickle.dump(data, f)\n"
   ]
  }
 ],
 "metadata": {
  "kernelspec": {
   "display_name": "geoloc-imc-2023-6fDKYmVX-py3.10",
   "language": "python",
   "name": "python3"
  },
  "language_info": {
   "codemirror_mode": {
    "name": "ipython",
    "version": 3
   },
   "file_extension": ".py",
   "mimetype": "text/x-python",
   "name": "python",
   "nbconvert_exporter": "python",
   "pygments_lexer": "ipython3",
   "version": "3.10.0"
  },
  "orig_nbformat": 4
 },
 "nbformat": 4,
 "nbformat_minor": 2
}

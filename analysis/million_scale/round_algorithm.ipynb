{
 "cells": [
  {
   "cell_type": "code",
   "execution_count": null,
   "metadata": {},
   "outputs": [],
   "source": [
    "from pprint import pprint\n",
    "\n",
    "from utils.file_utils import load_json, dump_json\n",
    "from utils.common import compute_rtts_per_dst_src, round_based_algorithm\n",
    "from default import PROBES_FILE, GREEDY_PROBES_FILE, PROBES_TO_ANCHORS_PING_TABLE, ROUND_BASED_ALGORITHM_FILE\n",
    "\n",
    "\n",
    "TIER1_VPS = [10, 100, 300, 500, 1000]"
   ]
  },
  {
   "cell_type": "markdown",
   "metadata": {},
   "source": [
    "## Step X"
   ]
  },
  {
   "cell_type": "code",
   "execution_count": null,
   "metadata": {},
   "outputs": [],
   "source": [
    "probes = load_json(PROBES_FILE)\n",
    "\n",
    "greedy_probes = load_json(GREEDY_PROBES_FILE)"
   ]
  },
  {
   "cell_type": "code",
   "execution_count": null,
   "metadata": {},
   "outputs": [],
   "source": [
    "asn_per_vp_ip = {}\n",
    "vp_coordinates_per_ip = {}\n",
    "\n",
    "for probe in probes:\n",
    "    if \"address_v4\" in probe and \"geometry\" in probe and \"coordinates\" in probe[\"geometry\"]:\n",
    "        ip_v4_address = probe[\"address_v4\"]\n",
    "        if ip_v4_address is None:\n",
    "            continue\n",
    "        long, lat = probe[\"geometry\"][\"coordinates\"]\n",
    "        asn_v4 = probe[\"asn_v4\"]\n",
    "        asn_per_vp_ip[ip_v4_address] = asn_v4\n",
    "        vp_coordinates_per_ip[ip_v4_address] = lat, long\n"
   ]
  },
  {
   "cell_type": "code",
   "execution_count": null,
   "metadata": {},
   "outputs": [],
   "source": [
    "filter = \"\"\n",
    "# clickhouse is required here\n",
    "rtt_per_srcs_dst = compute_rtts_per_dst_src(PROBES_TO_ANCHORS_PING_TABLE, filter, threshold=100)\n",
    "\n",
    "error_cdf_per_tier1_vps = {}\n",
    "for tier1_vps in TIER1_VPS:\n",
    "    pprint(f\"Using {tier1_vps} tier1_vps\")\n",
    "    error_cdf = round_based_algorithm(greedy_probes, rtt_per_srcs_dst, vp_coordinates_per_ip,\n",
    "                                        asn_per_vp_ip,\n",
    "                                        tier1_vps,\n",
    "                                        threshold=40)\n",
    "    error_cdf_per_tier1_vps[tier1_vps] = error_cdf\n",
    "    \n",
    "dump_json(error_cdf_per_tier1_vps, ROUND_BASED_ALGORITHM_FILE)"
   ]
  }
 ],
 "metadata": {
  "language_info": {
   "name": "python"
  },
  "orig_nbformat": 4
 },
 "nbformat": 4,
 "nbformat_minor": 2
}

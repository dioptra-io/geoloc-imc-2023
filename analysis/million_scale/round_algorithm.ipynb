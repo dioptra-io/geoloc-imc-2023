{
 "cells": [
  {
   "cell_type": "code",
   "execution_count": 15,
   "metadata": {},
   "outputs": [],
   "source": [
    "from utils.file_utils import load_json, dump_json\n",
    "from utils.common import compute_rtts_per_dst_src, round_based_algorithm\n",
    "from default import PROBES_AND_ANCHORS_FILE, GREEDY_PROBES_FILE, ROUND_BASED_ALGORITHM_FILE, FILTERED_PROBES_FILE, PROBES_TO_ANCHORS_PING_TABLE\n",
    "\n",
    "\n",
    "TIER1_VPS = [10, 100, 300, 500, 1000]"
   ]
  },
  {
   "cell_type": "code",
   "execution_count": 16,
   "metadata": {},
   "outputs": [],
   "source": [
    "probes = load_json(PROBES_AND_ANCHORS_FILE)\n",
    "\n",
    "greedy_probes = load_json(GREEDY_PROBES_FILE)\n",
    "\n",
    "filtered_probes = load_json(FILTERED_PROBES_FILE)"
   ]
  },
  {
   "cell_type": "code",
   "execution_count": 17,
   "metadata": {},
   "outputs": [],
   "source": [
    "asn_per_vp_ip = {}\n",
    "vp_coordinates_per_ip = {}\n",
    "\n",
    "for probe in probes:\n",
    "    if \"address_v4\" in probe and \"geometry\" in probe and \"coordinates\" in probe[\"geometry\"]:\n",
    "        ip_v4_address = probe[\"address_v4\"]\n",
    "        if ip_v4_address is None:\n",
    "            continue\n",
    "        long, lat = probe[\"geometry\"][\"coordinates\"]\n",
    "        asn_v4 = probe[\"asn_v4\"]\n",
    "        asn_per_vp_ip[ip_v4_address] = asn_v4\n",
    "        vp_coordinates_per_ip[ip_v4_address] = lat, long\n"
   ]
  },
  {
   "cell_type": "code",
   "execution_count": 18,
   "metadata": {},
   "outputs": [],
   "source": [
    "filter = \"\"\n",
    "if len(filtered_probes) > 0:\n",
    "    # Remove probes that are wrongly geolocated\n",
    "    in_clause = f\"\".join(\n",
    "        [f\",toIPv4('{p}')\" for p in filtered_probes])[1:]\n",
    "    filter += f\"AND dst not in ({in_clause}) AND src not in ({in_clause}) \"\n",
    "    \n",
    "# clickhouse is required here\n",
    "rtt_per_srcs_dst = compute_rtts_per_dst_src(PROBES_TO_ANCHORS_PING_TABLE, filter, threshold=100)"
   ]
  },
  {
   "cell_type": "code",
   "execution_count": 19,
   "metadata": {},
   "outputs": [
    {
     "name": "stdout",
     "output_type": "stream",
     "text": [
      "Using 10 tier1_vps\n",
      "712\n",
      "Using 100 tier1_vps\n",
      "712\n",
      "Using 300 tier1_vps\n",
      "712\n",
      "Using 500 tier1_vps\n",
      "712\n",
      "Using 1000 tier1_vps\n",
      "712\n"
     ]
    }
   ],
   "source": [
    "error_cdf_per_tier1_vps = {}\n",
    "for tier1_vps in TIER1_VPS:\n",
    "    print(f\"Using {tier1_vps} tier1_vps\")\n",
    "    error_cdf = round_based_algorithm(greedy_probes, rtt_per_srcs_dst, vp_coordinates_per_ip,\n",
    "                                        asn_per_vp_ip,\n",
    "                                        tier1_vps,\n",
    "                                        threshold=40)\n",
    "    error_cdf_per_tier1_vps[tier1_vps] = error_cdf\n",
    "    \n",
    "dump_json(error_cdf_per_tier1_vps, ROUND_BASED_ALGORITHM_FILE)"
   ]
  }
 ],
 "metadata": {
  "kernelspec": {
   "display_name": "Python 3",
   "language": "python",
   "name": "python3"
  },
  "language_info": {
   "codemirror_mode": {
    "name": "ipython",
    "version": 3
   },
   "file_extension": ".py",
   "mimetype": "text/x-python",
   "name": "python",
   "nbconvert_exporter": "python",
   "pygments_lexer": "ipython3",
   "version": "3.10.0"
  },
  "orig_nbformat": 4
 },
 "nbformat": 4,
 "nbformat_minor": 2
}

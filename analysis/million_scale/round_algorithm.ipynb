{
 "cells": [
  {
   "cell_type": "code",
   "execution_count": null,
   "metadata": {},
   "outputs": [],
   "source": [
    "import math\n",
    "import logging\n",
    "\n",
    "from pprint import pprint\n",
    "from multiprocessing import Pool\n",
    "\n",
    "from default import *\n",
    "from utils.common import compute_rtts_per_dst_src, compute_geo_info, compute_error, round_based_algorithm\n",
    "from utils.file_utils import load_json, dump_json\n",
    "from utils.helpers import select_best_guess_centroid, haversine, is_within_cirle"
   ]
  },
  {
   "cell_type": "markdown",
   "metadata": {},
   "source": [
    "## Step 1"
   ]
  },
  {
   "cell_type": "markdown",
   "metadata": {},
   "source": [
    "## Step X"
   ]
  },
  {
   "cell_type": "code",
   "execution_count": null,
   "metadata": {},
   "outputs": [],
   "source": [
    "anchors = load_json(ANCHORS_FILE)\n",
    "all_probes = load_json(PROBES_AND_ANCHORS_FILE)\n",
    "\n",
    "\n",
    "vp_coordinates_per_ip, ip_per_coordinates, country_per_vp, asn_per_vp, \\\n",
    "    vp_distance_matrix, probe_per_ip = compute_geo_info(\n",
    "        all_probes, serialized_file=PAIRWISE_DISTANCE_FILE)"
   ]
  },
  {
   "cell_type": "code",
   "execution_count": null,
   "metadata": {},
   "outputs": [],
   "source": [
    "\n",
    "filter = \"\"\n",
    "greedy_probes = load_json(GREEDY_PROBES_FILE)\n",
    "rtt_per_srcs_dst = compute_rtts_per_dst_src(\n",
    "    PROBES_TO_ANCHORS_PING_TABLE, filter, threshold=100)\n",
    "tier1_vps_l = [10, 100, 300, 500, 1000]\n",
    "error_cdf_per_tier1_vps = {}\n",
    "\n",
    "for tier1_vps in tier1_vps_l:\n",
    "    pprint(f\"Using {tier1_vps} tier1_vps\")\n",
    "    error_cdf = round_based_algorithm(greedy_probes, rtt_per_srcs_dst, vp_coordinates_per_ip,\n",
    "                                        asn_per_vp,\n",
    "                                        tier1_vps,\n",
    "                                        threshold=40)\n",
    "    error_cdf_per_tier1_vps[tier1_vps] = error_cdf\n",
    "dump_json(error_cdf_per_tier1_vps, ROUND_BASED_ALGORITHM_FILE)"
   ]
  }
 ],
 "metadata": {
  "language_info": {
   "name": "python"
  },
  "orig_nbformat": 4
 },
 "nbformat": 4,
 "nbformat_minor": 2
}

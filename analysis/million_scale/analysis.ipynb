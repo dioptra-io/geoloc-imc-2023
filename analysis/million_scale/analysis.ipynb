{
 "cells": [
  {
   "cell_type": "code",
   "execution_count": null,
   "metadata": {},
   "outputs": [],
   "source": [
    "import ipaddress\n",
    "import time\n",
    "import numpy as np\n",
    "import csv\n",
    "import random\n",
    "import os.path\n",
    "\n",
    "from clickhouse_driver import Client\n",
    "from multiprocessing.pool import Pool, ThreadPool\n",
    "\n",
    "from utils.file_utils import load_json, dump_json\n",
    "#from clickhouse_utils.traceroutes.queries import select_traceroutes_query\n",
    "from utils.clickhouse_query import get_min_rtt_per_src_dst_query_ping_table, get_min_rtt_per_src_dst_prefix_query_ping_table\n",
    "from utils.helpers import select_best_guess_centroid, haversine\n",
    "from utils.common import compute_rtts_per_dst_src, compute_geo_info, compute_error, get_prefix_from_ip\n",
    "from utils.plot_utils import plot_multiple_cdf, plot_save, homogenize_legend, plot_multiple_error_bars\n",
    "from default import *"
   ]
  },
  {
   "cell_type": "markdown",
   "metadata": {},
   "source": [
    "## Compute cities"
   ]
  },
  {
   "cell_type": "code",
   "execution_count": null,
   "metadata": {},
   "outputs": [],
   "source": [
    "resources_dir = \"resources/replicability\"\n",
    "files = [f\"{resources_dir}/geocoded_by_geoapify-10_05_2023_0_500.csv\",\n",
    "            f\"{resources_dir}/geocoded_by_geoapify-10_05_2023_500_last.csv\"]\n",
    "\n",
    "cities = set()\n",
    "for file in files:\n",
    "    with open(file) as f:\n",
    "        reader = csv.reader(f, quotechar='\"', delimiter=',')\n",
    "        headers = next(reader, None)\n",
    "        city_index = headers.index(\"city\")\n",
    "        for row in reader:\n",
    "            city = row[city_index]\n",
    "            cities.add(city)\n",
    "\n",
    "print(len(cities), cities)"
   ]
  },
  {
   "cell_type": "markdown",
   "metadata": {},
   "source": [
    "## Evaluate"
   ]
  },
  {
   "cell_type": "markdown",
   "metadata": {},
   "source": [
    "### loading data"
   ]
  },
  {
   "cell_type": "code",
   "execution_count": null,
   "metadata": {},
   "outputs": [],
   "source": [
    "anchors = load_json(ANCHORS_FILE)\n",
    "\n",
    "probes = load_json(PROBES_FILE)\n",
    "\n",
    "all_probes = load_json(PROBES_AND_ANCHORS_FILE)\n",
    "\n",
    "removed_probes = load_json(REMOVED_PROBES_FILE)\n",
    "\n",
    "filter = \"\"\n",
    "if len(removed_probes) > 0:\n",
    "    # Remove probes that are wrongly geolocated\n",
    "    in_clause = f\"\".join(\n",
    "        [f\",toIPv4('{p}')\" for p in removed_probes])[1:]\n",
    "    filter += f\"AND dst not in ({in_clause}) AND src not in ({in_clause}) \""
   ]
  },
  {
   "cell_type": "code",
   "execution_count": null,
   "metadata": {},
   "outputs": [],
   "source": [
    "# Fig.2 and 3 of the millions paper"
   ]
  },
  {
   "cell_type": "markdown",
   "metadata": {},
   "source": [
    "### Accuracy vs number of vps anchors"
   ]
  },
  {
   "cell_type": "code",
   "execution_count": null,
   "metadata": {},
   "outputs": [],
   "source": [
    "vp_coordinates_per_ip, ip_per_coordinates, country_per_vp, asn_per_vp, \\\n",
    "        vp_distance_matrix, probe_per_ip = compute_geo_info(\n",
    "            anchors, serialized_file=PAIRWISE_DISTANCE_ANCHOR_FILE)"
   ]
  },
  {
   "cell_type": "code",
   "execution_count": null,
   "metadata": {},
   "outputs": [],
   "source": [
    "subset_sizes = [10]\n",
    "subset_sizes.extend([i for i in range(100, 800, 100)])\n",
    "rtt_per_srcs_dst = compute_rtts_per_dst_src(ANCHORS_MESHED_PING_TABLE, filter, threshold=50)\n",
    "available_vps = [vp for vp in rtt_per_srcs_dst.keys() if vp in vp_coordinates_per_ip]\n",
    "\n",
    "compute_accuracy_vs_number_of_vps(available_vps, rtt_per_srcs_dst, vp_coordinates_per_ip,\n",
    "                                    ip_per_coordinates, country_per_vp,\n",
    "                                    vp_distance_matrix, probe_per_ip, subset_sizes, ACCURACY_VS_N_VPS_FILE)"
   ]
  },
  {
   "cell_type": "markdown",
   "metadata": {},
   "source": [
    "### Accuracy vs number of vps probes"
   ]
  },
  {
   "cell_type": "code",
   "execution_count": null,
   "metadata": {},
   "outputs": [],
   "source": [
    "vp_coordinates_per_ip, ip_per_coordinates, country_per_vp, asn_per_vp, \\\n",
    "        vp_distance_matrix, probe_per_ip = compute_geo_info(\n",
    "            anchors, serialized_file=PAIRWISE_DISTANCE_PROBE_FILE)"
   ]
  },
  {
   "cell_type": "code",
   "execution_count": null,
   "metadata": {},
   "outputs": [],
   "source": [
    "# subset_sizes = [10]\n",
    "subset_sizes = []\n",
    "subset_sizes.extend([i for i in range(100, 1000, 100)])\n",
    "# subset_sizes.extend([i for i in range(1000, 10001, 1000)])\n",
    "\n",
    "rtt_per_srcs_dst = compute_rtts_per_dst_src(PROBES_TO_ANCHORS_PING_TABLE, filter, threshold=50)\n",
    "available_vps = set(vp_coordinates_per_ip.keys())\n",
    "available_vps -= removed_probes\n",
    "compute_accuracy_vs_number_of_vps(available_vps, rtt_per_srcs_dst, vp_coordinates_per_ip,\n",
    "                                    ip_per_coordinates, country_per_vp,\n",
    "                                    vp_distance_matrix, probe_per_ip, subset_sizes,\n",
    "                                    ACCURACY_VS_N_VPS_PROBES_FILE)"
   ]
  },
  {
   "cell_type": "markdown",
   "metadata": {},
   "source": [
    "### Compute errors"
   ]
  },
  {
   "cell_type": "code",
   "execution_count": null,
   "metadata": {},
   "outputs": [],
   "source": [
    "rtt_per_srcs_dst = compute_rtts_per_dst_src(\n",
    "    ANCHORS_MESHED_PING_TABLE, filter, threshold=70)\n",
    "vps_per_target = {dst: set(vp_coordinates_per_ip.keys())\n",
    "                    for dst in rtt_per_srcs_dst}\n",
    "features = compute_geolocation_features_per_ip(rtt_per_srcs_dst, vp_coordinates_per_ip, THRESHOLD_DISTANCES,\n",
    "                                                vps_per_target=vps_per_target,\n",
    "                                                distance_operator=\">\", max_vps=100000,\n",
    "                                                is_use_prefix=False,\n",
    "                                                ip_per_coordinates=ip_per_coordinates,\n",
    "                                                country_per_vp=country_per_vp,\n",
    "                                                vp_distance_matrix=vp_distance_matrix,\n",
    "                                                anchor_per_ip=probe_per_ip\n",
    "                                                )\n",
    "\n",
    "dump_json(features, ANCHORS_TO_ANCHORS_RESULT_FILE)"
   ]
  },
  {
   "cell_type": "code",
   "execution_count": null,
   "metadata": {},
   "outputs": [],
   "source": [
    "rtt_per_srcs_dst = compute_rtts_per_dst_src(\n",
    "    PROBES_TO_ANCHORS_PING_TABLE, filter, threshold=70)\n",
    "vps_per_target = {dst: set(vp_coordinates_per_ip.keys())\n",
    "                    for dst in rtt_per_srcs_dst}\n",
    "features = compute_geolocation_features_per_ip(rtt_per_srcs_dst, vp_coordinates_per_ip, THRESHOLD_DISTANCES,\n",
    "                                                vps_per_target=vps_per_target,\n",
    "                                                distance_operator=\">\", max_vps=100000,\n",
    "                                                is_use_prefix=False,\n",
    "                                                ip_per_coordinates=ip_per_coordinates,\n",
    "                                                country_per_vp=country_per_vp,\n",
    "                                                vp_distance_matrix=vp_distance_matrix,\n",
    "                                                anchor_per_ip=probe_per_ip\n",
    "                                                )\n",
    "\n",
    "dump_json(features, PROBES_TO_ANCHORS_RESULT_FILE)"
   ]
  },
  {
   "cell_type": "markdown",
   "metadata": {},
   "source": [
    "### VPs selection algorithm"
   ]
  },
  {
   "cell_type": "code",
   "execution_count": null,
   "metadata": {},
   "outputs": [],
   "source": [
    "# Fig.5 of the millions paper."
   ]
  },
  {
   "cell_type": "code",
   "execution_count": null,
   "metadata": {},
   "outputs": [],
   "source": [
    "ping_table_prefix = ANCHORS_TO_PREFIX_TABLE\n",
    "ping_table = ANCHORS_MESHED_PING_TABLE\n",
    "results_files = [VP_SELECTION_ALGORITHM_1_FILE, VP_SELECTION_ALGORITHM_3_FILES, VP_SELECTION_ALGORITHM_10_FILES]\n",
    "\n",
    "rtt_per_srcs_dst_prefix = compute_rtts_per_dst_src(ping_table_prefix, filter, threshold=100, is_per_prefix=True)\n",
    "rtt_per_srcs_dst = compute_rtts_per_dst_src(ping_table, filter, threshold=70)\n",
    "\n",
    "for i, n_vp in enumerate(N_VPS_SELECTION_ALGORITHM):\n",
    "    vps_per_target, _ = compute_closest_rtt_probes(rtt_per_srcs_dst_prefix,\n",
    "                                                    vp_coordinates_per_ip,\n",
    "                                                    vp_distance_matrix,\n",
    "                                                    n_shortest=n_vp,\n",
    "                                                    is_prefix=True)\n",
    "    features = compute_geolocation_features_per_ip(rtt_per_srcs_dst, vp_coordinates_per_ip,\n",
    "                                                    [0],\n",
    "                                                    vps_per_target=vps_per_target,\n",
    "                                                    distance_operator=\">\", max_vps=100000,\n",
    "                                                    is_use_prefix=True,\n",
    "                                                    ip_per_coordinates=ip_per_coordinates,\n",
    "                                                    country_per_vp=country_per_vp,\n",
    "                                                    vp_distance_matrix=vp_distance_matrix,\n",
    "                                                    anchor_per_ip=probe_per_ip,\n",
    "                                                    is_multiprocess=True)\n",
    "    \n",
    "    ofile = results_files[i]\n",
    "    dump_json(features, ofile)"
   ]
  },
  {
   "cell_type": "code",
   "execution_count": null,
   "metadata": {},
   "outputs": [],
   "source": [
    "ping_table_prefix = PROBES_TO_PREFIX_TABLE\n",
    "ping_table = PROBES_TO_ANCHORS_PING_TABLE\n",
    "results_files = [VP_SELECTION_ALGORITHM_PROBES_1_FILE, VP_SELECTION_ALGORITHM_PROBES_3_FILE, VP_SELECTION_ALGORITHM_PROBES_10_FILE]\n",
    "\n",
    "rtt_per_srcs_dst_prefix = compute_rtts_per_dst_src(ping_table_prefix, filter, threshold=100,\n",
    "                                                    is_per_prefix=True)\n",
    "rtt_per_srcs_dst = compute_rtts_per_dst_src(\n",
    "    ping_table, filter, threshold=70)\n",
    "\n",
    "for i, n_vp in enumerate(N_VPS_SELECTION_ALGORITHM):\n",
    "    vps_per_target, _ = compute_closest_rtt_probes(rtt_per_srcs_dst_prefix,\n",
    "                                                    vp_coordinates_per_ip,\n",
    "                                                    vp_distance_matrix,\n",
    "                                                    n_shortest=n_vp,\n",
    "                                                    is_prefix=True)\n",
    "    features = compute_geolocation_features_per_ip(rtt_per_srcs_dst, vp_coordinates_per_ip,\n",
    "                                                    [0],\n",
    "                                                    vps_per_target=vps_per_target,\n",
    "                                                    distance_operator=\">\", max_vps=100000,\n",
    "                                                    is_use_prefix=True,\n",
    "                                                    ip_per_coordinates=ip_per_coordinates,\n",
    "                                                    country_per_vp=country_per_vp,\n",
    "                                                    vp_distance_matrix=vp_distance_matrix,\n",
    "                                                    anchor_per_ip=probe_per_ip,\n",
    "                                                    is_multiprocess=True)\n",
    "    \n",
    "    ofile = results_files[i]\n",
    "    dump_json(features, ofile)"
   ]
  },
  {
   "cell_type": "markdown",
   "metadata": {},
   "source": [
    "### Closest rtt probe"
   ]
  },
  {
   "cell_type": "code",
   "execution_count": null,
   "metadata": {},
   "outputs": [],
   "source": [
    "rtt_per_srcs_dst = compute_rtts_per_dst_src(PROBES_TO_ANCHORS_PING_TABLE, filter, threshold=300)\n",
    "\n",
    "_, min_rtt_per_dst = compute_closest_rtt_probes(rtt_per_srcs_dst, vp_coordinates_per_ip, vp_distance_matrix,\n",
    "                                                is_prefix=False,\n",
    "                                                n_shortest=1)\n",
    "\n",
    "dump_json(min_rtt_per_dst, MIN_RTT_PER_DIST_FILE)"
   ]
  },
  {
   "cell_type": "markdown",
   "metadata": {},
   "source": [
    "### Fixed set"
   ]
  },
  {
   "cell_type": "code",
   "execution_count": null,
   "metadata": {},
   "outputs": [],
   "source": [
    "# Compute the min_rtt for each set of VPs if we take different sets\n",
    "\n",
    "random.seed(42)\n",
    "min_rtt_per_target_one_per_city = {}\n",
    "min_rtt_per_target_one_per_city_asn = {}\n",
    "\n",
    "rtt_per_srcs_dst = compute_rtts_per_dst_src(PROBES_TO_ANCHORS_PING_TABLE, filter, threshold=300)\n",
    "\n",
    "for n_vps_per_granularity in [1, 3, 10, 100]:\n",
    "    vps_per_target_with_asn, min_rtt_per_target_with_asn = compute_fixed_set_of_probes(rtt_per_srcs_dst,\n",
    "                                                                                        vp_coordinates_per_ip,\n",
    "                                                                                        vp_distance_matrix,\n",
    "                                                                                        n_vps_per_granularity=n_vps_per_granularity,\n",
    "                                                                                        threshold=40,\n",
    "                                                                                        is_with_as=True,\n",
    "                                                                                        asn_per_vp=asn_per_vp)\n",
    "    vps_per_target, min_rtt_per_target = compute_fixed_set_of_probes(rtt_per_srcs_dst,\n",
    "                                                                        vp_coordinates_per_ip,\n",
    "                                                                        vp_distance_matrix,\n",
    "                                                                        n_vps_per_granularity=n_vps_per_granularity,\n",
    "                                                                        threshold=40,\n",
    "                                                                        is_with_as=False,\n",
    "                                                                        asn_per_vp=asn_per_vp)\n",
    "\n",
    "    min_rtt_per_target_one_per_city[n_vps_per_granularity] = vps_per_target, min_rtt_per_target\n",
    "    min_rtt_per_target_one_per_city_asn[n_vps_per_granularity] = vps_per_target_with_asn, min_rtt_per_target_with_asn\n",
    "\n",
    "dump_json(min_rtt_per_target_one_per_city, FIXED_SET_ONE_PROBE_PER_CITY_FILE)\n",
    "dump_json(min_rtt_per_target_one_per_city_asn, FIXED_SET_ONE_PROBE_PER_CITY_ASN_FILE)"
   ]
  },
  {
   "cell_type": "markdown",
   "metadata": {},
   "source": [
    "### Probe redundancy"
   ]
  },
  {
   "cell_type": "code",
   "execution_count": null,
   "metadata": {},
   "outputs": [],
   "source": [
    "rtt_per_srcs_dst = compute_rtts_per_dst_src(PROBES_TO_ANCHORS_PING_TABLE, filter, threshold=300)\n",
    "# Do we have probes that are always worse in terms of RTT than others in the same city?\n",
    "\n",
    "closest_probes_per_vp = compute_closest_probes(rtt_per_srcs_dst, vp_coordinates_per_ip, vp_distance_matrix,\n",
    "                                                threshold=40,\n",
    "                                                probes=probes)\n",
    "redundant_probes = compute_redundancy_probes(\n",
    "    rtt_per_srcs_dst, vp_coordinates_per_ip, closest_probes_per_vp)\n",
    "\n",
    "print(len(redundant_probes))"
   ]
  },
  {
   "cell_type": "markdown",
   "metadata": {},
   "source": [
    "### Closest probe"
   ]
  },
  {
   "cell_type": "code",
   "execution_count": null,
   "metadata": {},
   "outputs": [],
   "source": [
    "rtt_per_srcs_dst = compute_rtts_per_dst_src(PROBES_TO_ANCHORS_PING_TABLE, filter, threshold=100)\n",
    "\n",
    "rtts_per_closest_probes = compute_closest_probes(rtt_per_srcs_dst, vp_coordinates_per_ip,\n",
    "                                                    vp_distance_matrix,\n",
    "                                                    threshold=40, probes=probe_per_ip)\n",
    "\n",
    "dump_json(rtts_per_closest_probes, RTTS_PER_CLOSEST_PROBES_FILE)"
   ]
  }
 ],
 "metadata": {
  "kernelspec": {
   "display_name": "review-fXCvvitn-py3.10",
   "language": "python",
   "name": "python3"
  },
  "language_info": {
   "name": "python",
   "version": "3.10.0"
  },
  "orig_nbformat": 4
 },
 "nbformat": 4,
 "nbformat_minor": 2
}

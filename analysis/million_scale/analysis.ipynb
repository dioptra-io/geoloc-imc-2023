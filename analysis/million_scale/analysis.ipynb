{
 "cells": [
  {
   "cell_type": "code",
   "execution_count": 1,
   "metadata": {},
   "outputs": [],
   "source": [
    "import ipaddress\n",
    "import time\n",
    "import numpy as np\n",
    "import csv\n",
    "import random\n",
    "import os.path\n",
    "\n",
    "from clickhouse_driver import Client\n",
    "from multiprocessing.pool import Pool, ThreadPool\n",
    "\n",
    "from utils.file_utils import load_json, dump_json\n",
    "#from clickhouse_utils.traceroutes.queries import select_traceroutes_query\n",
    "from utils.analysis import compute_accuracy_vs_number_of_vps\n",
    "from utils.common import compute_rtts_per_dst_src, compute_geo_info\n",
    "from default import *"
   ]
  },
  {
   "cell_type": "markdown",
   "metadata": {},
   "source": [
    "## Compute cities"
   ]
  },
  {
   "cell_type": "code",
   "execution_count": null,
   "metadata": {},
   "outputs": [],
   "source": [
    "resources_dir = \"resources/replicability\"\n",
    "files = [f\"{resources_dir}/geocoded_by_geoapify-10_05_2023_0_500.csv\",\n",
    "            f\"{resources_dir}/geocoded_by_geoapify-10_05_2023_500_last.csv\"]\n",
    "\n",
    "cities = set()\n",
    "for file in files:\n",
    "    with open(file) as f:\n",
    "        reader = csv.reader(f, quotechar='\"', delimiter=',')\n",
    "        headers = next(reader, None)\n",
    "        city_index = headers.index(\"city\")\n",
    "        for row in reader:\n",
    "            city = row[city_index]\n",
    "            cities.add(city)\n",
    "\n",
    "print(len(cities), cities)"
   ]
  },
  {
   "cell_type": "markdown",
   "metadata": {},
   "source": [
    "## Evaluate"
   ]
  },
  {
   "cell_type": "markdown",
   "metadata": {},
   "source": [
    "### loading data"
   ]
  },
  {
   "cell_type": "code",
   "execution_count": 2,
   "metadata": {},
   "outputs": [],
   "source": [
    "anchors = load_json(ANCHORS_FILE)\n",
    "\n",
    "probes = load_json(PROBES_FILE)\n",
    "\n",
    "all_probes = load_json(PROBES_AND_ANCHORS_FILE)\n",
    "\n",
    "filtered_probes = load_json(FILTERED_PROBES_FILE)\n",
    "\n",
    "filter = \"\"\n",
    "if len(filtered_probes) > 0:\n",
    "    # Remove probes that are wrongly geolocated\n",
    "    in_clause = f\"\".join(\n",
    "        [f\",toIPv4('{p}')\" for p in filtered_probes])[1:]\n",
    "    filter += f\"AND dst not in ({in_clause}) AND src not in ({in_clause}) \""
   ]
  },
  {
   "cell_type": "code",
   "execution_count": null,
   "metadata": {},
   "outputs": [],
   "source": [
    "# Fig.2 and 3 of the millions paper"
   ]
  },
  {
   "cell_type": "markdown",
   "metadata": {},
   "source": [
    "### Accuracy vs number of vps anchors"
   ]
  },
  {
   "cell_type": "code",
   "execution_count": 3,
   "metadata": {},
   "outputs": [],
   "source": [
    "vp_coordinates_per_ip, ip_per_coordinates, country_per_vp, asn_per_vp, \\\n",
    "        vp_distance_matrix, probe_per_ip = compute_geo_info(\n",
    "            anchors, serialized_file=PAIRWISE_DISTANCE_ANCHOR_FILE)"
   ]
  },
  {
   "cell_type": "code",
   "execution_count": null,
   "metadata": {},
   "outputs": [],
   "source": [
    "subset_sizes = [10]\n",
    "subset_sizes.extend([i for i in range(100, 800, 100)])\n",
    "#rtt_per_srcs_dst = compute_rtts_per_dst_src(ANCHORS_MESHED_PING_TABLE, filter, threshold=50)\n",
    "rtt_per_srcs_dst = load_json(\"data_anchors.json\")\n",
    "for "
   ]
  },
  {
   "cell_type": "code",
   "execution_count": 7,
   "metadata": {},
   "outputs": [
    {
     "name": "stdout",
     "output_type": "stream",
     "text": [
      "724\n",
      "710\n",
      "Starting computing for random VPs 10\n",
      "on est la\n"
     ]
    },
    {
     "ename": "KeyError",
     "evalue": "'78.189.206.22'",
     "output_type": "error",
     "traceback": [
      "\u001b[1;31m---------------------------------------------------------------------------\u001b[0m",
      "\u001b[1;31mKeyError\u001b[0m                                  Traceback (most recent call last)",
      "Cell \u001b[1;32mIn[7], line 8\u001b[0m\n\u001b[0;32m      6\u001b[0m available_vps \u001b[39m=\u001b[39m [vp \u001b[39mfor\u001b[39;00m vp \u001b[39min\u001b[39;00m rtt_per_srcs_dst\u001b[39m.\u001b[39mkeys() \u001b[39mif\u001b[39;00m vp \u001b[39min\u001b[39;00m vp_coordinates_per_ip]\n\u001b[0;32m      7\u001b[0m \u001b[39mprint\u001b[39m(\u001b[39mlen\u001b[39m(available_vps))\n\u001b[1;32m----> 8\u001b[0m compute_accuracy_vs_number_of_vps(available_vps, rtt_per_srcs_dst, vp_coordinates_per_ip,\n\u001b[0;32m      9\u001b[0m                                     ip_per_coordinates, country_per_vp,\n\u001b[0;32m     10\u001b[0m                                     vp_distance_matrix, probe_per_ip, subset_sizes, ACCURACY_VS_N_VPS_FILE)\n",
      "File \u001b[1;32mc:\\Users\\milo2\\Desktop\\review\\utils\\analysis.py:389\u001b[0m, in \u001b[0;36mcompute_accuracy_vs_number_of_vps\u001b[1;34m(available_vps, rtt_per_srcs_dst, vp_coordinates_per_ip, ip_per_coordinates, country_per_vp, vp_distance_matrix, probe_per_ip, subset_sizes, ofile)\u001b[0m\n\u001b[0;32m    384\u001b[0m \u001b[39mfor\u001b[39;00m trial \u001b[39min\u001b[39;00m \u001b[39mrange\u001b[39m(\u001b[39m0\u001b[39m, \u001b[39m100\u001b[39m):\n\u001b[0;32m    385\u001b[0m     \u001b[39m# args.append((available_vps, random_n_vp, rtt_per_srcs_dst, vp_coordinates_per_ip,\u001b[39;00m\n\u001b[0;32m    386\u001b[0m     \u001b[39m#              ip_per_coordinates, country_per_vp, vp_distance_matrix, probe_per_ip))\u001b[39;00m\n\u001b[0;32m    387\u001b[0m     args\u001b[39m.\u001b[39mappend((available_vps, random_n_vp, vp_coordinates_per_ip,\n\u001b[0;32m    388\u001b[0m                  ip_per_coordinates, country_per_vp, probe_per_ip))\n\u001b[1;32m--> 389\u001b[0m     median_error \u001b[39m=\u001b[39m compute_accuracy_vs_number_of_vps_impl(rtt_per_srcs_dst, vp_distance_matrix, available_vps, random_n_vp, vp_coordinates_per_ip,\n\u001b[0;32m    390\u001b[0m                                                           ip_per_coordinates, country_per_vp, probe_per_ip)\n\u001b[0;32m    391\u001b[0m     median_error_cdf\u001b[39m.\u001b[39mappend(median_error)\n\u001b[0;32m    392\u001b[0m     \u001b[39m# args.append(random_n_vp)\u001b[39;00m\n\u001b[0;32m    393\u001b[0m \u001b[39m# with ThreadPool(8) as p:\u001b[39;00m\n\u001b[0;32m    394\u001b[0m \u001b[39m#     median_errors_cdf = p.starmap(compute_accuracy_vs_number_of_vps_impl, args)\u001b[39;00m\n\u001b[0;32m    395\u001b[0m     \u001b[39m# Select a random set of VPs\u001b[39;00m\n",
      "File \u001b[1;32mc:\\Users\\milo2\\Desktop\\review\\utils\\analysis.py:347\u001b[0m, in \u001b[0;36mcompute_accuracy_vs_number_of_vps_impl\u001b[1;34m(rtt_per_srcs_dst, vp_distance_matrix, available_vps, random_n_vp, vp_coordinates_per_ip, ip_per_coordinates, country_per_vp, probe_per_ip)\u001b[0m\n\u001b[0;32m    345\u001b[0m random_vps \u001b[39m=\u001b[39m random\u001b[39m.\u001b[39msample(\u001b[39mlist\u001b[39m(available_vps), random_n_vp)\n\u001b[0;32m    346\u001b[0m vps_per_target \u001b[39m=\u001b[39m {x: \u001b[39mset\u001b[39m(random_vps) \u001b[39mfor\u001b[39;00m x \u001b[39min\u001b[39;00m rtt_per_srcs_dst}\n\u001b[1;32m--> 347\u001b[0m features \u001b[39m=\u001b[39m compute_geolocation_features_per_ip(rtt_per_srcs_dst, vp_coordinates_per_ip,\n\u001b[0;32m    348\u001b[0m                                                [\u001b[39m0\u001b[39;49m],\n\u001b[0;32m    349\u001b[0m                                                vps_per_target\u001b[39m=\u001b[39;49mvps_per_target,\n\u001b[0;32m    350\u001b[0m                                                distance_operator\u001b[39m=\u001b[39;49m\u001b[39m\"\u001b[39;49m\u001b[39m>\u001b[39;49m\u001b[39m\"\u001b[39;49m, max_vps\u001b[39m=\u001b[39;49m\u001b[39m100000\u001b[39;49m,\n\u001b[0;32m    351\u001b[0m                                                is_use_prefix\u001b[39m=\u001b[39;49m\u001b[39mFalse\u001b[39;49;00m,\n\u001b[0;32m    352\u001b[0m                                                ip_per_coordinates\u001b[39m=\u001b[39;49mip_per_coordinates,\n\u001b[0;32m    353\u001b[0m                                                country_per_vp\u001b[39m=\u001b[39;49mcountry_per_vp,\n\u001b[0;32m    354\u001b[0m                                                vp_distance_matrix\u001b[39m=\u001b[39;49mvp_distance_matrix,\n\u001b[0;32m    355\u001b[0m                                                anchor_per_ip\u001b[39m=\u001b[39;49mprobe_per_ip,\n\u001b[0;32m    356\u001b[0m                                                is_multiprocess\u001b[39m=\u001b[39;49m\u001b[39mTrue\u001b[39;49;00m\n\u001b[0;32m    357\u001b[0m                                                )\n\u001b[0;32m    358\u001b[0m \u001b[39m#\u001b[39;00m\n\u001b[0;32m    359\u001b[0m features \u001b[39m=\u001b[39m features[\u001b[39m0\u001b[39m]\n",
      "File \u001b[1;32mc:\\Users\\milo2\\Desktop\\review\\utils\\analysis.py:122\u001b[0m, in \u001b[0;36mcompute_geolocation_features_per_ip\u001b[1;34m(rtt_per_srcs_dst, vp_coordinates_per_ip, threshold_distances, vps_per_target, distance_operator, max_vps, is_use_prefix, ip_per_coordinates, country_per_vp, vp_distance_matrix, anchor_per_ip, is_multiprocess)\u001b[0m\n\u001b[0;32m    118\u001b[0m     \u001b[39mif\u001b[39;00m dst \u001b[39mnot\u001b[39;00m \u001b[39min\u001b[39;00m vp_coordinates_per_ip:\n\u001b[0;32m    119\u001b[0m         \u001b[39m# We do not know the geolocation of the anchor.\u001b[39;00m\n\u001b[0;32m    120\u001b[0m         \u001b[39mcontinue\u001b[39;00m\n\u001b[0;32m    121\u001b[0m     args\u001b[39m.\u001b[39mappend((dst, rtt_per_src, vps_per_target, vp_coordinates_per_ip,\n\u001b[1;32m--> 122\u001b[0m                  vp_distance_matrix[dst],\n\u001b[0;32m    123\u001b[0m                  threshold_distances,\n\u001b[0;32m    124\u001b[0m                  distance_operator, max_vps, is_use_prefix))\n\u001b[0;32m    125\u001b[0m \u001b[39mprint\u001b[39m(\u001b[39mlen\u001b[39m(args))\n\u001b[0;32m    126\u001b[0m \u001b[39m# if len(batch) > 0:\u001b[39;00m\n\u001b[0;32m    127\u001b[0m \u001b[39m#     args.append((batch, vps_per_target, vp_coordinates_per_ip, vp_distance_matrix,\u001b[39;00m\n\u001b[0;32m    128\u001b[0m \u001b[39m#                  threshold_distances,\u001b[39;00m\n\u001b[0;32m    129\u001b[0m \u001b[39m#                  distance_operator, max_vps, is_use_prefix))\u001b[39;00m\n",
      "\u001b[1;31mKeyError\u001b[0m: '78.189.206.22'"
     ]
    }
   ],
   "source": [
    "available_vps = [vp for vp in rtt_per_srcs_dst.keys() if vp in vp_coordinates_per_ip]\n",
    "print(len(available_vps))\n",
    "compute_accuracy_vs_number_of_vps(available_vps, rtt_per_srcs_dst, vp_coordinates_per_ip,\n",
    "                                    ip_per_coordinates, country_per_vp,\n",
    "                                    vp_distance_matrix, probe_per_ip, subset_sizes, ACCURACY_VS_N_VPS_FILE)"
   ]
  },
  {
   "cell_type": "markdown",
   "metadata": {},
   "source": [
    "### Accuracy vs number of vps probes"
   ]
  },
  {
   "cell_type": "code",
   "execution_count": null,
   "metadata": {},
   "outputs": [],
   "source": [
    "vp_coordinates_per_ip, ip_per_coordinates, country_per_vp, asn_per_vp, \\\n",
    "        vp_distance_matrix, probe_per_ip = compute_geo_info(\n",
    "            anchors, serialized_file=PAIRWISE_DISTANCE_PROBE_FILE)"
   ]
  },
  {
   "cell_type": "code",
   "execution_count": null,
   "metadata": {},
   "outputs": [],
   "source": [
    "# subset_sizes = [10]\n",
    "subset_sizes = []\n",
    "subset_sizes.extend([i for i in range(100, 1000, 100)])\n",
    "# subset_sizes.extend([i for i in range(1000, 10001, 1000)])\n",
    "\n",
    "rtt_per_srcs_dst = compute_rtts_per_dst_src(PROBES_TO_ANCHORS_PING_TABLE, filter, threshold=50)\n",
    "available_vps = set(vp_coordinates_per_ip.keys())\n",
    "compute_accuracy_vs_number_of_vps(available_vps, rtt_per_srcs_dst, vp_coordinates_per_ip,\n",
    "                                    ip_per_coordinates, country_per_vp,\n",
    "                                    vp_distance_matrix, probe_per_ip, subset_sizes,\n",
    "                                    ACCURACY_VS_N_VPS_PROBES_FILE)"
   ]
  },
  {
   "cell_type": "markdown",
   "metadata": {},
   "source": [
    "### Compute errors"
   ]
  },
  {
   "cell_type": "code",
   "execution_count": null,
   "metadata": {},
   "outputs": [],
   "source": [
    "rtt_per_srcs_dst = compute_rtts_per_dst_src(\n",
    "    ANCHORS_MESHED_PING_TABLE, filter, threshold=70)\n",
    "vps_per_target = {dst: set(vp_coordinates_per_ip.keys())\n",
    "                    for dst in rtt_per_srcs_dst}\n",
    "features = compute_geolocation_features_per_ip(rtt_per_srcs_dst, vp_coordinates_per_ip, THRESHOLD_DISTANCES,\n",
    "                                                vps_per_target=vps_per_target,\n",
    "                                                distance_operator=\">\", max_vps=100000,\n",
    "                                                is_use_prefix=False,\n",
    "                                                ip_per_coordinates=ip_per_coordinates,\n",
    "                                                country_per_vp=country_per_vp,\n",
    "                                                vp_distance_matrix=vp_distance_matrix,\n",
    "                                                anchor_per_ip=probe_per_ip\n",
    "                                                )\n",
    "\n",
    "dump_json(features, ANCHORS_TO_ANCHORS_RESULT_FILE)"
   ]
  },
  {
   "cell_type": "code",
   "execution_count": null,
   "metadata": {},
   "outputs": [],
   "source": [
    "rtt_per_srcs_dst = compute_rtts_per_dst_src(\n",
    "    PROBES_TO_ANCHORS_PING_TABLE, filter, threshold=70)\n",
    "vps_per_target = {dst: set(vp_coordinates_per_ip.keys())\n",
    "                    for dst in rtt_per_srcs_dst}\n",
    "features = compute_geolocation_features_per_ip(rtt_per_srcs_dst, vp_coordinates_per_ip, THRESHOLD_DISTANCES,\n",
    "                                                vps_per_target=vps_per_target,\n",
    "                                                distance_operator=\">\", max_vps=100000,\n",
    "                                                is_use_prefix=False,\n",
    "                                                ip_per_coordinates=ip_per_coordinates,\n",
    "                                                country_per_vp=country_per_vp,\n",
    "                                                vp_distance_matrix=vp_distance_matrix,\n",
    "                                                anchor_per_ip=probe_per_ip\n",
    "                                                )\n",
    "\n",
    "dump_json(features, PROBES_TO_ANCHORS_RESULT_FILE)"
   ]
  },
  {
   "cell_type": "markdown",
   "metadata": {},
   "source": [
    "### VPs selection algorithm"
   ]
  },
  {
   "cell_type": "code",
   "execution_count": null,
   "metadata": {},
   "outputs": [],
   "source": [
    "# Fig.5 of the millions paper."
   ]
  },
  {
   "cell_type": "code",
   "execution_count": null,
   "metadata": {},
   "outputs": [],
   "source": [
    "ping_table_prefix = ANCHORS_TO_PREFIX_TABLE\n",
    "ping_table = ANCHORS_MESHED_PING_TABLE\n",
    "results_files = [VP_SELECTION_ALGORITHM_1_FILE, VP_SELECTION_ALGORITHM_3_FILES, VP_SELECTION_ALGORITHM_10_FILES]\n",
    "\n",
    "rtt_per_srcs_dst_prefix = compute_rtts_per_dst_src(ping_table_prefix, filter, threshold=100, is_per_prefix=True)\n",
    "rtt_per_srcs_dst = compute_rtts_per_dst_src(ping_table, filter, threshold=70)\n",
    "\n",
    "for i, n_vp in enumerate(N_VPS_SELECTION_ALGORITHM):\n",
    "    vps_per_target, _ = compute_closest_rtt_probes(rtt_per_srcs_dst_prefix,\n",
    "                                                    vp_coordinates_per_ip,\n",
    "                                                    vp_distance_matrix,\n",
    "                                                    n_shortest=n_vp,\n",
    "                                                    is_prefix=True)\n",
    "    features = compute_geolocation_features_per_ip(rtt_per_srcs_dst, vp_coordinates_per_ip,\n",
    "                                                    [0],\n",
    "                                                    vps_per_target=vps_per_target,\n",
    "                                                    distance_operator=\">\", max_vps=100000,\n",
    "                                                    is_use_prefix=True,\n",
    "                                                    ip_per_coordinates=ip_per_coordinates,\n",
    "                                                    country_per_vp=country_per_vp,\n",
    "                                                    vp_distance_matrix=vp_distance_matrix,\n",
    "                                                    anchor_per_ip=probe_per_ip,\n",
    "                                                    is_multiprocess=True)\n",
    "    \n",
    "    ofile = results_files[i]\n",
    "    dump_json(features, ofile)"
   ]
  },
  {
   "cell_type": "code",
   "execution_count": null,
   "metadata": {},
   "outputs": [],
   "source": [
    "ping_table_prefix = PROBES_TO_PREFIX_TABLE\n",
    "ping_table = PROBES_TO_ANCHORS_PING_TABLE\n",
    "results_files = [VP_SELECTION_ALGORITHM_PROBES_1_FILE, VP_SELECTION_ALGORITHM_PROBES_3_FILE, VP_SELECTION_ALGORITHM_PROBES_10_FILE]\n",
    "\n",
    "rtt_per_srcs_dst_prefix = compute_rtts_per_dst_src(ping_table_prefix, filter, threshold=100,\n",
    "                                                    is_per_prefix=True)\n",
    "rtt_per_srcs_dst = compute_rtts_per_dst_src(\n",
    "    ping_table, filter, threshold=70)\n",
    "\n",
    "for i, n_vp in enumerate(N_VPS_SELECTION_ALGORITHM):\n",
    "    vps_per_target, _ = compute_closest_rtt_probes(rtt_per_srcs_dst_prefix,\n",
    "                                                    vp_coordinates_per_ip,\n",
    "                                                    vp_distance_matrix,\n",
    "                                                    n_shortest=n_vp,\n",
    "                                                    is_prefix=True)\n",
    "    features = compute_geolocation_features_per_ip(rtt_per_srcs_dst, vp_coordinates_per_ip,\n",
    "                                                    [0],\n",
    "                                                    vps_per_target=vps_per_target,\n",
    "                                                    distance_operator=\">\", max_vps=100000,\n",
    "                                                    is_use_prefix=True,\n",
    "                                                    ip_per_coordinates=ip_per_coordinates,\n",
    "                                                    country_per_vp=country_per_vp,\n",
    "                                                    vp_distance_matrix=vp_distance_matrix,\n",
    "                                                    anchor_per_ip=probe_per_ip,\n",
    "                                                    is_multiprocess=True)\n",
    "    \n",
    "    ofile = results_files[i]\n",
    "    dump_json(features, ofile)"
   ]
  },
  {
   "cell_type": "markdown",
   "metadata": {},
   "source": [
    "### Closest rtt probe"
   ]
  },
  {
   "cell_type": "code",
   "execution_count": null,
   "metadata": {},
   "outputs": [],
   "source": [
    "rtt_per_srcs_dst = compute_rtts_per_dst_src(PROBES_TO_ANCHORS_PING_TABLE, filter, threshold=300)\n",
    "\n",
    "_, min_rtt_per_dst = compute_closest_rtt_probes(rtt_per_srcs_dst, vp_coordinates_per_ip, vp_distance_matrix,\n",
    "                                                is_prefix=False,\n",
    "                                                n_shortest=1)\n",
    "\n",
    "dump_json(min_rtt_per_dst, MIN_RTT_PER_DIST_FILE)"
   ]
  },
  {
   "cell_type": "markdown",
   "metadata": {},
   "source": [
    "### Fixed set"
   ]
  },
  {
   "cell_type": "code",
   "execution_count": null,
   "metadata": {},
   "outputs": [],
   "source": [
    "# Compute the min_rtt for each set of VPs if we take different sets\n",
    "\n",
    "random.seed(42)\n",
    "min_rtt_per_target_one_per_city = {}\n",
    "min_rtt_per_target_one_per_city_asn = {}\n",
    "\n",
    "rtt_per_srcs_dst = compute_rtts_per_dst_src(PROBES_TO_ANCHORS_PING_TABLE, filter, threshold=300)\n",
    "\n",
    "for n_vps_per_granularity in [1, 3, 10, 100]:\n",
    "    vps_per_target_with_asn, min_rtt_per_target_with_asn = compute_fixed_set_of_probes(rtt_per_srcs_dst,\n",
    "                                                                                        vp_coordinates_per_ip,\n",
    "                                                                                        vp_distance_matrix,\n",
    "                                                                                        n_vps_per_granularity=n_vps_per_granularity,\n",
    "                                                                                        threshold=40,\n",
    "                                                                                        is_with_as=True,\n",
    "                                                                                        asn_per_vp=asn_per_vp)\n",
    "    vps_per_target, min_rtt_per_target = compute_fixed_set_of_probes(rtt_per_srcs_dst,\n",
    "                                                                        vp_coordinates_per_ip,\n",
    "                                                                        vp_distance_matrix,\n",
    "                                                                        n_vps_per_granularity=n_vps_per_granularity,\n",
    "                                                                        threshold=40,\n",
    "                                                                        is_with_as=False,\n",
    "                                                                        asn_per_vp=asn_per_vp)\n",
    "\n",
    "    min_rtt_per_target_one_per_city[n_vps_per_granularity] = vps_per_target, min_rtt_per_target\n",
    "    min_rtt_per_target_one_per_city_asn[n_vps_per_granularity] = vps_per_target_with_asn, min_rtt_per_target_with_asn\n",
    "\n",
    "dump_json(min_rtt_per_target_one_per_city, FIXED_SET_ONE_PROBE_PER_CITY_FILE)\n",
    "dump_json(min_rtt_per_target_one_per_city_asn, FIXED_SET_ONE_PROBE_PER_CITY_ASN_FILE)"
   ]
  },
  {
   "cell_type": "markdown",
   "metadata": {},
   "source": [
    "### Probe redundancy"
   ]
  },
  {
   "cell_type": "code",
   "execution_count": null,
   "metadata": {},
   "outputs": [],
   "source": [
    "rtt_per_srcs_dst = compute_rtts_per_dst_src(PROBES_TO_ANCHORS_PING_TABLE, filter, threshold=300)\n",
    "# Do we have probes that are always worse in terms of RTT than others in the same city?\n",
    "\n",
    "closest_probes_per_vp = compute_closest_probes(rtt_per_srcs_dst, vp_coordinates_per_ip, vp_distance_matrix,\n",
    "                                                threshold=40,\n",
    "                                                probes=probes)\n",
    "redundant_probes = compute_redundancy_probes(\n",
    "    rtt_per_srcs_dst, vp_coordinates_per_ip, closest_probes_per_vp)\n",
    "\n",
    "print(len(redundant_probes))"
   ]
  },
  {
   "cell_type": "markdown",
   "metadata": {},
   "source": [
    "### Closest probe"
   ]
  },
  {
   "cell_type": "code",
   "execution_count": null,
   "metadata": {},
   "outputs": [],
   "source": [
    "rtt_per_srcs_dst = compute_rtts_per_dst_src(PROBES_TO_ANCHORS_PING_TABLE, filter, threshold=100)\n",
    "\n",
    "rtts_per_closest_probes = compute_closest_probes(rtt_per_srcs_dst, vp_coordinates_per_ip,\n",
    "                                                    vp_distance_matrix,\n",
    "                                                    threshold=40, probes=probe_per_ip)\n",
    "\n",
    "dump_json(rtts_per_closest_probes, RTTS_PER_CLOSEST_PROBES_FILE)"
   ]
  }
 ],
 "metadata": {
  "kernelspec": {
   "display_name": "review-fXCvvitn-py3.10",
   "language": "python",
   "name": "python3"
  },
  "language_info": {
   "codemirror_mode": {
    "name": "ipython",
    "version": 3
   },
   "file_extension": ".py",
   "mimetype": "text/x-python",
   "name": "python",
   "nbconvert_exporter": "python",
   "pygments_lexer": "ipython3",
   "version": "3.10.0"
  },
  "orig_nbformat": 4
 },
 "nbformat": 4,
 "nbformat_minor": 2
}

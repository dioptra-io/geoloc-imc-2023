{
 "cells": [
  {
   "cell_type": "code",
   "execution_count": 1,
   "metadata": {},
   "outputs": [],
   "source": [
    "from utils.atlas_api import get_measurements_from_tag\n",
    "from default import PREFIX_PROBE_VP\n",
    "from utils.measurement_utils import load_json, dump_json"
   ]
  },
  {
   "attachments": {},
   "cell_type": "markdown",
   "metadata": {},
   "source": [
    "## load results"
   ]
  },
  {
   "cell_type": "code",
   "execution_count": 2,
   "metadata": {},
   "outputs": [],
   "source": [
    "# time and memory consuming operation\n",
    "\n",
    "# to get the original result\n",
    "uuids = [\"df066267-d1fe-452b-b7b4-ddea25d5b80c\"]\n",
    "\n",
    "# to get your own result\n",
    "#uuids = [\"insert tag\"]\n",
    "\n",
    "\n",
    "measurement_results = {}\n",
    "for uuid in uuids:\n",
    "    measurement_result = get_measurements_from_tag(uuid)\n",
    "    measurement_results.update(measurement_result)\n",
    "\n",
    "dump_json(measurement_results, PREFIX_PROBE_VP)"
   ]
  },
  {
   "cell_type": "code",
   "execution_count": 3,
   "metadata": {},
   "outputs": [
    {
     "name": "stdout",
     "output_type": "stream",
     "text": [
      "6\n",
      "212.101.201.3 4\n",
      "212.101.201.6 4\n",
      "212.101.201.5 4\n",
      "212.10.11.0 4\n",
      "212.10.11.4 4\n",
      "212.10.11.2 4\n"
     ]
    }
   ],
   "source": [
    "print(len(measurement_result))\n",
    "\n",
    "for i, (target_addr, results) in enumerate(measurement_results.items()):\n",
    "    if i > 20 : break\n",
    "    print(target_addr, len(results))\n"
   ]
  },
  {
   "cell_type": "markdown",
   "metadata": {},
   "source": [
    "## analysis"
   ]
  },
  {
   "cell_type": "code",
   "execution_count": 4,
   "metadata": {},
   "outputs": [],
   "source": [
    "data = load_json(PREFIX_PROBE_VP)"
   ]
  },
  {
   "cell_type": "code",
   "execution_count": null,
   "metadata": {},
   "outputs": [],
   "source": [
    "import pickle\n",
    "from copy import deepcopy\n",
    "\n",
    "from geoloc_imc_2023.default import ANCHOR_TARGET_PROBE_VP_RESULT_FILE\n",
    "\n",
    "with open(ANCHOR_TARGET_PROBE_VP_RESULT_FILE, \"rb\") as f:\n",
    "    data = pickle.load(f)\n",
    "\n",
    "print(\"subset analyzed\", len(data[\"cbg\"]))\n",
    "\n",
    "# tmp = deepcopy(data)\n",
    "\n",
    "# for subset in tmp[\"cbg\"]:\n",
    "\n",
    "#     if subset > 1000:\n",
    "#         data[\"cbg\"].pop(subset)\n",
    "#         data[\"shortest_ping\"].pop(subset)\n",
    "\n",
    "for subset in data[\"cbg\"]:\n",
    "\n",
    "    print(subset)\n",
    "\n",
    "# with open(ANCHOR_TARGET_PROBE_VP_RESULT_FILE, \"wb\") as f:\n",
    "#     pickle.dump(data, f)\n"
   ]
  }
 ],
 "metadata": {
  "kernelspec": {
   "display_name": "geoloc-imc-2023-6fDKYmVX-py3.10",
   "language": "python",
   "name": "python3"
  },
  "language_info": {
   "codemirror_mode": {
    "name": "ipython",
    "version": 3
   },
   "file_extension": ".py",
   "mimetype": "text/x-python",
   "name": "python",
   "nbconvert_exporter": "python",
   "pygments_lexer": "ipython3",
   "version": "3.10.0"
  },
  "orig_nbformat": 4
 },
 "nbformat": 4,
 "nbformat_minor": 2
}

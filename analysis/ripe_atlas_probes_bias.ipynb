{
 "cells": [
  {
   "cell_type": "code",
   "execution_count": 1,
   "metadata": {},
   "outputs": [],
   "source": [
    "import json\n",
    "import pandas as pd\n",
    "\n",
    "from default import ASNS_TYPE_CAIDA, ASNS_TYPE_STANFORD, REPRO_PROBES_AND_ANCHORS_FILE, REPRO_ANCHORS_FILE, REPRO_PROBES_FILE"
   ]
  },
  {
   "cell_type": "markdown",
   "metadata": {},
   "source": [
    "# load datasets"
   ]
  },
  {
   "cell_type": "code",
   "execution_count": 2,
   "metadata": {},
   "outputs": [],
   "source": [
    "with ASNS_TYPE_CAIDA.open(\"r\") as f:\n",
    "    asns_categories_caida = json.load(f)\n",
    "\n",
    "with ASNS_TYPE_STANFORD.open(\"r\") as f:\n",
    "    asns_categories_stanford = json.load(f)\n",
    "    \n",
    "with REPRO_PROBES_AND_ANCHORS_FILE.open(\"r\") as f:\n",
    "    probes_and_anchors = json.load(f)\n",
    "\n",
    "with REPRO_PROBES_FILE.open(\"r\") as f:\n",
    "    probes = json.load(f)\n",
    "\n",
    "with REPRO_ANCHORS_FILE.open(\"r\") as f:\n",
    "    anchors = json.load(f)"
   ]
  },
  {
   "cell_type": "code",
   "execution_count": 3,
   "metadata": {},
   "outputs": [],
   "source": [
    "def get_anchor_as_category(asns_category: dict, ripe_vps_dataset: dict) -> dict:\n",
    "    \"\"\"return one category per anchor\"\"\"\n",
    "    ripe_categories = []\n",
    "\n",
    "    for ripe_vp in ripe_vps_dataset:\n",
    "        try:\n",
    "            ripe_categories.append({\n",
    "                \"id\": ripe_vp['id'],\n",
    "                \"category\": asns_category[str(ripe_vp[\"asn_v4\"])]\n",
    "            })\n",
    "        except KeyError:\n",
    "            ripe_categories.append({\n",
    "                \"id\": ripe_vp['id'],\n",
    "                \"category\": \"Unknown\"\n",
    "            })\n",
    "            continue\n",
    "    return ripe_categories\n",
    "\n",
    "def get_categories_percentage(categories_df: pd.DataFrame) -> dict:\n",
    "    \"\"\"get percentage per categories from a set of categories\"\"\"\n",
    "    category_repartition = dict()\n",
    "\n",
    "    category_set = categories_df[\"category\"].unique()\n",
    "    for category in category_set:\n",
    "        percentage = len(categories_df[categories_df[\"category\"] == category]) * 100 / len(categories_df[\"id\"])\n",
    "        category_repartition[category] = percentage\n",
    "\n",
    "        print(f\"{category} : {len(categories_df[categories_df['category'] == category])} ({round(percentage,1)}%)\")\n",
    "\n",
    "    assert round(sum([v for v in category_repartition.values()])) == 100  \n",
    "\n",
    "    return category_repartition"
   ]
  },
  {
   "cell_type": "markdown",
   "metadata": {},
   "source": [
    "# Get targets type"
   ]
  },
  {
   "cell_type": "code",
   "execution_count": 4,
   "metadata": {},
   "outputs": [],
   "source": [
    "category_caida_anchors = get_anchor_as_category(asns_categories_caida, anchors)\n",
    "category_caida_probes = get_anchor_as_category(asns_categories_caida, probes)\n",
    "category_caida_probes_and_anchors = get_anchor_as_category(asns_categories_caida, probes_and_anchors)\n",
    "\n",
    "category_stanford_anchors = get_anchor_as_category(asns_categories_stanford, anchors)\n",
    "category_stanford_probes = get_anchor_as_category(asns_categories_stanford, probes)\n",
    "category_stanford_probes_and_anchors = get_anchor_as_category(asns_categories_stanford, probes_and_anchors)\n",
    "\n",
    "caida_df_anchors = pd.DataFrame(category_caida_anchors, columns=[\"id\", \"category\"])\n",
    "caida_df_probes = pd.DataFrame(category_caida_probes, columns=[\"id\", \"category\"])\n",
    "caida_df_probes_and_anchors = pd.DataFrame(category_caida_probes_and_anchors, columns=[\"id\", \"category\"])\n",
    "\n",
    "stanford_df_anchors = pd.DataFrame(category_stanford_anchors, columns=[\"id\", \"category\"])\n",
    "stanford_df_probes = pd.DataFrame(category_stanford_probes, columns=[\"id\", \"category\"])\n",
    "stanford_df_probes_and_anchors = pd.DataFrame(category_stanford_probes_and_anchors, columns=[\"id\", \"category\"])"
   ]
  },
  {
   "cell_type": "markdown",
   "metadata": {},
   "source": [
    "# Caida categories"
   ]
  },
  {
   "cell_type": "code",
   "execution_count": 5,
   "metadata": {},
   "outputs": [
    {
     "name": "stdout",
     "output_type": "stream",
     "text": [
      "Anchors results: \n",
      "\n",
      "Content : 229 (31.7%)\n",
      "Access : 211 (29.2%)\n",
      "Transit/Access : 197 (27.2%)\n",
      "Enterprise : 55 (7.6%)\n",
      "tier-1 : 6 (0.8%)\n",
      "Unknown : 25 (3.5%)\n",
      "\n",
      "Probes results: \n",
      "\n",
      "Access : 9124 (75.2%)\n",
      "Transit/Access : 1005 (8.3%)\n",
      "Enterprise : 410 (3.4%)\n",
      "Unknown : 312 (2.6%)\n",
      "Content : 1112 (9.2%)\n",
      "tier-1 : 166 (1.4%)\n",
      "\n",
      "Probes and anchors results: \n",
      "\n",
      "Access : 9347 (72.4%)\n",
      "Transit/Access : 1221 (9.5%)\n",
      "Enterprise : 472 (3.7%)\n",
      "Unknown : 339 (2.6%)\n",
      "Content : 1361 (10.5%)\n",
      "tier-1 : 174 (1.3%)\n",
      "\n"
     ]
    }
   ],
   "source": [
    "print(\"Anchors results: \\n\")\n",
    "ripe_vps_categories_caida = get_categories_percentage(caida_df_anchors)\n",
    "print()\n",
    "\n",
    "print(\"Probes results: \\n\")\n",
    "ripe_vps_categories_caida = get_categories_percentage(caida_df_probes)\n",
    "print()\n",
    "\n",
    "print(\"Probes and anchors results: \\n\")\n",
    "ripe_vps_categories_caida = get_categories_percentage(caida_df_probes_and_anchors)\n",
    "print()"
   ]
  },
  {
   "cell_type": "markdown",
   "metadata": {},
   "source": [
    "# Stanford categories"
   ]
  },
  {
   "cell_type": "code",
   "execution_count": 6,
   "metadata": {},
   "outputs": [
    {
     "name": "stdout",
     "output_type": "stream",
     "text": [
      "Anchors results: \n",
      "\n",
      "Computer and Information Technology : 521 (72.1%)\n",
      "Education and Research : 38 (5.3%)\n",
      "Community Groups and Nonprofits : 33 (4.6%)\n",
      "Health Care Services : 2 (0.3%)\n",
      "Finance and Insurance : 6 (0.8%)\n",
      "Unknown : 53 (7.3%)\n",
      "Media, Publishing, and Broadcasting : 21 (2.9%)\n",
      "Service : 25 (3.5%)\n",
      "Construction and Real Estate : 5 (0.7%)\n",
      "Travel and Accommodation : 2 (0.3%)\n",
      "Government and Public Administration : 3 (0.4%)\n",
      "Retail Stores, Wholesale, and E-commerce Sites : 5 (0.7%)\n",
      "Utilities (Excluding Internet Service) : 1 (0.1%)\n",
      "Manufacturing : 2 (0.3%)\n",
      "Other : 4 (0.6%)\n",
      "Museums, Libraries, and Entertainment : 1 (0.1%)\n",
      "Freight, Shipment, and Postal Services : 1 (0.1%)\n",
      "\n",
      "Probes results: \n",
      "\n",
      "Computer and Information Technology : 10028 (82.7%)\n",
      "Community Groups and Nonprofits : 129 (1.1%)\n",
      "Unknown : 842 (6.9%)\n",
      "Education and Research : 352 (2.9%)\n",
      "Construction and Real Estate : 60 (0.5%)\n",
      "Manufacturing : 25 (0.2%)\n",
      "Service : 300 (2.5%)\n",
      "Media, Publishing, and Broadcasting : 183 (1.5%)\n",
      "Other : 14 (0.1%)\n",
      "Retail Stores, Wholesale, and E-commerce Sites : 105 (0.9%)\n",
      "Government and Public Administration : 18 (0.1%)\n",
      "Health Care Services : 8 (0.1%)\n",
      "Finance and Insurance : 22 (0.2%)\n",
      "Utilities (Excluding Internet Service) : 16 (0.1%)\n",
      "Museums, Libraries, and Entertainment : 8 (0.1%)\n",
      "Travel and Accommodation : 10 (0.1%)\n",
      "Agriculture, Mining, and Refineries (Farming, Greenhouses, Mining, Forestry, and Animal Farming) : 4 (0.0%)\n",
      "Freight, Shipment, and Postal Services : 5 (0.0%)\n",
      "\n",
      "Probes and anchors results: \n",
      "\n",
      "Computer and Information Technology : 10590 (82.0%)\n",
      "Community Groups and Nonprofits : 163 (1.3%)\n",
      "Unknown : 901 (7.0%)\n",
      "Education and Research : 393 (3.0%)\n",
      "Construction and Real Estate : 65 (0.5%)\n",
      "Manufacturing : 27 (0.2%)\n",
      "Service : 328 (2.5%)\n",
      "Media, Publishing, and Broadcasting : 206 (1.6%)\n",
      "Other : 19 (0.1%)\n",
      "Retail Stores, Wholesale, and E-commerce Sites : 115 (0.9%)\n",
      "Government and Public Administration : 21 (0.2%)\n",
      "Health Care Services : 10 (0.1%)\n",
      "Finance and Insurance : 28 (0.2%)\n",
      "Utilities (Excluding Internet Service) : 17 (0.1%)\n",
      "Museums, Libraries, and Entertainment : 9 (0.1%)\n",
      "Travel and Accommodation : 12 (0.1%)\n",
      "Agriculture, Mining, and Refineries (Farming, Greenhouses, Mining, Forestry, and Animal Farming) : 4 (0.0%)\n",
      "Freight, Shipment, and Postal Services : 6 (0.0%)\n",
      "\n"
     ]
    }
   ],
   "source": [
    "print(\"Anchors results: \\n\")\n",
    "ripe_vps_categories_caida = get_categories_percentage(stanford_df_anchors)\n",
    "print()\n",
    "\n",
    "print(\"Probes results: \\n\")\n",
    "ripe_vps_categories_caida = get_categories_percentage(stanford_df_probes)\n",
    "print()\n",
    "\n",
    "print(\"Probes and anchors results: \\n\")\n",
    "ripe_vps_categories_caida = get_categories_percentage(stanford_df_probes_and_anchors)\n",
    "print()"
   ]
  }
 ],
 "metadata": {
  "kernelspec": {
   "display_name": "review-QY-dYH-y-py3.10",
   "language": "python",
   "name": "python3"
  },
  "language_info": {
   "codemirror_mode": {
    "name": "ipython",
    "version": 3
   },
   "file_extension": ".py",
   "mimetype": "text/x-python",
   "name": "python",
   "nbconvert_exporter": "python",
   "pygments_lexer": "ipython3",
   "version": "3.10.9"
  },
  "orig_nbformat": 4
 },
 "nbformat": 4,
 "nbformat_minor": 2
}

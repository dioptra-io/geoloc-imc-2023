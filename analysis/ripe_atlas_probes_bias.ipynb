{
 "cells": [
  {
   "cell_type": "code",
   "execution_count": 1,
   "metadata": {},
   "outputs": [],
   "source": [
    "import json\n",
    "import pandas as pd\n",
    "\n",
    "from default import ASNS_TYPE_CAIDA, ASNS_TYPE_STANFORD, REPRO_PROBES_AND_ANCHORS_FILE, REPRO_ANCHORS_FILE"
   ]
  },
  {
   "cell_type": "markdown",
   "metadata": {},
   "source": [
    "# load datasets"
   ]
  },
  {
   "cell_type": "code",
   "execution_count": 2,
   "metadata": {},
   "outputs": [],
   "source": [
    "with ASNS_TYPE_CAIDA.open(\"r\") as f:\n",
    "    asns_categories_caida = json.load(f)\n",
    "\n",
    "with ASNS_TYPE_STANFORD.open(\"r\") as f:\n",
    "    asns_categories_stanford = json.load(f)\n",
    "    \n",
    "with REPRO_PROBES_AND_ANCHORS_FILE.open(\"r\") as f:\n",
    "    probes_and_anchors = json.load(f)\n",
    "\n",
    "with REPRO_ANCHORS_FILE.open(\"r\") as f:\n",
    "    anchors = json.load(f)"
   ]
  },
  {
   "cell_type": "code",
   "execution_count": null,
   "metadata": {},
   "outputs": [],
   "source": [
    "def get_anchor_as_category(asns_category: dict, ripe_vps_dataset: dict) -> dict:\n",
    "    \"\"\"return one category per anchor\"\"\"\n",
    "    ripe_categories = []\n",
    "\n",
    "    for ripe_vp in ripe_vps_dataset:\n",
    "        try:\n",
    "            ripe_categories.append({\n",
    "                \"id\": ripe_vp['id'],\n",
    "                \"category\": asns_category[str(ripe_vp[\"asn_v4\"])]\n",
    "            })\n",
    "        except KeyError:\n",
    "            ripe_categories.append({\n",
    "                \"id\": ripe_vp['id'],\n",
    "                \"category\": \"Unknown\"\n",
    "            })\n",
    "            continue\n",
    "    return ripe_categories\n",
    "\n",
    "def get_categories_percentage(categories_df: pd.DataFrame) -> dict:\n",
    "    \"\"\"get percentage per categories from a set of categories\"\"\"\n",
    "    category_repartition = dict()\n",
    "\n",
    "    category_set = categories_df[\"category\"].unique()\n",
    "    for category in category_set:\n",
    "        percentage = len(categories_df[categories_df[\"category\"] == category]) * 100 / len(categories_df[\"id\"])\n",
    "        category_repartition[category] = percentage\n",
    "\n",
    "        print(f\"{category} : {len(categories_df[categories_df['category'] == category])} ({round(percentage,1)}%)\")\n",
    "\n",
    "    assert round(sum([v for v in category_repartition.values()])) == 100  \n",
    "\n",
    "    return category_repartition"
   ]
  },
  {
   "cell_type": "markdown",
   "metadata": {},
   "source": [
    "# Get targets type"
   ]
  },
  {
   "cell_type": "code",
   "execution_count": null,
   "metadata": {},
   "outputs": [],
   "source": [
    "anchors_category_caida = get_anchor_as_category(asns_categories_caida, anchors)\n",
    "anchors_category_stanford = get_anchor_as_category(asns_categories_stanford, anchors)\n",
    "\n",
    "caida_df = pd.DataFrame(anchors_category_caida, columns=[\"id\", \"category\"])\n",
    "stanford_df = pd.DataFrame(anchors_category_stanford, columns=[\"id\", \"category\"])"
   ]
  },
  {
   "cell_type": "markdown",
   "metadata": {},
   "source": [
    "# Caida categories"
   ]
  },
  {
   "cell_type": "code",
   "execution_count": 8,
   "metadata": {},
   "outputs": [
    {
     "name": "stdout",
     "output_type": "stream",
     "text": [
      "category = 'Access': 25.58%\n",
      "category = 'Enterprise': 8.7%\n",
      "category = 'Transit/Access': 29.03%\n",
      "category = 'tier-1': 2.17%\n",
      "category = 'Unknown': 4.99%\n",
      "category = 'Content': 29.54%\n"
     ]
    }
   ],
   "source": [
    "print(\"AS category repartition CAIDA:\")\n",
    "ripe_vps_categories_caida = get_categories_percentage(caida_df)"
   ]
  },
  {
   "cell_type": "markdown",
   "metadata": {},
   "source": [
    "# Stanford categories"
   ]
  },
  {
   "cell_type": "code",
   "execution_count": 9,
   "metadata": {},
   "outputs": [
    {
     "name": "stdout",
     "output_type": "stream",
     "text": [
      "category = 'Construction and Real Estate': 0.64%\n",
      "category = 'Media, Publishing, and Broadcasting': 0.51%\n",
      "category = 'Retail Stores, Wholesale, and E-commerce Sites': 1.28%\n",
      "category = 'Computer and Information Technology': 73.79%\n",
      "category = 'Freight, Shipment, and Postal Services': 0.13%\n",
      "category = 'Museums, Libraries, and Entertainment': 0.13%\n",
      "category = 'Other': 0.51%\n",
      "category = 'Community Groups and Nonprofits': 4.48%\n",
      "category = 'Travel and Accommodation': 0.26%\n",
      "category = 'Service': 3.71%\n",
      "category = 'Finance and Insurance': 0.77%\n",
      "category = 'Education and Research': 5.5%\n",
      "category = 'Unknown': 7.29%\n",
      "category = 'Health Care Services': 0.13%\n",
      "category = 'Manufacturing': 0.26%\n",
      "category = 'Agriculture, Mining, and Refineries (Farming, Greenhouses, Mining, Forestry, and Animal Farming)': 0.0%\n",
      "category = 'Utilities (Excluding Internet Service)': 0.26%\n",
      "category = 'Government and Public Administration': 0.38%\n"
     ]
    }
   ],
   "source": [
    "print(\"AS category repartition STANFORD:\")\n",
    "ripe_vps_categories_stanford = get_categories_percentage(stanford_df)"
   ]
  }
 ],
 "metadata": {
  "kernelspec": {
   "display_name": "review-QY-dYH-y-py3.10",
   "language": "python",
   "name": "python3"
  },
  "language_info": {
   "codemirror_mode": {
    "name": "ipython",
    "version": 3
   },
   "file_extension": ".py",
   "mimetype": "text/x-python",
   "name": "python",
   "nbconvert_exporter": "python",
   "pygments_lexer": "ipython3",
   "version": "3.9.8"
  },
  "orig_nbformat": 4
 },
 "nbformat": 4,
 "nbformat_minor": 2
}

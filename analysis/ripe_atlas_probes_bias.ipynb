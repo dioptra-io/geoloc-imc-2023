{
 "cells": [
  {
   "cell_type": "code",
   "execution_count": 1,
   "metadata": {},
   "outputs": [],
   "source": [
    "import json\n",
    "import pandas as pd\n",
    "\n",
    "from default import ASNS_TYPE_CAIDA, ASNS_TYPE_STANFORD, PROBES_AND_ANCHORS_FILE, ANCHORS_FILE"
   ]
  },
  {
   "cell_type": "markdown",
   "metadata": {},
   "source": [
    "# load datasets"
   ]
  },
  {
   "cell_type": "code",
   "execution_count": 2,
   "metadata": {},
   "outputs": [],
   "source": [
    "with ASNS_TYPE_CAIDA.open(\"r\") as f:\n",
    "    asns_types_caida = json.load(f)\n",
    "\n",
    "with ASNS_TYPE_STANFORD.open(\"r\") as f:\n",
    "    asns_types_stanford = json.load(f)\n",
    "    \n",
    "with PROBES_AND_ANCHORS_FILE.open(\"r\") as f:\n",
    "    probes_and_anchors = json.load(f)\n",
    "\n",
    "with ANCHORS_FILE.open(\"r\") as f:\n",
    "    anchors = json.load(f)"
   ]
  },
  {
   "cell_type": "markdown",
   "metadata": {},
   "source": [
    "# Get targets type"
   ]
  },
  {
   "cell_type": "code",
   "execution_count": 3,
   "metadata": {},
   "outputs": [
    {
     "name": "stdout",
     "output_type": "stream",
     "text": [
      "unmapped target caida: 39\n",
      "unmapped target stanford: 57\n"
     ]
    }
   ],
   "source": [
    "\n",
    "def get_anchor_as_category(asns_category: dict) -> dict:\n",
    "    \"\"\"return one category per anchor\"\"\"\n",
    "    anchors_category = []\n",
    "\n",
    "    for anchor in anchors:\n",
    "        try:\n",
    "            anchors_category.append({\n",
    "                \"id\": anchor['id'],\n",
    "                \"type\": asns_category[str(anchor[\"asn_v4\"])]\n",
    "            })\n",
    "        except KeyError:\n",
    "            anchors_category.append({\n",
    "                \"id\": anchor['id'],\n",
    "                \"type\": \"Unknown\"\n",
    "            })\n",
    "            continue\n",
    "    return anchors_category\n",
    "\n",
    "anchors_category = dict()\n",
    "anchors_category[\"caida\"] = get_anchor_as_category(asns_types_caida)\n",
    "anchors_category[\"stanford\"] = get_anchor_as_category(asns_types_stanford)\n",
    "\n",
    "print(f\"unmapped target caida: {len([anchor for anchor in anchors_category['caida'] if anchor['type'] == 'Unknown'])}\")\n",
    "print(f\"unmapped target stanford: {len([anchor for anchor in anchors_category['stanford'] if anchor['type'] == 'Unknown'])}\")"
   ]
  },
  {
   "cell_type": "code",
   "execution_count": 4,
   "metadata": {},
   "outputs": [],
   "source": [
    "caida_df = pd.DataFrame(anchors_category[\"caida\"], columns=[\"id\", \"type\"])\n",
    "stanford_df = pd.DataFrame(anchors_category[\"stanford\"], columns=[\"id\", \"type\"])"
   ]
  },
  {
   "cell_type": "code",
   "execution_count": 5,
   "metadata": {},
   "outputs": [
    {
     "name": "stdout",
     "output_type": "stream",
     "text": [
      "<class 'pandas.core.frame.DataFrame'>\n",
      "RangeIndex: 782 entries, 0 to 781\n",
      "Data columns (total 2 columns):\n",
      " #   Column  Non-Null Count  Dtype \n",
      "---  ------  --------------  ----- \n",
      " 0   id      782 non-null    int64 \n",
      " 1   type    782 non-null    object\n",
      "dtypes: int64(1), object(1)\n",
      "memory usage: 12.3+ KB\n",
      "None\n",
      "     id            type\n",
      "0  6025         Content\n",
      "1  6031          Access\n",
      "2  6039  Transit/Access\n",
      "3  6042  Transit/Access\n",
      "4  6043  Transit/Access\n"
     ]
    }
   ],
   "source": [
    "print(caida_df.info())\n",
    "print(caida_df.head())"
   ]
  },
  {
   "cell_type": "code",
   "execution_count": 6,
   "metadata": {},
   "outputs": [
    {
     "name": "stdout",
     "output_type": "stream",
     "text": [
      "<class 'pandas.core.frame.DataFrame'>\n",
      "RangeIndex: 782 entries, 0 to 781\n",
      "Data columns (total 2 columns):\n",
      " #   Column  Non-Null Count  Dtype \n",
      "---  ------  --------------  ----- \n",
      " 0   id      782 non-null    int64 \n",
      " 1   type    782 non-null    object\n",
      "dtypes: int64(1), object(1)\n",
      "memory usage: 12.3+ KB\n",
      "None\n",
      "     id                                 type\n",
      "0  6025  Computer and Information Technology\n",
      "1  6031  Computer and Information Technology\n",
      "2  6039  Computer and Information Technology\n",
      "3  6042  Computer and Information Technology\n",
      "4  6043               Education and Research\n"
     ]
    }
   ],
   "source": [
    "print(stanford_df.info())\n",
    "print(stanford_df.head())"
   ]
  },
  {
   "cell_type": "code",
   "execution_count": 7,
   "metadata": {},
   "outputs": [
    {
     "name": "stdout",
     "output_type": "stream",
     "text": [
      "caida_categories = {'Access', 'Enterprise', 'Transit/Access', 'tier-1', 'Unknown', 'Content'}\n",
      "stanford_categories = {'Construction and Real Estate', 'Media, Publishing, and Broadcasting', 'Retail Stores, Wholesale, and E-commerce Sites', 'Computer and Information Technology', 'Freight, Shipment, and Postal Services', 'Museums, Libraries, and Entertainment', 'Other', 'Community Groups and Nonprofits', 'Travel and Accommodation', 'Service', 'Finance and Insurance', 'Education and Research', 'Unknown', 'Health Care Services', 'Manufacturing', 'Agriculture, Mining, and Refineries (Farming, Greenhouses, Mining, Forestry, and Animal Farming)', 'Utilities (Excluding Internet Service)', 'Government and Public Administration'}\n"
     ]
    }
   ],
   "source": [
    "# get respective datasert categories\n",
    "caida_categories = set(asns_types_caida.values())\n",
    "stanford_categories = set(asns_types_stanford.values())\n",
    "\n",
    "# add unknown category\n",
    "caida_categories.add(\"Unknown\")\n",
    "stanford_categories.add(\"Unknown\")\n",
    "\n",
    "print(f\"{caida_categories = }\")\n",
    "print(f\"{stanford_categories = }\")"
   ]
  },
  {
   "cell_type": "markdown",
   "metadata": {},
   "source": [
    "# Caida categories"
   ]
  },
  {
   "cell_type": "code",
   "execution_count": 8,
   "metadata": {},
   "outputs": [
    {
     "name": "stdout",
     "output_type": "stream",
     "text": [
      "category = 'Access': 25.58%\n",
      "category = 'Enterprise': 8.7%\n",
      "category = 'Transit/Access': 29.03%\n",
      "category = 'tier-1': 2.17%\n",
      "category = 'Unknown': 4.99%\n",
      "category = 'Content': 29.54%\n"
     ]
    }
   ],
   "source": [
    "percentage_per_category_caida = dict()\n",
    "for category in caida_categories:\n",
    "    percentage = len(caida_df[caida_df[\"type\"] == category]) * 100 / len(caida_df[\"id\"])\n",
    "    percentage_per_category_caida[category] = percentage\n",
    "\n",
    "    print(f\"{category = }: {round(percentage, 2)}%\")\n",
    "\n",
    "assert round(sum([v for v in percentage_per_category_caida.values()])) == 100  "
   ]
  },
  {
   "cell_type": "markdown",
   "metadata": {},
   "source": [
    "# Stanford categories"
   ]
  },
  {
   "cell_type": "code",
   "execution_count": 9,
   "metadata": {},
   "outputs": [
    {
     "name": "stdout",
     "output_type": "stream",
     "text": [
      "category = 'Construction and Real Estate': 0.64%\n",
      "category = 'Media, Publishing, and Broadcasting': 0.51%\n",
      "category = 'Retail Stores, Wholesale, and E-commerce Sites': 1.28%\n",
      "category = 'Computer and Information Technology': 73.79%\n",
      "category = 'Freight, Shipment, and Postal Services': 0.13%\n",
      "category = 'Museums, Libraries, and Entertainment': 0.13%\n",
      "category = 'Other': 0.51%\n",
      "category = 'Community Groups and Nonprofits': 4.48%\n",
      "category = 'Travel and Accommodation': 0.26%\n",
      "category = 'Service': 3.71%\n",
      "category = 'Finance and Insurance': 0.77%\n",
      "category = 'Education and Research': 5.5%\n",
      "category = 'Unknown': 7.29%\n",
      "category = 'Health Care Services': 0.13%\n",
      "category = 'Manufacturing': 0.26%\n",
      "category = 'Agriculture, Mining, and Refineries (Farming, Greenhouses, Mining, Forestry, and Animal Farming)': 0.0%\n",
      "category = 'Utilities (Excluding Internet Service)': 0.26%\n",
      "category = 'Government and Public Administration': 0.38%\n"
     ]
    }
   ],
   "source": [
    "percentage_per_category_stanford = dict()\n",
    "for category in stanford_categories:\n",
    "    percentage = len(stanford_df[stanford_df[\"type\"] == category]) * 100 / len(stanford_df[\"id\"])\n",
    "    percentage_per_category_stanford[category] = percentage\n",
    "\n",
    "    print(f\"{category = }: {round(percentage, 2)}%\")\n",
    "\n",
    "assert round(sum([v for v in percentage_per_category_stanford.values()])) == 100  "
   ]
  }
 ],
 "metadata": {
  "kernelspec": {
   "display_name": "review-QY-dYH-y-py3.10",
   "language": "python",
   "name": "python3"
  },
  "language_info": {
   "codemirror_mode": {
    "name": "ipython",
    "version": 3
   },
   "file_extension": ".py",
   "mimetype": "text/x-python",
   "name": "python",
   "nbconvert_exporter": "python",
   "pygments_lexer": "ipython3",
   "version": "3.10.9"
  },
  "orig_nbformat": 4
 },
 "nbformat": 4,
 "nbformat_minor": 2
}

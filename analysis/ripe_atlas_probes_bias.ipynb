{
 "cells": [
  {
   "cell_type": "code",
   "execution_count": 2,
   "metadata": {},
   "outputs": [],
   "source": [
    "import json\n",
    "import pandas as pd\n",
    "\n",
    "from default import ASNS_TYPE_CAIDA, ASNS_TYPE_STANFORD, REPRO_PROBES_AND_ANCHORS_FILE, REPRO_ANCHORS_FILE"
   ]
  },
  {
   "cell_type": "markdown",
   "metadata": {},
   "source": [
    "# load datasets"
   ]
  },
  {
   "cell_type": "code",
   "execution_count": 4,
   "metadata": {},
   "outputs": [],
   "source": [
    "with ASNS_TYPE_CAIDA.open(\"r\") as f:\n",
    "    asns_categories_caida = json.load(f)\n",
    "\n",
    "with ASNS_TYPE_STANFORD.open(\"r\") as f:\n",
    "    asns_categories_stanford = json.load(f)\n",
    "    \n",
    "with REPRO_PROBES_AND_ANCHORS_FILE.open(\"r\") as f:\n",
    "    probes_and_anchors = json.load(f)\n",
    "\n",
    "with REPRO_ANCHORS_FILE.open(\"r\") as f:\n",
    "    anchors = json.load(f)"
   ]
  },
  {
   "cell_type": "code",
   "execution_count": 5,
   "metadata": {},
   "outputs": [],
   "source": [
    "def get_anchor_as_category(asns_category: dict, ripe_vps_dataset: dict) -> dict:\n",
    "    \"\"\"return one category per anchor\"\"\"\n",
    "    ripe_categories = []\n",
    "\n",
    "    for ripe_vp in ripe_vps_dataset:\n",
    "        try:\n",
    "            ripe_categories.append({\n",
    "                \"id\": ripe_vp['id'],\n",
    "                \"category\": asns_category[str(ripe_vp[\"asn_v4\"])]\n",
    "            })\n",
    "        except KeyError:\n",
    "            ripe_categories.append({\n",
    "                \"id\": ripe_vp['id'],\n",
    "                \"category\": \"Unknown\"\n",
    "            })\n",
    "            continue\n",
    "    return ripe_categories\n",
    "\n",
    "def get_categories_percentage(categories_df: pd.DataFrame) -> dict:\n",
    "    \"\"\"get percentage per categories from a set of categories\"\"\"\n",
    "    category_repartition = dict()\n",
    "\n",
    "    category_set = categories_df[\"category\"].unique()\n",
    "    for category in category_set:\n",
    "        percentage = len(categories_df[categories_df[\"category\"] == category]) * 100 / len(categories_df[\"id\"])\n",
    "        category_repartition[category] = percentage\n",
    "\n",
    "        print(f\"{category} : {len(categories_df[categories_df['category'] == category])} ({round(percentage,1)}%)\")\n",
    "\n",
    "    assert round(sum([v for v in category_repartition.values()])) == 100  \n",
    "\n",
    "    return category_repartition"
   ]
  },
  {
   "cell_type": "markdown",
   "metadata": {},
   "source": [
    "# Get targets type"
   ]
  },
  {
   "cell_type": "code",
   "execution_count": 6,
   "metadata": {},
   "outputs": [],
   "source": [
    "anchors_category_caida = get_anchor_as_category(asns_categories_caida, anchors)\n",
    "anchors_category_stanford = get_anchor_as_category(asns_categories_stanford, anchors)\n",
    "\n",
    "caida_df = pd.DataFrame(anchors_category_caida, columns=[\"id\", \"category\"])\n",
    "stanford_df = pd.DataFrame(anchors_category_stanford, columns=[\"id\", \"category\"])"
   ]
  },
  {
   "cell_type": "markdown",
   "metadata": {},
   "source": [
    "# Caida categories"
   ]
  },
  {
   "cell_type": "code",
   "execution_count": 7,
   "metadata": {},
   "outputs": [
    {
     "name": "stdout",
     "output_type": "stream",
     "text": [
      "AS category repartition CAIDA:\n",
      "Content : 229 (31.7%)\n",
      "Access : 211 (29.2%)\n",
      "Transit/Access : 197 (27.2%)\n",
      "Enterprise : 55 (7.6%)\n",
      "tier-1 : 6 (0.8%)\n",
      "Unknown : 25 (3.5%)\n"
     ]
    }
   ],
   "source": [
    "print(\"AS category repartition CAIDA:\")\n",
    "ripe_vps_categories_caida = get_categories_percentage(caida_df)"
   ]
  },
  {
   "cell_type": "markdown",
   "metadata": {},
   "source": [
    "# Stanford categories"
   ]
  },
  {
   "cell_type": "code",
   "execution_count": 8,
   "metadata": {},
   "outputs": [
    {
     "name": "stdout",
     "output_type": "stream",
     "text": [
      "AS category repartition STANFORD:\n",
      "Computer and Information Technology : 521 (72.1%)\n",
      "Education and Research : 38 (5.3%)\n",
      "Community Groups and Nonprofits : 33 (4.6%)\n",
      "Health Care Services : 2 (0.3%)\n",
      "Finance and Insurance : 6 (0.8%)\n",
      "Unknown : 53 (7.3%)\n",
      "Media, Publishing, and Broadcasting : 21 (2.9%)\n",
      "Service : 25 (3.5%)\n",
      "Construction and Real Estate : 5 (0.7%)\n",
      "Travel and Accommodation : 2 (0.3%)\n",
      "Government and Public Administration : 3 (0.4%)\n",
      "Retail Stores, Wholesale, and E-commerce Sites : 5 (0.7%)\n",
      "Utilities (Excluding Internet Service) : 1 (0.1%)\n",
      "Manufacturing : 2 (0.3%)\n",
      "Other : 4 (0.6%)\n",
      "Museums, Libraries, and Entertainment : 1 (0.1%)\n",
      "Freight, Shipment, and Postal Services : 1 (0.1%)\n"
     ]
    }
   ],
   "source": [
    "print(\"AS category repartition STANFORD:\")\n",
    "ripe_vps_categories_stanford = get_categories_percentage(stanford_df)"
   ]
  }
 ],
 "metadata": {
  "kernelspec": {
   "display_name": "review-QY-dYH-y-py3.10",
   "language": "python",
   "name": "python3"
  },
  "language_info": {
   "codemirror_mode": {
    "name": "ipython",
    "version": 3
   },
   "file_extension": ".py",
   "mimetype": "text/x-python",
   "name": "python",
   "nbconvert_exporter": "python",
   "pygments_lexer": "ipython3",
   "version": "3.9.8"
  },
  "orig_nbformat": 4
 },
 "nbformat": 4,
 "nbformat_minor": 2
}

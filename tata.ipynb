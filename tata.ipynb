{
 "cells": [
  {
   "cell_type": "code",
   "execution_count": 2,
   "metadata": {},
   "outputs": [],
   "source": [
    "from default import ANCHORS_FILE, PROBES_FILE, PROBES_AND_ANCHORS_FILE, COUNTRIES_JSON_FILE\n",
    "from utils.file_utils import dump_json, load_json\n",
    "from utils.common import country_filtering\n",
    "import requests\n",
    "import pickle"
   ]
  }
 ],
 "metadata": {
  "kernelspec": {
   "display_name": "review-bH8GUATB-py3.10",
   "language": "python",
   "name": "python3"
  },
  "language_info": {
   "codemirror_mode": {
    "name": "ipython",
    "version": 3
   },
   "file_extension": ".py",
   "mimetype": "text/x-python",
   "name": "python",
   "nbconvert_exporter": "python",
   "pygments_lexer": "ipython3",
   "version": "3.10.0"
  },
  "orig_nbformat": 4
 },
 "nbformat": 4,
 "nbformat_minor": 2
}

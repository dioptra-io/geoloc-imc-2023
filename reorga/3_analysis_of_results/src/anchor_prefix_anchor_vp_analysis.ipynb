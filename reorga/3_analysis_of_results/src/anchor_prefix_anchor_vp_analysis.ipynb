{
 "cells": [
  {
   "cell_type": "code",
   "execution_count": 2,
   "metadata": {},
   "outputs": [],
   "source": [
    "import pickle\n",
    "import json\n",
    "\n",
    "from collections import defaultdict, OrderedDict\n",
    "from copy import deepcopy\n",
    "\n",
    "from geoloc_imc_2023.query_api import get_measurements_from_tag\n",
    "from geoloc_imc_2023.default import ANCHOR_PREFIX_PROBE_VP\n",
    "from geoloc_imc_2023.measurement_utils import load_atlas_anchors, load_atlas_probes\n",
    "from geoloc_imc_2023.helpers import distance, rtt_to_km"
   ]
  },
  {
   "attachments": {},
   "cell_type": "markdown",
   "metadata": {},
   "source": [
    "## load results"
   ]
  },
  {
   "cell_type": "code",
   "execution_count": 3,
   "metadata": {},
   "outputs": [],
   "source": [
    "uuids = [\n",
    "    \"93022217-3d42-415d-949b-48dfd1ea1d4f\"\n",
    "]\n",
    "\n",
    "measurement_results = {}\n",
    "for uuid in uuids:\n",
    "    measurement_result = get_measurements_from_tag(uuid)\n",
    "    measurement_results.update(measurement_result)\n",
    "\n",
    "with open(ANCHOR_PREFIX_PROBE_VP,\"wb\") as f:\n",
    "    pickle.dump(measurement_results, f)"
   ]
  },
  {
   "cell_type": "code",
   "execution_count": 5,
   "metadata": {},
   "outputs": [
    {
     "name": "stdout",
     "output_type": "stream",
     "text": [
      "562\n",
      "213.225.160.254 9486\n",
      "213.225.160.14 9469\n",
      "213.225.160.140 9476\n",
      "145.220.0.29 7103\n",
      "145.220.0.1 9462\n",
      "145.220.0.28 7308\n",
      "5.28.0.6 9463\n",
      "5.28.0.14 9475\n",
      "5.28.0.13 9471\n",
      "193.171.255.1 8416\n",
      "193.171.255.9 9474\n",
      "193.171.255.2 9484\n",
      "192.65.184.42 4692\n",
      "192.65.184.154 4791\n",
      "192.65.184.69 4800\n",
      "185.42.136.2 9491\n",
      "185.42.136.149 9467\n",
      "185.42.136.3 9464\n",
      "197.80.104.33 9465\n",
      "197.80.104.35 9468\n",
      "197.80.104.34 9469\n"
     ]
    }
   ],
   "source": [
    "print(len(measurement_result))\n",
    "\n",
    "for i, (target_addr, results) in enumerate(measurement_results.items()):\n",
    "    if i > 20 : break\n",
    "    print(target_addr, len(results))\n"
   ]
  }
 ],
 "metadata": {
  "kernelspec": {
   "display_name": "geoloc-imc-2023-6fDKYmVX-py3.10",
   "language": "python",
   "name": "python3"
  },
  "language_info": {
   "codemirror_mode": {
    "name": "ipython",
    "version": 3
   },
   "file_extension": ".py",
   "mimetype": "text/x-python",
   "name": "python",
   "nbconvert_exporter": "python",
   "pygments_lexer": "ipython3",
   "version": "3.10.9"
  },
  "orig_nbformat": 4
 },
 "nbformat": 4,
 "nbformat_minor": 2
}

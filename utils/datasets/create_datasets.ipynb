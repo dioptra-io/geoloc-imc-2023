{
 "cells": [
  {
   "cell_type": "markdown",
   "metadata": {},
   "source": [
    "This code can be used to create your own datasets"
   ]
  },
  {
   "cell_type": "code",
   "execution_count": 4,
   "metadata": {},
   "outputs": [],
   "source": [
    "from utils.helpers import distance\n",
    "from utils.measurement_utils import load_pickle, dump_pickle, load_json\n",
    "from utils.atlas_api import get_atlas_anchors, get_atlas_probes, get_atlas_probes_and_anchors\n",
    "from default import PROBES_FILE, ANCHORS_FILE, PROBES_AND_ANCHORS_FILE, COUNTRIES_TXT_FILE, COUNTRIES_PICKLE_FILE, REMOVED_PROBES_FILE, ADDRESS_FILE, HITLIST_FILE"
   ]
  },
  {
   "attachments": {},
   "cell_type": "markdown",
   "metadata": {},
   "source": [
    "## retrieve atlas probes"
   ]
  },
  {
   "cell_type": "code",
   "execution_count": 2,
   "metadata": {},
   "outputs": [
    {
     "name": "stdout",
     "output_type": "stream",
     "text": [
      "selected probes and anchors: 25740\n"
     ]
    }
   ],
   "source": [
    "# create and fill the probes_and_anchors.pickle dataset.\n",
    "probes_and_anchors = get_atlas_probes_and_anchors()\n",
    "dump_pickle(probes_and_anchors, PROBES_AND_ANCHORS_FILE)\n",
    "\n",
    "print(\n",
    "    f\"selected probes and anchors: {len(probes_and_anchors)}\")\n"
   ]
  },
  {
   "cell_type": "code",
   "execution_count": 16,
   "metadata": {},
   "outputs": [
    {
     "name": "stdout",
     "output_type": "stream",
     "text": [
      "selected probes: 10083 (22.42%), rejected: 34888, geoloc rejected: 1\n"
     ]
    }
   ],
   "source": [
    "# create and fill the probes.pickle dataset.\n",
    "probes, probes_rejected, probes_geoloc_disputed = get_atlas_probes()\n",
    "dump_pickle(probes, PROBES_FILE)\n",
    "\n",
    "# display number of selected and rejected probes.\n",
    "print(\n",
    "    f\"selected probes: {len(probes)} ({round(len(probes) * 100 / (probes_rejected+len(probes)), 2)}%), rejected: {probes_rejected}, geoloc rejected: {probes_geoloc_disputed}\")"
   ]
  },
  {
   "cell_type": "code",
   "execution_count": 17,
   "metadata": {},
   "outputs": [
    {
     "name": "stdout",
     "output_type": "stream",
     "text": [
      "selected anchors: 775 (62.55%), rejected: 464, geoloc rejected: 1\n"
     ]
    }
   ],
   "source": [
    "# create and fill the anchors.pickle dataset.\n",
    "anchors, anchors_rejected, anchors_geoloc_disputed = get_atlas_anchors()\n",
    "dump_pickle(anchors, ANCHORS_FILE)\n",
    "\n",
    "# display number of selected and rejected anchors.\n",
    "print(\n",
    "    f\"selected anchors: {len(anchors)} ({round(len(anchors) * 100 / (anchors_rejected+len(anchors)), 2)}%), rejected: {anchors_rejected}, geoloc rejected: {anchors_geoloc_disputed}\")"
   ]
  },
  {
   "attachments": {},
   "cell_type": "markdown",
   "metadata": {},
   "source": [
    "## test loading"
   ]
  },
  {
   "cell_type": "code",
   "execution_count": 18,
   "metadata": {},
   "outputs": [
    {
     "name": "stdout",
     "output_type": "stream",
     "text": [
      "selected probes: 10083\n",
      "selected anchors: 775\n",
      "{'id': 60052, 'ip': '45.138.229.91', 'is_anchor': False, 'country_code': 'NL', 'latitude': 52.3685, 'longitude': 4.8995}\n",
      "{'id': 7, 'ip': '82.217.219.124', 'is_anchor': False, 'country_code': 'NL', 'latitude': 51.2005, 'longitude': 6.0075}\n",
      "{'id': 8, 'ip': '83.81.83.145', 'is_anchor': False, 'country_code': 'NL', 'latitude': 51.1915, 'longitude': 5.9975}\n",
      "{'id': 14, 'ip': '95.232.13.43', 'is_anchor': False, 'country_code': 'IT', 'latitude': 41.8995, 'longitude': 12.4375}\n",
      "{'id': 20, 'ip': '77.174.30.45', 'is_anchor': False, 'country_code': 'NL', 'latitude': 52.0075, 'longitude': 5.9585}\n",
      "{'id': 24, 'ip': '89.115.7.184', 'is_anchor': False, 'country_code': 'PT', 'latitude': 38.7295, 'longitude': -9.1515}\n",
      "{'id': 26, 'ip': '87.195.139.46', 'is_anchor': False, 'country_code': 'NL', 'latitude': 52.3605, 'longitude': 4.8485}\n",
      "{'id': 28, 'ip': '98.97.56.50', 'is_anchor': False, 'country_code': 'US', 'latitude': 35.9515, 'longitude': -115.0215}\n",
      "{'id': 32, 'ip': '76.82.152.84', 'is_anchor': False, 'country_code': 'US', 'latitude': 32.8885, 'longitude': -117.1815}\n",
      "{'id': 37, 'ip': '2.57.252.147', 'is_anchor': False, 'country_code': 'NL', 'latitude': 52.4005, 'longitude': 4.8885}\n",
      "{'id': 39, 'ip': '81.220.143.224', 'is_anchor': False, 'country_code': 'FR', 'latitude': 43.2915, 'longitude': 1.6185}\n"
     ]
    }
   ],
   "source": [
    "probes = load_pickle(PROBES_FILE)\n",
    "anchors = load_pickle(ANCHORS_FILE)\n",
    "print(f\"selected probes: {len(probes)}\")\n",
    "print(f\"selected anchors: {len(anchors)}\")\n",
    "\n",
    "for i, probe in enumerate(probes):\n",
    "    if i > 10:\n",
    "        break\n",
    "    print(probes[probe])"
   ]
  },
  {
   "cell_type": "markdown",
   "metadata": {},
   "source": [
    "## get country goeloc dataset"
   ]
  },
  {
   "cell_type": "code",
   "execution_count": 19,
   "metadata": {},
   "outputs": [
    {
     "name": "stdout",
     "output_type": "stream",
     "text": [
      "AD : {'latitude': '42.546245', 'longitude': '1.601554', 'name': 'Andorra'}\n",
      "AE : {'latitude': '23.424076', 'longitude': '53.847818', 'name': 'United'}\n",
      "AF : {'latitude': '33.93911', 'longitude': '67.709953', 'name': 'Afghanistan'}\n",
      "AG : {'latitude': '17.060816', 'longitude': '-61.796428', 'name': 'Antigua'}\n",
      "AI : {'latitude': '18.220554', 'longitude': '-63.068615', 'name': 'Anguilla'}\n",
      "AL : {'latitude': '41.153332', 'longitude': '20.168331', 'name': 'Albania'}\n",
      "AM : {'latitude': '40.069099', 'longitude': '45.038189', 'name': 'Armenia'}\n",
      "AN : {'latitude': '12.226079', 'longitude': '-69.060087', 'name': 'Netherlands'}\n",
      "AO : {'latitude': '-11.202692', 'longitude': '17.873887', 'name': 'Angola'}\n",
      "AQ : {'latitude': '-75.250973', 'longitude': '-0.071389', 'name': 'Antarctica'}\n",
      "AR : {'latitude': '-38.416097', 'longitude': '-63.616672', 'name': 'Argentina'}\n"
     ]
    }
   ],
   "source": [
    "countries = {}\n",
    "with open(COUNTRIES_TXT_FILE, \"r\") as f:\n",
    "    for i, row in enumerate(f.readlines()):\n",
    "\n",
    "        row = [value.strip() for value in row.split(\" \")]\n",
    "        countries[row[0]] = {\n",
    "            \"latitude\": row[1],\n",
    "            \"longitude\": row[2],\n",
    "            \"name\": row[3],\n",
    "        }\n",
    "\n",
    "for i, (country_code, geoloc) in enumerate(countries.items()):\n",
    "    if i > 10:\n",
    "        break\n",
    "    print(f\"{country_code} : {geoloc}\")\n",
    "\n",
    "# save results\n",
    "dump_pickle(countries, COUNTRIES_PICKLE_FILE)"
   ]
  },
  {
   "cell_type": "markdown",
   "metadata": {},
   "source": [
    "## eliminate default geoloc probes"
   ]
  },
  {
   "cell_type": "code",
   "execution_count": 21,
   "metadata": {},
   "outputs": [],
   "source": [
    "def country_filtering(probes: dict, countries: dict) -> dict:\n",
    "    filtered_probes = {}\n",
    "    for probe, probe_description in probes.items():\n",
    "\n",
    "        # check if probe coordinates are close to default location\n",
    "        try:\n",
    "            country_geo = countries[probe_description[\"country_code\"]]\n",
    "        except KeyError as e:\n",
    "            print(f\"error country code {country_code} is unknown\")\n",
    "            continue\n",
    "\n",
    "        # if the country code is unknown, remove probe from dataset\n",
    "        country_lat = float(country_geo[\"latitude\"])\n",
    "        country_lon = float(country_geo[\"longitude\"])\n",
    "\n",
    "        probe_lat = float(probe_description[\"latitude\"])\n",
    "        probe_lon = float(probe_description[\"longitude\"])\n",
    "\n",
    "        dist = distance(country_lat, probe_lat, country_lon, probe_lon)\n",
    "\n",
    "        if dist > 5:\n",
    "            filtered_probes[probe] = probe_description\n",
    "\n",
    "    return filtered_probes"
   ]
  },
  {
   "cell_type": "code",
   "execution_count": 23,
   "metadata": {},
   "outputs": [
    {
     "name": "stdout",
     "output_type": "stream",
     "text": [
      "error country code AS is unknown\n",
      "error country code AS is unknown\n",
      "error country code AS is unknown\n",
      "error country code AS is unknown\n",
      "Number of Atlas probes kept: 10009, rejected: 74\n",
      "Number of Atlas anchors kept: 767, rejected: 8\n"
     ]
    }
   ],
   "source": [
    "countries = load_pickle(COUNTRIES_PICKLE_FILE)\n",
    "\n",
    "filtered_probes = country_filtering(probes, countries)\n",
    "filtered_anchors = country_filtering(anchors, countries)\n",
    "\n",
    "print(\n",
    "    f\"Number of Atlas probes kept: {len(filtered_probes)}, rejected: {len(probes) - len(filtered_probes)}\")\n",
    "print(\n",
    "    f\"Number of Atlas anchors kept: {len(filtered_anchors)}, rejected: {len(anchors) - len(filtered_anchors)}\")\n",
    "\n",
    "# save results\n",
    "dump_pickle(filtered_anchors, ANCHORS_FILE)\n",
    "dump_pickle(filtered_probes, PROBES_FILE)"
   ]
  },
  {
   "cell_type": "code",
   "execution_count": null,
   "metadata": {},
   "outputs": [],
   "source": [
    "# create \"removed_probes.json\""
   ]
  },
  {
   "cell_type": "code",
   "execution_count": 5,
   "metadata": {},
   "outputs": [],
   "source": [
    "from clickhouse_driver import Client"
   ]
  },
  {
   "cell_type": "code",
   "execution_count": 6,
   "metadata": {},
   "outputs": [],
   "source": [
    "anchors = load_pickle(ANCHORS_FILE)\n",
    "probes = load_pickle(PROBES_FILE)\n",
    "\n",
    "miss_placed_probes_ip = load_json(REMOVED_PROBES_FILE)"
   ]
  },
  {
   "cell_type": "code",
   "execution_count": 7,
   "metadata": {},
   "outputs": [
    {
     "name": "stdout",
     "output_type": "stream",
     "text": [
      "767\n",
      "10009\n",
      "105\n"
     ]
    }
   ],
   "source": [
    "print(len(anchors))\n",
    "\n",
    "print(len(probes))\n",
    "\n",
    "\n",
    "print(len(miss_placed_probes_ip))"
   ]
  },
  {
   "cell_type": "code",
   "execution_count": 10,
   "metadata": {},
   "outputs": [
    {
     "name": "stdout",
     "output_type": "stream",
     "text": [
      "213.225.160.239\n"
     ]
    },
    {
     "ename": "UnexpectedPacketFromServerError",
     "evalue": "Code: 102. Unexpected packet from server 127.0.0.1:9000 (expected Hello or Exception, got Unknown packet)",
     "output_type": "error",
     "traceback": [
      "\u001b[1;31m---------------------------------------------------------------------------\u001b[0m",
      "\u001b[1;31mUnexpectedPacketFromServerError\u001b[0m           Traceback (most recent call last)",
      "Cell \u001b[1;32mIn[10], line 14\u001b[0m\n\u001b[0;32m     12\u001b[0m     \u001b[39mcontinue\u001b[39;00m\n\u001b[0;32m     13\u001b[0m target_ip \u001b[39m=\u001b[39m anchors[p][\u001b[39m'\u001b[39m\u001b[39mip\u001b[39m\u001b[39m'\u001b[39m]\n\u001b[1;32m---> 14\u001b[0m tmp_res_db \u001b[39m=\u001b[39m client\u001b[39m.\u001b[39;49mexecute(\u001b[39mf\u001b[39;49m\u001b[39m'\u001b[39;49m\u001b[39mselect distinct src_addr from bgp_interdomain_te.street_lvl_traceroutes where resp_addr = \u001b[39;49m\u001b[39m\\'\u001b[39;49;00m\u001b[39m{\u001b[39;49;00mtarget_ip\u001b[39m}\u001b[39;49;00m\u001b[39m\\'\u001b[39;49;00m\u001b[39m and dst_addr = \u001b[39;49m\u001b[39m\\'\u001b[39;49;00m\u001b[39m{\u001b[39;49;00mtarget_ip\u001b[39m}\u001b[39;49;00m\u001b[39m\\'\u001b[39;49;00m\u001b[39m and src_addr <> \u001b[39;49m\u001b[39m\\'\u001b[39;49;00m\u001b[39m{\u001b[39;49;00mtarget_ip\u001b[39m}\u001b[39;49;00m\u001b[39m\\'\u001b[39;49;00m\u001b[39m'\u001b[39;49m)\n\u001b[0;32m     15\u001b[0m \u001b[39mif\u001b[39;00m \u001b[39mlen\u001b[39m(tmp_res_db) \u001b[39m<\u001b[39m \u001b[39m100\u001b[39m:\n\u001b[0;32m     16\u001b[0m     bad_anchors\u001b[39m.\u001b[39mappend(anchors[p])\n",
      "File \u001b[1;32mc:\\Users\\milo2\\AppData\\Local\\pypoetry\\Cache\\virtualenvs\\review-bH8GUATB-py3.10\\lib\\site-packages\\clickhouse_driver\\client.py:361\u001b[0m, in \u001b[0;36mClient.execute\u001b[1;34m(self, query, params, with_column_types, external_tables, query_id, settings, types_check, columnar)\u001b[0m\n\u001b[0;32m    318\u001b[0m \u001b[39m\u001b[39m\u001b[39m\"\"\"\u001b[39;00m\n\u001b[0;32m    319\u001b[0m \u001b[39mExecutes query.\u001b[39;00m\n\u001b[0;32m    320\u001b[0m \n\u001b[1;32m   (...)\u001b[0m\n\u001b[0;32m    356\u001b[0m \u001b[39m              and types.\u001b[39;00m\n\u001b[0;32m    357\u001b[0m \u001b[39m\"\"\"\u001b[39;00m\n\u001b[0;32m    359\u001b[0m start_time \u001b[39m=\u001b[39m time()\n\u001b[1;32m--> 361\u001b[0m \u001b[39mwith\u001b[39;00m \u001b[39mself\u001b[39m\u001b[39m.\u001b[39mdisconnect_on_error(query, settings):\n\u001b[0;32m    362\u001b[0m     \u001b[39m# INSERT queries can use list/tuple/generator of list/tuples/dicts.\u001b[39;00m\n\u001b[0;32m    363\u001b[0m     \u001b[39m# For SELECT parameters can be passed in only in dict right now.\u001b[39;00m\n\u001b[0;32m    364\u001b[0m     is_insert \u001b[39m=\u001b[39m \u001b[39misinstance\u001b[39m(params, (\u001b[39mlist\u001b[39m, \u001b[39mtuple\u001b[39m, types\u001b[39m.\u001b[39mGeneratorType))\n\u001b[0;32m    366\u001b[0m     \u001b[39mif\u001b[39;00m is_insert:\n",
      "File \u001b[1;32m~\\AppData\\Local\\Programs\\Python\\Python310\\lib\\contextlib.py:135\u001b[0m, in \u001b[0;36m_GeneratorContextManager.__enter__\u001b[1;34m(self)\u001b[0m\n\u001b[0;32m    133\u001b[0m \u001b[39mdel\u001b[39;00m \u001b[39mself\u001b[39m\u001b[39m.\u001b[39margs, \u001b[39mself\u001b[39m\u001b[39m.\u001b[39mkwds, \u001b[39mself\u001b[39m\u001b[39m.\u001b[39mfunc\n\u001b[0;32m    134\u001b[0m \u001b[39mtry\u001b[39;00m:\n\u001b[1;32m--> 135\u001b[0m     \u001b[39mreturn\u001b[39;00m \u001b[39mnext\u001b[39;49m(\u001b[39mself\u001b[39;49m\u001b[39m.\u001b[39;49mgen)\n\u001b[0;32m    136\u001b[0m \u001b[39mexcept\u001b[39;00m \u001b[39mStopIteration\u001b[39;00m:\n\u001b[0;32m    137\u001b[0m     \u001b[39mraise\u001b[39;00m \u001b[39mRuntimeError\u001b[39;00m(\u001b[39m\"\u001b[39m\u001b[39mgenerator didn\u001b[39m\u001b[39m'\u001b[39m\u001b[39mt yield\u001b[39m\u001b[39m\"\u001b[39m) \u001b[39mfrom\u001b[39;00m \u001b[39mNone\u001b[39;00m\n",
      "File \u001b[1;32mc:\\Users\\milo2\\AppData\\Local\\pypoetry\\Cache\\virtualenvs\\review-bH8GUATB-py3.10\\lib\\site-packages\\clickhouse_driver\\client.py:305\u001b[0m, in \u001b[0;36mClient.disconnect_on_error\u001b[1;34m(self, query, settings)\u001b[0m\n\u001b[0;32m    302\u001b[0m \u001b[39m@contextmanager\u001b[39m\n\u001b[0;32m    303\u001b[0m \u001b[39mdef\u001b[39;00m \u001b[39mdisconnect_on_error\u001b[39m(\u001b[39mself\u001b[39m, query, settings):\n\u001b[0;32m    304\u001b[0m     \u001b[39mtry\u001b[39;00m:\n\u001b[1;32m--> 305\u001b[0m         \u001b[39mself\u001b[39;49m\u001b[39m.\u001b[39;49mestablish_connection(settings)\n\u001b[0;32m    307\u001b[0m         \u001b[39myield\u001b[39;00m\n\u001b[0;32m    309\u001b[0m         \u001b[39mself\u001b[39m\u001b[39m.\u001b[39mtrack_current_database(query)\n",
      "File \u001b[1;32mc:\\Users\\milo2\\AppData\\Local\\pypoetry\\Cache\\virtualenvs\\review-bH8GUATB-py3.10\\lib\\site-packages\\clickhouse_driver\\client.py:292\u001b[0m, in \u001b[0;36mClient.establish_connection\u001b[1;34m(self, settings)\u001b[0m\n\u001b[0;32m    290\u001b[0m     \u001b[39mself\u001b[39m\u001b[39m.\u001b[39mconnection \u001b[39m=\u001b[39m \u001b[39mself\u001b[39m\u001b[39m.\u001b[39mget_connection()\n\u001b[0;32m    291\u001b[0m     \u001b[39mself\u001b[39m\u001b[39m.\u001b[39mmake_query_settings(settings)\n\u001b[1;32m--> 292\u001b[0m     \u001b[39mself\u001b[39;49m\u001b[39m.\u001b[39;49mconnection\u001b[39m.\u001b[39;49mforce_connect()\n\u001b[0;32m    293\u001b[0m     \u001b[39mself\u001b[39m\u001b[39m.\u001b[39mlast_query \u001b[39m=\u001b[39m QueryInfo()\n\u001b[0;32m    295\u001b[0m \u001b[39mexcept\u001b[39;00m (errors\u001b[39m.\u001b[39mSocketTimeoutError, errors\u001b[39m.\u001b[39mNetworkError):\n",
      "File \u001b[1;32mc:\\Users\\milo2\\AppData\\Local\\pypoetry\\Cache\\virtualenvs\\review-bH8GUATB-py3.10\\lib\\site-packages\\clickhouse_driver\\connection.py:254\u001b[0m, in \u001b[0;36mConnection.force_connect\u001b[1;34m(self)\u001b[0m\n\u001b[0;32m    251\u001b[0m \u001b[39mself\u001b[39m\u001b[39m.\u001b[39mcheck_query_execution()\n\u001b[0;32m    253\u001b[0m \u001b[39mif\u001b[39;00m \u001b[39mnot\u001b[39;00m \u001b[39mself\u001b[39m\u001b[39m.\u001b[39mconnected:\n\u001b[1;32m--> 254\u001b[0m     \u001b[39mself\u001b[39;49m\u001b[39m.\u001b[39;49mconnect()\n\u001b[0;32m    256\u001b[0m \u001b[39melif\u001b[39;00m \u001b[39mnot\u001b[39;00m \u001b[39mself\u001b[39m\u001b[39m.\u001b[39mping():\n\u001b[0;32m    257\u001b[0m     logger\u001b[39m.\u001b[39mwarning(\u001b[39m'\u001b[39m\u001b[39mConnection was closed, reconnecting.\u001b[39m\u001b[39m'\u001b[39m)\n",
      "File \u001b[1;32mc:\\Users\\milo2\\AppData\\Local\\pypoetry\\Cache\\virtualenvs\\review-bH8GUATB-py3.10\\lib\\site-packages\\clickhouse_driver\\connection.py:395\u001b[0m, in \u001b[0;36mConnection.connect\u001b[1;34m(self)\u001b[0m\n\u001b[0;32m    392\u001b[0m logger\u001b[39m.\u001b[39mdebug(\u001b[39m'\u001b[39m\u001b[39mConnecting to \u001b[39m\u001b[39m%s\u001b[39;00m\u001b[39m:\u001b[39m\u001b[39m%s\u001b[39;00m\u001b[39m'\u001b[39m, host, port)\n\u001b[0;32m    394\u001b[0m \u001b[39mtry\u001b[39;00m:\n\u001b[1;32m--> 395\u001b[0m     \u001b[39mreturn\u001b[39;00m \u001b[39mself\u001b[39;49m\u001b[39m.\u001b[39;49m_init_connection(host, port)\n\u001b[0;32m    397\u001b[0m \u001b[39mexcept\u001b[39;00m socket\u001b[39m.\u001b[39mtimeout \u001b[39mas\u001b[39;00m e:\n\u001b[0;32m    398\u001b[0m     \u001b[39mself\u001b[39m\u001b[39m.\u001b[39mdisconnect()\n",
      "File \u001b[1;32mc:\\Users\\milo2\\AppData\\Local\\pypoetry\\Cache\\virtualenvs\\review-bH8GUATB-py3.10\\lib\\site-packages\\clickhouse_driver\\connection.py:339\u001b[0m, in \u001b[0;36mConnection._init_connection\u001b[1;34m(self, host, port)\u001b[0m\n\u001b[0;32m    336\u001b[0m \u001b[39mself\u001b[39m\u001b[39m.\u001b[39mfout \u001b[39m=\u001b[39m BufferedSocketWriter(\u001b[39mself\u001b[39m\u001b[39m.\u001b[39msocket, defines\u001b[39m.\u001b[39mBUFFER_SIZE)\n\u001b[0;32m    338\u001b[0m \u001b[39mself\u001b[39m\u001b[39m.\u001b[39msend_hello()\n\u001b[1;32m--> 339\u001b[0m \u001b[39mself\u001b[39;49m\u001b[39m.\u001b[39;49mreceive_hello()\n\u001b[0;32m    341\u001b[0m revision \u001b[39m=\u001b[39m \u001b[39mself\u001b[39m\u001b[39m.\u001b[39mserver_info\u001b[39m.\u001b[39mused_revision\n\u001b[0;32m    342\u001b[0m \u001b[39mif\u001b[39;00m revision \u001b[39m>\u001b[39m\u001b[39m=\u001b[39m defines\u001b[39m.\u001b[39mDBMS_MIN_PROTOCOL_VERSION_WITH_ADDENDUM:\n",
      "File \u001b[1;32mc:\\Users\\milo2\\AppData\\Local\\pypoetry\\Cache\\virtualenvs\\review-bH8GUATB-py3.10\\lib\\site-packages\\clickhouse_driver\\connection.py:519\u001b[0m, in \u001b[0;36mConnection.receive_hello\u001b[1;34m(self)\u001b[0m\n\u001b[0;32m    516\u001b[0m message \u001b[39m=\u001b[39m \u001b[39mself\u001b[39m\u001b[39m.\u001b[39munexpected_packet_message(\u001b[39m'\u001b[39m\u001b[39mHello or Exception\u001b[39m\u001b[39m'\u001b[39m,\n\u001b[0;32m    517\u001b[0m                                          packet_type)\n\u001b[0;32m    518\u001b[0m \u001b[39mself\u001b[39m\u001b[39m.\u001b[39mdisconnect()\n\u001b[1;32m--> 519\u001b[0m \u001b[39mraise\u001b[39;00m errors\u001b[39m.\u001b[39mUnexpectedPacketFromServerError(message)\n",
      "\u001b[1;31mUnexpectedPacketFromServerError\u001b[0m: Code: 102. Unexpected packet from server 127.0.0.1:9000 (expected Hello or Exception, got Unknown packet)"
     ]
    }
   ],
   "source": [
    "good_anchors = []\n",
    "bad_anchors = []\n",
    "incorrect_geolocation_count = 0\n",
    "not_enough_vps = 0\n",
    "client = Client('127.0.0.1')\n",
    "for p in anchors:\n",
    "    print(p)\n",
    "    if anchors[p]['ip'] in miss_placed_probes_ip:\n",
    "        bad_anchors.append(anchors[p])\n",
    "        bad_anchors[-1]['remove_reason'] = \"Incorrect geolocation\"\n",
    "        incorrect_geolocation_count += 1\n",
    "        continue\n",
    "    target_ip = anchors[p]['ip']\n",
    "    tmp_res_db = client.execute(f'select distinct src_addr from bgp_interdomain_te.street_lvl_traceroutes where resp_addr = \\'{target_ip}\\' and dst_addr = \\'{target_ip}\\' and src_addr <> \\'{target_ip}\\'')\n",
    "    if len(tmp_res_db) < 100:\n",
    "        bad_anchors.append(anchors[p])\n",
    "        bad_anchors[-1]['remove_reason'] = \"Not enought traceroute data towards\"\n",
    "        bad_anchors[-1]['vp_traceroutes_count'] = len(tmp_res_db)\n",
    "        not_enough_vps += 1\n",
    "        continue\n",
    "    good_anchors.append(anchors[p])\n",
    "\n",
    "print(f\"{len(good_anchors)} anchors to keep\")\n",
    "print(f\"{incorrect_geolocation_count} anchors removed because of incorrect geolocation\")\n",
    "print(f\"{not_enough_vps} anchors removed because the lack of traceroute data towards\")\n"
   ]
  },
  {
   "cell_type": "code",
   "execution_count": 8,
   "metadata": {},
   "outputs": [
    {
     "name": "stdout",
     "output_type": "stream",
     "text": [
      "9953 anchors to keep\n",
      "56 anchors removed because of incorrect geolocation\n",
      "9953\n"
     ]
    }
   ],
   "source": [
    "good_probes = []\n",
    "bad_probes = []\n",
    "incorrect_geolocation_count = 0\n",
    "not_enough_vps = 0\n",
    "for _, p in enumerate(probes):\n",
    "    if probes[p]['ip'] in wrong_geolocated_probes_and_anchors:\n",
    "        bad_probes.append(p)\n",
    "        incorrect_geolocation_count += 1\n",
    "        continue\n",
    "    good_probes.append(p)\n",
    "\n",
    "print(f\"{len(good_probes)} anchors to keep\")\n",
    "print(f\"{incorrect_geolocation_count} anchors removed because of incorrect geolocation\")\n",
    "\n",
    "print(len(good_probes))"
   ]
  },
  {
   "cell_type": "markdown",
   "metadata": {},
   "source": [
    "## generate ip level target list for all /24 prefixes"
   ]
  },
  {
   "cell_type": "code",
   "execution_count": 2,
   "metadata": {},
   "outputs": [],
   "source": [
    "verfploeter_hitlist_file = ADDRESS_FILE\n",
    "\n",
    "targets_per_prefix = {}\n",
    "\n",
    "with open(verfploeter_hitlist_file, \"r\") as f:\n",
    "    for i, row in enumerate(f.readlines()[1:]):\n",
    "        row = row.split(\"\\t\")\n",
    "\n",
    "        # get prefix from hex value\n",
    "        prefix_hex = row[0]\n",
    "        prefix = [\"\".join(x) for x in zip(*[iter(prefix_hex)]*2)]\n",
    "        prefix = [int(x, 16) for x in prefix]\n",
    "        prefix = \".\".join(str(x) for x in prefix)\n",
    "\n",
    "        target_list = row[-1].strip(\"\\n\")\n",
    "        target_list = target_list.split(\",\")\n",
    "\n",
    "        # parse and save targets\n",
    "        if target_list[0] != '-':\n",
    "            for i, target in enumerate(target_list):\n",
    "                target_list[i] = prefix.split(\".\")[:-1]\n",
    "                target_list[i].append(str(int(target, 16)))\n",
    "                target_list[i] = \".\".join(target_list[i])\n",
    "\n",
    "            try:\n",
    "                targets_per_prefix[prefix].extend(target_list)\n",
    "            except KeyError:\n",
    "                targets_per_prefix[prefix] = target_list"
   ]
  },
  {
   "cell_type": "code",
   "execution_count": 3,
   "metadata": {},
   "outputs": [
    {
     "name": "stdout",
     "output_type": "stream",
     "text": [
      "target hitlist\n",
      "prefix: 1.0.0.0 target hitlist: ['1.0.0.0', '1.0.0.1', '1.0.0.2']\n",
      "prefix: 1.0.4.0 target hitlist: ['1.0.4.1', '1.0.4.4']\n",
      "prefix: 1.0.5.0 target hitlist: ['1.0.5.1', '1.0.5.5']\n",
      "prefix: 1.0.6.0 target hitlist: ['1.0.6.1', '1.0.6.6']\n",
      "prefix: 1.0.7.0 target hitlist: ['1.0.7.1', '1.0.7.7']\n",
      "prefix: 1.0.16.0 target hitlist: ['1.0.16.14', '1.0.16.9', '1.0.16.10', '1.0.16.11']\n",
      "prefix: 1.0.64.0 target hitlist: ['1.0.64.25', '1.0.64.94', '1.0.64.95']\n",
      "prefix: 1.0.65.0 target hitlist: ['1.0.65.6', '1.0.65.176', '1.0.65.243']\n",
      "prefix: 1.0.66.0 target hitlist: ['1.0.66.10', '1.0.66.13', '1.0.66.205']\n",
      "prefix: 1.0.67.0 target hitlist: ['1.0.67.15', '1.0.67.23', '1.0.67.43']\n",
      "prefix: 1.0.68.0 target hitlist: ['1.0.68.21', '1.0.68.68', '1.0.68.131']\n"
     ]
    }
   ],
   "source": [
    "dump_pickle(targets_per_prefix, HITLIST_FILE)\n",
    "\n",
    "print(\"target hitlist\")\n",
    "for i, prefix in enumerate(targets_per_prefix):\n",
    "    if i > 10:\n",
    "        break\n",
    "    print(\"prefix:\", prefix, \"target hitlist:\", targets_per_prefix[prefix])"
   ]
  }
 ],
 "metadata": {
  "kernelspec": {
   "display_name": ".venv",
   "language": "python",
   "name": "python3"
  },
  "language_info": {
   "codemirror_mode": {
    "name": "ipython",
    "version": 3
   },
   "file_extension": ".py",
   "mimetype": "text/x-python",
   "name": "python",
   "nbconvert_exporter": "python",
   "pygments_lexer": "ipython3",
   "version": "3.10.0"
  },
  "orig_nbformat": 4
 },
 "nbformat": 4,
 "nbformat_minor": 2
}

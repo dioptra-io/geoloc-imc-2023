{
 "cells": [
  {
   "cell_type": "code",
   "execution_count": 1,
   "metadata": {},
   "outputs": [],
   "source": [
    "import numpy as np\n",
    "import matplotlib.pyplot as plt\n",
    "import csv\n",
    "\n",
    "from clickhouse_driver import Client\n",
    "\n",
    "from scripts.utils.file_utils import load_json\n",
    "from scripts.analysis.analysis import compute_error_threshold_cdfs, every_tier_result_and_errors\n",
    "from scripts.utils.plot_utils import plot_multiple_cdf, homogenize_legend, plot_save, plot_multiple_error_bars\n",
    "from scripts.utils.clickhouse_utils import get_min_rtt_per_src_dst_query_ping_table\n",
    "from scripts.utils.helpers import haversine\n",
    "from default import *"
   ]
  },
  {
   "cell_type": "markdown",
   "metadata": {},
   "source": [
    "## Loading data"
   ]
  },
  {
   "cell_type": "code",
   "execution_count": 2,
   "metadata": {},
   "outputs": [],
   "source": [
    "anchors = load_json(ANCHORS_FILE)\n",
    "\n",
    "probes = load_json(PROBES_FILE)\n",
    "\n",
    "all_probes = load_json(PROBES_AND_ANCHORS_FILE)\n",
    "\n",
    "removed_probes = load_json(REMOVED_PROBES_FILE)"
   ]
  },
  {
   "cell_type": "markdown",
   "metadata": {},
   "source": [
    "## Step 2 :"
   ]
  },
  {
   "cell_type": "code",
   "execution_count": 5,
   "metadata": {},
   "outputs": [
    {
     "name": "stdout",
     "output_type": "stream",
     "text": [
      "Computing probes to anchors\n",
      "Threshold 0 no geolocation 0\n",
      "Threshold 40 no geolocation 0\n",
      "Threshold 100 no geolocation 0\n",
      "Threshold 500 no geolocation 0\n",
      "Threshold 1000 no geolocation 1\n",
      "711\n"
     ]
    }
   ],
   "source": [
    "errors_threshold_probes_to_anchors = load_json(PROBES_TO_ANCHORS_RESULT_FILE)\n",
    "\n",
    "error_threshold_cdfs_p_to_a, circles_threshold_cdfs_p_to_a, _ = compute_error_threshold_cdfs(\n",
    "    errors_threshold_probes_to_anchors)\n",
    "\n",
    "Ys = error_threshold_cdfs_p_to_a\n",
    "print(len(error_threshold_cdfs_p_to_a[0]))\n",
    "labels = [\"All VPs\"]\n",
    "labels.extend([f\"VPs > {t} km\" for t in THRESHOLD_DISTANCES if t > 0])\n",
    "fig, ax = plot_multiple_cdf(Ys, 10000, 1, 10000,\n",
    "                            \"Geolocation error (km)\",\n",
    "                            \"CDF of targets\",\n",
    "                            xscale=\"log\",\n",
    "                            yscale=\"linear\",\n",
    "                            legend=labels)\n",
    "homogenize_legend(ax, \"lower right\", legend_size=12)\n",
    "\n",
    "ofile = CBG_THRESHOLD_PROBES_FILE\n",
    "plot_save(ofile, is_tight_layout=True)"
   ]
  },
  {
   "cell_type": "markdown",
   "metadata": {},
   "source": [
    "## Step 4 :"
   ]
  },
  {
   "cell_type": "code",
   "execution_count": 8,
   "metadata": {},
   "outputs": [
    {
     "name": "stdout",
     "output_type": "stream",
     "text": [
      "Threshold 0 no geolocation 33\n",
      "Threshold 0 no geolocation 7\n",
      "Threshold 0 no geolocation 5\n",
      "Threshold 0 no geolocation 0\n",
      "Threshold 40 no geolocation 0\n",
      "Threshold 100 no geolocation 0\n",
      "Threshold 500 no geolocation 0\n",
      "Threshold 1000 no geolocation 1\n"
     ]
    }
   ],
   "source": [
    "Ys = []\n",
    "labels = []\n",
    "results_file = [VP_SELECTION_ALGORITHM_PROBES_1_FILE, VP_SELECTION_ALGORITHM_PROBES_3_FILE, VP_SELECTION_ALGORITHM_PROBES_10_FILE]\n",
    "index = [1, 3, 10]\n",
    "\n",
    "for i, file in enumerate(results_file):\n",
    "    n_vps = index[i]\n",
    "    errors_threshold_vp_selection_algorithm = load_json(\n",
    "        results_file[i])\n",
    "    error_threshold_cdfs_p_to_a_vp_selection, circles_threshold_cdfs_p_to_a_vp_selection, _ = compute_error_threshold_cdfs(\n",
    "        errors_threshold_vp_selection_algorithm)\n",
    "    Ys.append(list(error_threshold_cdfs_p_to_a_vp_selection[0]))\n",
    "    labels.append(f\"{n_vps} closest VP (RTT)\")\n",
    "    if n_vps == 10:\n",
    "        # Take the baseline where 10 VPs are used to geolocate a target\n",
    "        error_threshold_cdfs_p_to_a, circles_threshold_cdfs_p_to_a, _ = compute_error_threshold_cdfs(\n",
    "            errors_threshold_probes_to_anchors, errors_threshold_vp_selection_algorithm)\n",
    "        Ys.append(list(error_threshold_cdfs_p_to_a[0]))\n",
    "        labels.append(\"All VPs\")\n",
    "\n",
    "fig, ax = plot_multiple_cdf(Ys, 10000, 1, 10000,\n",
    "                        \"Geolocation error (km)\",\n",
    "                        \"CDF of targets\",\n",
    "                        xscale=\"log\",\n",
    "                        yscale=\"linear\",\n",
    "                        legend=labels)\n",
    "homogenize_legend(ax, \"lower right\")\n",
    "ofile = CBG_THRESHOLD_VP_SELECTION_FILE\n",
    "plot_save(ofile, is_tight_layout=True)"
   ]
  },
  {
   "cell_type": "markdown",
   "metadata": {},
   "source": [
    "## Step 6 :"
   ]
  },
  {
   "cell_type": "code",
   "execution_count": 10,
   "metadata": {},
   "outputs": [],
   "source": [
    "def iso_code_2_to_country():\n",
    "    country_by_iso_2 = {}\n",
    "    continent_by_iso_2 = {}\n",
    "    # Continent_Name,Continent_Code,Country_Name,Two_Letter_Country_Code,Three_Letter_Country_Code,Country_Number\n",
    "    with open(COUNTRIES_CSV_FILE) as f:\n",
    "        reader = csv.reader(f, delimiter=\",\", quotechar='\"')\n",
    "        next(reader, None)\n",
    "        for line in reader:\n",
    "            continent_code = line[1]\n",
    "            country_name = line[2].split(\",\")[0]\n",
    "            country_iso_code_2 = line[3]\n",
    "            country_by_iso_2[country_iso_code_2] = country_name\n",
    "            continent_by_iso_2[country_iso_code_2] = continent_code\n",
    "    return continent_by_iso_2, country_by_iso_2"
   ]
  },
  {
   "cell_type": "code",
   "execution_count": 27,
   "metadata": {},
   "outputs": [],
   "source": [
    "ip_per_country = {}\n",
    "for anchor in anchors:\n",
    "    if \"address_v4\" in anchor and \"geometry\" in anchor and \"coordinates\" in anchor[\"geometry\"]:\n",
    "        ip_v4_address = anchor[\"address_v4\"]\n",
    "        if ip_v4_address is None:\n",
    "            continue\n",
    "        country = anchor[\"country_code\"]\n",
    "        ip_per_country[ip_v4_address] = country\n",
    "\n",
    "country_per_ip = {}\n",
    "for ip, country in ip_per_country.items():\n",
    "    country_per_ip.setdefault(country, []).append(ip)"
   ]
  },
  {
   "cell_type": "code",
   "execution_count": 30,
   "metadata": {},
   "outputs": [
    {
     "name": "stdout",
     "output_type": "stream",
     "text": [
      "Threshold 0 no geolocation 0\n",
      "Threshold 40 no geolocation 0\n",
      "Threshold 100 no geolocation 0\n",
      "Threshold 500 no geolocation 0\n",
      "Threshold 1000 no geolocation 1\n",
      "[('Venezuela', (2192.9140091405034, 1, 1)), ('Pakistan', (1543.1755865726761, 1, 1)), ('Colombia', (1434.2320893110607, 1, 1)), ('Mozambique', (832.4551341422323, 1, 1)), ('Kuwait', (717.8898014224587, 1, 1)), ('Peru', (383.09155748407676, 2, 2)), ('Ecuador', (263.85158220593513, 1, 1)), ('Argentina', (221.1132724306607, 4, 4)), ('Hungary', (161.44000325140453, 1, 1)), ('Macedonia', (132.45677655906775, 1, 1)), ('Paraguay', (117.97642875966719, 1, 1)), ('Ghana', (98.31229536436996, 2, 2)), ('Thailand', (93.312454164549, 2, 2)), ('Kenya', (61.11453915894795, 1, 1)), ('Iraq', (54.572811751748695, 1, 1)), ('Poland', (49.969744441399314, 8, 8)), ('Belarus', (43.57770007033401, 1, 1)), ('Dominican Republic', (42.13216173978507, 2, 2)), ('Belgium', (36.693758379143034, 6, 6)), ('United Kingdom', (30.11516867734334, 34, 34)), ('Bulgaria', (29.21677461892106, 4, 4)), ('Italy', (28.05099202145557, 18, 18)), ('Croatia', (27.712028850785746, 1, 1)), ('Japan', (26.677772494424328, 9, 9)), ('Austria', (26.656457822224873, 16, 16)), ('Hong Kong', (26.26910261256225, 2, 2)), ('Chile', (22.855788071461195, 5, 5)), ('Brazil', (21.098721357502143, 10, 10)), ('Sweden', (18.744614215494046, 12, 12)), ('Bahrain', (17.79008834720065, 1, 1)), ('Finland', (16.207622427864646, 8, 8)), ('South Africa', (16.184973218259923, 6, 6)), ('Ireland', (15.55543638240952, 1, 1)), ('Uruguay', (15.233032905336387, 2, 2)), ('Germany', (14.206063127767582, 98, 98)), ('Turkey', (12.956640031304456, 8, 8)), ('United Arab Emirates', (11.839363051672427, 9, 9)), ('Latvia', (11.783213318782138, 2, 2)), ('Nepal', (11.750643963102501, 1, 1)), ('Spain', (11.586997095194093, 9, 9)), ('Luxembourg', (11.402506492262782, 7, 7)), ('Trinidad and Tobago', (11.318134473456936, 1, 1)), ('Switzerland', (10.750089482812738, 27, 27)), ('Singapore', (10.431626958300843, 16, 16)), ('Russian Federation', (10.374153937417868, 19, 19)), ('United States of America', (9.789495753196185, 99, 99)), ('China', (9.698641430918185, 2, 2)), ('Netherlands', (9.573161862276665, 43, 43)), ('India', (8.885183726334462, 6, 6)), ('Tanzania', (8.841181675586071, 1, 1)), ('Kazakhstan', (8.67353831563491, 13, 13)), ('Lithuania', (8.50031646370264, 5, 5)), ('Korea', (7.976306339881375, 3, 3)), ('Israel', (7.668583067843381, 2, 2)), ('Ukraine', (6.696703692941085, 10, 10)), ('Denmark', (6.4986094307266, 8, 8)), ('Czech Republic', (6.2962196724400075, 11, 11)), ('Vietnam', (5.893317419519709, 1, 1)), ('Romania', (5.688135886177724, 5, 5)), ('Serbia', (5.590193609488846, 1, 1)), ('Taiwan', (5.5775229019789165, 3, 3)), ('Saudi Arabia', (5.165651353675621, 3, 3)), ('Iran', (5.103856174420272, 7, 7)), ('Malaysia', (4.847537323241495, 3, 3)), ('Bangladesh', (4.2872401896931995, 1, 1)), ('Norway', (4.078295385641459, 5, 5)), ('Slovenia', (4.0142290695653156, 3, 3)), ('Mongolia', (3.66712874465885, 1, 1)), ('Canada', (3.5894850993185523, 17, 17)), ('Armenia', (3.379778961007782, 1, 1)), ('Panama', (2.7278754075999987, 1, 1)), ('France', (2.6343337447482904, 39, 40)), ('Uganda', (2.4371575436569373, 1, 1)), ('Australia', (2.3354490574777684, 13, 13)), ('Iceland', (1.907919264407635, 1, 1)), ('Moldova', (1.8658295814792256, 1, 1)), ('Greece', (1.738851828660383, 4, 4)), ('Qatar', (1.5076274923059634, 1, 1)), ('Indonesia', (1.355718509632829, 5, 5)), ('Albania', (1.333501361693806, 1, 1)), ('Mauritius', (1.2333398308454366, 2, 2)), ('Mexico', (1.1665092421473662, 3, 3)), ('Portugal', (1.1321987716135997, 3, 3)), ('Maldives', (1.1303591534657769, 1, 1)), ('Burkina Faso', (1.0854467397438248, 1, 1)), ('New Zealand', (0.8355222903806723, 4, 4)), ('Bosnia and Herzegovina', (0.5508332838388663, 2, 2)), ('New Caledonia', (0.380227844671447, 1, 1)), ('Philippines', (0.28654722772090385, 2, 2)), ('Estonia', (0.24929684092108637, 3, 3)), ('Costa Rica', (0.2455098339810597, 1, 1)), ('Georgia', (0.24285056600895522, 2, 2))]\n"
     ]
    }
   ],
   "source": [
    "\"\"\"\n",
    "Compute results per continent\n",
    "\"\"\"\n",
    "\n",
    "errors_threshold_probes_to_anchors = load_json(PROBES_TO_ANCHORS_RESULT_FILE)\n",
    "\n",
    "continent_by_iso_2, country_by_iso_2 = iso_code_2_to_country()\n",
    "\n",
    "_, _, error_per_ip = compute_error_threshold_cdfs(errors_threshold_probes_to_anchors)\n",
    "\n",
    "error_per_continent_cdf = {}\n",
    "error_per_country_cdf = {}\n",
    "\n",
    "# Match the anchors of the second replicated paper\n",
    "anchors_second = list(set(load_json(ANCHORS_SECOND_PAPER_FILE)))\n",
    "for ip, error in error_per_ip.items():\n",
    "    if ip not in anchors_second:\n",
    "        continue\n",
    "    country = ip_per_country[ip]\n",
    "    continent = continent_by_iso_2[country]\n",
    "    error_per_continent_cdf.setdefault(continent, []).append(error)\n",
    "    error_per_country_cdf.setdefault(country, []).append(error)\n",
    "\n",
    "error_per_country_cdf_med = {country_by_iso_2[x]: (np.median(error_per_country_cdf[x]),\n",
    "                                                len(error_per_country_cdf[x]), len(country_per_ip[x])) for x in error_per_country_cdf}\n",
    "\n",
    "\n",
    "error_per_country_cdf_med_sorted = sorted(\n",
    "    error_per_country_cdf_med.items(), key=lambda x: x[1][0], reverse=True)\n",
    "print(error_per_country_cdf_med_sorted)\n",
    "\n",
    "Ys = [list(error_per_continent_cdf[c])\n",
    "        for c in error_per_continent_cdf]\n",
    "labels = [\n",
    "    f\"{c} ({len(error_per_continent_cdf[c])})\" for c in error_per_continent_cdf]\n",
    "fig, ax = plot_multiple_cdf(Ys, 10000, 1, 10000,\n",
    "                            \"Geolocation error (km)\",\n",
    "                            \"CDF of targets\",\n",
    "                            xscale=\"log\",\n",
    "                            yscale=\"linear\",\n",
    "                            legend=labels)\n",
    "homogenize_legend(ax, \"lower right\")\n",
    "ofile = CBG_THRESHOLD_CONTINENT_FILE\n",
    "plot_save(ofile, is_tight_layout=True)"
   ]
  },
  {
   "cell_type": "markdown",
   "metadata": {},
   "source": [
    "## Step 8 :"
   ]
  },
  {
   "cell_type": "code",
   "execution_count": null,
   "metadata": {},
   "outputs": [],
   "source": [
    "accuracy_vs_n_vps_probes = load_json(ACCURACY_VS_N_VPS_PROBES_FILE)\n",
    "accuracy_vs_n_vps_probes = {\n",
    "    int(x): accuracy_vs_n_vps_probes[x] for x in accuracy_vs_n_vps_probes}\n",
    "X = sorted([x for x in sorted(accuracy_vs_n_vps_probes.keys())])\n",
    "Ys = [accuracy_vs_n_vps_probes[i] for i in X]\n",
    "Ys_med = [[np.median(x) for x in Ys]]\n",
    "Ys_err = [[np.std(x) for x in Ys]]\n",
    "\n",
    "\"\"\"\n",
    "Fig 3.a of the paper\n",
    "\"\"\"\n",
    "\n",
    "fig, ax = plot_multiple_error_bars(X, Ys_med, Ys_err,\n",
    "                                    xmin=10, xmax=10500, ymin=1, ymax=10000,\n",
    "                                    xlabel=\"Number of VPs\",\n",
    "                                    ylabel=\"Geolocation error (km)\",\n",
    "                                    xscale=\"log\",\n",
    "                                    yscale=\"log\",\n",
    "                                    labels=[\n",
    "                                        \"\"\n",
    "                                    ],\n",
    "\n",
    "                                    )\n",
    "\n",
    "homogenize_legend(ax, \"lower right\")\n",
    "ofile = FIG_3A_FILE\n",
    "plot_save(ofile, is_tight_layout=True)\n",
    "\n",
    "\"\"\"\n",
    "Fig 3.b of the paper\n",
    "\"\"\"\n",
    "\n",
    "subset_sizes = [100, 500, 1000, 2000]\n",
    "\n",
    "labels = [f\"{s} VPs\" for s in subset_sizes]\n",
    "\n",
    "Ys = [accuracy_vs_n_vps_probes[i] for i in subset_sizes]\n",
    "print(min(accuracy_vs_n_vps_probes[100]),\n",
    "        max(accuracy_vs_n_vps_probes[100]))\n",
    "\n",
    "fig, ax = plot_multiple_cdf(Ys, 10000, 1, 10000,\n",
    "                            \"Geolocation error (km)\",\n",
    "                            \"CDF of median error\",\n",
    "                            xscale=\"log\",\n",
    "                            yscale=\"linear\",\n",
    "                            legend=labels)\n",
    "homogenize_legend(ax, \"lower right\")\n",
    "ofile = FIG_3B_FILE\n",
    "plot_save(ofile, is_tight_layout=True)"
   ]
  },
  {
   "cell_type": "markdown",
   "metadata": {},
   "source": [
    "## Step 10"
   ]
  },
  {
   "cell_type": "code",
   "execution_count": 21,
   "metadata": {},
   "outputs": [
    {
     "name": "stdout",
     "output_type": "stream",
     "text": [
      "Threshold 0 no geolocation 0\n",
      "Threshold 40 no geolocation 0\n",
      "Threshold 100 no geolocation 0\n",
      "Threshold 500 no geolocation 0\n",
      "Threshold 1000 no geolocation 1\n",
      "10 3051555\n",
      "100 4529640\n",
      "300 2918748\n",
      "500 2309946\n",
      "1000 2639067\n"
     ]
    }
   ],
   "source": [
    "round_based_algorithm_results = load_json(ROUND_BASED_ALGORITHM_FILE)\n",
    "\n",
    "round_based_algorithm_results = {\n",
    "int(x): round_based_algorithm_results[x] for x in round_based_algorithm_results}\n",
    "\n",
    "errors_threshold_probes_to_anchors = load_json(PROBES_TO_ANCHORS_RESULT_FILE)\n",
    "error_threshold_cdfs_p_to_a, circles_threshold_cdfs_p_to_a, _ = compute_error_threshold_cdfs(\n",
    "errors_threshold_probes_to_anchors)\n",
    "\n",
    "Ys_error = [error_threshold_cdfs_p_to_a[0]]\n",
    "Ys_n_vps = []\n",
    "\n",
    "labels_error = [\"All VPs\"]\n",
    "labels_n_vps = []\n",
    "\n",
    "for tier1_vps, results in sorted(round_based_algorithm_results.items()):\n",
    "        tier1_vps = int(tier1_vps)\n",
    "        error_cdf = [r[1] for r in results if r[1] is not None]\n",
    "        n_vps_cdf = [r[2] + tier1_vps for r in results if r[2] is not None]\n",
    "        label = f\"{tier1_vps} VPs\"\n",
    "        labels_error.append(label)\n",
    "        labels_n_vps.append(label)\n",
    "        Ys_error.append(error_cdf)\n",
    "        Ys_n_vps.append(n_vps_cdf)\n",
    "        print(tier1_vps, 3 * sum(n_vps_cdf))\n",
    "\n",
    "fig, ax = plot_multiple_cdf(Ys_error, 10000, 1, 10000,\n",
    "                        \"Geolocation error (km)\",\n",
    "                        \"CDF of targets\",\n",
    "                        xscale=\"log\",\n",
    "                        yscale=\"linear\",\n",
    "                        legend=labels_error)\n",
    "homogenize_legend(ax, \"lower right\")\n",
    "ofile = ROUND_ALGORITHM_ERROR_FILE\n",
    "plot_save(ofile, is_tight_layout=True)\n",
    "\n",
    "fig, ax = plot_multiple_cdf(Ys_n_vps, 10000, 10, 10000,\n",
    "                        \"Vantage points\",\n",
    "                        \"CDF of representatives\",\n",
    "                        xscale=\"log\",\n",
    "                        yscale=\"linear\",\n",
    "                        legend=labels_n_vps)\n",
    "homogenize_legend(ax, \"upper left\")\n",
    "ofile = ROUND_BASED_ALGORITHM_FILE\n",
    "plot_save(ofile, is_tight_layout=True)"
   ]
  },
  {
   "cell_type": "markdown",
   "metadata": {},
   "source": [
    "## Step 11"
   ]
  },
  {
   "cell_type": "code",
   "execution_count": 22,
   "metadata": {},
   "outputs": [
    {
     "ename": "FileNotFoundError",
     "evalue": "[Errno 2] No such file or directory: 'C:\\\\Users\\\\milo2\\\\Desktop\\\\review\\\\datasets\\\\measurements\\\\street_level\\\\final_all_res.json'",
     "output_type": "error",
     "traceback": [
      "\u001b[1;31m---------------------------------------------------------------------------\u001b[0m",
      "\u001b[1;31mFileNotFoundError\u001b[0m                         Traceback (most recent call last)",
      "Cell \u001b[1;32mIn[22], line 1\u001b[0m\n\u001b[1;32m----> 1\u001b[0m data \u001b[39m=\u001b[39m load_json(FINAL_ANALYSABLE_FILE)\n\u001b[0;32m      3\u001b[0m query \u001b[39m=\u001b[39m get_min_rtt_per_src_dst_query_ping_table(\n\u001b[0;32m      4\u001b[0m     \u001b[39m'\u001b[39m\u001b[39mgeolocation_replication\u001b[39m\u001b[39m'\u001b[39m, \u001b[39m'\u001b[39m\u001b[39mtargets_to_landmarks_pings\u001b[39m\u001b[39m'\u001b[39m, \u001b[39m'\u001b[39m\u001b[39m'\u001b[39m, \u001b[39m1000000\u001b[39m)\n\u001b[0;32m      5\u001b[0m client \u001b[39m=\u001b[39m Client(\u001b[39m'\u001b[39m\u001b[39m127.0.0.1\u001b[39m\u001b[39m'\u001b[39m)\n",
      "File \u001b[1;32m~\\Desktop\\review\\scripts\\utils\\file_utils.py:5\u001b[0m, in \u001b[0;36mload_json\u001b[1;34m(file)\u001b[0m\n\u001b[0;32m      4\u001b[0m \u001b[39mdef\u001b[39;00m \u001b[39mload_json\u001b[39m(file):\n\u001b[1;32m----> 5\u001b[0m     \u001b[39mwith\u001b[39;00m \u001b[39mopen\u001b[39;49m(file) \u001b[39mas\u001b[39;00m f:\n\u001b[0;32m      6\u001b[0m         \u001b[39mreturn\u001b[39;00m json\u001b[39m.\u001b[39mload(f)\n",
      "\u001b[1;31mFileNotFoundError\u001b[0m: [Errno 2] No such file or directory: 'C:\\\\Users\\\\milo2\\\\Desktop\\\\review\\\\datasets\\\\measurements\\\\street_level\\\\final_all_res.json'"
     ]
    }
   ],
   "source": [
    "data = load_json(FINAL_ANALYSABLE_FILE)\n",
    "\n",
    "query = get_min_rtt_per_src_dst_query_ping_table(\n",
    "    'geolocation_replication', 'targets_to_landmarks_pings', '', 1000000)\n",
    "client = Client('127.0.0.1')\n",
    "db_table = client.execute(query)\n",
    "rtts = []\n",
    "remove_dict = {}\n",
    "print(len(db_table))\n",
    "for l in db_table:\n",
    "    rtts.append(l[2])\n",
    "    remove_dict[(l[0], l[1])] = l[2]\n",
    "print(len(rtts))\n",
    "plot_multiple_cdf([rtts], 10000, 0, None, 'Min RTT (ms)',\n",
    "                    'CDF of (landmark, target) pairs', None)\n",
    "plot_save(CLOSE_LANDMARK_FILE, is_tight_layout=True)\n",
    "\n",
    "plot_multiple_cdf([rtts], 10000, 0.1, None, 'Min RTT (ms)',\n",
    "                    'CDF of (landmark, target) pairs', None, xscale=\"log\")\n",
    "plot_save(CLOSE_LANDMARK_LOG_FILE, is_tight_layout=True)\n",
    "\n",
    "error1 = []\n",
    "error2 = []\n",
    "error3 = []\n",
    "error4 = []\n",
    "error1ms = []\n",
    "error2ms = []\n",
    "error5ms = []\n",
    "error10ms = []\n",
    "\n",
    "for _, d in data.items():\n",
    "    errors = every_tier_result_and_errors(d)\n",
    "    error1.append(errors['error1'])\n",
    "    error2.append(errors['error2'])\n",
    "    error3.append(errors['error3'])\n",
    "    error4.append(errors['error4'])\n",
    "    err1ms = 50000\n",
    "    err2ms = 50000\n",
    "    err5ms = 50000\n",
    "    err10ms = 50000\n",
    "    for f in ['tier2:landmarks', 'tier3:landmarks']:\n",
    "        if f in d:\n",
    "            for l_ip, _, l_lat, l_lon in d[f]:\n",
    "                dist = haversine((l_lat, l_lon), (d['lat_c'], d['lon_c']))\n",
    "                key_rtt = (l_ip, d['target_ip'])\n",
    "                if dist < err1ms and (key_rtt not in remove_dict or remove_dict[key_rtt] <= 1):\n",
    "                    err1ms = dist\n",
    "                if dist < err2ms and (key_rtt not in remove_dict or remove_dict[key_rtt] <= 2):\n",
    "                    err2ms = dist\n",
    "                if dist < err5ms and (key_rtt not in remove_dict or remove_dict[key_rtt] <= 5):\n",
    "                    err5ms = dist\n",
    "                if dist < err10ms and (key_rtt not in remove_dict or remove_dict[key_rtt] <= 10):\n",
    "                    err10ms = dist\n",
    "    if err1ms != 50000:\n",
    "        error1ms.append(err1ms)\n",
    "    else:\n",
    "        error1ms.append(error1[-1])\n",
    "    if err2ms != 50000:\n",
    "        error2ms.append(err2ms)\n",
    "    else:\n",
    "        error2ms.append(error1[-1])\n",
    "    if err5ms != 50000:\n",
    "        error5ms.append(err5ms)\n",
    "    else:\n",
    "        error5ms.append(error1[-1])\n",
    "    if err10ms != 50000:\n",
    "        error10ms.append(err10ms)\n",
    "    else:\n",
    "        error10ms.append(error1[-1])\n",
    "\n",
    "plot_multiple_cdf([error3, error4, error1ms, error2ms, error5ms, error10ms], 10000, 0, None, 'Geolocation error (km)', 'CDF of targets', [\n",
    "                    \"Street Level\", \"Closest landmark unfiltered\", \"Closest landmark <= 1ms\", \"Closest landmark <= 2ms\", \"Closest landmark <= 5ms\", \"Closest landmark <= 10ms\"])\n",
    "plt.legend(fontsize=\"10\")\n",
    "plot_save(CLOSE_LANDMARK_FILE_2, is_tight_layout=True)\n",
    "\n",
    "plot_multiple_cdf([error3, error4, error1ms, error2ms, error5ms, error10ms], 10000, 0.1, None, 'Geolocation error (km)', 'CDF of targets', [\n",
    "                    \"Street Level\", \"Closest landmark unfiltered\", \"Closest landmark <= 1ms\", \"Closest landmark <= 2ms\", \"Closest landmark <= 5ms\", \"Closest landmark <= 10ms\"], xscale=\"log\")\n",
    "plt.legend(fontsize=\"10\")\n",
    "plot_save(CLOSE_LANDMARK_LOG_FILE_2, is_tight_layout=True)\n",
    "\n",
    "for i in [1, 5, 10, 40, 9999999999]:\n",
    "    c = len([j for j in error1ms if j <= i])\n",
    "    print(f\"{c} targets with landmarks (ping <= {i}) or {c/len(error1ms)}\")"
   ]
  },
  {
   "cell_type": "markdown",
   "metadata": {},
   "source": [
    "## Step X"
   ]
  },
  {
   "cell_type": "code",
   "execution_count": null,
   "metadata": {},
   "outputs": [],
   "source": [
    "ip_info_geo = load_json(IP_INFO_GEO_FILE)\n",
    "mm_geo = load_json(MAXMIND_GEO_FILE)\n",
    "errors_threshold_probes_to_anchors = load_json(PROBES_TO_ANCHORS_RESULT_FILE)"
   ]
  },
  {
   "cell_type": "code",
   "execution_count": null,
   "metadata": {},
   "outputs": [],
   "source": [
    "error_threshold_cdfs_p_to_a, circles_threshold_cdfs_p_to_a, _ = compute_error_threshold_cdfs(\n",
    "    errors_threshold_probes_to_anchors)\n",
    "\n",
    "maxmind_error = {}\n",
    "ip_info_error = {}\n",
    "for i, anchor in enumerate(sorted(anchors, key=lambda x: x[\"address_v4\"])):\n",
    "    ip = anchor[\"address_v4\"]\n",
    "    if ip in removed_probes:\n",
    "        continue\n",
    "\n",
    "    if \"geometry\" not in anchor:\n",
    "        continue\n",
    "\n",
    "    long, lat = anchor[\"geometry\"][\"coordinates\"]\n",
    "    if ip in mm_geo:\n",
    "        error = haversine(mm_geo[ip], (lat, long))\n",
    "        maxmind_error[ip] = error\n",
    "\n",
    "    if ip in ip_info_geo:\n",
    "        ipinfo_lat, ipinfo_long = ip_info_geo[ip][\"loc\"].split(\",\")\n",
    "        ipinfo_lat, ipinfo_long = float(ipinfo_lat), float(ipinfo_long)\n",
    "        error = haversine((ipinfo_lat, ipinfo_long), (lat, long))\n",
    "        ip_info_error[ip] = error\n",
    "\n",
    "Ys = [error_threshold_cdfs_p_to_a[0], list(\n",
    "    maxmind_error.values()), list(ip_info_error.values())]\n",
    "print([len(Y) for Y in Ys])\n",
    "labels = [\"All VPs\", \"Maxmind (Free)\", \"IPinfo\"]\n",
    "fig, ax = plot_multiple_cdf(Ys, 10000, 1, 10000,\n",
    "                            \"Geolocation error (km)\",\n",
    "                            \"CDF of targets\",\n",
    "                            xscale=\"log\",\n",
    "                            yscale=\"linear\",\n",
    "                            legend=labels)\n",
    "homogenize_legend(ax, \"lower right\")\n",
    "\n",
    "ofile = GEO_DATABASE_FILE\n",
    "plot_save(ofile, is_tight_layout=True)"
   ]
  }
 ],
 "metadata": {
  "kernelspec": {
   "display_name": "review-fXCvvitn-py3.10",
   "language": "python",
   "name": "python3"
  },
  "language_info": {
   "codemirror_mode": {
    "name": "ipython",
    "version": 3
   },
   "file_extension": ".py",
   "mimetype": "text/x-python",
   "name": "python",
   "nbconvert_exporter": "python",
   "pygments_lexer": "ipython3",
   "version": "3.10.0"
  },
  "orig_nbformat": 4
 },
 "nbformat": 4,
 "nbformat_minor": 2
}

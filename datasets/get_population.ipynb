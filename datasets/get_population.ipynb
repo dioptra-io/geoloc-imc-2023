{
 "cells": [
  {
   "cell_type": "code",
   "execution_count": 1,
   "metadata": {},
   "outputs": [],
   "source": [
    "import ujson as json\n",
    "import csv\n",
    "\n",
    "from pprint import pprint\n",
    "\n",
    "from utils.helpers import haversine\n",
    "from utils.measurement_utils import load_json, dump_json\n",
    "from utils.landmark import fill_city, input_city_genoname_csv\n",
    "from default import GOOD_ANCHORS_FILE, POPULATION_CITY_FILE, CITIES_500_FILE"
   ]
  },
  {
   "cell_type": "code",
   "execution_count": null,
   "metadata": {},
   "outputs": [],
   "source": [
    "# create population file\n",
    "anchors = load_json(GOOD_ANCHORS_FILE)\n",
    "\n",
    "cities_filled = fill_city(anchors)\n",
    "\n",
    "dump_json(cities_filled, POPULATION_CITY_FILE)"
   ]
  },
  {
   "cell_type": "code",
   "execution_count": 4,
   "metadata": {},
   "outputs": [
    {
     "ename": "UnicodeDecodeError",
     "evalue": "'charmap' codec can't decode byte 0x8f in position 401: character maps to <undefined>",
     "output_type": "error",
     "traceback": [
      "\u001b[1;31m---------------------------------------------------------------------------\u001b[0m",
      "\u001b[1;31mUnicodeDecodeError\u001b[0m                        Traceback (most recent call last)",
      "Cell \u001b[1;32mIn[4], line 3\u001b[0m\n\u001b[0;32m      1\u001b[0m geolocation_by_city_name, city_by_geoname_id, geoname_id_by_city, population_by_city_500, \\\n\u001b[0;32m      2\u001b[0m     all_cities, raw_cities, ngram_cities \u001b[39m=\u001b[39m \\\n\u001b[1;32m----> 3\u001b[0m     input_city_genoname_csv(CITIES_500_FILE, population_threshold\u001b[39m=\u001b[39;49m\u001b[39m500\u001b[39;49m)\n\u001b[0;32m      5\u001b[0m \u001b[39mprint\u001b[39m(\u001b[39mlen\u001b[39m(population_by_city_500))\n",
      "File \u001b[1;32m~\\Desktop\\Stage\\review\\utils\\landmark.py:460\u001b[0m, in \u001b[0;36minput_city_genoname_csv\u001b[1;34m(city_file_path, population_threshold)\u001b[0m\n\u001b[0;32m    458\u001b[0m \u001b[39mwith\u001b[39;00m \u001b[39mopen\u001b[39m(city_file_path) \u001b[39mas\u001b[39;00m csvfile:\n\u001b[0;32m    459\u001b[0m     reader \u001b[39m=\u001b[39m csv\u001b[39m.\u001b[39mreader(csvfile, delimiter\u001b[39m=\u001b[39m\u001b[39m\"\u001b[39m\u001b[39m\\t\u001b[39;00m\u001b[39m\"\u001b[39m, quotechar\u001b[39m=\u001b[39m\u001b[39m'\u001b[39m\u001b[39m\"\u001b[39m\u001b[39m'\u001b[39m, )\n\u001b[1;32m--> 460\u001b[0m     \u001b[39mnext\u001b[39;49m(reader, \u001b[39mNone\u001b[39;49;00m)\n\u001b[0;32m    461\u001b[0m     \u001b[39mfor\u001b[39;00m row \u001b[39min\u001b[39;00m reader:\n\u001b[0;32m    462\u001b[0m         geoname_id \u001b[39m=\u001b[39m row[\u001b[39m0\u001b[39m]\n",
      "File \u001b[1;32m~\\AppData\\Local\\Programs\\Python\\Python310\\lib\\encodings\\cp1252.py:23\u001b[0m, in \u001b[0;36mIncrementalDecoder.decode\u001b[1;34m(self, input, final)\u001b[0m\n\u001b[0;32m     22\u001b[0m \u001b[39mdef\u001b[39;00m \u001b[39mdecode\u001b[39m(\u001b[39mself\u001b[39m, \u001b[39minput\u001b[39m, final\u001b[39m=\u001b[39m\u001b[39mFalse\u001b[39;00m):\n\u001b[1;32m---> 23\u001b[0m     \u001b[39mreturn\u001b[39;00m codecs\u001b[39m.\u001b[39;49mcharmap_decode(\u001b[39minput\u001b[39;49m,\u001b[39mself\u001b[39;49m\u001b[39m.\u001b[39;49merrors,decoding_table)[\u001b[39m0\u001b[39m]\n",
      "\u001b[1;31mUnicodeDecodeError\u001b[0m: 'charmap' codec can't decode byte 0x8f in position 401: character maps to <undefined>"
     ]
    }
   ],
   "source": [
    "geolocation_by_city_name, city_by_geoname_id, geoname_id_by_city, population_by_city_500, \\\n",
    "    all_cities, raw_cities, ngram_cities = \\\n",
    "    input_city_genoname_csv(CITIES_500_FILE, population_threshold=500)\n",
    "\n",
    "print(len(population_by_city_500))"
   ]
  },
  {
   "cell_type": "code",
   "execution_count": null,
   "metadata": {},
   "outputs": [],
   "source": [
    "def fill_population(targets):\n",
    "    res = []\n",
    "    population_by_city_500 = load_population_by_city_name()\n",
    "\n",
    "    # for k in population_by_city_500:\n",
    "    #    if 'IT' in k and 'Mil' in k:\n",
    "    #        print(k)\n",
    "    # return\n",
    "\n",
    "    i = 0\n",
    "    for t in targets:\n",
    "        if 'population' in t and t['population'] != 0:\n",
    "            res.append(t)\n",
    "        else:\n",
    "            try:\n",
    "                t['population'] = population_by_city_500[f\"{t['city']}_{t['country_code']}\"]\n",
    "                res.append(t)\n",
    "            except:\n",
    "                try:\n",
    "                    _, output, err = run_cmd(\n",
    "                        f\"cat /srv/geolocation-at-scale/resources/cities500.txt | grep \\\"{t['city']}\\\"\", is_print_output=False, is_return_output=True)\n",
    "                    row = output.decode().split(\"\\t\")\n",
    "                    t['population'] = int(row[14])\n",
    "                    res.append(t)\n",
    "                except Exception as e:\n",
    "                    pprint(e)\n",
    "                    pprint(row)\n",
    "                    pprint(t)\n",
    "                    print(f\"{t['lat']}, {t['lon']}\")\n",
    "                    t['population'] = 0\n",
    "                    res.append(t)\n",
    "                    i += 1\n",
    "    print(i)\n",
    "    return res"
   ]
  },
  {
   "cell_type": "code",
   "execution_count": null,
   "metadata": {},
   "outputs": [],
   "source": [
    "\n",
    "\n",
    "with open(POPULATION_CITY_FILE_PATH, 'r') as json_file:\n",
    "    res = json.load(json_file)\n",
    "max_pop = 0\n",
    "max_v = None\n",
    "for r in res:\n",
    "    if r['density'] > max_pop:\n",
    "        max_pop = r['density']\n",
    "        max_v = r\n",
    "\n",
    "pprint(max_v)\n",
    "\n",
    "# res = fill_population(res)\n",
    "# with open(POPULATION_CITY_FILE_PATH, 'w') as outfile:\n",
    "#    json.dump(res, outfile)"
   ]
  }
 ],
 "metadata": {
  "kernelspec": {
   "display_name": "review-bH8GUATB-py3.10",
   "language": "python",
   "name": "python3"
  },
  "language_info": {
   "codemirror_mode": {
    "name": "ipython",
    "version": 3
   },
   "file_extension": ".py",
   "mimetype": "text/x-python",
   "name": "python",
   "nbconvert_exporter": "python",
   "pygments_lexer": "ipython3",
   "version": "3.10.0"
  },
  "orig_nbformat": 4
 },
 "nbformat": 4,
 "nbformat_minor": 2
}

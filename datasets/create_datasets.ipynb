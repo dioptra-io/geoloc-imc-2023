{
 "cells": [
  {
   "cell_type": "markdown",
   "metadata": {},
   "source": [
    "This code can be used to create your own datasets"
   ]
  },
  {
   "cell_type": "code",
   "execution_count": 1,
   "metadata": {},
   "outputs": [],
   "source": [
    "from random import shuffle\n",
    "from pprint import pprint\n",
    "\n",
    "from utils.common import country_filtering\n",
    "from utils.measurement_utils import load_json, dump_json\n",
    "from utils.atlas_api import get_atlas_anchors, get_atlas_probes\n",
    "from default import PROBES_FILE, ANCHORS_FILE, PROBES_AND_ANCHORS_FILE, COUNTRIES_TXT_FILE, COUNTRIES_JSON_FILE, ADDRESS_FILE, HITLIST_FILE"
   ]
  },
  {
   "attachments": {},
   "cell_type": "markdown",
   "metadata": {},
   "source": [
    "## retrieve atlas probes"
   ]
  },
  {
   "cell_type": "code",
   "execution_count": 2,
   "metadata": {},
   "outputs": [
    {
     "name": "stdout",
     "output_type": "stream",
     "text": [
      "selected probes: 10347 (22.86%), rejected: 34917, geoloc rejected: 1\n"
     ]
    }
   ],
   "source": [
    "# create and fill the probes.json dataset.\n",
    "probes, probes_rejected, probes_geoloc_disputed = get_atlas_probes()\n",
    "dump_json(probes, PROBES_FILE)\n",
    "\n",
    "# display number of selected and rejected probes.\n",
    "print(\n",
    "    f\"selected probes: {len(probes)} ({round(len(probes) * 100 / (probes_rejected+len(probes)), 2)}%), rejected: {probes_rejected}, geoloc rejected: {probes_geoloc_disputed}\")"
   ]
  },
  {
   "cell_type": "code",
   "execution_count": 3,
   "metadata": {},
   "outputs": [
    {
     "name": "stdout",
     "output_type": "stream",
     "text": [
      "selected anchors: 779 (62.62%), rejected: 465, geoloc rejected: 1\n"
     ]
    }
   ],
   "source": [
    "# create and fill the anchors.json dataset.\n",
    "anchors, anchors_rejected, anchors_geoloc_disputed = get_atlas_anchors()\n",
    "dump_json(anchors, ANCHORS_FILE)\n",
    "\n",
    "# display number of selected and rejected anchors.\n",
    "print(\n",
    "    f\"selected anchors: {len(anchors)} ({round(len(anchors) * 100 / (anchors_rejected+len(anchors)), 2)}%), rejected: {anchors_rejected}, geoloc rejected: {anchors_geoloc_disputed}\")"
   ]
  },
  {
   "cell_type": "code",
   "execution_count": 4,
   "metadata": {},
   "outputs": [],
   "source": [
    "# create and fill the probes_and_anchors.json dataset.\n",
    "probes_and_anchors = probes + anchors\n",
    "shuffle(probes_and_anchors)\n",
    "\n",
    "dump_json(probes_and_anchors, PROBES_AND_ANCHORS_FILE)"
   ]
  },
  {
   "attachments": {},
   "cell_type": "markdown",
   "metadata": {},
   "source": [
    "## test loading"
   ]
  },
  {
   "cell_type": "code",
   "execution_count": 3,
   "metadata": {},
   "outputs": [
    {
     "name": "stdout",
     "output_type": "stream",
     "text": [
      "selected probes: 10347\n",
      "selected anchors: 771\n",
      "{'address_v4': '45.138.229.91', 'address_v6': '2a10:3781:e22:1:220:4aff:fec8:23d7', 'asn_v4': 206238, 'asn_v6': 206238, 'country_code': 'NL', 'description': 'Robert #1 100/10 XS4All', 'first_connected': 1288367583, 'geometry': {'type': 'Point', 'coordinates': [4.9275, 52.3475]}}\n",
      "{'address_v4': '82.217.219.124', 'address_v6': None, 'asn_v4': 33915, 'asn_v6': None, 'country_code': 'NL', 'description': '@milan ZIGGO 200/20 Mbit/s', 'first_connected': 1288686777, 'geometry': {'type': 'Point', 'coordinates': [6.0075, 51.2005]}}\n",
      "{'address_v4': '83.81.83.145', 'address_v6': '2001:1c05:2011:fa00:220:4aff:fec8:2464', 'asn_v4': 33915, 'asn_v6': 33915, 'country_code': 'NL', 'description': '@dfk ZIGGO 1000/75 Mbit/s Cable', 'first_connected': 1288619044, 'geometry': {'type': 'Point', 'coordinates': [5.9975, 51.1915]}}\n",
      "{'address_v4': '95.232.13.43', 'address_v6': None, 'asn_v4': 3269, 'asn_v6': None, 'country_code': 'IT', 'description': 'rome probe', 'first_connected': 1289551375, 'geometry': {'type': 'Point', 'coordinates': [12.4375, 41.8995]}}\n",
      "{'address_v4': '77.174.30.45', 'address_v6': '2a02:a468:d1a0:1:220:4aff:fec6:cc56', 'asn_v4': 1136, 'asn_v6': 1136, 'country_code': 'NL', 'description': \"Henk's Probe\", 'first_connected': 1288638180, 'geometry': {'type': 'Point', 'coordinates': [5.9585, 52.0075]}}\n",
      "{'address_v4': '77.54.169.78', 'address_v6': '2001:818:e363:200:220:4aff:fec8:25e7', 'asn_v4': 12353, 'asn_v6': 12353, 'country_code': 'PT', 'description': 'Vasco Home', 'first_connected': 1289215235, 'geometry': {'type': 'Point', 'coordinates': [-9.1515, 38.7295]}}\n",
      "{'address_v4': '87.195.139.46', 'address_v6': '2001:9e0:8557:2d01:220:4aff:fec8:226d', 'asn_v4': 12414, 'asn_v6': 12414, 'country_code': 'NL', 'description': 'KPN probe', 'first_connected': 1288899132, 'geometry': {'type': 'Point', 'coordinates': [4.8485, 52.3605]}}\n",
      "{'address_v4': '98.97.56.179', 'address_v6': '2605:59c8:30ec:c14:220:4aff:fec8:2455', 'asn_v4': 14593, 'asn_v6': 14593, 'country_code': 'US', 'description': \"Elvis' Probe\", 'first_connected': 1288723027, 'geometry': {'type': 'Point', 'coordinates': [-115.0215, 35.9515]}}\n",
      "{'address_v4': '76.82.152.84', 'address_v6': '2603:8001:5000:2aa0:220:4aff:fec8:25ed', 'asn_v4': 20001, 'asn_v6': 20001, 'country_code': 'US', 'description': 'JBP-SD', 'first_connected': 1289867916, 'geometry': {'type': 'Point', 'coordinates': [-117.1815, 32.8885]}}\n",
      "{'address_v4': '2.57.252.147', 'address_v6': '2001:678:d44:65:220:4aff:fec8:22fe', 'asn_v4': 213279, 'asn_v6': 213279, 'country_code': 'NL', 'description': 'AS213279', 'first_connected': 1288733577, 'geometry': {'type': 'Point', 'coordinates': [4.8885, 52.4005]}}\n",
      "{'address_v4': '81.220.141.248', 'address_v6': '2a02:8429:6870:1:220:4aff:fec8:238c', 'asn_v4': 15557, 'asn_v6': 15557, 'country_code': 'FR', 'description': 'Doline xitane (sfr.fr)', 'first_connected': 1300127607, 'geometry': {'type': 'Point', 'coordinates': [1.6185, 43.2915]}}\n"
     ]
    }
   ],
   "source": [
    "probes = load_json(PROBES_FILE)\n",
    "anchors = load_json(ANCHORS_FILE)\n",
    "\n",
    "print(f\"selected probes: {len(probes)}\")\n",
    "print(f\"selected anchors: {len(anchors)}\")\n",
    "\n",
    "for i, probe in enumerate(probes):\n",
    "    if i > 10:\n",
    "        break\n",
    "    pprint(probe)"
   ]
  },
  {
   "cell_type": "markdown",
   "metadata": {},
   "source": [
    "## get country goeloc dataset"
   ]
  },
  {
   "cell_type": "code",
   "execution_count": 7,
   "metadata": {},
   "outputs": [
    {
     "name": "stdout",
     "output_type": "stream",
     "text": [
      "AD : {'latitude': '42.546245', 'longitude': '1.601554', 'name': 'Andorra'}\n",
      "AE : {'latitude': '23.424076', 'longitude': '53.847818', 'name': 'United'}\n",
      "AF : {'latitude': '33.93911', 'longitude': '67.709953', 'name': 'Afghanistan'}\n",
      "AG : {'latitude': '17.060816', 'longitude': '-61.796428', 'name': 'Antigua'}\n",
      "AI : {'latitude': '18.220554', 'longitude': '-63.068615', 'name': 'Anguilla'}\n",
      "AL : {'latitude': '41.153332', 'longitude': '20.168331', 'name': 'Albania'}\n",
      "AM : {'latitude': '40.069099', 'longitude': '45.038189', 'name': 'Armenia'}\n",
      "AN : {'latitude': '12.226079', 'longitude': '-69.060087', 'name': 'Netherlands'}\n",
      "AO : {'latitude': '-11.202692', 'longitude': '17.873887', 'name': 'Angola'}\n",
      "AQ : {'latitude': '-75.250973', 'longitude': '-0.071389', 'name': 'Antarctica'}\n",
      "AR : {'latitude': '-38.416097', 'longitude': '-63.616672', 'name': 'Argentina'}\n"
     ]
    }
   ],
   "source": [
    "countries = {}\n",
    "with open(COUNTRIES_TXT_FILE, \"r\") as f:\n",
    "    for i, row in enumerate(f.readlines()):\n",
    "\n",
    "        row = [value.strip() for value in row.split(\" \")]\n",
    "        countries[row[0]] = {\n",
    "            \"latitude\": row[1],\n",
    "            \"longitude\": row[2],\n",
    "            \"name\": row[3],\n",
    "        }\n",
    "\n",
    "for i, (country_code, geoloc) in enumerate(countries.items()):\n",
    "    if i > 10:\n",
    "        break\n",
    "    print(f\"{country_code} : {geoloc}\")\n",
    "\n",
    "# save results\n",
    "dump_json(countries, COUNTRIES_JSON_FILE)"
   ]
  },
  {
   "cell_type": "markdown",
   "metadata": {},
   "source": [
    "## eliminate default geoloc probes"
   ]
  },
  {
   "cell_type": "code",
   "execution_count": 8,
   "metadata": {},
   "outputs": [
    {
     "name": "stdout",
     "output_type": "stream",
     "text": [
      "Number of Atlas probes kept: 10276, rejected: 75\n",
      "Number of Atlas anchors kept: 771, rejected: 8\n"
     ]
    }
   ],
   "source": [
    "countries = load_json(COUNTRIES_JSON_FILE)\n",
    "\n",
    "filtered_probes = country_filtering(probes, countries)\n",
    "filtered_anchors = country_filtering(anchors, countries)\n",
    "\n",
    "print(\n",
    "    f\"Number of Atlas probes kept: {len(filtered_probes)}, rejected: {len(probes) - len(filtered_probes)}\")\n",
    "print(\n",
    "    f\"Number of Atlas anchors kept: {len(filtered_anchors)}, rejected: {len(anchors) - len(filtered_anchors)}\")\n",
    "\n",
    "# save results\n",
    "dump_json(filtered_anchors, ANCHORS_FILE)\n",
    "dump_json(filtered_probes, PROBES_FILE)"
   ]
  },
  {
   "cell_type": "markdown",
   "metadata": {},
   "source": [
    "## generate ip level target list for all /24 prefixes"
   ]
  },
  {
   "cell_type": "code",
   "execution_count": 3,
   "metadata": {},
   "outputs": [],
   "source": [
    "verfploeter_hitlist_file = ADDRESS_FILE\n",
    "\n",
    "targets_per_prefix = {}\n",
    "\n",
    "with open(verfploeter_hitlist_file, \"r\") as f:\n",
    "    for i, row in enumerate(f.readlines()[1:]):\n",
    "        row = row.split(\"\\t\")\n",
    "\n",
    "        # get prefix from hex value\n",
    "        prefix_hex = row[0]\n",
    "        prefix = [\"\".join(x) for x in zip(*[iter(prefix_hex)]*2)]\n",
    "        prefix = [int(x, 16) for x in prefix]\n",
    "        prefix = \".\".join(str(x) for x in prefix)\n",
    "\n",
    "        target_list = row[-1].strip(\"\\n\")\n",
    "        target_list = target_list.split(\",\")\n",
    "\n",
    "        # parse and save targets\n",
    "        if target_list[0] != '-':\n",
    "            for i, target in enumerate(target_list):\n",
    "                target_list[i] = prefix.split(\".\")[:-1]\n",
    "                target_list[i].append(str(int(target, 16)))\n",
    "                target_list[i] = \".\".join(target_list[i])\n",
    "\n",
    "            try:\n",
    "                targets_per_prefix[prefix].extend(target_list)\n",
    "            except KeyError:\n",
    "                targets_per_prefix[prefix] = target_list"
   ]
  },
  {
   "cell_type": "code",
   "execution_count": 5,
   "metadata": {},
   "outputs": [
    {
     "name": "stdout",
     "output_type": "stream",
     "text": [
      "target hitlist\n",
      "prefix: 1.0.0.0 target hitlist: ['1.0.0.0', '1.0.0.1', '1.0.0.2']\n",
      "prefix: 1.0.4.0 target hitlist: ['1.0.4.1', '1.0.4.4']\n",
      "prefix: 1.0.5.0 target hitlist: ['1.0.5.1', '1.0.5.5']\n",
      "prefix: 1.0.6.0 target hitlist: ['1.0.6.1', '1.0.6.6']\n",
      "prefix: 1.0.7.0 target hitlist: ['1.0.7.1', '1.0.7.7']\n",
      "prefix: 1.0.16.0 target hitlist: ['1.0.16.14', '1.0.16.9', '1.0.16.10', '1.0.16.11']\n",
      "prefix: 1.0.64.0 target hitlist: ['1.0.64.25', '1.0.64.94', '1.0.64.95']\n",
      "prefix: 1.0.65.0 target hitlist: ['1.0.65.6', '1.0.65.176', '1.0.65.243']\n",
      "prefix: 1.0.66.0 target hitlist: ['1.0.66.10', '1.0.66.13', '1.0.66.205']\n",
      "prefix: 1.0.67.0 target hitlist: ['1.0.67.15', '1.0.67.23', '1.0.67.43']\n",
      "prefix: 1.0.68.0 target hitlist: ['1.0.68.21', '1.0.68.68', '1.0.68.131']\n"
     ]
    }
   ],
   "source": [
    "dump_json(targets_per_prefix, HITLIST_FILE)\n",
    "\n",
    "print(\"target hitlist\")\n",
    "for i, prefix in enumerate(targets_per_prefix):\n",
    "    if i > 10:\n",
    "        break\n",
    "    print(\"prefix:\", prefix, \"target hitlist:\", targets_per_prefix[prefix])"
   ]
  }
 ],
 "metadata": {
  "kernelspec": {
   "display_name": ".venv",
   "language": "python",
   "name": "python3"
  },
  "language_info": {
   "codemirror_mode": {
    "name": "ipython",
    "version": 3
   },
   "file_extension": ".py",
   "mimetype": "text/x-python",
   "name": "python",
   "nbconvert_exporter": "python",
   "pygments_lexer": "ipython3",
   "version": "3.10.0"
  },
  "orig_nbformat": 4
 },
 "nbformat": 4,
 "nbformat_minor": 2
}

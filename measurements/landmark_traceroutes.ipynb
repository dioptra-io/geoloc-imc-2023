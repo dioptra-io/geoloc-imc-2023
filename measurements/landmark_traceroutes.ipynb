{
 "cells": [
  {
   "cell_type": "markdown",
   "metadata": {},
   "source": [
    "## Do measurements"
   ]
  },
  {
   "cell_type": "code",
   "execution_count": 2,
   "metadata": {},
   "outputs": [],
   "source": [
    "import logging\n",
    "import traceback\n",
    "\n",
    "from pprint import pprint\n",
    "from clickhouse_driver import Client\n",
    "\n",
    "from scripts.utils.file_utils import load_json, dump_json\n",
    "from scripts.utils.helpers import haversine\n",
    "from scripts.traceroute_measurements.traceroutes import serialize\n",
    "from scripts.traceroute_measurements.three_tiers import tier_1, tier_2, tier_3\n",
    "from default import ANCHORS_FILE, ANALYZABLE_FILE, DB_HOST\n",
    "\n",
    "\n",
    "logging.basicConfig(level=logging.INFO)"
   ]
  },
  {
   "cell_type": "markdown",
   "metadata": {},
   "source": [
    "### database for traceroutes"
   ]
  },
  {
   "cell_type": "code",
   "execution_count": null,
   "metadata": {},
   "outputs": [],
   "source": [
    "query = (\n",
    "        f\"create table bgp_interdomain_te.street_lvl_traceroutes\n",
    "        (\n",
    "            src_addr String,\n",
    "            dst_prefix String,\n",
    "            dst_addr String,\n",
    "            resp_addr String,\n",
    "            proto Int16,\n",
    "            hop Int16,\n",
    "            rtt Float64,\n",
    "            ttl Int16,\n",
    "            prb_id Int64,\n",
    "            msm_id Int64,\n",
    "            tstamp Datetime('UTC')\n",
    "        )\"\n",
    "        f\"ENGINE = MergeTree()\"\n",
    "        f\"order by (dst_addr, src_addr, tstamp)\"\n",
    ")"
   ]
  },
  {
   "cell_type": "code",
   "execution_count": null,
   "metadata": {},
   "outputs": [],
   "source": [
    "    client = Client(DB_HOST)\n",
    "    rows = client.execute(query)\n",
    "    client.disconnect()"
   ]
  },
  {
   "cell_type": "code",
   "execution_count": 3,
   "metadata": {},
   "outputs": [],
   "source": [
    "def get_all_info_geoloc(target_ip):\n",
    "    logging.info(f\"tier1 for {target_ip}\")\n",
    "    res = {'target_ip': target_ip, 'tier1:done': False, 'tier2:done': False,\n",
    "           'tier3:done': False, 'negative_rtt_included': True}\n",
    "    res = tier_1(target_ip, res)\n",
    "\n",
    "    res['lat'] = res['tier1:lat']\n",
    "    res['lon'] = res['tier1:lon']\n",
    "    if res['tier1:lat'] == None or res['tier1:lon'] == None:\n",
    "        return res\n",
    "    res['tier1:done'] = True\n",
    "\n",
    "    logging.info(f\"tier2 for {target_ip}\")\n",
    "    res = tier_2(target_ip, res)\n",
    "\n",
    "    if res['tier2:lat'] == None or res['tier2:lon'] == None:\n",
    "        return res\n",
    "    else:\n",
    "        res['tier2:done'] = True\n",
    "        res['lat'] = res['tier2:lat']\n",
    "        res['lon'] = res['tier2:lon']\n",
    "\n",
    "    logging.info(f\"tier3 for {target_ip}\")\n",
    "    res = tier_3(target_ip, res)\n",
    "\n",
    "    if res['tier3:lat'] != None and res['tier3:lon'] != None:\n",
    "        res['tier3:done'] = True\n",
    "        res['lat'] = res['tier3:lat']\n",
    "        res['lon'] = res['tier3:lon']\n",
    "\n",
    "    return res"
   ]
  },
  {
   "cell_type": "markdown",
   "metadata": {},
   "source": [
    "### Main"
   ]
  },
  {
   "cell_type": "code",
   "execution_count": null,
   "metadata": {},
   "outputs": [],
   "source": [
    "#anchors = load_json(ANCHORS_FILE)\n",
    "anchors = load_json(\"anchors.json\")\n",
    "i = 0\n",
    "try:\n",
    "    #all_res = load_json(ANALYZABLE_FILE)\n",
    "    all_res = load_json(\"all_res.json\")\n",
    "except FileNotFoundError:\n",
    "    all_res = {}\n",
    "\n",
    "for target in anchors:\n",
    "    try:\n",
    "        target_ip = target['address_v4']\n",
    "        if target_ip in all_res:\n",
    "            continue\n",
    "        print(f\"{i}:{target_ip}\")\n",
    "        i += 1\n",
    "        lat = target['geometry']['coordinates'][1]\n",
    "        lon = target['geometry']['coordinates'][0]\n",
    "        res = {}\n",
    "        res = get_all_info_geoloc(target_ip)\n",
    "        res = serialize(res)\n",
    "        res['lat_c'] = lat\n",
    "        res['lon_c'] = lon\n",
    "\n",
    "        if res['lat'] != None and res['lon'] != None:\n",
    "            res['error'] = haversine(\n",
    "                (res['lat'], res['lon']), (res['lat_c'], res['lon_c']))\n",
    "        if 'tier1:lat' in res and 'tier1:lon' in res and res['tier1:lat'] != None and res['tier1:lon'] != None:\n",
    "            res['tier1:error'] = haversine(\n",
    "                (res['tier1:lat'], res['tier1:lon']), (res['lat_c'], res['lon_c']))\n",
    "        if 'tier2:lat' in res and 'tier2:lon' in res and res['tier2:lat'] != None and res['tier2:lon'] != None:\n",
    "            res['tier2:error'] = haversine(\n",
    "                (res['tier2:lat'], res['tier2:lon']), (res['lat_c'], res['lon_c']))\n",
    "        if 'tier3:lat' in res and 'tier3:lon' in res and res['tier3:lat'] != None and res['tier3:lon'] != None:\n",
    "            res['tier3:error'] = haversine(\n",
    "                (res['tier3:lat'], res['tier3:lon']), (res['lat_c'], res['lon_c']))\n",
    "\n",
    "        all_res[target_ip] = res\n",
    "    except Exception:\n",
    "        traceback.print_exc()\n",
    "        print(f\"{target_ip} problem\")\n",
    "        pprint(res)\n",
    "\n",
    "#dump_json(all_res, ANALYZABLE_FILE)\n",
    "dump_json(all_res, \"all_res.json\")"
   ]
  }
 ],
 "metadata": {
  "kernelspec": {
   "display_name": "review-8XQ99qZ1-py3.10",
   "language": "python",
   "name": "python3"
  },
  "language_info": {
   "codemirror_mode": {
    "name": "ipython",
    "version": 3
   },
   "file_extension": ".py",
   "mimetype": "text/x-python",
   "name": "python",
   "nbconvert_exporter": "python",
   "pygments_lexer": "ipython3",
   "version": "3.10.0"
  },
  "orig_nbformat": 4
 },
 "nbformat": 4,
 "nbformat_minor": 2
}

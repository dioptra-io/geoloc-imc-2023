{
    "cells": [
        {
            "cell_type": "markdown",
            "metadata": {},
            "source": [
                "# Probing part 1\n",
                "\n",
                "Vantage points will probe either the targets themselves (step 2) or other addresses in the same /24 prefix (step 2).\n",
                "\n",
                "Vantage points are only the anchors.  \n",
                "As always, targets are the anchors.  \n",
                "\n",
                "This notebook is an implementation of the million scale method. Check the paper for more information.  \n",
                "To do after create_datasets.ipynb"
            ]
        },
        {
            "cell_type": "code",
            "execution_count": 1,
            "metadata": {},
            "outputs": [],
            "source": [
                "import uuid\n",
                "\n",
                "from logger import logger\n",
                "from scripts.utils.file_utils import load_json\n",
                "from scripts.utils.measurement_utils import (\n",
                "    load_targets, \n",
                "    load_vps,\n",
                "    get_measurement_config,\n",
                "    save_measurement_config,\n",
                "    get_target_prefixes,\n",
                "    ping_prefixes,\n",
                "    ping_targets,\n",
                "    retrieve_results,\n",
                ")\n",
                "from default import (\n",
                "    USER_ANCHORS_FILE, \n",
                "    USER_HITLIST_FILE, \n",
                "    PREFIX_MEASUREMENT_RESULTS,\n",
                "    TARGET_MEASUREMENT_RESULTS,\n",
                "    MEASUREMENT_CONFIG_PATH,\n",
                ")\n",
                "\n",
                "# will define the number of vps and targets to use\n",
                "NB_TARGETS = 2\n",
                "NB_VPS = 4"
            ]
        },
        {
            "cell_type": "markdown",
            "metadata": {},
            "source": [
                "## Load targets and vps dataset"
            ]
        },
        {
            "cell_type": "code",
            "execution_count": 2,
            "metadata": {},
            "outputs": [
                {
                    "name": "stderr",
                    "output_type": "stream",
                    "text": [
                        "2023-09-13 10:18:49::INFO:root:2498612375:: nb targets: 2\n",
                        "2023-09-13 10:18:49::INFO:root:2498612375:: nb_vps : 4\n"
                    ]
                }
            ],
            "source": [
                "\n",
                "targets = load_targets(USER_ANCHORS_FILE, nb_target=NB_TARGETS)\n",
                "vps = load_vps(USER_ANCHORS_FILE, nb_vps=NB_VPS)\n",
                "\n",
                "# all target prefixes\n",
                "target_prefixes = get_target_prefixes(targets)\n",
                "\n",
                "# responsive IP addresses in all /24 prefixes\n",
                "targets_per_prefix = load_json(USER_HITLIST_FILE)\n",
                "\n",
                "logger.info(f\"nb targets: {len(targets)}\")\n",
                "logger.info(f\"nb_vps : {len(vps)}\")"
            ]
        },
        {
            "cell_type": "markdown",
            "metadata": {},
            "source": [
                "## Generate measurement config\n",
                "\n",
                "This configuration is used to retrieve all measurements results from RIPE Atlas using their API."
            ]
        },
        {
            "cell_type": "code",
            "execution_count": 3,
            "metadata": {},
            "outputs": [],
            "source": [
                "# measurement configuration for retrieval\n",
                "experiment_uuid = uuid.uuid4()\n",
                "target_measurement_uuid = uuid.uuid4()\n",
                "prefix_measurement_uuid = uuid.uuid4()\n",
                "\n",
                "measurement_config = get_measurement_config(\n",
                "    experiment_uuid=experiment_uuid,\n",
                "    target_measurement_uuid=target_measurement_uuid,\n",
                "    prefix_measurement_uuid=prefix_measurement_uuid,\n",
                "    targets=targets, \n",
                "    target_prefixes=target_prefixes,\n",
                "    vps=vps,\n",
                ")\n",
                "\n",
                "save_measurement_config(measurement_config, MEASUREMENT_CONFIG_PATH)"
            ]
        },
        {
            "attachments": {},
            "cell_type": "markdown",
            "metadata": {},
            "source": [
                "# Step 1: probing each target prefixes"
            ]
        },
        {
            "attachments": {},
            "cell_type": "markdown",
            "metadata": {},
            "source": [
                "## Probe target prefixes\n",
                "WARNING : Time consumming section"
            ]
        },
        {
            "cell_type": "code",
            "execution_count": 4,
            "metadata": {},
            "outputs": [
                {
                    "name": "stderr",
                    "output_type": "stream",
                    "text": [
                        "2023-09-13 10:18:49::INFO:root:measurement_utils:: No cached results available\n",
                        "2023-09-13 10:18:49::INFO:root:measurement_utils:: Starting measurements f29ff03d-ede7-44ca-8fc8-fe2f832fd57a with parameters: dry_run=False; nb_targets=5803825; nb_vps=4.\n"
                    ]
                },
                {
                    "name": "stdout",
                    "output_type": "stream",
                    "text": [
                        "vps list [7139, 6749, 6515, 7031]\n",
                        "vps list [7139, 6749, 6515, 7031]\n",
                        "vps list [7139, 6749, 6515, 7031]\n",
                        "vps list [7139, 6749, 6515, 7031]\n",
                        "vps list [7139, 6749, 6515, 7031]\n",
                        "vps list [7139, 6749, 6515, 7031]\n"
                    ]
                },
                {
                    "name": "stderr",
                    "output_type": "stream",
                    "text": [
                        "2023-09-13 10:18:52::INFO:root:ping_and_traceroute_classes:: measurement : f29ff03d-ede7-44ca-8fc8-fe2f832fd57a done\n"
                    ]
                }
            ],
            "source": [
                "ping_prefixes(\n",
                "    measurement_uuid=prefix_measurement_uuid,\n",
                "    measurement_config=measurement_config,\n",
                "    target_prefixes=target_prefixes,\n",
                "    targets_per_prefix=targets_per_prefix,\n",
                "    vps=vps,\n",
                ")\n",
                "\n",
                "save_measurement_config(measurement_config, MEASUREMENT_CONFIG_PATH)"
            ]
        },
        {
            "attachments": {},
            "cell_type": "markdown",
            "metadata": {},
            "source": [
                "# Step 2: probing each target"
            ]
        },
        {
            "attachments": {},
            "cell_type": "markdown",
            "metadata": {},
            "source": [
                "## Probe targets\n",
                "WARNING : Time consumming section"
            ]
        },
        {
            "cell_type": "code",
            "execution_count": 5,
            "metadata": {},
            "outputs": [
                {
                    "name": "stderr",
                    "output_type": "stream",
                    "text": [
                        "2023-09-13 10:18:53::INFO:root:measurement_utils:: No cached results available\n",
                        "2023-09-13 10:18:53::INFO:root:measurement_utils:: Starting measurements f29ff03d-ede7-44ca-8fc8-fe2f832fd57a with parameters: dry_run=False; nb_targets=2; nb_vps=4.\n",
                        "2023-09-13 10:18:54::INFO:root:ping_and_traceroute_classes:: measurement : f29ff03d-ede7-44ca-8fc8-fe2f832fd57a done\n"
                    ]
                }
            ],
            "source": [
                "# measurement configuration for retrieval\n",
                "ping_targets(\n",
                "    measurement_uuid=prefix_measurement_uuid,\n",
                "    measurement_config=measurement_config,\n",
                "    targets=targets,\n",
                "    vps=vps,\n",
                ")\n",
                "save_measurement_config(measurement_config, MEASUREMENT_CONFIG_PATH)\n"
            ]
        },
        {
            "attachments": {},
            "cell_type": "markdown",
            "metadata": {},
            "source": [
                "## Retrieve prefix results\n",
                "WARNING : Time consuming section\n",
                "\n",
                "Note: it might take some time before measurement results are available through RIPE API. If no results are available, retry after a few minutes (or hours, it might really depends on the probe itself)."
            ]
        },
        {
            "cell_type": "code",
            "execution_count": 6,
            "metadata": {},
            "outputs": [
                {
                    "ename": "KeyError",
                    "evalue": "'UUID'",
                    "output_type": "error",
                    "traceback": [
                        "\u001b[0;31m---------------------------------------------------------------------------\u001b[0m",
                        "\u001b[0;31mKeyError\u001b[0m                                  Traceback (most recent call last)",
                        "Cell \u001b[0;32mIn[6], line 2\u001b[0m\n\u001b[1;32m      1\u001b[0m \u001b[39m# TODO: get latest measurement available\u001b[39;00m\n\u001b[0;32m----> 2\u001b[0m retrieve_results(measurement_config, PREFIX_MEASUREMENT_RESULTS)\n",
                        "File \u001b[0;32m~/Documents/geoloc/geoloc-imc-2023/scripts/utils/measurement_utils.py:206\u001b[0m, in \u001b[0;36mretrieve_results\u001b[0;34m(measurement_config, out_file)\u001b[0m\n\u001b[1;32m    202\u001b[0m \u001b[39m\u001b[39m\u001b[39m\"\"\"query RIPE Atlas API to retrieve all measurement results\"\"\"\u001b[39;00m\n\u001b[1;32m    204\u001b[0m \u001b[39m# TODO: make it a loop and save csv\u001b[39;00m\n\u001b[0;32m--> 206\u001b[0m measurement_results \u001b[39m=\u001b[39m get_measurements_from_tag(\u001b[39mstr\u001b[39m(measurement_config[\u001b[39m\"\u001b[39;49m\u001b[39mUUID\u001b[39;49m\u001b[39m\"\u001b[39;49m]))\n\u001b[1;32m    208\u001b[0m logger\u001b[39m.\u001b[39minfo(\u001b[39mf\u001b[39m\u001b[39m\"\u001b[39m\u001b[39mnb measurements retrieved: \u001b[39m\u001b[39m{\u001b[39;00m\u001b[39mlen\u001b[39m(measurement_results)\u001b[39m}\u001b[39;00m\u001b[39m\"\u001b[39m)\n\u001b[1;32m    210\u001b[0m \u001b[39mfor\u001b[39;00m i, (target_addr, results) \u001b[39min\u001b[39;00m \u001b[39menumerate\u001b[39m(measurement_results\u001b[39m.\u001b[39mitems()):\n",
                        "\u001b[0;31mKeyError\u001b[0m: 'UUID'"
                    ]
                }
            ],
            "source": [
                "# TODO: get latest measurement available\n",
                "retrieve_results(measurement_config, PREFIX_MEASUREMENT_RESULTS)"
            ]
        },
        {
            "attachments": {},
            "cell_type": "markdown",
            "metadata": {},
            "source": [
                "## Retrieve traget results\n",
                "WARNING : Time consumming section\n",
                "\n",
                "Note: it might take some time before measurement results are available through RIPE API. If no results are available, retry after a few minutes (or hours, it might really depends on the probe itself)."
            ]
        },
        {
            "cell_type": "code",
            "execution_count": null,
            "metadata": {},
            "outputs": [
                {
                    "name": "stderr",
                    "output_type": "stream",
                    "text": [
                        "2023-09-12 20:05:54::INFO:root:measurement_utils:: nb measurements retrieved: 2\n",
                        "2023-09-12 20:05:54::INFO:root:measurement_utils:: target: 45.239.44.43 | number of measurement retrieved: 4\n",
                        "2023-09-12 20:05:54::INFO:root:measurement_utils:: target: 91.200.16.69 | number of measurement retrieved: 4\n"
                    ]
                }
            ],
            "source": [
                "retrieve_results(measurement_config, TARGET_MEASUREMENT_RESULTS)"
            ]
        }
    ],
    "metadata": {
        "kernelspec": {
            "display_name": "geoloc-imc-2023-GZT64Hva-py3.10",
            "language": "python",
            "name": "python3"
        },
        "language_info": {
            "codemirror_mode": {
                "name": "ipython",
                "version": 3
            },
            "file_extension": ".py",
            "mimetype": "text/x-python",
            "name": "python",
            "nbconvert_exporter": "python",
            "pygments_lexer": "ipython3",
            "version": "3.10.9"
        },
        "orig_nbformat": 4
    },
    "nbformat": 4,
    "nbformat_minor": 2
}

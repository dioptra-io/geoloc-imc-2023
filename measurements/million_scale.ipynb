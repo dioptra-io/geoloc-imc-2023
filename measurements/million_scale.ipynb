{
    "cells": [
        {
            "cell_type": "markdown",
            "metadata": {},
            "source": [
                "# Probing part 1\n",
                "\n",
                "Vantage points will probe either the targets themselves (step 2) or other addresses in the same /24 prefix (step 2).\n",
                "\n",
                "Vantage points are only the anchors.  \n",
                "As always, targets are the anchors.  \n",
                "\n",
                "This notebook is an implementation of the million scale method. Check the paper for more information.  \n",
                "To do after create_datasets.ipynb"
            ]
        },
        {
            "cell_type": "code",
            "execution_count": 1,
            "metadata": {},
            "outputs": [],
            "source": [
                "import uuid\n",
                "\n",
                "from logger import logger\n",
                "from scripts.utils.file_utils import load_json\n",
                "from scripts.utils.measurement_utils import (\n",
                "    load_targets, \n",
                "    load_vps,\n",
                "    get_measurement_config,\n",
                "    save_measurement_config,\n",
                "    get_target_prefixes,\n",
                "    ping_prefixes,\n",
                "    ping_targets,\n",
                "    retrieve_results,\n",
                ")\n",
                "from default import (\n",
                "    USER_ANCHORS_FILE, \n",
                "    USER_HITLIST_FILE, \n",
                "    PREFIX_MEASUREMENT_RESULTS,\n",
                "    TARGET_MEASUREMENT_RESULTS,\n",
                ")\n",
                "\n",
                "# will define the number of vps and targets to use\n",
                "NB_TARGETS = 2\n",
                "NB_VPS = 4"
            ]
        },
        {
            "cell_type": "markdown",
            "metadata": {},
            "source": [
                "## Load targets and vps dataset"
            ]
        },
        {
            "cell_type": "code",
            "execution_count": 2,
            "metadata": {},
            "outputs": [
                {
                    "name": "stderr",
                    "output_type": "stream",
                    "text": [
                        "2023-09-12 20:04:16::INFO:root:2498612375:: nb targets: 2\n",
                        "2023-09-12 20:04:16::INFO:root:2498612375:: nb_vps : 4\n"
                    ]
                }
            ],
            "source": [
                "\n",
                "targets = load_targets(USER_ANCHORS_FILE, nb_target=NB_TARGETS)\n",
                "vps = load_vps(USER_ANCHORS_FILE, nb_vps=NB_VPS)\n",
                "\n",
                "# all target prefixes\n",
                "target_prefixes = get_target_prefixes(targets)\n",
                "\n",
                "# responsive IP addresses in all /24 prefixes\n",
                "targets_per_prefix = load_json(USER_HITLIST_FILE)\n",
                "\n",
                "logger.info(f\"nb targets: {len(targets)}\")\n",
                "logger.info(f\"nb_vps : {len(vps)}\")"
            ]
        },
        {
            "attachments": {},
            "cell_type": "markdown",
            "metadata": {},
            "source": [
                "# Step 1: probing each target prefixes"
            ]
        },
        {
            "attachments": {},
            "cell_type": "markdown",
            "metadata": {},
            "source": [
                "## Probe target prefixes\n",
                "WARNING : Time consumming section"
            ]
        },
        {
            "cell_type": "code",
            "execution_count": 3,
            "metadata": {},
            "outputs": [
                {
                    "name": "stderr",
                    "output_type": "stream",
                    "text": [
                        "2023-09-12 20:04:16::INFO:root:measurement_utils:: No cached results available\n",
                        "2023-09-12 20:04:16::INFO:root:measurement_utils:: Starting measurements b40bdc7e-deb7-4736-b8ff-c5de371d47f9 with parameters: dry_run=False; nb_targets=5803825; nb_vps=4.\n"
                    ]
                },
                {
                    "name": "stdout",
                    "output_type": "stream",
                    "text": [
                        "vps list [6543, 6798, 7113, 7022]\n",
                        "vps list [6543, 6798, 7113, 7022]\n",
                        "vps list [6543, 6798, 7113, 7022]\n",
                        "vps list [6543, 6798, 7113, 7022]\n",
                        "vps list [6543, 6798, 7113, 7022]\n",
                        "vps list [6543, 6798, 7113, 7022]\n"
                    ]
                },
                {
                    "name": "stderr",
                    "output_type": "stream",
                    "text": [
                        "2023-09-12 20:04:19::INFO:root:ping_and_traceroute_classes:: measurement : b40bdc7e-deb7-4736-b8ff-c5de371d47f9 done\n"
                    ]
                }
            ],
            "source": [
                "# measurement configuration for retrieval\n",
                "measurement_uuid = uuid.uuid4()\n",
                "prefix_measurement_config = get_measurement_config(measurement_uuid, targets, vps)\n",
                "\n",
                "save_measurement_config(prefix_measurement_config)\n",
                "ping_prefixes(\n",
                "    measurement_uuid=measurement_uuid,\n",
                "    measurement_config=prefix_measurement_config,\n",
                "    target_prefixes=target_prefixes,\n",
                "    targets_per_prefix=targets_per_prefix,\n",
                "    vps=vps,\n",
                ")"
            ]
        },
        {
            "attachments": {},
            "cell_type": "markdown",
            "metadata": {},
            "source": [
                "# Step 2: probing each target"
            ]
        },
        {
            "attachments": {},
            "cell_type": "markdown",
            "metadata": {},
            "source": [
                "## Probe targets\n",
                "WARNING : Time consumming section"
            ]
        },
        {
            "cell_type": "code",
            "execution_count": 4,
            "metadata": {},
            "outputs": [
                {
                    "name": "stderr",
                    "output_type": "stream",
                    "text": [
                        "2023-09-12 20:04:19::INFO:root:measurement_utils:: No cached results available\n",
                        "2023-09-12 20:04:19::INFO:root:measurement_utils:: Starting measurements 89c4de92-7db8-4340-ac56-775285bc661b with parameters: dry_run=False; nb_targets=2; nb_vps=4.\n",
                        "2023-09-12 20:04:20::INFO:root:ping_and_traceroute_classes:: measurement : 89c4de92-7db8-4340-ac56-775285bc661b done\n"
                    ]
                }
            ],
            "source": [
                "# measurement configuration for retrieval\n",
                "measurement_uuid = uuid.uuid4()\n",
                "target_measurement_config = get_measurement_config(measurement_uuid, targets, vps)\n",
                "\n",
                "save_measurement_config(target_measurement_config)\n",
                "\n",
                "ping_targets(\n",
                "    measurement_uuid=measurement_uuid,\n",
                "    measurement_config=target_measurement_config,\n",
                "    targets=targets,\n",
                "    vps=vps,\n",
                ")"
            ]
        },
        {
            "attachments": {},
            "cell_type": "markdown",
            "metadata": {},
            "source": [
                "## Retrieve prefix results\n",
                "WARNING : Time consuming section\n",
                "\n",
                "Note: it might take some time before measurement results are available through RIPE API. If no results are available, retry after a few minutes (or hours, it might really depends on the probe itself)."
            ]
        },
        {
            "cell_type": "code",
            "execution_count": 10,
            "metadata": {},
            "outputs": [
                {
                    "name": "stderr",
                    "output_type": "stream",
                    "text": [
                        "2023-09-12 20:05:50::INFO:root:measurement_utils:: nb measurements retrieved: 6\n",
                        "2023-09-12 20:05:50::INFO:root:measurement_utils:: target: 45.239.44.1 | number of measurement retrieved: 4\n",
                        "2023-09-12 20:05:50::INFO:root:measurement_utils:: target: 91.200.16.4 | number of measurement retrieved: 4\n",
                        "2023-09-12 20:05:50::INFO:root:measurement_utils:: target: 91.200.16.2 | number of measurement retrieved: 4\n",
                        "2023-09-12 20:05:50::INFO:root:measurement_utils:: target: 45.239.44.2 | number of measurement retrieved: 4\n",
                        "2023-09-12 20:05:50::INFO:root:measurement_utils:: target: 45.239.44.6 | number of measurement retrieved: 4\n",
                        "2023-09-12 20:05:50::INFO:root:measurement_utils:: target: 91.200.16.1 | number of measurement retrieved: 4\n"
                    ]
                }
            ],
            "source": [
                "retrieve_results(prefix_measurement_config, PREFIX_MEASUREMENT_RESULTS)"
            ]
        },
        {
            "attachments": {},
            "cell_type": "markdown",
            "metadata": {},
            "source": [
                "## Retrieve traget results\n",
                "WARNING : Time consumming section\n",
                "\n",
                "Note: it might take some time before measurement results are available through RIPE API. If no results are available, retry after a few minutes (or hours, it might really depends on the probe itself)."
            ]
        },
        {
            "cell_type": "code",
            "execution_count": 12,
            "metadata": {},
            "outputs": [
                {
                    "name": "stderr",
                    "output_type": "stream",
                    "text": [
                        "2023-09-12 20:05:54::INFO:root:measurement_utils:: nb measurements retrieved: 2\n",
                        "2023-09-12 20:05:54::INFO:root:measurement_utils:: target: 45.239.44.43 | number of measurement retrieved: 4\n",
                        "2023-09-12 20:05:54::INFO:root:measurement_utils:: target: 91.200.16.69 | number of measurement retrieved: 4\n"
                    ]
                }
            ],
            "source": [
                "retrieve_results(target_measurement_config, TARGET_MEASUREMENT_RESULTS)"
            ]
        }
    ],
    "metadata": {
        "kernelspec": {
            "display_name": "geoloc-imc-2023-GZT64Hva-py3.10",
            "language": "python",
            "name": "python3"
        },
        "language_info": {
            "codemirror_mode": {
                "name": "ipython",
                "version": 3
            },
            "file_extension": ".py",
            "mimetype": "text/x-python",
            "name": "python",
            "nbconvert_exporter": "python",
            "pygments_lexer": "ipython3",
            "version": "3.10.9"
        },
        "orig_nbformat": 4
    },
    "nbformat": 4,
    "nbformat_minor": 2
}

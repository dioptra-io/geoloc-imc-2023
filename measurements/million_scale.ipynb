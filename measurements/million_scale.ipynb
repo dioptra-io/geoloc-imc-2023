{
    "cells": [
        {
            "cell_type": "markdown",
            "metadata": {},
            "source": [
                "# Probing part 1\n",
                "\n",
                "Vantage points will probe either the targets themselves (step 2) or other addresses in the same /24 prefix (step 2).\n",
                "\n",
                "Vantage points are only the anchors.  \n",
                "As always, targets are the anchors.  \n",
                "\n",
                "This notebook is an implementation of the million scale method. Check the paper for more information.  \n",
                "To do after create_datasets.ipynb"
            ]
        },
        {
            "cell_type": "code",
            "execution_count": 2,
            "metadata": {},
            "outputs": [],
            "source": [
                "import uuid\n",
                "\n",
                "from logger import logger\n",
                "from scripts.utils.file_utils import load_json\n",
                "from scripts.utils.measurement_utils import (\n",
                "    load_targets, \n",
                "    load_vps,\n",
                "    get_measurement_config,\n",
                "    save_measurement_config,\n",
                "    get_target_prefixes,\n",
                "    ping_prefixes,\n",
                "    ping_targets,\n",
                "    retrieve_results,\n",
                "    get_latest_measurements,\n",
                "    insert_prefix_results,\n",
                "    insert_target_results,\n",
                ")\n",
                "from default import (\n",
                "    USER_ANCHORS_FILE, \n",
                "    USER_HITLIST_FILE, \n",
                "    PREFIX_MEASUREMENT_RESULTS,\n",
                "    TARGET_MEASUREMENT_RESULTS,\n",
                "    MEASUREMENT_CONFIG_PATH,\n",
                ")\n",
                "\n",
                "# will define the number of vps and targets to use\n",
                "NB_TARGETS = 2\n",
                "NB_VPS = 4"
            ]
        },
        {
            "cell_type": "markdown",
            "metadata": {},
            "source": [
                "## Load targets and vps dataset"
            ]
        },
        {
            "cell_type": "code",
            "execution_count": 2,
            "metadata": {},
            "outputs": [
                {
                    "name": "stderr",
                    "output_type": "stream",
                    "text": [
                        "2023-09-13 15:35:46::INFO:root:2498612375:: nb targets: 2\n",
                        "2023-09-13 15:35:46::INFO:root:2498612375:: nb_vps : 4\n"
                    ]
                }
            ],
            "source": [
                "\n",
                "targets = load_targets(USER_ANCHORS_FILE, nb_target=NB_TARGETS)\n",
                "vps = load_vps(USER_ANCHORS_FILE, nb_vps=NB_VPS)\n",
                "\n",
                "# all target prefixes\n",
                "target_prefixes = get_target_prefixes(targets)\n",
                "\n",
                "# responsive IP addresses in all /24 prefixes\n",
                "targets_per_prefix = load_json(USER_HITLIST_FILE)\n",
                "\n",
                "logger.info(f\"nb targets: {len(targets)}\")\n",
                "logger.info(f\"nb_vps : {len(vps)}\")"
            ]
        },
        {
            "cell_type": "markdown",
            "metadata": {},
            "source": [
                "## Generate measurement config\n",
                "\n",
                "This configuration is used to retrieve all measurements results from RIPE Atlas using their API."
            ]
        },
        {
            "cell_type": "code",
            "execution_count": 3,
            "metadata": {},
            "outputs": [],
            "source": [
                "# measurement configuration for retrieval\n",
                "experiment_uuid = uuid.uuid4()\n",
                "target_measurement_uuid = uuid.uuid4()\n",
                "prefix_measurement_uuid = uuid.uuid4()\n",
                "\n",
                "measurement_config = get_measurement_config(\n",
                "    experiment_uuid=experiment_uuid,\n",
                "    target_measurement_uuid=target_measurement_uuid,\n",
                "    prefix_measurement_uuid=prefix_measurement_uuid,\n",
                "    targets=targets, \n",
                "    target_prefixes=target_prefixes,\n",
                "    vps=vps,\n",
                ")\n",
                "\n",
                "save_measurement_config(measurement_config, MEASUREMENT_CONFIG_PATH)"
            ]
        },
        {
            "attachments": {},
            "cell_type": "markdown",
            "metadata": {},
            "source": [
                "# Step 1: probing each target prefixes"
            ]
        },
        {
            "attachments": {},
            "cell_type": "markdown",
            "metadata": {},
            "source": [
                "## Probe target prefixes\n",
                "WARNING : Time consumming section"
            ]
        },
        {
            "cell_type": "code",
            "execution_count": 4,
            "metadata": {},
            "outputs": [
                {
                    "name": "stderr",
                    "output_type": "stream",
                    "text": [
                        "2023-09-13 15:35:46::INFO:root:measurement_utils:: No cached results available\n",
                        "2023-09-13 15:35:46::INFO:root:measurement_utils:: Starting measurements a5a349de-8aac-42d5-b636-877fa35c7a30 with parameters: dry_run=False; nb_targets=5803825; nb_vps=4.\n"
                    ]
                },
                {
                    "name": "stdout",
                    "output_type": "stream",
                    "text": [
                        "vps list [7257, 7146, 6719, 6934]\n",
                        "vps list [7257, 7146, 6719, 6934]\n",
                        "vps list [7257, 7146, 6719, 6934]\n",
                        "vps list [7257, 7146, 6719, 6934]\n",
                        "vps list [7257, 7146, 6719, 6934]\n",
                        "vps list [7257, 7146, 6719, 6934]\n"
                    ]
                },
                {
                    "name": "stderr",
                    "output_type": "stream",
                    "text": [
                        "2023-09-13 15:35:49::INFO:root:ping_and_traceroute_classes:: measurement : a5a349de-8aac-42d5-b636-877fa35c7a30 done\n"
                    ]
                }
            ],
            "source": [
                "ping_prefixes(\n",
                "    measurement_uuid=prefix_measurement_uuid,\n",
                "    measurement_config=measurement_config,\n",
                "    target_prefixes=target_prefixes,\n",
                "    targets_per_prefix=targets_per_prefix,\n",
                "    vps=vps,\n",
                ")\n",
                "\n",
                "save_measurement_config(measurement_config, MEASUREMENT_CONFIG_PATH)"
            ]
        },
        {
            "attachments": {},
            "cell_type": "markdown",
            "metadata": {},
            "source": [
                "# Step 2: probing each target"
            ]
        },
        {
            "attachments": {},
            "cell_type": "markdown",
            "metadata": {},
            "source": [
                "## Probe targets\n",
                "WARNING : Time consumming section"
            ]
        },
        {
            "cell_type": "code",
            "execution_count": 5,
            "metadata": {},
            "outputs": [
                {
                    "name": "stderr",
                    "output_type": "stream",
                    "text": [
                        "2023-09-13 15:35:49::INFO:root:measurement_utils:: No cached results available\n",
                        "2023-09-13 15:35:49::INFO:root:measurement_utils:: Starting measurements 8a0e5848-9045-42dd-b889-e1cde82364d2 with parameters: dry_run=False; nb_targets=2; nb_vps=4.\n",
                        "2023-09-13 15:35:50::INFO:root:ping_and_traceroute_classes:: measurement : 8a0e5848-9045-42dd-b889-e1cde82364d2 done\n"
                    ]
                }
            ],
            "source": [
                "# measurement configuration for retrieval\n",
                "ping_targets(\n",
                "    measurement_uuid=target_measurement_uuid,\n",
                "    measurement_config=measurement_config,\n",
                "    targets=targets,\n",
                "    vps=vps,\n",
                ")\n",
                "save_measurement_config(measurement_config, MEASUREMENT_CONFIG_PATH)\n"
            ]
        },
        {
            "attachments": {},
            "cell_type": "markdown",
            "metadata": {},
            "source": [
                "## Retrieve prefix results\n",
                "WARNING : Time consuming section\n",
                "\n",
                "Note: it might take some time before measurement results are available through RIPE API. If no results are available, retry after a few minutes (or hours, it might really depends on the probe itself)."
            ]
        },
        {
            "cell_type": "code",
            "execution_count": 4,
            "metadata": {},
            "outputs": [
                {
                    "name": "stderr",
                    "output_type": "stream",
                    "text": [
                        "2023-09-13 15:41:04::INFO:root:3310127158:: {'experiment_uuid': 'e1fe7606-0c6a-4c58-8d46-4599730b8ccf', 'status': 'finished', 'start_time': '2023-09-13 15:35:46.679588', 'end_time': '2023-09-13 15:35:50.511055', 'is_dry_run': False, 'nb_targets': 2, 'nb_vps': 4, 'description': 'measurements from a set of vps towards all targets/target prefixes', 'af': 4, 'target_measurements': {'measurement_uuid': '8a0e5848-9045-42dd-b889-e1cde82364d2', 'targets': ['27.131.108.126', '195.66.241.220'], 'vps': {'193.31.31.236': {'id': 7257, 'address_v4': '193.31.31.236', 'asn_v4': 210715, 'country_code': 'GB', 'geometry': {'type': 'Point', 'coordinates': [-0.0205, 51.4905]}}, '85.118.58.213': {'id': 7146, 'address_v4': '85.118.58.213', 'asn_v4': 29075, 'country_code': 'FR', 'geometry': {'type': 'Point', 'coordinates': [2.3795, 48.7805]}}, '54.39.185.31': {'id': 6719, 'address_v4': '54.39.185.31', 'asn_v4': 16276, 'country_code': 'CA', 'geometry': {'type': 'Point', 'coordinates': [-73.8925, 45.3115]}}, '23.129.64.254': {'id': 6934, 'address_v4': '23.129.64.254', 'asn_v4': 396507, 'country_code': 'US', 'geometry': {'type': 'Point', 'coordinates': [-122.3415, 47.6095]}}}, 'ids': [59933520, 59933522], 'start_time': 1694612149.5654578, 'end_time': 1694612150.5110002}, 'prefix_measurements': {'measurement_uuid': 'a5a349de-8aac-42d5-b636-877fa35c7a30', 'targets': ['27.131.108.0', '195.66.241.0'], 'vps': {'193.31.31.236': {'id': 7257, 'address_v4': '193.31.31.236', 'asn_v4': 210715, 'country_code': 'GB', 'geometry': {'type': 'Point', 'coordinates': [-0.0205, 51.4905]}}, '85.118.58.213': {'id': 7146, 'address_v4': '85.118.58.213', 'asn_v4': 29075, 'country_code': 'FR', 'geometry': {'type': 'Point', 'coordinates': [2.3795, 48.7805]}}, '54.39.185.31': {'id': 6719, 'address_v4': '54.39.185.31', 'asn_v4': 16276, 'country_code': 'CA', 'geometry': {'type': 'Point', 'coordinates': [-73.8925, 45.3115]}}, '23.129.64.254': {'id': 6934, 'address_v4': '23.129.64.254', 'asn_v4': 396507, 'country_code': 'US', 'geometry': {'type': 'Point', 'coordinates': [-122.3415, 47.6095]}}}, 'ids': [59933511, 59933513, 59933515, 59933516, 59933518, 59933519], 'start_time': 1694612146.700707, 'end_time': 1694612149.53556}}\n",
                        "2023-09-13 15:41:04::INFO:root:measurement_utils:: nb measurements retrieved: 24\n",
                        "2023-09-13 15:41:04::WARNING:root:measurement_utils:: Some measurements does not contain results: 'rtt'\n",
                        "2023-09-13 15:41:04::WARNING:root:measurement_utils:: Some measurements does not contain results: 'rtt'\n",
                        "2023-09-13 15:41:04::WARNING:root:measurement_utils:: Some measurements does not contain results: 'rtt'\n",
                        "2023-09-13 15:41:04::WARNING:root:measurement_utils:: Some measurements does not contain results: 'rtt'\n",
                        "2023-09-13 15:41:04::INFO:root:measurement_utils:: Prefix measurements successfully inserted in table : user_vps_to_prefix\n"
                    ]
                }
            ],
            "source": [
                "measurement_config = get_latest_measurements(MEASUREMENT_CONFIG_PATH)\n",
                "logger.info(measurement_config)\n",
                "\n",
                "prefix_measurement_uuid = measurement_config[\"prefix_measurements\"][\"measurement_uuid\"]\n",
                "\n",
                "response = retrieve_results(prefix_measurement_uuid,PREFIX_MEASUREMENT_RESULTS, NB_TARGETS, NB_VPS)\n",
                "\n",
                "insert_prefix_results(response)"
            ]
        },
        {
            "attachments": {},
            "cell_type": "markdown",
            "metadata": {},
            "source": [
                "## Retrieve traget results\n",
                "WARNING : Time consumming section\n",
                "\n",
                "Note: it might take some time before measurement results are available through RIPE API. If no results are available, retry after a few minutes (or hours, it might really depends on the probe itself)."
            ]
        },
        {
            "cell_type": "code",
            "execution_count": 5,
            "metadata": {},
            "outputs": [
                {
                    "name": "stderr",
                    "output_type": "stream",
                    "text": [
                        "2023-09-13 15:41:07::INFO:root:measurement_utils:: nb measurements retrieved: 8\n",
                        "2023-09-13 15:41:07::INFO:root:measurement_utils:: Target measurements successfully inserted in table : user_vps_to_target\n"
                    ]
                }
            ],
            "source": [
                "measurement_config = get_latest_measurements(MEASUREMENT_CONFIG_PATH)\n",
                "\n",
                "target_measurement_uuid = measurement_config[\"target_measurements\"][\"measurement_uuid\"]\n",
                "\n",
                "response = retrieve_results(target_measurement_uuid, TARGET_MEASUREMENT_RESULTS, NB_TARGETS, NB_VPS)\n",
                "\n",
                "insert_target_results(response)"
            ]
        }
    ],
    "metadata": {
        "kernelspec": {
            "display_name": "geoloc-imc-2023-GZT64Hva-py3.10",
            "language": "python",
            "name": "python3"
        },
        "language_info": {
            "codemirror_mode": {
                "name": "ipython",
                "version": 3
            },
            "file_extension": ".py",
            "mimetype": "text/x-python",
            "name": "python",
            "nbconvert_exporter": "python",
            "pygments_lexer": "ipython3",
            "version": "3.10.9"
        },
        "orig_nbformat": 4
    },
    "nbformat": 4,
    "nbformat_minor": 2
}

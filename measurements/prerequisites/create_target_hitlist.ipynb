{
 "cells": [
  {
   "attachments": {},
   "cell_type": "markdown",
   "metadata": {},
   "source": [
    "## generate ip level target list for all /24 prefixes"
   ]
  },
  {
   "cell_type": "code",
   "execution_count": 7,
   "metadata": {},
   "outputs": [],
   "source": [
    "import pickle\n",
    "\n",
    "from ipaddress import IPv4Network\n",
    "from random import randint\n",
    "\n",
    "from default import ADDRESS_FILE, HITLIST_FILE, ANCHORS_FILE"
   ]
  },
  {
   "cell_type": "code",
   "execution_count": 3,
   "metadata": {},
   "outputs": [],
   "source": [
    "verfploeter_hitlist_file = ADDRESS_FILE\n",
    "\n",
    "targets_per_prefix = {}\n",
    "\n",
    "with open(verfploeter_hitlist_file, \"r\") as f:\n",
    "    for i, row in enumerate(f.readlines()[1:]):\n",
    "        row = row.split(\"\\t\")\n",
    "\n",
    "        # get prefix from hex value\n",
    "        prefix_hex = row[0]\n",
    "        prefix = [\"\".join(x) for x in zip(*[iter(prefix_hex)]*2)]\n",
    "        prefix = [int(x, 16) for x in prefix]\n",
    "        prefix = \".\".join(str(x) for x in prefix)\n",
    "\n",
    "        target_list = row[-1].strip(\"\\n\")\n",
    "        target_list = target_list.split(\",\")\n",
    "\n",
    "        # parse and save targets\n",
    "        if target_list[0] != '-':\n",
    "            for i, target in enumerate(target_list):\n",
    "                target_list[i] = prefix.split(\".\")[:-1]\n",
    "                target_list[i].append(str(int(target, 16)))\n",
    "                target_list[i] = \".\".join(target_list[i])\n",
    "\n",
    "            try:\n",
    "                targets_per_prefix[prefix].extend(target_list)\n",
    "            except KeyError:\n",
    "                targets_per_prefix[prefix] = [target]"
   ]
  },
  {
   "cell_type": "code",
   "execution_count": 10,
   "metadata": {},
   "outputs": [
    {
     "name": "stdout",
     "output_type": "stream",
     "text": [
      "target hitlist\n",
      "prefix: 1.0.0.0 target hitlist: ['02']\n",
      "prefix: 1.0.4.0 target hitlist: ['04']\n",
      "prefix: 1.0.5.0 target hitlist: ['05']\n",
      "prefix: 1.0.6.0 target hitlist: ['06']\n",
      "prefix: 1.0.7.0 target hitlist: ['07']\n",
      "prefix: 1.0.16.0 target hitlist: ['0b']\n",
      "prefix: 1.0.64.0 target hitlist: ['5f']\n",
      "prefix: 1.0.65.0 target hitlist: ['f3']\n",
      "prefix: 1.0.66.0 target hitlist: ['cd']\n",
      "prefix: 1.0.67.0 target hitlist: ['2b']\n",
      "prefix: 1.0.68.0 target hitlist: ['83']\n"
     ]
    }
   ],
   "source": [
    "print(\"target hitlist\")\n",
    "for i, prefix in enumerate(targets_per_prefix):\n",
    "    if i > 10:\n",
    "        break\n",
    "    print(\"prefix:\", prefix, \"target hitlist:\", targets_per_prefix[prefix])"
   ]
  },
  {
   "cell_type": "code",
   "execution_count": 6,
   "metadata": {},
   "outputs": [],
   "source": [
    "out_file = HITLIST_FILE\n",
    "with open(out_file, \"wb\") as f:\n",
    "    pickle.dump(targets_per_prefix, f)"
   ]
  },
  {
   "cell_type": "code",
   "execution_count": 8,
   "metadata": {},
   "outputs": [],
   "source": [
    "anchor_file = ANCHORS_FILE\n",
    "with open(anchor_file, \"rb\") as f:\n",
    "    anchors = pickle.load(f)"
   ]
  },
  {
   "cell_type": "code",
   "execution_count": 9,
   "metadata": {},
   "outputs": [
    {
     "name": "stdout",
     "output_type": "stream",
     "text": [
      "ip list for anchor 213.225.160.0: ['9f', '213.225.0.81', '213.225.0.159']\n",
      "ip list for anchor 145.220.0.0: ['1d', '145.220.0.199', '145.220.0.245']\n",
      "ip list for anchor 5.28.0.0: ['0e', '5.28.0.4', '5.28.0.189']\n",
      "ip list for anchor 193.171.255.0: ['09', '193.171.0.196', '193.171.0.104']\n",
      "ip list for anchor 192.65.184.0: ['45', '192.65.0.191', '192.65.0.248']\n",
      "ip list for anchor 185.42.136.0: ['03', '185.42.0.90', '185.42.0.58']\n",
      "ip list for anchor 197.80.104.0: ['23', '197.80.0.208', '197.80.0.114']\n",
      "ip list for anchor 200.7.84.0: ['04', '200.7.0.211', '200.7.0.36']\n",
      "ip list for anchor 76.26.115.0: ['c2', '76.26.0.184', '76.26.0.40']\n",
      "ip list for anchor 194.150.191.0: ['05', '194.150.0.32', '194.150.0.46']\n",
      "ip list for anchor 199.10.66.0: ['199.10.0.91', '199.10.0.186', '199.10.0.245']\n"
     ]
    }
   ],
   "source": [
    "for i, anchor_ip in enumerate(anchors):\n",
    "    nb_ip_addresses = 3\n",
    "    if i > 10:\n",
    "        break\n",
    "    prefix_anchor = anchor_ip.split(\".\")[:-1]\n",
    "    prefix_anchor.append(\"0\")\n",
    "    prefix_anchor = \".\".join(prefix_anchor)\n",
    "    ip_list = []\n",
    "    try:\n",
    "        ip_list = targets_per_prefix[prefix_anchor]\n",
    "    except KeyError:\n",
    "        pass\n",
    "\n",
    "    if len(ip_list) < nb_ip_addresses:\n",
    "\n",
    "        ip = anchor_ip.split(\".\")[:2]\n",
    "        ip.extend(['0', '0'])\n",
    "        ip = \".\".join(ip)\n",
    "        prefix_target = IPv4Network(ip + '/' + str(24))\n",
    "\n",
    "        ip_list.extend([str(prefix_target[randint(1, 254)])\n",
    "                       for _ in range(0, nb_ip_addresses - len(ip_list))])\n",
    "    print(f\"ip list for anchor {prefix_anchor}: {ip_list}\")"
   ]
  }
 ],
 "metadata": {
  "kernelspec": {
   "display_name": "geoloc-imc-2023-GZT64Hva-py3.10",
   "language": "python",
   "name": "python3"
  },
  "language_info": {
   "codemirror_mode": {
    "name": "ipython",
    "version": 3
   },
   "file_extension": ".py",
   "mimetype": "text/x-python",
   "name": "python",
   "nbconvert_exporter": "python",
   "pygments_lexer": "ipython3",
   "version": "3.10.0"
  },
  "orig_nbformat": 4
 },
 "nbformat": 4,
 "nbformat_minor": 2
}

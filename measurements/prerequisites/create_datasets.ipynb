{
 "cells": [
  {
   "cell_type": "code",
   "execution_count": 14,
   "metadata": {},
   "outputs": [],
   "source": [
    "import pickle\n",
    "\n",
    "from utils.helpers import distance\n",
    "from default import PROBES_FILE, COUNTRIES_PICKLE_FILE, COUNTRIES_TXT_FILE\n",
    "\n",
    "from utils.measurement_utils import (\n",
    "    get_atlas_anchors,\n",
    "    get_atlas_probes,\n",
    "    get_atlas_probes_and_anchors,\n",
    "    load_atlas_anchors,\n",
    "    load_atlas_probes,\n",
    ")"
   ]
  },
  {
   "attachments": {},
   "cell_type": "markdown",
   "metadata": {},
   "source": [
    "## retrieve atlas probes"
   ]
  },
  {
   "cell_type": "code",
   "execution_count": null,
   "metadata": {},
   "outputs": [],
   "source": [
    "# create and fill the probes_and_anchors.pickle dataset.\n",
    "probes = get_atlas_probes_and_anchors()\n",
    "print(\n",
    "    f\"selected probes: {len(probes)}\")"
   ]
  },
  {
   "cell_type": "code",
   "execution_count": 3,
   "metadata": {},
   "outputs": [
    {
     "name": "stdout",
     "output_type": "stream",
     "text": [
      "1\n",
      "1\n",
      "selected probes: 10156, rejected: 34772, geoloc rejected: 1 [29.207408259519152%]\n"
     ]
    }
   ],
   "source": [
    "# create and fill the probes.pickle dataset.\n",
    "probes, probes_rejected, probes_geoloc_disputed = get_atlas_probes()\n",
    "\n",
    "# display number of selected and rejected probes.\n",
    "print(\n",
    "    f\"selected probes: {len(probes)}, rejected: {probes_rejected}, geoloc rejected: {probes_geoloc_disputed} [{round(len(probes) * 100 / (probes_rejected+probes), 4)}%]\")"
   ]
  },
  {
   "cell_type": "code",
   "execution_count": 4,
   "metadata": {},
   "outputs": [
    {
     "name": "stdout",
     "output_type": "stream",
     "text": [
      "selected anchors: 767, rejected: 466, geoloc rejected: 1 [164.59227467811158%]\n"
     ]
    }
   ],
   "source": [
    "# create and fill the anchors.pickle dataset.\n",
    "anchors, anchors_rejected, anchors_geoloc_disputed = get_atlas_anchors()\n",
    "\n",
    "# display number of selected and rejected anchors.\n",
    "print(\n",
    "    f\"selected anchors: {len(anchors)}, rejected: {anchors_rejected}, geoloc rejected: {anchors_geoloc_disputed} [{round(len(anchors) * 100 / (anchors_rejected+anchors), 4)}%]\")"
   ]
  },
  {
   "attachments": {},
   "cell_type": "markdown",
   "metadata": {},
   "source": [
    "## test loading"
   ]
  },
  {
   "cell_type": "code",
   "execution_count": 5,
   "metadata": {},
   "outputs": [
    {
     "name": "stdout",
     "output_type": "stream",
     "text": [
      "selected probes: 10156\n",
      "selected anchors: 767\n"
     ]
    }
   ],
   "source": [
    "probes = load_atlas_probes()\n",
    "anchors = load_atlas_anchors()\n",
    "print(f\"selected probes: {len(probes)}\")\n",
    "print(f\"selected anchors: {len(anchors)}\")"
   ]
  },
  {
   "cell_type": "markdown",
   "metadata": {},
   "source": [
    "## get country goeloc dataset"
   ]
  },
  {
   "cell_type": "code",
   "execution_count": 9,
   "metadata": {},
   "outputs": [
    {
     "name": "stdout",
     "output_type": "stream",
     "text": [
      "AD : {'latitude': '42.546245', 'longitude': '1.601554', 'name': 'Andorra'}\n",
      "AE : {'latitude': '23.424076', 'longitude': '53.847818', 'name': 'United'}\n",
      "AF : {'latitude': '33.93911', 'longitude': '67.709953', 'name': 'Afghanistan'}\n",
      "AG : {'latitude': '17.060816', 'longitude': '-61.796428', 'name': 'Antigua'}\n",
      "AI : {'latitude': '18.220554', 'longitude': '-63.068615', 'name': 'Anguilla'}\n",
      "AL : {'latitude': '41.153332', 'longitude': '20.168331', 'name': 'Albania'}\n",
      "AM : {'latitude': '40.069099', 'longitude': '45.038189', 'name': 'Armenia'}\n",
      "AN : {'latitude': '12.226079', 'longitude': '-69.060087', 'name': 'Netherlands'}\n",
      "AO : {'latitude': '-11.202692', 'longitude': '17.873887', 'name': 'Angola'}\n",
      "AQ : {'latitude': '-75.250973', 'longitude': '-0.071389', 'name': 'Antarctica'}\n",
      "AR : {'latitude': '-38.416097', 'longitude': '-63.616672', 'name': 'Argentina'}\n"
     ]
    }
   ],
   "source": [
    "countries_file = COUNTRIES_TXT_FILE\n",
    "out_file = COUNTRIES_PICKLE_FILE\n",
    "\n",
    "countries = {}\n",
    "with open(countries_file, \"r\") as f:\n",
    "    for i, row in enumerate(f.readlines()):\n",
    "\n",
    "        row = [value.strip() for value in row.split(\" \")]\n",
    "        countries[row[0]] = {\n",
    "            \"latitude\": row[1],\n",
    "            \"longitude\": row[2],\n",
    "            \"name\": row[3],\n",
    "        }\n",
    "\n",
    "for i, (country_code, geoloc) in enumerate(countries.items()):\n",
    "    if i > 10:\n",
    "        break\n",
    "    print(f\"{country_code} : {geoloc}\")\n",
    "\n",
    "# save results\n",
    "with open(out_file, \"wb\") as f:\n",
    "    pickle.dump(countries, f)"
   ]
  },
  {
   "cell_type": "markdown",
   "metadata": {},
   "source": [
    "## eliminate default geoloc probes"
   ]
  },
  {
   "cell_type": "code",
   "execution_count": 10,
   "metadata": {},
   "outputs": [
    {
     "name": "stdout",
     "output_type": "stream",
     "text": [
      "error country code AS is unknown\n",
      "error country code AS is unknown\n",
      "error country code AS is unknown\n",
      "error country code AS is unknown\n",
      "Number of Atlas probes kept: 10082, rejected: 74\n"
     ]
    }
   ],
   "source": [
    "probes_file = PROBES_FILE\n",
    "countries_file = COUNTRIES_PICKLE_FILE\n",
    "\n",
    "countries = {}\n",
    "with open(countries_file, \"rb\") as f:\n",
    "    countries = pickle.load(f)\n",
    "\n",
    "filtered_probes = {}\n",
    "for probe, probe_description in probes.items():\n",
    "\n",
    "    # check if probe coordinates are close to default location\n",
    "    try:\n",
    "        country_geo = countries[probe_description[\"country_code\"]]\n",
    "    except KeyError as e:\n",
    "        print(f\"error country code {country_code} is unknown\")\n",
    "        continue\n",
    "\n",
    "    # if the country code is unknown, remove probe from dataset\n",
    "    country_lat = float(country_geo[\"latitude\"])\n",
    "    country_lon = float(country_geo[\"longitude\"])\n",
    "\n",
    "    probe_lat = float(probe_description[\"latitude\"])\n",
    "    probe_lon = float(probe_description[\"longitude\"])\n",
    "\n",
    "    dist = distance(country_lat, probe_lat, country_lon, probe_lon)\n",
    "\n",
    "    if dist > 5:\n",
    "        filtered_probes[probe] = probe_description\n",
    "\n",
    "print(\n",
    "    f\"Number of Atlas probes kept: {len(filtered_probes)}, rejected: {len(probes) - len(filtered_probes)}\")\n",
    "\n",
    "# save results\n",
    "with open(probes_file, \"wb\") as f:\n",
    "    pickle.dump(filtered_probes, f)"
   ]
  }
 ],
 "metadata": {
  "kernelspec": {
   "display_name": ".venv",
   "language": "python",
   "name": "python3"
  },
  "language_info": {
   "codemirror_mode": {
    "name": "ipython",
    "version": 3
   },
   "file_extension": ".py",
   "mimetype": "text/x-python",
   "name": "python",
   "nbconvert_exporter": "python",
   "pygments_lexer": "ipython3",
   "version": "3.10.0"
  },
  "orig_nbformat": 4
 },
 "nbformat": 4,
 "nbformat_minor": 2
}

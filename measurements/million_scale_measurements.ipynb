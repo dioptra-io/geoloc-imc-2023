{
    "cells": [
        {
            "cell_type": "markdown",
            "metadata": {},
            "source": [
                "# Probing part 1\n",
                "\n",
                "Vantage points will probe either the targets themselves (step 2) or other addresses in the same /24 prefix (step 2).\n",
                "\n",
                "Vantage points are only the anchors.  \n",
                "As always, targets are the anchors.  \n",
                "\n",
                "This notebook is an implementation of the million scale method. Check the paper for more information.  \n",
                "To do after create_datasets.ipynb"
            ]
        },
        {
            "cell_type": "code",
            "execution_count": 1,
            "metadata": {},
            "outputs": [],
            "source": [
                "import uuid\n",
                "\n",
                "from logger import logger\n",
                "from scripts.utils.file_utils import load_json\n",
                "from scripts.utils.measurement_utils import (\n",
                "    load_targets, \n",
                "    load_vps,\n",
                "    get_measurement_config,\n",
                "    save_measurement_config,\n",
                "    get_target_prefixes,\n",
                "    ping_prefixes,\n",
                "    ping_targets,\n",
                "    retrieve_results,\n",
                "    get_latest_measurements,\n",
                "    insert_prefix_results,\n",
                "    insert_target_results,\n",
                ")\n",
                "from default import (\n",
                "    USER_ANCHORS_FILE, \n",
                "    USER_HITLIST_FILE, \n",
                "    PREFIX_MEASUREMENT_RESULTS,\n",
                "    TARGET_MEASUREMENT_RESULTS,\n",
                "    MEASUREMENT_CONFIG_PATH,\n",
                ")\n",
                "\n",
                "# will define the number of vps and targets to use\n",
                "NB_TARGETS = 2\n",
                "NB_VPS = 4"
            ]
        },
        {
            "cell_type": "markdown",
            "metadata": {},
            "source": [
                "## Load targets and vps dataset"
            ]
        },
        {
            "cell_type": "code",
            "execution_count": 2,
            "metadata": {},
            "outputs": [
                {
                    "name": "stderr",
                    "output_type": "stream",
                    "text": [
                        "2023-09-20 22:49:46::INFO:root:2498612375:: nb targets: 2\n",
                        "2023-09-20 22:49:46::INFO:root:2498612375:: nb_vps : 4\n"
                    ]
                }
            ],
            "source": [
                "\n",
                "targets = load_targets(USER_ANCHORS_FILE, nb_target=NB_TARGETS)\n",
                "vps = load_vps(USER_ANCHORS_FILE, nb_vps=NB_VPS)\n",
                "\n",
                "# all target prefixes\n",
                "target_prefixes = get_target_prefixes(targets)\n",
                "\n",
                "# responsive IP addresses in all /24 prefixes\n",
                "targets_per_prefix = load_json(USER_HITLIST_FILE)\n",
                "\n",
                "logger.info(f\"nb targets: {len(targets)}\")\n",
                "logger.info(f\"nb_vps : {len(vps)}\")"
            ]
        },
        {
            "cell_type": "markdown",
            "metadata": {},
            "source": [
                "## Generate measurement config\n",
                "\n",
                "This configuration is used to retrieve all measurements results from RIPE Atlas using their API."
            ]
        },
        {
            "cell_type": "code",
            "execution_count": 3,
            "metadata": {},
            "outputs": [],
            "source": [
                "# measurement configuration for retrieval\n",
                "experiment_uuid = uuid.uuid4()\n",
                "target_measurement_uuid = uuid.uuid4()\n",
                "prefix_measurement_uuid = uuid.uuid4()\n",
                "\n",
                "logger.info(f\"Starting experiment with uuid : {experiment_uuid}\")\n",
                "\n",
                "measurement_config = get_measurement_config(\n",
                "    experiment_uuid=experiment_uuid,\n",
                "    target_measurement_uuid=target_measurement_uuid,\n",
                "    prefix_measurement_uuid=prefix_measurement_uuid,\n",
                "    targets=targets, \n",
                "    target_prefixes=target_prefixes,\n",
                "    vps=vps,\n",
                ")\n",
                "\n",
                "save_measurement_config(measurement_config, MEASUREMENT_CONFIG_PATH)"
            ]
        },
        {
            "attachments": {},
            "cell_type": "markdown",
            "metadata": {},
            "source": [
                "# Step 1: probing each target prefixes"
            ]
        },
        {
            "attachments": {},
            "cell_type": "markdown",
            "metadata": {},
            "source": [
                "## Probe target prefixes\n",
                "WARNING : Time consumming section"
            ]
        },
        {
            "cell_type": "code",
            "execution_count": 4,
            "metadata": {},
            "outputs": [
                {
                    "name": "stderr",
                    "output_type": "stream",
                    "text": [
                        "2023-09-20 22:49:46::INFO:root:measurement_utils:: Starting measurements 6fa82de2-507c-43eb-8b6f-80a5f6391f90 with parameters: dry_run=False; nb_targets=2; nb_vps=4.\n",
                        "2023-09-20 22:49:47::INFO:root:ping_and_traceroute_classes:: measurement tag: 6fa82de2-507c-43eb-8b6f-80a5f6391f90 : started measurement id : 60195879\n",
                        "2023-09-20 22:49:47::INFO:root:ping_and_traceroute_classes:: measurement tag: 6fa82de2-507c-43eb-8b6f-80a5f6391f90 : started measurement id : 60195880\n",
                        "2023-09-20 22:49:48::INFO:root:ping_and_traceroute_classes:: measurement tag: 6fa82de2-507c-43eb-8b6f-80a5f6391f90 : started measurement id : 60195881\n",
                        "2023-09-20 22:49:48::INFO:root:ping_and_traceroute_classes:: measurement tag: 6fa82de2-507c-43eb-8b6f-80a5f6391f90 : started measurement id : 60195882\n",
                        "2023-09-20 22:49:49::INFO:root:ping_and_traceroute_classes:: measurement tag: 6fa82de2-507c-43eb-8b6f-80a5f6391f90 : started measurement id : 60195883\n",
                        "2023-09-20 22:49:50::INFO:root:ping_and_traceroute_classes:: measurement tag: 6fa82de2-507c-43eb-8b6f-80a5f6391f90 : started measurement id : 60195884\n",
                        "2023-09-20 22:49:50::INFO:root:ping_and_traceroute_classes:: measurement : 6fa82de2-507c-43eb-8b6f-80a5f6391f90 done\n"
                    ]
                }
            ],
            "source": [
                "ping_prefixes(\n",
                "    measurement_uuid=prefix_measurement_uuid,\n",
                "    measurement_config=measurement_config,\n",
                "    target_prefixes=target_prefixes,\n",
                "    targets_per_prefix=targets_per_prefix,\n",
                "    vps=vps,\n",
                ")\n",
                "\n",
                "save_measurement_config(measurement_config, MEASUREMENT_CONFIG_PATH)"
            ]
        },
        {
            "attachments": {},
            "cell_type": "markdown",
            "metadata": {},
            "source": [
                "# Step 2: probing each target"
            ]
        },
        {
            "attachments": {},
            "cell_type": "markdown",
            "metadata": {},
            "source": [
                "## Probe targets\n",
                "WARNING : Time consumming section"
            ]
        },
        {
            "cell_type": "code",
            "execution_count": 5,
            "metadata": {},
            "outputs": [
                {
                    "name": "stderr",
                    "output_type": "stream",
                    "text": [
                        "2023-09-20 22:49:50::INFO:root:measurement_utils:: Starting measurements 47b8f0db-a9f2-4886-8b5c-0ad5ba667c9f with parameters: dry_run=False; nb_targets=2; nb_vps=4.\n",
                        "2023-09-20 22:49:50::INFO:root:ping_and_traceroute_classes:: measurement tag: 47b8f0db-a9f2-4886-8b5c-0ad5ba667c9f : started measurement id : 60195885\n",
                        "2023-09-20 22:49:51::INFO:root:ping_and_traceroute_classes:: measurement tag: 47b8f0db-a9f2-4886-8b5c-0ad5ba667c9f : started measurement id : 60195886\n",
                        "2023-09-20 22:49:51::INFO:root:ping_and_traceroute_classes:: measurement : 47b8f0db-a9f2-4886-8b5c-0ad5ba667c9f done\n"
                    ]
                }
            ],
            "source": [
                "# measurement configuration for retrieval\n",
                "ping_targets(\n",
                "    measurement_uuid=target_measurement_uuid,\n",
                "    measurement_config=measurement_config,\n",
                "    targets=targets,\n",
                "    vps=vps,\n",
                "    use_cache=False\n",
                ")\n",
                "save_measurement_config(measurement_config, MEASUREMENT_CONFIG_PATH)\n"
            ]
        },
        {
            "attachments": {},
            "cell_type": "markdown",
            "metadata": {},
            "source": [
                "## Retrieve prefix results\n",
                "WARNING : Time consuming section\n",
                "\n",
                "Note: it might take some time before measurement results are available through RIPE API. If no results are available, retry after a few minutes (or hours, it might really depends on the probe itself)."
            ]
        },
        {
            "cell_type": "code",
            "execution_count": 6,
            "metadata": {},
            "outputs": [
                {
                    "name": "stderr",
                    "output_type": "stream",
                    "text": [
                        "2023-09-20 22:49:51::INFO:root:2416656981:: {'experiment_uuid': 'e05b7508-bb3f-406e-a839-e2178687425a', 'status': 'finished', 'start_time': '2023-09-20 22:49:46.595547', 'end_time': '2023-09-20 22:49:51.081318', 'is_dry_run': False, 'nb_targets': 2, 'nb_vps': 4, 'description': 'measurements from a set of vps towards all targets/target prefixes', 'af': 4, 'target_measurements': {'measurement_uuid': '47b8f0db-a9f2-4886-8b5c-0ad5ba667c9f', 'targets': ['185.159.159.9', '200.132.1.32'], 'vps': {'45.129.95.8': {'id': 7132, 'address_v4': '45.129.95.8', 'asn_v4': 207960, 'country_code': 'GB', 'geometry': {'type': 'Point', 'coordinates': [-3.1615, 51.4985]}}, '193.201.40.210': {'id': 6235, 'address_v4': '193.201.40.210', 'asn_v4': 24796, 'country_code': 'IT', 'geometry': {'type': 'Point', 'coordinates': [12.5085, 41.8995]}}, '93.90.135.201': {'id': 7096, 'address_v4': '93.90.135.201', 'asn_v4': 47295, 'country_code': 'DE', 'geometry': {'type': 'Point', 'coordinates': [14.3515, 51.1905]}}, '103.126.52.180': {'id': 6764, 'address_v4': '103.126.52.180', 'asn_v4': 138466, 'country_code': 'AU', 'geometry': {'type': 'Point', 'coordinates': [151.1905, -33.9205]}}}, 'ids': [60195885, 60195886], 'start_time': 1695242990.064615, 'end_time': 1695242991.081204}, 'prefix_measurements': {'measurement_uuid': '6fa82de2-507c-43eb-8b6f-80a5f6391f90', 'targets': ['185.159.159.0', '200.132.1.0'], 'vps': {'45.129.95.8': {'id': 7132, 'address_v4': '45.129.95.8', 'asn_v4': 207960, 'country_code': 'GB', 'geometry': {'type': 'Point', 'coordinates': [-3.1615, 51.4985]}}, '193.201.40.210': {'id': 6235, 'address_v4': '193.201.40.210', 'asn_v4': 24796, 'country_code': 'IT', 'geometry': {'type': 'Point', 'coordinates': [12.5085, 41.8995]}}, '93.90.135.201': {'id': 7096, 'address_v4': '93.90.135.201', 'asn_v4': 47295, 'country_code': 'DE', 'geometry': {'type': 'Point', 'coordinates': [14.3515, 51.1905]}}, '103.126.52.180': {'id': 6764, 'address_v4': '103.126.52.180', 'asn_v4': 138466, 'country_code': 'AU', 'geometry': {'type': 'Point', 'coordinates': [151.1905, -33.9205]}}}, 'ids': [60195879, 60195880, 60195881, 60195882, 60195883, 60195884], 'start_time': 1695242986.5993469, 'end_time': 1695242990.055087}}\n"
                    ]
                },
                {
                    "name": "stdout",
                    "output_type": "stream",
                    "text": [
                        "60195885\n",
                        "60195886\n"
                    ]
                },
                {
                    "data": {
                        "text/plain": [
                            "'https://atlas.ripe.net/api/v2/measurements/60195539/'"
                        ]
                    },
                    "execution_count": 6,
                    "metadata": {},
                    "output_type": "execute_result"
                }
            ],
            "source": [
                "measurement_config = get_latest_measurements(MEASUREMENT_CONFIG_PATH)\n",
                "logger.info(measurement_config)\n",
                "\n",
                "for measurement_id in measurement_config[\"target_measurements\"][\"ids\"]:\n",
                "    print(measurement_id)\n",
                "\n",
                "\"https://atlas.ripe.net/api/v2/measurements/60195539/\"\n"
            ]
        },
        {
            "cell_type": "code",
            "execution_count": 1,
            "metadata": {},
            "outputs": [],
            "source": [
                "import uuid\n",
                "\n",
                "from logger import logger\n",
                "from scripts.utils.file_utils import load_json\n",
                "from scripts.utils.measurement_utils import (\n",
                "    load_targets, \n",
                "    load_vps,\n",
                "    get_measurement_config,\n",
                "    save_measurement_config,\n",
                "    get_target_prefixes,\n",
                "    ping_prefixes,\n",
                "    ping_targets,\n",
                "    retrieve_results,\n",
                "    get_latest_measurements,\n",
                "    insert_prefix_results,\n",
                "    insert_target_results,\n",
                ")\n",
                "from default import (\n",
                "    USER_ANCHORS_FILE, \n",
                "    USER_HITLIST_FILE, \n",
                "    PREFIX_MEASUREMENT_RESULTS,\n",
                "    TARGET_MEASUREMENT_RESULTS,\n",
                "    MEASUREMENT_CONFIG_PATH,\n",
                ")\n",
                "\n",
                "# will define the number of vps and targets to use\n",
                "NB_TARGETS = 2\n",
                "NB_VPS = 4"
            ]
        },
        {
            "cell_type": "code",
            "execution_count": 5,
            "metadata": {},
            "outputs": [
                {
                    "name": "stderr",
                    "output_type": "stream",
                    "text": [
                        "2023-09-21 09:40:52::INFO:root:1913282727:: {'experiment_uuid': 'e05b7508-bb3f-406e-a839-e2178687425a', 'status': 'finished', 'start_time': '2023-09-20 22:49:46.595547', 'end_time': '2023-09-20 22:49:51.081318', 'is_dry_run': False, 'nb_targets': 2, 'nb_vps': 4, 'description': 'measurements from a set of vps towards all targets/target prefixes', 'af': 4, 'target_measurements': {'measurement_uuid': '47b8f0db-a9f2-4886-8b5c-0ad5ba667c9f', 'targets': ['185.159.159.9', '200.132.1.32'], 'vps': {'45.129.95.8': {'id': 7132, 'address_v4': '45.129.95.8', 'asn_v4': 207960, 'country_code': 'GB', 'geometry': {'type': 'Point', 'coordinates': [-3.1615, 51.4985]}}, '193.201.40.210': {'id': 6235, 'address_v4': '193.201.40.210', 'asn_v4': 24796, 'country_code': 'IT', 'geometry': {'type': 'Point', 'coordinates': [12.5085, 41.8995]}}, '93.90.135.201': {'id': 7096, 'address_v4': '93.90.135.201', 'asn_v4': 47295, 'country_code': 'DE', 'geometry': {'type': 'Point', 'coordinates': [14.3515, 51.1905]}}, '103.126.52.180': {'id': 6764, 'address_v4': '103.126.52.180', 'asn_v4': 138466, 'country_code': 'AU', 'geometry': {'type': 'Point', 'coordinates': [151.1905, -33.9205]}}}, 'ids': [60195885, 60195886], 'start_time': 1695242990.064615, 'end_time': 1695242991.081204}, 'prefix_measurements': {'measurement_uuid': '6fa82de2-507c-43eb-8b6f-80a5f6391f90', 'targets': ['185.159.159.0', '200.132.1.0'], 'vps': {'45.129.95.8': {'id': 7132, 'address_v4': '45.129.95.8', 'asn_v4': 207960, 'country_code': 'GB', 'geometry': {'type': 'Point', 'coordinates': [-3.1615, 51.4985]}}, '193.201.40.210': {'id': 6235, 'address_v4': '193.201.40.210', 'asn_v4': 24796, 'country_code': 'IT', 'geometry': {'type': 'Point', 'coordinates': [12.5085, 41.8995]}}, '93.90.135.201': {'id': 7096, 'address_v4': '93.90.135.201', 'asn_v4': 47295, 'country_code': 'DE', 'geometry': {'type': 'Point', 'coordinates': [14.3515, 51.1905]}}, '103.126.52.180': {'id': 6764, 'address_v4': '103.126.52.180', 'asn_v4': 138466, 'country_code': 'AU', 'geometry': {'type': 'Point', 'coordinates': [151.1905, -33.9205]}}}, 'ids': [60195879, 60195880, 60195881, 60195882, 60195883, 60195884], 'start_time': 1695242986.5993469, 'end_time': 1695242990.055087}}\n",
                        "2023-09-21 09:40:52::INFO:root:1913282727:: retrieving results for measurement ids: 6fa82de2-507c-43eb-8b6f-80a5f6391f90\n",
                        "2023-09-21 09:40:53::INFO:root:measurement_utils:: nb measurements retrieved: 11 for measurement_uuid : 6fa82de2-507c-43eb-8b6f-80a5f6391f90\n",
                        "2023-09-21 09:40:58::WARNING:clickhouse_driver.connection:connection:: Failed to connect to localhost:9000\n",
                        "Traceback (most recent call last):\n",
                        "  File \"/Users/hugo/Library/Caches/pypoetry/virtualenvs/geoscale-vuwYL6YT-py3.10/lib/python3.10/site-packages/clickhouse_driver/connection.py\", line 395, in connect\n",
                        "    return self._init_connection(host, port)\n",
                        "  File \"/Users/hugo/Library/Caches/pypoetry/virtualenvs/geoscale-vuwYL6YT-py3.10/lib/python3.10/site-packages/clickhouse_driver/connection.py\", line 325, in _init_connection\n",
                        "    self.socket = self._create_socket(host, port)\n",
                        "  File \"/Users/hugo/Library/Caches/pypoetry/virtualenvs/geoscale-vuwYL6YT-py3.10/lib/python3.10/site-packages/clickhouse_driver/connection.py\", line 297, in _create_socket\n",
                        "    raise err\n",
                        "  File \"/Users/hugo/Library/Caches/pypoetry/virtualenvs/geoscale-vuwYL6YT-py3.10/lib/python3.10/site-packages/clickhouse_driver/connection.py\", line 288, in _create_socket\n",
                        "    sock.connect(sa)\n",
                        "ConnectionRefusedError: [Errno 61] Connection refused\n"
                    ]
                },
                {
                    "ename": "NetworkError",
                    "evalue": "Code: 210. Connection refused (localhost:9000)",
                    "output_type": "error",
                    "traceback": [
                        "\u001b[0;31m---------------------------------------------------------------------------\u001b[0m",
                        "\u001b[0;31mNetworkError\u001b[0m                              Traceback (most recent call last)",
                        "\u001b[1;32m/Users/hugo/Documents/geoloc/geoloc-imc-2023/measurements/million_scale_measurements.ipynb Cellule 16\u001b[0m line \u001b[0;36m1\n\u001b[1;32m      <a href='vscode-notebook-cell:/Users/hugo/Documents/geoloc/geoloc-imc-2023/measurements/million_scale_measurements.ipynb#X16sZmlsZQ%3D%3D?line=7'>8</a>\u001b[0m \u001b[39m# sometimes, not all probes give output, reduce timeout if you do not want to wait for too long\u001b[39;00m\n\u001b[1;32m      <a href='vscode-notebook-cell:/Users/hugo/Documents/geoloc/geoloc-imc-2023/measurements/million_scale_measurements.ipynb#X16sZmlsZQ%3D%3D?line=8'>9</a>\u001b[0m response \u001b[39m=\u001b[39m retrieve_results(prefix_measurement_uuid,PREFIX_MEASUREMENT_RESULTS, NB_TARGETS, NB_VPS, timeout\u001b[39m=\u001b[39m \u001b[39m5\u001b[39m)\n\u001b[0;32m---> <a href='vscode-notebook-cell:/Users/hugo/Documents/geoloc/geoloc-imc-2023/measurements/million_scale_measurements.ipynb#X16sZmlsZQ%3D%3D?line=10'>11</a>\u001b[0m insert_prefix_results(response)\n",
                        "File \u001b[0;32m~/Documents/geoloc/geoloc-imc-2023/scripts/utils/measurement_utils.py:305\u001b[0m, in \u001b[0;36minsert_prefix_results\u001b[0;34m(results)\u001b[0m\n\u001b[1;32m    301\u001b[0m clickhouse \u001b[39m=\u001b[39m Clickhouse()\n\u001b[1;32m    302\u001b[0m query \u001b[39m=\u001b[39m clickhouse\u001b[39m.\u001b[39minsert_from_values_query(\n\u001b[1;32m    303\u001b[0m     USER_VPS_TO_PREFIX_TABLE, values_description\n\u001b[1;32m    304\u001b[0m )\n\u001b[0;32m--> 305\u001b[0m clickhouse\u001b[39m.\u001b[39;49minsert_from_values(query, rows)\n\u001b[1;32m    307\u001b[0m logger\u001b[39m.\u001b[39minfo(\n\u001b[1;32m    308\u001b[0m     \u001b[39mf\u001b[39m\u001b[39m\"\u001b[39m\u001b[39mPrefix measurements successfully inserted in table : \u001b[39m\u001b[39m{\u001b[39;00mUSER_VPS_TO_PREFIX_TABLE\u001b[39m}\u001b[39;00m\u001b[39m\"\u001b[39m\n\u001b[1;32m    309\u001b[0m )\n",
                        "File \u001b[0;32m~/Documents/geoloc/geoloc-imc-2023/scripts/utils/clickhouse.py:104\u001b[0m, in \u001b[0;36mClickhouse.insert_from_values\u001b[0;34m(self, query, data)\u001b[0m\n\u001b[1;32m    103\u001b[0m \u001b[39mdef\u001b[39;00m \u001b[39minsert_from_values\u001b[39m(\u001b[39mself\u001b[39m, query: \u001b[39mstr\u001b[39m, data: \u001b[39mlist\u001b[39m) \u001b[39m-\u001b[39m\u001b[39m>\u001b[39m \u001b[39mNone\u001b[39;00m:\n\u001b[0;32m--> 104\u001b[0m     \u001b[39mreturn\u001b[39;00m \u001b[39mself\u001b[39;49m\u001b[39m.\u001b[39;49mclient\u001b[39m.\u001b[39;49mexecute(query, data, settings\u001b[39m=\u001b[39;49m\u001b[39mself\u001b[39;49m\u001b[39m.\u001b[39;49msettings)\n",
                        "File \u001b[0;32m~/Library/Caches/pypoetry/virtualenvs/geoscale-vuwYL6YT-py3.10/lib/python3.10/site-packages/clickhouse_driver/client.py:361\u001b[0m, in \u001b[0;36mClient.execute\u001b[0;34m(self, query, params, with_column_types, external_tables, query_id, settings, types_check, columnar)\u001b[0m\n\u001b[1;32m    318\u001b[0m \u001b[39m\u001b[39m\u001b[39m\"\"\"\u001b[39;00m\n\u001b[1;32m    319\u001b[0m \u001b[39mExecutes query.\u001b[39;00m\n\u001b[1;32m    320\u001b[0m \n\u001b[0;32m   (...)\u001b[0m\n\u001b[1;32m    356\u001b[0m \u001b[39m              and types.\u001b[39;00m\n\u001b[1;32m    357\u001b[0m \u001b[39m\"\"\"\u001b[39;00m\n\u001b[1;32m    359\u001b[0m start_time \u001b[39m=\u001b[39m time()\n\u001b[0;32m--> 361\u001b[0m \u001b[39mwith\u001b[39;00m \u001b[39mself\u001b[39m\u001b[39m.\u001b[39mdisconnect_on_error(query, settings):\n\u001b[1;32m    362\u001b[0m     \u001b[39m# INSERT queries can use list/tuple/generator of list/tuples/dicts.\u001b[39;00m\n\u001b[1;32m    363\u001b[0m     \u001b[39m# For SELECT parameters can be passed in only in dict right now.\u001b[39;00m\n\u001b[1;32m    364\u001b[0m     is_insert \u001b[39m=\u001b[39m \u001b[39misinstance\u001b[39m(params, (\u001b[39mlist\u001b[39m, \u001b[39mtuple\u001b[39m, types\u001b[39m.\u001b[39mGeneratorType))\n\u001b[1;32m    366\u001b[0m     \u001b[39mif\u001b[39;00m is_insert:\n",
                        "File \u001b[0;32m/Library/Frameworks/Python.framework/Versions/3.10/lib/python3.10/contextlib.py:135\u001b[0m, in \u001b[0;36m_GeneratorContextManager.__enter__\u001b[0;34m(self)\u001b[0m\n\u001b[1;32m    133\u001b[0m \u001b[39mdel\u001b[39;00m \u001b[39mself\u001b[39m\u001b[39m.\u001b[39margs, \u001b[39mself\u001b[39m\u001b[39m.\u001b[39mkwds, \u001b[39mself\u001b[39m\u001b[39m.\u001b[39mfunc\n\u001b[1;32m    134\u001b[0m \u001b[39mtry\u001b[39;00m:\n\u001b[0;32m--> 135\u001b[0m     \u001b[39mreturn\u001b[39;00m \u001b[39mnext\u001b[39;49m(\u001b[39mself\u001b[39;49m\u001b[39m.\u001b[39;49mgen)\n\u001b[1;32m    136\u001b[0m \u001b[39mexcept\u001b[39;00m \u001b[39mStopIteration\u001b[39;00m:\n\u001b[1;32m    137\u001b[0m     \u001b[39mraise\u001b[39;00m \u001b[39mRuntimeError\u001b[39;00m(\u001b[39m\"\u001b[39m\u001b[39mgenerator didn\u001b[39m\u001b[39m'\u001b[39m\u001b[39mt yield\u001b[39m\u001b[39m\"\u001b[39m) \u001b[39mfrom\u001b[39;00m \u001b[39mNone\u001b[39;00m\n",
                        "File \u001b[0;32m~/Library/Caches/pypoetry/virtualenvs/geoscale-vuwYL6YT-py3.10/lib/python3.10/site-packages/clickhouse_driver/client.py:305\u001b[0m, in \u001b[0;36mClient.disconnect_on_error\u001b[0;34m(self, query, settings)\u001b[0m\n\u001b[1;32m    302\u001b[0m \u001b[39m@contextmanager\u001b[39m\n\u001b[1;32m    303\u001b[0m \u001b[39mdef\u001b[39;00m \u001b[39mdisconnect_on_error\u001b[39m(\u001b[39mself\u001b[39m, query, settings):\n\u001b[1;32m    304\u001b[0m     \u001b[39mtry\u001b[39;00m:\n\u001b[0;32m--> 305\u001b[0m         \u001b[39mself\u001b[39;49m\u001b[39m.\u001b[39;49mestablish_connection(settings)\n\u001b[1;32m    307\u001b[0m         \u001b[39myield\u001b[39;00m\n\u001b[1;32m    309\u001b[0m         \u001b[39mself\u001b[39m\u001b[39m.\u001b[39mtrack_current_database(query)\n",
                        "File \u001b[0;32m~/Library/Caches/pypoetry/virtualenvs/geoscale-vuwYL6YT-py3.10/lib/python3.10/site-packages/clickhouse_driver/client.py:292\u001b[0m, in \u001b[0;36mClient.establish_connection\u001b[0;34m(self, settings)\u001b[0m\n\u001b[1;32m    290\u001b[0m     \u001b[39mself\u001b[39m\u001b[39m.\u001b[39mconnection \u001b[39m=\u001b[39m \u001b[39mself\u001b[39m\u001b[39m.\u001b[39mget_connection()\n\u001b[1;32m    291\u001b[0m     \u001b[39mself\u001b[39m\u001b[39m.\u001b[39mmake_query_settings(settings)\n\u001b[0;32m--> 292\u001b[0m     \u001b[39mself\u001b[39;49m\u001b[39m.\u001b[39;49mconnection\u001b[39m.\u001b[39;49mforce_connect()\n\u001b[1;32m    293\u001b[0m     \u001b[39mself\u001b[39m\u001b[39m.\u001b[39mlast_query \u001b[39m=\u001b[39m QueryInfo()\n\u001b[1;32m    295\u001b[0m \u001b[39mexcept\u001b[39;00m (errors\u001b[39m.\u001b[39mSocketTimeoutError, errors\u001b[39m.\u001b[39mNetworkError):\n",
                        "File \u001b[0;32m~/Library/Caches/pypoetry/virtualenvs/geoscale-vuwYL6YT-py3.10/lib/python3.10/site-packages/clickhouse_driver/connection.py:254\u001b[0m, in \u001b[0;36mConnection.force_connect\u001b[0;34m(self)\u001b[0m\n\u001b[1;32m    251\u001b[0m \u001b[39mself\u001b[39m\u001b[39m.\u001b[39mcheck_query_execution()\n\u001b[1;32m    253\u001b[0m \u001b[39mif\u001b[39;00m \u001b[39mnot\u001b[39;00m \u001b[39mself\u001b[39m\u001b[39m.\u001b[39mconnected:\n\u001b[0;32m--> 254\u001b[0m     \u001b[39mself\u001b[39;49m\u001b[39m.\u001b[39;49mconnect()\n\u001b[1;32m    256\u001b[0m \u001b[39melif\u001b[39;00m \u001b[39mnot\u001b[39;00m \u001b[39mself\u001b[39m\u001b[39m.\u001b[39mping():\n\u001b[1;32m    257\u001b[0m     logger\u001b[39m.\u001b[39mwarning(\u001b[39m'\u001b[39m\u001b[39mConnection was closed, reconnecting.\u001b[39m\u001b[39m'\u001b[39m)\n",
                        "File \u001b[0;32m~/Library/Caches/pypoetry/virtualenvs/geoscale-vuwYL6YT-py3.10/lib/python3.10/site-packages/clickhouse_driver/connection.py:416\u001b[0m, in \u001b[0;36mConnection.connect\u001b[0;34m(self)\u001b[0m\n\u001b[1;32m    413\u001b[0m     \u001b[39mself\u001b[39m\u001b[39m.\u001b[39mhosts\u001b[39m.\u001b[39mrotate(\u001b[39m-\u001b[39m\u001b[39m1\u001b[39m)\n\u001b[1;32m    415\u001b[0m \u001b[39mif\u001b[39;00m err \u001b[39mis\u001b[39;00m \u001b[39mnot\u001b[39;00m \u001b[39mNone\u001b[39;00m:\n\u001b[0;32m--> 416\u001b[0m     \u001b[39mraise\u001b[39;00m err\n",
                        "\u001b[0;31mNetworkError\u001b[0m: Code: 210. Connection refused (localhost:9000)"
                    ]
                }
            ],
            "source": [
                "measurement_config = get_latest_measurements(MEASUREMENT_CONFIG_PATH)\n",
                "logger.info(measurement_config)\n",
                "\n",
                "prefix_measurement_uuid = measurement_config[\"prefix_measurements\"]['measurement_uuid']\n",
                "\n",
                "logger.info(f\"retrieving results for measurement ids: {prefix_measurement_uuid}\")\n",
                "\n",
                "# sometimes, not all probes give output, reduce timeout if you do not want to wait for too long\n",
                "response = retrieve_results(prefix_measurement_uuid,PREFIX_MEASUREMENT_RESULTS, NB_TARGETS, NB_VPS, timeout= 5)\n",
                "\n",
                "insert_prefix_results(response)"
            ]
        },
        {
            "attachments": {},
            "cell_type": "markdown",
            "metadata": {},
            "source": [
                "## Retrieve traget results\n",
                "WARNING : Time consumming section\n",
                "\n",
                "Note: it might take some time before measurement results are available through RIPE API. If no results are available, retry after a few minutes (or hours, it might really depends on the probe itself)."
            ]
        },
        {
            "cell_type": "code",
            "execution_count": null,
            "metadata": {},
            "outputs": [
                {
                    "name": "stderr",
                    "output_type": "stream",
                    "text": [
                        "2023-09-13 15:41:07::INFO:root:measurement_utils:: nb measurements retrieved: 8\n",
                        "2023-09-13 15:41:07::INFO:root:measurement_utils:: Target measurements successfully inserted in table : user_vps_to_target\n"
                    ]
                }
            ],
            "source": [
                "measurement_config = get_latest_measurements(MEASUREMENT_CONFIG_PATH)\n",
                "\n",
                "target_measurement_uuid = measurement_config[\"target_measurements\"][\"measurement_uuid\"]\n",
                "\n",
                "response = retrieve_results(target_measurement_uuid, TARGET_MEASUREMENT_RESULTS, NB_TARGETS, NB_VPS)\n",
                "\n",
                "insert_target_results(response)"
            ]
        }
    ],
    "metadata": {
        "kernelspec": {
            "display_name": "geoloc-imc-2023-GZT64Hva-py3.10",
            "language": "python",
            "name": "python3"
        },
        "language_info": {
            "codemirror_mode": {
                "name": "ipython",
                "version": 3
            },
            "file_extension": ".py",
            "mimetype": "text/x-python",
            "name": "python",
            "nbconvert_exporter": "python",
            "pygments_lexer": "ipython3",
            "version": "3.10.9"
        },
        "orig_nbformat": 4
    },
    "nbformat": 4,
    "nbformat_minor": 2
}

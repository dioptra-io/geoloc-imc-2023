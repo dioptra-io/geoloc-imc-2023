{
    "cells": [
        {
            "cell_type": "code",
            "execution_count": 1,
            "metadata": {},
            "outputs": [],
            "source": [
                "import logging\n",
                "import uuid\n",
                "\n",
                "from random import sample\n",
                "\n",
                "from utils.file_utils import load_json, dump_json\n",
                "from utils.ping import PING\n",
                "from utils.atlas_api import get_measurements_from_tag\n",
                "from utils.common import get_prefix_from_ip\n",
                "from default import ANCHORS_FILE, PROBES_FILE, HITLIST_FILE, PREFIX_PROBE_VP, TARGET_PROBE_VP, MEASUREMENT_CONFIG_PATH, RIPE_CREDENTIALS\n",
                "\n",
                "\n",
                "logging.basicConfig(level=logging.INFO)\n",
                "\n",
                "\n",
                "NB_TARGETS = 2\n",
                "NB_VPS = 4\n",
                "\n",
                "#NBTARGETS = -1\n",
                "#NB_VPS = -1"
            ]
        },
        {
            "cell_type": "code",
            "execution_count": 2,
            "metadata": {},
            "outputs": [],
            "source": [
                "# load datasets\n",
                "\n",
                "targets_per_prefix = load_json(HITLIST_FILE)\n",
                "\n",
                "anchors = load_json(ANCHORS_FILE)\n",
                "\n",
                "probes = load_json(PROBES_FILE)"
            ]
        },
        {
            "attachments": {},
            "cell_type": "markdown",
            "metadata": {},
            "source": [
                "## select targets and vps dataset"
            ]
        },
        {
            "cell_type": "code",
            "execution_count": 4,
            "metadata": {},
            "outputs": [
                {
                    "name": "stderr",
                    "output_type": "stream",
                    "text": [
                        "INFO:root:nb targets: 2\n",
                        "INFO:root:nb_vps : 4\n"
                    ]
                }
            ],
            "source": [
                "if NB_TARGETS > 0:\n",
                "    targets = sample(anchors, k=NB_TARGETS)\n",
                "else:\n",
                "    targets = list(anchors)\n",
                "\n",
                "for i in range(len(targets)):\n",
                "    targets[i] = targets[i][\"address_v4\"]\n",
                "\n",
                "\n",
                "vps = {}\n",
                "\n",
                "if NB_VPS > 0:\n",
                "    shuffle = sample(probes, k=NB_VPS)\n",
                "    for probe in shuffle:\n",
                "        vps[probe[\"address_v4\"]] = probe\n",
                "else:\n",
                "    shuffle = sample(probes)\n",
                "    for probe in shuffle:\n",
                "        vps[probe[\"address_v4\"]] = probe\n",
                "\n",
                "\n",
                "print(f\"nb targets: {len(targets)}\")\n",
                "print(f\"nb_vps : {len(vps)}\")"
            ]
        },
        {
            "attachments": {},
            "cell_type": "markdown",
            "metadata": {},
            "source": [
                "# Tier 1: probing each target prefixes"
            ]
        },
        {
            "attachments": {},
            "cell_type": "markdown",
            "metadata": {},
            "source": [
                "## measure target prefixes"
            ]
        },
        {
            "cell_type": "code",
            "execution_count": 5,
            "metadata": {},
            "outputs": [
                {
                    "name": "stderr",
                    "output_type": "stream",
                    "text": [
                        "INFO:root:No cached results available\n",
                        "INFO:root:Starting measurements 0f58f0db-0e2e-4bc0-a05a-16414846771f with parameters: dry_run=True; nb_targets=2; nb_vps=4.\n",
                        "INFO:root:measurement : 0f58f0db-0e2e-4bc0-a05a-16414846771f done\n"
                    ]
                }
            ],
            "source": [
                "dry_run = False\n",
                "measurement_uuid = uuid.uuid4()\n",
                "\n",
                "# measurement configuration for retrieval\n",
                "measurement_config = {\n",
                "    \"UUID\": str(measurement_uuid),\n",
                "    \"is_dry_run\": dry_run,\n",
                "    \"description\": \"measurement towards all anchors with all probes as vps\",\n",
                "    \"type\": \"prefix\",\n",
                "    \"af\": 4,\n",
                "    \"targets\": targets,\n",
                "    \"vps\": vps,\n",
                "}\n",
                "\n",
                "# save measurement configuration before starting measurement\n",
                "config_file = MEASUREMENT_CONFIG_PATH / f\"{measurement_config['UUID']}.json\"\n",
                "dump_json(measurement_config, config_file)\n",
                "\n",
                "pinger = PING(RIPE_CREDENTIALS)\n",
                "\n",
                "# get target prefixes\n",
                "target_prefixes = []\n",
                "for target_addr in targets:\n",
                "    target_prefix = get_prefix_from_ip(target_addr)\n",
                "    target_prefixes.append(target_prefix)\n",
                "\n",
                "try:\n",
                "    cached_results = load_json(PREFIX_PROBE_VP)\n",
                "    logging.info(\n",
                "        f\"initial length targets: {len(target_prefixes)}, cached measurements : {len(cached_results)}\"\n",
                "    )\n",
                "\n",
                "    # get prefixes out of targets\n",
                "    cached_results = [\n",
                "        get_prefix_from_ip(target_addr) for target_addr in cached_results\n",
                "    ]\n",
                "    target_prefixes = list(\n",
                "        set(target_prefixes).difference(set(cached_results)))\n",
                "\n",
                "    logging.info(\n",
                "        f\"after removing cached: {len(target_prefixes)}, cached measurements : {len(cached_results)}\"\n",
                "    )\n",
                "except FileNotFoundError:\n",
                "    logging.info(\"No cached results available\")\n",
                "    pass\n",
                "\n",
                "logging.info(\n",
                "        f\"Starting measurements {str(measurement_uuid)} with parameters: dry_run={dry_run}; nb_targets={len(target_prefixes)}; nb_vps={len(vps)}.\"\n",
                "    )\n",
                "\n",
                "# measurement for 3 targets in every target prefixes\n",
                "measurement_config[\"ids\"], measurement_config[\"start_time\"], measurement_config[\"end_time\"] = pinger.ping_by_prefix(\n",
                "    target_prefixes=target_prefixes,\n",
                "    vps=vps,\n",
                "    targets_per_prefix=targets_per_prefix,\n",
                "    tag=measurement_uuid,\n",
                "    dry_run=dry_run\n",
                ")\n",
                "\n",
                "# save measurement configuration after measurements\n",
                "dump_json(measurement_config, config_file)"
            ]
        },
        {
            "attachments": {},
            "cell_type": "markdown",
            "metadata": {},
            "source": [
                "## retrieve prefix probing results "
            ]
        },
        {
            "cell_type": "code",
            "execution_count": 2,
            "metadata": {},
            "outputs": [
                {
                    "name": "stdout",
                    "output_type": "stream",
                    "text": [
                        "nb measurements retrieved: 6\n",
                        "212.101.201.3 : 4\n",
                        "212.101.201.6 : 4\n",
                        "212.101.201.5 : 4\n",
                        "212.10.11.0 : 4\n",
                        "212.10.11.4 : 4\n",
                        "212.10.11.2 : 4\n"
                    ]
                }
            ],
            "source": [
                "#measurement_results = get_measurements_from_tag(str(measurement_config[\"UUID\"]))\n",
                "measurement_results = get_measurements_from_tag(\"d2b7f142-db88-45c2-be5c-c79c1098f59d\")\n",
                "# test that everything is alright\n",
                "print(f\"nb measurements retrieved: {len(measurement_results)}\")\n",
                "\n",
                "for i, (target_addr, results) in enumerate(measurement_results.items()):\n",
                "    if i > 10:\n",
                "        break\n",
                "    print(target_addr, \":\", len(results))\n",
                "\n",
                "# save results\n",
                "dump_json(measurement_results, PREFIX_PROBE_VP)"
            ]
        },
        {
            "attachments": {},
            "cell_type": "markdown",
            "metadata": {},
            "source": [
                "# Tier 2: probing each target"
            ]
        },
        {
            "attachments": {},
            "cell_type": "markdown",
            "metadata": {},
            "source": [
                "## measure targets"
            ]
        },
        {
            "cell_type": "code",
            "execution_count": 6,
            "metadata": {},
            "outputs": [
                {
                    "name": "stderr",
                    "output_type": "stream",
                    "text": [
                        "INFO:root:No cached results available\n",
                        "INFO:root:Starting measurements b8f06c26-86d6-4857-b185-48b4a6fc5fc9 with parameters: dry_run=True; nb_targets=2; nb_vps=4.\n",
                        "INFO:root:measurement : b8f06c26-86d6-4857-b185-48b4a6fc5fc9 done\n"
                    ]
                }
            ],
            "source": [
                "dry_run = False\n",
                "measurement_uuid = uuid.uuid4()\n",
                "\n",
                "# measurement configuration for retrieval\n",
                "measurement_config = {\n",
                "    \"UUID\": str(measurement_uuid),\n",
                "    \"is_dry_run\": dry_run,\n",
                "    \"description\": \"measurement towards all anchors with all probes as vps\",\n",
                "    \"type\": \"target\",\n",
                "    \"af\": 4,\n",
                "    \"targets\": targets,\n",
                "    \"vps\": vps,\n",
                "}\n",
                "\n",
                "# save measurement configuration before starting measurement\n",
                "config_file = MEASUREMENT_CONFIG_PATH / f\"{measurement_config['UUID']}.json\"\n",
                "dump_json(measurement_config, config_file)\n",
                "\n",
                "pinger = PING(RIPE_CREDENTIALS)\n",
                "\n",
                "\n",
                "try:\n",
                "    cached_results = load_json(TARGET_PROBE_VP)\n",
                "    logging.info(\n",
                "        f\"initial length targets: {len(targets)}, cached measurements : {len(cached_results)}\"\n",
                "    )\n",
                "\n",
                "    targets = list(\n",
                "        set(targets).difference(set(cached_results)))\n",
                "\n",
                "    logging.info(\n",
                "        f\"after removing cached: {len(targets)}, cached measurements : {len(cached_results)}\"\n",
                "    )\n",
                "except FileNotFoundError:\n",
                "    logging.info(\"No cached results available\")\n",
                "    pass\n",
                "\n",
                "logging.info(\n",
                "        f\"Starting measurements {str(measurement_uuid)} with parameters: dry_run={dry_run}; nb_targets={len(targets)}; nb_vps={len(vps)}.\"\n",
                "    )\n",
                "\n",
                "# measurement for 3 targets in every target prefixes\n",
                "measurement_config[\"ids\"], measurement_config[\"start_time\"], measurement_config[\"end_time\"] = pinger.ping_by_target(\n",
                "    targets=targets,\n",
                "    vps=vps,\n",
                "    tag=measurement_uuid,\n",
                "    dry_run=dry_run\n",
                ")\n",
                "\n",
                "# save measurement configuration after measurements\n",
                "dump_json(measurement_config, config_file)"
            ]
        },
        {
            "attachments": {},
            "cell_type": "markdown",
            "metadata": {},
            "source": [
                "## retrieve traget probing results"
            ]
        },
        {
            "cell_type": "code",
            "execution_count": 3,
            "metadata": {},
            "outputs": [
                {
                    "name": "stdout",
                    "output_type": "stream",
                    "text": [
                        "nb measurements retrieved: 2\n",
                        "212.101.201.29 : 4\n",
                        "212.10.11.213 : 4\n"
                    ]
                }
            ],
            "source": [
                "#measurement_results = get_measurements_from_tag(str(measurement_config[\"UUID\"]))\n",
                "measurement_results = get_measurements_from_tag(\"3c9a548e-6263-405c-a658-44834f629845\")\n",
                "# test that everything is alright\n",
                "print(f\"nb measurements retrieved: {len(measurement_results)}\")\n",
                "\n",
                "for i, (target_addr, results) in enumerate(measurement_results.items()):\n",
                "    if i > 10:\n",
                "        break\n",
                "    print(target_addr, \":\", len(results))\n",
                "\n",
                "# save results\n",
                "dump_json(measurement_results, TARGET_PROBE_VP)"
            ]
        }
    ],
    "metadata": {
        "kernelspec": {
            "display_name": "geoloc-imc-2023-GZT64Hva-py3.10",
            "language": "python",
            "name": "python3"
        },
        "language_info": {
            "codemirror_mode": {
                "name": "ipython",
                "version": 3
            },
            "file_extension": ".py",
            "mimetype": "text/x-python",
            "name": "python",
            "nbconvert_exporter": "python",
            "pygments_lexer": "ipython3",
            "version": "3.10.0"
        },
        "orig_nbformat": 4
    },
    "nbformat": 4,
    "nbformat_minor": 2
}

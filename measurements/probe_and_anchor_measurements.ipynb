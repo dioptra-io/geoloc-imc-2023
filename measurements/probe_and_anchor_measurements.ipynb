{
    "cells": [
        {
            "cell_type": "markdown",
            "metadata": {},
            "source": [
                "# Probing part 2\n",
                "\n",
                "Vantage points will probe the targets.\n",
                "\n",
                "Vantage points are the anchors and the probes.  \n",
                "As always, targets are the anchors.  \n",
                "\n",
                "This notebook is an implementation of the million scale method. Check the paper for more information.  \n",
                "To do after create_datasets.ipynb"
            ]
        },
        {
            "cell_type": "code",
            "execution_count": null,
            "metadata": {},
            "outputs": [],
            "source": [
                "import logging\n",
                "import uuid\n",
                "\n",
                "from random import sample\n",
                "\n",
                "from scripts.utils.file_utils import load_json, dump_json\n",
                "from scripts.ripe_atlas.ping_and_traceroute_classes import PING\n",
                "from scripts.ripe_atlas.atlas_api import get_measurements_from_tag\n",
                "from default import ANCHORS_FILE, PROBES_FILE, TARGET_ALL_VP, MEASUREMENT_CONFIG_PATH, RIPE_CREDENTIALS\n",
                "\n",
                "\n",
                "logging.basicConfig(level=logging.INFO)\n",
                "\n",
                "\n",
                "#NB_TARGETS = 2\n",
                "#NB_VPS = 4\n",
                "\n",
                "# Comment the two lines below and uncomment the two lines above to choose the number of targets and VPs.\n",
                "# The default value (-1) will use all the dataset.\n",
                "\n",
                "NB_TARGETS = -1\n",
                "NB_VPS = -1"
            ]
        },
        {
            "cell_type": "markdown",
            "metadata": {},
            "source": [
                "## Load datasets"
            ]
        },
        {
            "cell_type": "code",
            "execution_count": null,
            "metadata": {},
            "outputs": [],
            "source": [
                "anchors = load_json(ANCHORS_FILE)\n",
                "\n",
                "probes = load_json(PROBES_FILE)"
            ]
        },
        {
            "attachments": {},
            "cell_type": "markdown",
            "metadata": {},
            "source": [
                "## Select targets and vps dataset"
            ]
        },
        {
            "cell_type": "code",
            "execution_count": null,
            "metadata": {},
            "outputs": [],
            "source": [
                "if NB_TARGETS > 0:\n",
                "    targets = sample(anchors, k=NB_TARGETS)\n",
                "else:\n",
                "    targets = anchors\n",
                "\n",
                "for i in range(len(targets)):\n",
                "    targets[i] = targets[i][\"address_v4\"]\n",
                "\n",
                "\n",
                "probes.extend(anchors)\n",
                "\n",
                "vps = {}\n",
                "\n",
                "if NB_VPS > 0:\n",
                "    shuffle = sample(probes, k=NB_VPS)\n",
                "    for probe in shuffle:\n",
                "        vps[probe[\"address_v4\"]] = probe\n",
                "else:\n",
                "    shuffle = sample(probes)\n",
                "    for probe in shuffle:\n",
                "        vps[probe[\"address_v4\"]] = probe\n",
                "\n",
                "\n",
                "print(f\"nb targets: {len(targets)}\")\n",
                "print(f\"nb_vps : {len(vps)}\")"
            ]
        },
        {
            "attachments": {},
            "cell_type": "markdown",
            "metadata": {},
            "source": [
                "## Probe targets\n",
                "WARNING : Time consumming section"
            ]
        },
        {
            "cell_type": "code",
            "execution_count": null,
            "metadata": {},
            "outputs": [],
            "source": [
                "dry_run = False\n",
                "measurement_uuid = uuid.uuid4()\n",
                "\n",
                "# measurement configuration for retrieval\n",
                "measurement_config = {\n",
                "    \"UUID\": str(measurement_uuid),\n",
                "    \"is_dry_run\": dry_run,\n",
                "    \"description\": \"measurement towards all anchors with all probes and all anchors as vps\",\n",
                "    \"type\": \"target\",\n",
                "    \"af\": 4,\n",
                "    \"targets\": targets,\n",
                "    \"vps\": vps,\n",
                "}\n",
                "\n",
                "# save measurement configuration before starting measurement\n",
                "config_file = MEASUREMENT_CONFIG_PATH / f\"{measurement_config['UUID']}.json\"\n",
                "dump_json(measurement_config, config_file)\n",
                "\n",
                "pinger = PING(RIPE_CREDENTIALS)\n",
                "\n",
                "\n",
                "try:\n",
                "    cached_results = load_json(TARGET_ALL_VP)\n",
                "    logging.info(\n",
                "        f\"initial length targets: {len(targets)}, cached measurements : {len(cached_results)}\"\n",
                "    )\n",
                "\n",
                "    targets = list(\n",
                "        set(targets).difference(set(cached_results)))\n",
                "\n",
                "    logging.info(\n",
                "        f\"after removing cached: {len(targets)}, cached measurements : {len(cached_results)}\"\n",
                "    )\n",
                "except FileNotFoundError:\n",
                "    logging.info(\"No cached results available\")\n",
                "    pass\n",
                "\n",
                "logging.info(\n",
                "        f\"Starting measurements {str(measurement_uuid)} with parameters: dry_run={dry_run}; nb_targets={len(targets)}; nb_vps={len(vps)}.\"\n",
                "    )\n",
                "\n",
                "# measurement for 3 targets in every target prefixes\n",
                "measurement_config[\"ids\"], measurement_config[\"start_time\"], measurement_config[\"end_time\"] = pinger.ping_by_target(\n",
                "    targets=targets,\n",
                "    vps=vps,\n",
                "    tag=measurement_uuid,\n",
                "    dry_run=dry_run\n",
                ")\n",
                "\n",
                "# save measurement configuration after measurements\n",
                "dump_json(measurement_config, config_file)"
            ]
        },
        {
            "attachments": {},
            "cell_type": "markdown",
            "metadata": {},
            "source": [
                "## Retrieve target results\n",
                "WARNING : Time consumming section"
            ]
        },
        {
            "cell_type": "code",
            "execution_count": null,
            "metadata": {},
            "outputs": [],
            "source": [
                "measurement_results = get_measurements_from_tag(str(measurement_config[\"UUID\"]))\n",
                "\n",
                "# test that everything is alright\n",
                "print(f\"nb measurements retrieved: {len(measurement_results)}\")\n",
                "\n",
                "for i, (target_addr, results) in enumerate(measurement_results.items()):\n",
                "    if i > 10:\n",
                "        break\n",
                "    print(target_addr, \":\", len(results))\n",
                "\n",
                "# save results\n",
                "dump_json(measurement_results, TARGET_ALL_VP)"
            ]
        }
    ],
    "metadata": {
        "kernelspec": {
            "display_name": "geoloc-imc-2023-GZT64Hva-py3.10",
            "language": "python",
            "name": "python3"
        },
        "language_info": {
            "codemirror_mode": {
                "name": "ipython",
                "version": 3
            },
            "file_extension": ".py",
            "mimetype": "text/x-python",
            "name": "python",
            "nbconvert_exporter": "python",
            "pygments_lexer": "ipython3",
            "version": "3.10.0"
        },
        "orig_nbformat": 4
    },
    "nbformat": 4,
    "nbformat_minor": 2
}

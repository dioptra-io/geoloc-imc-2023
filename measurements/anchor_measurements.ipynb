{
    "cells": [
        {
            "cell_type": "code",
            "execution_count": 1,
            "metadata": {},
            "outputs": [],
            "source": [
                "import logging\n",
                "import uuid\n",
                "\n",
                "from random import sample\n",
                "\n",
                "from scripts.utils.file_utils import load_json, dump_json\n",
                "from scripts.ripe_atlas.ping import PING\n",
                "from scripts.ripe_atlas.atlas_api import get_measurements_from_tag, get_prefix_from_ip\n",
                "from default import ANCHORS_FILE, HITLIST_FILE, PREFIX_ANCHOR_VP, TARGET_ANCHOR_VP, MEASUREMENT_CONFIG_PATH, RIPE_CREDENTIALS\n",
                "\n",
                "\n",
                "logging.basicConfig(level=logging.INFO)\n",
                "\n",
                "\n",
                "NB_TARGETS = 2\n",
                "NB_VPS = 4\n",
                "\n",
                "#NBTARGETS = -1\n",
                "#NB_VPS = -1"
            ]
        },
        {
            "cell_type": "code",
            "execution_count": 2,
            "metadata": {},
            "outputs": [],
            "source": [
                "# load datasets\n",
                "\n",
                "targets_per_prefix = load_json(HITLIST_FILE)\n",
                "\n",
                "anchors = load_json(ANCHORS_FILE)"
            ]
        },
        {
            "attachments": {},
            "cell_type": "markdown",
            "metadata": {},
            "source": [
                "## select targets and vps dataset"
            ]
        },
        {
            "cell_type": "code",
            "execution_count": 20,
            "metadata": {},
            "outputs": [
                {
                    "name": "stderr",
                    "output_type": "stream",
                    "text": [
                        "INFO:root:nb targets: 2\n",
                        "INFO:root:nb_vps : 4\n"
                    ]
                }
            ],
            "source": [
                "if NB_TARGETS > 0:\n",
                "    targets = sample(anchors, k=NB_TARGETS)\n",
                "else:\n",
                "    targets = anchors\n",
                "\n",
                "for i in range(len(targets)):\n",
                "    targets[i] = targets[i][\"address_v4\"]\n",
                "\n",
                "\n",
                "vps = {}\n",
                "\n",
                "if NB_VPS > 0:\n",
                "    shuffle = sample(anchors, k=NB_VPS)\n",
                "    for anchor in shuffle:\n",
                "        vps[anchor[\"address_v4\"]] = anchor\n",
                "else:\n",
                "    shuffle = sample(anchors)\n",
                "    for anchor in shuffle:\n",
                "        vps[anchor[\"address_v4\"]] = anchor\n",
                "\n",
                "\n",
                "print(f\"nb targets: {len(targets)}\")\n",
                "print(f\"nb_vps : {len(vps)}\")"
            ]
        },
        {
            "attachments": {},
            "cell_type": "markdown",
            "metadata": {},
            "source": [
                "# Tier 1: probing each target prefixes"
            ]
        },
        {
            "attachments": {},
            "cell_type": "markdown",
            "metadata": {},
            "source": [
                "## measure target prefixes"
            ]
        },
        {
            "cell_type": "code",
            "execution_count": 24,
            "metadata": {},
            "outputs": [
                {
                    "name": "stderr",
                    "output_type": "stream",
                    "text": [
                        "INFO:root:No cached results available\n",
                        "INFO:root:Starting measurements 77d89188-4373-4ea8-8243-99b002752c83 with parameters: dry_run=True; nb_targets=2; nb_vps=4.\n",
                        "INFO:root:measurement : 77d89188-4373-4ea8-8243-99b002752c83 done\n"
                    ]
                }
            ],
            "source": [
                "dry_run = False\n",
                "measurement_uuid = uuid.uuid4()\n",
                "\n",
                "# measurement configuration for retrieval\n",
                "measurement_config = {\n",
                "    \"UUID\": str(measurement_uuid),\n",
                "    \"is_dry_run\": dry_run,\n",
                "    \"description\": \"measurement towards all anchors with all anchors as vps\",\n",
                "    \"type\": \"prefix\",\n",
                "    \"af\": 4,\n",
                "    \"targets\": targets,\n",
                "    \"vps\": vps,\n",
                "}\n",
                "\n",
                "# save measurement configuration before starting measurement\n",
                "config_file = MEASUREMENT_CONFIG_PATH / f\"{measurement_config['UUID']}.json\"\n",
                "dump_json(measurement_config, config_file)\n",
                "\n",
                "pinger = PING(RIPE_CREDENTIALS)\n",
                "\n",
                "# get target prefixes\n",
                "target_prefixes = []\n",
                "for target_addr in targets:\n",
                "    target_prefix = get_prefix_from_ip(target_addr)\n",
                "    target_prefixes.append(target_prefix)\n",
                "\n",
                "try:\n",
                "    cached_results = load_json(PREFIX_ANCHOR_VP)\n",
                "    logging.info(\n",
                "        f\"initial length targets: {len(target_prefixes)}, cached measurements : {len(cached_results)}\"\n",
                "    )\n",
                "\n",
                "    # get prefixes out of targets\n",
                "    cached_results = [\n",
                "        get_prefix_from_ip(target_addr) for target_addr in cached_results\n",
                "    ]\n",
                "    target_prefixes = list(\n",
                "        set(target_prefixes).difference(set(cached_results)))\n",
                "\n",
                "    logging.info(\n",
                "        f\"after removing cached: {len(target_prefixes)}, cached measurements : {len(cached_results)}\"\n",
                "    )\n",
                "except FileNotFoundError:\n",
                "    logging.info(\"No cached results available\")\n",
                "    pass\n",
                "\n",
                "logging.info(\n",
                "        f\"Starting measurements {str(measurement_uuid)} with parameters: dry_run={dry_run}; nb_targets={len(target_prefixes)}; nb_vps={len(vps)}.\"\n",
                "    )\n",
                "\n",
                "# measurement for 3 targets in every target prefixes\n",
                "measurement_config[\"ids\"], measurement_config[\"start_time\"], measurement_config[\"end_time\"] = pinger.ping_by_prefix(\n",
                "    target_prefixes=target_prefixes,\n",
                "    vps=vps,\n",
                "    targets_per_prefix=targets_per_prefix,\n",
                "    tag=measurement_uuid,\n",
                "    dry_run=dry_run\n",
                ")\n",
                "\n",
                "# save measurement configuration after measurements\n",
                "dump_json(measurement_config, config_file)"
            ]
        },
        {
            "attachments": {},
            "cell_type": "markdown",
            "metadata": {},
            "source": [
                "## retrieve prefix probing results "
            ]
        },
        {
            "cell_type": "code",
            "execution_count": 2,
            "metadata": {},
            "outputs": [
                {
                    "name": "stdout",
                    "output_type": "stream",
                    "text": [
                        "nb measurements retrieved: 6\n",
                        "103.160.63.5 : 4\n",
                        "103.160.63.1 : 4\n",
                        "103.160.63.2 : 3\n",
                        "193.49.43.13 : 4\n",
                        "193.49.43.2 : 4\n",
                        "193.49.43.10 : 4\n"
                    ]
                }
            ],
            "source": [
                "#measurement_results = get_measurements_from_tag(str(measurement_config[\"UUID\"]))\n",
                "measurement_results = get_measurements_from_tag(\"d39983d6-8261-412f-8940-609f0a7b429e\")\n",
                "# test that everything is alright\n",
                "print(f\"nb measurements retrieved: {len(measurement_results)}\")\n",
                "\n",
                "for i, (target_addr, results) in enumerate(measurement_results.items()):\n",
                "    if i > 10:\n",
                "        break\n",
                "    print(target_addr, \":\", len(results))\n",
                "\n",
                "# save results\n",
                "dump_json(measurement_results, PREFIX_ANCHOR_VP)"
            ]
        },
        {
            "attachments": {},
            "cell_type": "markdown",
            "metadata": {},
            "source": [
                "# Tier 2: probing each target"
            ]
        },
        {
            "attachments": {},
            "cell_type": "markdown",
            "metadata": {},
            "source": [
                "## measure targets"
            ]
        },
        {
            "cell_type": "code",
            "execution_count": 29,
            "metadata": {},
            "outputs": [
                {
                    "name": "stderr",
                    "output_type": "stream",
                    "text": [
                        "INFO:root:No cached results available\n",
                        "INFO:root:Starting measurements 2820356f-1f75-48e3-ae0b-710e7e88b40e with parameters: dry_run=True; nb_targets=2; nb_vps=4.\n",
                        "INFO:root:measurement : 2820356f-1f75-48e3-ae0b-710e7e88b40e done\n"
                    ]
                }
            ],
            "source": [
                "dry_run = False\n",
                "measurement_uuid = uuid.uuid4()\n",
                "\n",
                "# measurement configuration for retrieval\n",
                "measurement_config = {\n",
                "    \"UUID\": str(measurement_uuid),\n",
                "    \"is_dry_run\": dry_run,\n",
                "    \"description\": \"measurement towards all anchors with all anchors as vps\",\n",
                "    \"type\": \"target\",\n",
                "    \"af\": 4,\n",
                "    \"targets\": targets,\n",
                "    \"vps\": vps,\n",
                "}\n",
                "\n",
                "# save measurement configuration before starting measurement\n",
                "config_file = MEASUREMENT_CONFIG_PATH / f\"{measurement_config['UUID']}.json\"\n",
                "dump_json(measurement_config, config_file)\n",
                "\n",
                "pinger = PING(RIPE_CREDENTIALS)\n",
                "\n",
                "\n",
                "try:\n",
                "    cached_results = load_json(TARGET_ANCHOR_VP)\n",
                "    logging.info(\n",
                "        f\"initial length targets: {len(targets)}, cached measurements : {len(cached_results)}\"\n",
                "    )\n",
                "\n",
                "    targets = list(\n",
                "        set(targets).difference(set(cached_results)))\n",
                "\n",
                "    logging.info(\n",
                "        f\"after removing cached: {len(targets)}, cached measurements : {len(cached_results)}\"\n",
                "    )\n",
                "except FileNotFoundError:\n",
                "    logging.info(\"No cached results available\")\n",
                "    pass\n",
                "\n",
                "logging.info(\n",
                "        f\"Starting measurements {str(measurement_uuid)} with parameters: dry_run={dry_run}; nb_targets={len(targets)}; nb_vps={len(vps)}.\"\n",
                "    )\n",
                "\n",
                "# measurement for 3 targets in every target prefixes\n",
                "measurement_config[\"ids\"], measurement_config[\"start_time\"], measurement_config[\"end_time\"] = pinger.ping_by_target(\n",
                "    targets=targets,\n",
                "    vps=vps,\n",
                "    tag=measurement_uuid,\n",
                "    dry_run=dry_run\n",
                ")\n",
                "\n",
                "# save measurement configuration after measurements\n",
                "dump_json(measurement_config, config_file)"
            ]
        },
        {
            "attachments": {},
            "cell_type": "markdown",
            "metadata": {},
            "source": [
                "## retrieve traget probing results"
            ]
        },
        {
            "cell_type": "code",
            "execution_count": 3,
            "metadata": {},
            "outputs": [
                {
                    "name": "stdout",
                    "output_type": "stream",
                    "text": [
                        "nb measurements retrieved: 2\n",
                        "193.49.43.151 : 4\n",
                        "103.160.63.222 : 4\n"
                    ]
                }
            ],
            "source": [
                "#measurement_results = get_measurements_from_tag(str(measurement_config[\"UUID\"]))\n",
                "measurement_results = get_measurements_from_tag(\"baa3df49-5118-4b3c-86bb-f35d96382304\")\n",
                "# test that everything is alright\n",
                "print(f\"nb measurements retrieved: {len(measurement_results)}\")\n",
                "\n",
                "for i, (target_addr, results) in enumerate(measurement_results.items()):\n",
                "    if i > 10:\n",
                "        break\n",
                "    print(target_addr, \":\", len(results))\n",
                "\n",
                "# save results\n",
                "dump_json( measurement_results, TARGET_ANCHOR_VP)"
            ]
        }
    ],
    "metadata": {
        "kernelspec": {
            "display_name": "geoloc-imc-2023-GZT64Hva-py3.10",
            "language": "python",
            "name": "python3"
        },
        "language_info": {
            "codemirror_mode": {
                "name": "ipython",
                "version": 3
            },
            "file_extension": ".py",
            "mimetype": "text/x-python",
            "name": "python",
            "nbconvert_exporter": "python",
            "pygments_lexer": "ipython3",
            "version": "3.10.0"
        },
        "orig_nbformat": 4
    },
    "nbformat": 4,
    "nbformat_minor": 2
}

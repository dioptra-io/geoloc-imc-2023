{
    "cells": [
        {
            "cell_type": "markdown",
            "metadata": {},
            "source": [
                "# Probing part 1\n",
                "\n",
                "Vantage points will probe either the targets themselves (step 2) or other addresses in the same /24 prefix (step 2).\n",
                "\n",
                "Vantage points are only the anchors.  \n",
                "As always, targets are the anchors.  \n",
                "\n",
                "This notebook is an implementation of the million scale method. Check the paper for more information.  \n",
                "To do after create_datasets.ipynb"
            ]
        },
        {
            "cell_type": "code",
            "execution_count": 1,
            "metadata": {},
            "outputs": [],
            "source": [
                "import logging\n",
                "import uuid\n",
                "\n",
                "from random import sample\n",
                "\n",
                "from scripts.utils.file_utils import load_json, dump_json\n",
                "from scripts.ripe_atlas.ping_and_traceroute_classes import PING\n",
                "from scripts.ripe_atlas.atlas_api import get_measurements_from_tag, get_prefix_from_ip\n",
                "from default import ANCHORS_FILE, HITLIST_FILE, PREFIX_ANCHOR, TARGET_ANCHOR, MEASUREMENT_CONFIG_PATH, RIPE_CREDENTIALS\n",
                "\n",
                "\n",
                "logging.basicConfig(level=logging.INFO)\n",
                "\n",
                "\n",
                "#NB_TARGETS = 2\n",
                "#NB_VPS = 4\n",
                "\n",
                "# Comment the two lines below and uncomment the two lines above to choose the number of targets and VPs.\n",
                "# The default value (-1) will use all the dataset.\n",
                "\n",
                "NB_TARGETS = -1\n",
                "NB_VPS = -1"
            ]
        },
        {
            "cell_type": "markdown",
            "metadata": {},
            "source": [
                "## Load datasets"
            ]
        },
        {
            "cell_type": "code",
            "execution_count": null,
            "metadata": {},
            "outputs": [],
            "source": [
                "targets_per_prefix = load_json(HITLIST_FILE)\n",
                "\n",
                "anchors = load_json(ANCHORS_FILE)"
            ]
        },
        {
            "attachments": {},
            "cell_type": "markdown",
            "metadata": {},
            "source": [
                "## Select targets and vps dataset"
            ]
        },
        {
            "cell_type": "code",
            "execution_count": null,
            "metadata": {},
            "outputs": [],
            "source": [
                "if NB_TARGETS > 0:\n",
                "    targets = sample(anchors, k=NB_TARGETS)\n",
                "else:\n",
                "    targets = anchors\n",
                "\n",
                "for i in range(len(targets)):\n",
                "    targets[i] = targets[i][\"address_v4\"]\n",
                "\n",
                "\n",
                "vps = {}\n",
                "\n",
                "if NB_VPS > 0:\n",
                "    shuffle = sample(anchors, k=NB_VPS)\n",
                "    for anchor in shuffle:\n",
                "        vps[anchor[\"address_v4\"]] = anchor\n",
                "else:\n",
                "    shuffle = sample(anchors)\n",
                "    for anchor in shuffle:\n",
                "        vps[anchor[\"address_v4\"]] = anchor\n",
                "\n",
                "\n",
                "print(f\"nb targets: {len(targets)}\")\n",
                "print(f\"nb_vps : {len(vps)}\")"
            ]
        },
        {
            "attachments": {},
            "cell_type": "markdown",
            "metadata": {},
            "source": [
                "# Step 1: probing each target prefixes"
            ]
        },
        {
            "attachments": {},
            "cell_type": "markdown",
            "metadata": {},
            "source": [
                "## Probe target prefixes\n",
                "WARNING : Time consumming section"
            ]
        },
        {
            "cell_type": "code",
            "execution_count": null,
            "metadata": {},
            "outputs": [],
            "source": [
                "dry_run = False\n",
                "measurement_uuid = uuid.uuid4()\n",
                "\n",
                "# measurement configuration for retrieval\n",
                "measurement_config = {\n",
                "    \"UUID\": str(measurement_uuid),\n",
                "    \"is_dry_run\": dry_run,\n",
                "    \"description\": \"measurement towards all anchors with all anchors as vps\",\n",
                "    \"type\": \"prefix\",\n",
                "    \"af\": 4,\n",
                "    \"targets\": targets,\n",
                "    \"vps\": vps,\n",
                "}\n",
                "\n",
                "# save measurement configuration before starting measurement\n",
                "config_file = MEASUREMENT_CONFIG_PATH / f\"{measurement_config['UUID']}.json\"\n",
                "dump_json(measurement_config, config_file)\n",
                "\n",
                "pinger = PING(RIPE_CREDENTIALS)\n",
                "\n",
                "# get target prefixes\n",
                "target_prefixes = []\n",
                "for target_addr in targets:\n",
                "    target_prefix = get_prefix_from_ip(target_addr)\n",
                "    target_prefixes.append(target_prefix)\n",
                "\n",
                "try:\n",
                "    cached_results = load_json(PREFIX_ANCHOR)\n",
                "    logging.info(\n",
                "        f\"initial length targets: {len(target_prefixes)}, cached measurements : {len(cached_results)}\"\n",
                "    )\n",
                "\n",
                "    # get prefixes out of targets\n",
                "    cached_results = [\n",
                "        get_prefix_from_ip(target_addr) for target_addr in cached_results\n",
                "    ]\n",
                "    target_prefixes = list(\n",
                "        set(target_prefixes).difference(set(cached_results)))\n",
                "\n",
                "    logging.info(\n",
                "        f\"after removing cached: {len(target_prefixes)}, cached measurements : {len(cached_results)}\"\n",
                "    )\n",
                "except FileNotFoundError:\n",
                "    logging.info(\"No cached results available\")\n",
                "    pass\n",
                "\n",
                "logging.info(\n",
                "        f\"Starting measurements {str(measurement_uuid)} with parameters: dry_run={dry_run}; nb_targets={len(target_prefixes)}; nb_vps={len(vps)}.\"\n",
                "    )\n",
                "\n",
                "# measurement for 3 targets in every target prefixes\n",
                "measurement_config[\"ids\"], measurement_config[\"start_time\"], measurement_config[\"end_time\"] = pinger.ping_by_prefix(\n",
                "    target_prefixes=target_prefixes,\n",
                "    vps=vps,\n",
                "    targets_per_prefix=targets_per_prefix,\n",
                "    tag=measurement_uuid,\n",
                "    dry_run=dry_run\n",
                ")\n",
                "\n",
                "# save measurement configuration after measurements\n",
                "dump_json(measurement_config, config_file)"
            ]
        },
        {
            "attachments": {},
            "cell_type": "markdown",
            "metadata": {},
            "source": [
                "## Retrieve prefix results\n",
                "WARNING : Time consumming section"
            ]
        },
        {
            "cell_type": "code",
            "execution_count": 2,
            "metadata": {},
            "outputs": [
                {
                    "name": "stdout",
                    "output_type": "stream",
                    "text": [
                        "nb measurements retrieved: 6\n",
                        "103.160.63.5 : 4\n",
                        "103.160.63.1 : 4\n",
                        "103.160.63.2 : 3\n",
                        "193.49.43.13 : 4\n",
                        "193.49.43.2 : 4\n",
                        "193.49.43.10 : 4\n"
                    ]
                }
            ],
            "source": [
                "measurement_results = get_measurements_from_tag(str(measurement_config[\"UUID\"]))\n",
                "\n",
                "# test that everything is alright\n",
                "print(f\"nb measurements retrieved: {len(measurement_results)}\")\n",
                "\n",
                "for i, (target_addr, results) in enumerate(measurement_results.items()):\n",
                "    if i > 10:\n",
                "        break\n",
                "    print(target_addr, \":\", len(results))\n",
                "\n",
                "# save results\n",
                "dump_json(measurement_results, PREFIX_ANCHOR)"
            ]
        },
        {
            "attachments": {},
            "cell_type": "markdown",
            "metadata": {},
            "source": [
                "# Step 2: probing each target"
            ]
        },
        {
            "attachments": {},
            "cell_type": "markdown",
            "metadata": {},
            "source": [
                "## Probe targets\n",
                "WARNING : Time consumming section"
            ]
        },
        {
            "cell_type": "code",
            "execution_count": null,
            "metadata": {},
            "outputs": [],
            "source": [
                "dry_run = False\n",
                "measurement_uuid = uuid.uuid4()\n",
                "\n",
                "# measurement configuration for retrieval\n",
                "measurement_config = {\n",
                "    \"UUID\": str(measurement_uuid),\n",
                "    \"is_dry_run\": dry_run,\n",
                "    \"description\": \"measurement towards all anchors with all anchors as vps\",\n",
                "    \"type\": \"target\",\n",
                "    \"af\": 4,\n",
                "    \"targets\": targets,\n",
                "    \"vps\": vps,\n",
                "}\n",
                "\n",
                "# save measurement configuration before starting measurement\n",
                "config_file = MEASUREMENT_CONFIG_PATH / f\"{measurement_config['UUID']}.json\"\n",
                "dump_json(measurement_config, config_file)\n",
                "\n",
                "pinger = PING(RIPE_CREDENTIALS)\n",
                "\n",
                "\n",
                "try:\n",
                "    cached_results = load_json(TARGET_ANCHOR)\n",
                "    logging.info(\n",
                "        f\"initial length targets: {len(targets)}, cached measurements : {len(cached_results)}\"\n",
                "    )\n",
                "\n",
                "    targets = list(\n",
                "        set(targets).difference(set(cached_results)))\n",
                "\n",
                "    logging.info(\n",
                "        f\"after removing cached: {len(targets)}, cached measurements : {len(cached_results)}\"\n",
                "    )\n",
                "except FileNotFoundError:\n",
                "    logging.info(\"No cached results available\")\n",
                "    pass\n",
                "\n",
                "logging.info(\n",
                "        f\"Starting measurements {str(measurement_uuid)} with parameters: dry_run={dry_run}; nb_targets={len(targets)}; nb_vps={len(vps)}.\"\n",
                "    )\n",
                "\n",
                "# measurement for 3 targets in every target prefixes\n",
                "measurement_config[\"ids\"], measurement_config[\"start_time\"], measurement_config[\"end_time\"] = pinger.ping_by_target(\n",
                "    targets=targets,\n",
                "    vps=vps,\n",
                "    tag=measurement_uuid,\n",
                "    dry_run=dry_run\n",
                ")\n",
                "\n",
                "# save measurement configuration after measurements\n",
                "dump_json(measurement_config, config_file)"
            ]
        },
        {
            "attachments": {},
            "cell_type": "markdown",
            "metadata": {},
            "source": [
                "## Retrieve traget results\n",
                "WARNING : Time consumming section"
            ]
        },
        {
            "cell_type": "code",
            "execution_count": null,
            "metadata": {},
            "outputs": [],
            "source": [
                "measurement_results = get_measurements_from_tag(str(measurement_config[\"UUID\"]))\n",
                "\n",
                "# test that everything is alright\n",
                "print(f\"nb measurements retrieved: {len(measurement_results)}\")\n",
                "\n",
                "for i, (target_addr, results) in enumerate(measurement_results.items()):\n",
                "    if i > 10:\n",
                "        break\n",
                "    print(target_addr, \":\", len(results))\n",
                "\n",
                "# save results\n",
                "dump_json(measurement_results, TARGET_ANCHOR)"
            ]
        }
    ],
    "metadata": {
        "kernelspec": {
            "display_name": "geoloc-imc-2023-GZT64Hva-py3.10",
            "language": "python",
            "name": "python3"
        },
        "language_info": {
            "codemirror_mode": {
                "name": "ipython",
                "version": 3
            },
            "file_extension": ".py",
            "mimetype": "text/x-python",
            "name": "python",
            "nbconvert_exporter": "python",
            "pygments_lexer": "ipython3",
            "version": "3.10.9"
        },
        "orig_nbformat": 4
    },
    "nbformat": 4,
    "nbformat_minor": 2
}

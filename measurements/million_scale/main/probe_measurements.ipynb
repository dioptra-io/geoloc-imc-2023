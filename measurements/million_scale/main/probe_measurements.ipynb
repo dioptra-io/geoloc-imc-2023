{
    "cells": [
        {
            "cell_type": "code",
            "execution_count": 1,
            "metadata": {},
            "outputs": [],
            "source": [
                "import logging\n",
                "import uuid\n",
                "\n",
                "from random import sample\n",
                "\n",
                "from utils.ping import PING\n",
                "from utils.atlas_api import get_measurements_from_tag\n",
                "from utils.measurement_utils import load_pickle, dump_pickle, save_config_file, get_prefix_from_ip\n",
                "from default import (\n",
                "    ANCHORS_FILE,\n",
                "    PROBES_FILE,\n",
                "    HITLIST_FILE,\n",
                "    PREFIX_PROBE_VP,\n",
                "    TARGET_PROBE_VP,\n",
                "    MEASUREMENT_CONFIG_PATH,\n",
                "    RIPE_CREDENTIALS,\n",
                ")\n",
                "\n",
                "logging.basicConfig(level=logging.INFO)\n",
                "\n",
                "NB_TARGETS = 2\n",
                "NB_VPS = 4\n",
                "\n",
                "#NBTARGETS = -1\n",
                "#NB_VPS = -1"
            ]
        },
        {
            "cell_type": "code",
            "execution_count": 2,
            "metadata": {},
            "outputs": [],
            "source": [
                "# load datasets\n",
                "\n",
                "targets_per_prefix = load_pickle(HITLIST_FILE)\n",
                "\n",
                "anchors = load_pickle(ANCHORS_FILE)\n",
                "\n",
                "probes = load_pickle(PROBES_FILE)"
            ]
        },
        {
            "attachments": {},
            "cell_type": "markdown",
            "metadata": {},
            "source": [
                "## select targets and vps dataset"
            ]
        },
        {
            "cell_type": "code",
            "execution_count": 3,
            "metadata": {},
            "outputs": [
                {
                    "name": "stderr",
                    "output_type": "stream",
                    "text": [
                        "INFO:root:nb targets: 2\n",
                        "INFO:root:nb_vps : 4\n"
                    ]
                }
            ],
            "source": [
                "if NB_TARGETS > 0:\n",
                "    targets = sample(list(anchors.keys()), k=NB_TARGETS)\n",
                "else:\n",
                "    targets = list(anchors.keys())\n",
                "\n",
                "if NB_VPS > 0:\n",
                "    vps = {}\n",
                "    shuffle = sample(list(probes.keys()), k=NB_VPS)\n",
                "    for probe in shuffle:\n",
                "        vps[probe] = probes[probe]\n",
                "else:\n",
                "    vps = probes\n",
                "\n",
                "\n",
                "logging.info(f\"nb targets: {len(targets)}\")\n",
                "logging.info(f\"nb_vps : {len(vps)}\")"
            ]
        },
        {
            "attachments": {},
            "cell_type": "markdown",
            "metadata": {},
            "source": [
                "# Tier 1: probing each target prefixes"
            ]
        },
        {
            "attachments": {},
            "cell_type": "markdown",
            "metadata": {},
            "source": [
                "## measure target prefixes"
            ]
        },
        {
            "cell_type": "code",
            "execution_count": 4,
            "metadata": {},
            "outputs": [
                {
                    "name": "stderr",
                    "output_type": "stream",
                    "text": [
                        "INFO:root:No cached results available\n",
                        "INFO:root:Starting measurements d2b7f142-db88-45c2-be5c-c79c1098f59d with parameters: dry_run=False; nb_targets=2; nb_vps=4.\n",
                        "INFO:root:measurement : d2b7f142-db88-45c2-be5c-c79c1098f59d done\n"
                    ]
                }
            ],
            "source": [
                "dry_run = False\n",
                "measurement_uuid = uuid.uuid4()\n",
                "\n",
                "# measurement configuration for retrieval\n",
                "measurement_config = {\n",
                "    \"UUID\": str(measurement_uuid),\n",
                "    \"is_dry_run\": dry_run,\n",
                "    \"description\": \"measurement towards all anchors with all probes as vps\",\n",
                "    \"type\": \"prefix\",\n",
                "    \"af\": 4,\n",
                "    \"targets\": targets,\n",
                "    \"vps\": vps,\n",
                "}\n",
                "\n",
                "# save measurement configuration before starting measurement\n",
                "config_file = MEASUREMENT_CONFIG_PATH / f\"{measurement_config['UUID']}.json\"\n",
                "save_config_file(measurement_config, config_file)\n",
                "\n",
                "pinger = PING(RIPE_CREDENTIALS)\n",
                "\n",
                "# get target prefixes\n",
                "target_prefixes = []\n",
                "for target_addr in targets:\n",
                "    target_prefix = get_prefix_from_ip(target_addr)\n",
                "    target_prefixes.append(target_prefix)\n",
                "\n",
                "try:\n",
                "    cached_results = load_pickle(PREFIX_PROBE_VP)\n",
                "    logging.info(\n",
                "        f\"initial length targets: {len(target_prefixes)}, cached measurements : {len(cached_results)}\"\n",
                "    )\n",
                "\n",
                "    # get prefixes out of targets\n",
                "    cached_results = [\n",
                "        get_prefix_from_ip(target_addr) for target_addr in cached_results\n",
                "    ]\n",
                "    target_prefixes = list(\n",
                "        set(target_prefixes).difference(set(cached_results)))\n",
                "\n",
                "    logging.info(\n",
                "        f\"after removing cached: {len(target_prefixes)}, cached measurements : {len(cached_results)}\"\n",
                "    )\n",
                "except FileNotFoundError:\n",
                "    logging.info(\"No cached results available\")\n",
                "    pass\n",
                "\n",
                "logging.info(\n",
                "        f\"Starting measurements {str(measurement_uuid)} with parameters: dry_run={dry_run}; nb_targets={len(target_prefixes)}; nb_vps={len(vps)}.\"\n",
                "    )\n",
                "\n",
                "# measurement for 3 targets in every target prefixes\n",
                "measurement_config[\"ids\"], measurement_config[\"start_time\"], measurement_config[\"end_time\"] = pinger.ping_by_prefix(\n",
                "    target_prefixes=target_prefixes,\n",
                "    vps=vps,\n",
                "    targets_per_prefix=targets_per_prefix,\n",
                "    tag=measurement_uuid,\n",
                "    dry_run=dry_run\n",
                ")\n",
                "\n",
                "# save measurement configuration after measurements\n",
                "save_config_file(measurement_config, config_file)"
            ]
        },
        {
            "attachments": {},
            "cell_type": "markdown",
            "metadata": {},
            "source": [
                "## retrieve prefix probing results "
            ]
        },
        {
            "cell_type": "code",
            "execution_count": 5,
            "metadata": {},
            "outputs": [
                {
                    "name": "stdout",
                    "output_type": "stream",
                    "text": [
                        "nb measurements retrieved: 6\n",
                        "212.101.201.3 : 4\n",
                        "212.101.201.6 : 4\n",
                        "212.101.201.5 : 4\n",
                        "212.10.11.0 : 4\n",
                        "212.10.11.4 : 4\n",
                        "212.10.11.2 : 4\n"
                    ]
                }
            ],
            "source": [
                "measurement_results = get_measurements_from_tag(str(measurement_config[\"UUID\"]))\n",
                "\n",
                "# test that everything is alright\n",
                "print(f\"nb measurements retrieved: {len(measurement_results)}\")\n",
                "\n",
                "for i, (target_addr, results) in enumerate(measurement_results.items()):\n",
                "    if i > 10:\n",
                "        break\n",
                "    print(target_addr, \":\", len(results))\n",
                "\n",
                "# save results\n",
                "dump_pickle(measurement_results, PREFIX_PROBE_VP)"
            ]
        },
        {
            "attachments": {},
            "cell_type": "markdown",
            "metadata": {},
            "source": [
                "# Tier 2: probing each target"
            ]
        },
        {
            "attachments": {},
            "cell_type": "markdown",
            "metadata": {},
            "source": [
                "## measure targets"
            ]
        },
        {
            "cell_type": "code",
            "execution_count": 6,
            "metadata": {},
            "outputs": [
                {
                    "name": "stderr",
                    "output_type": "stream",
                    "text": [
                        "INFO:root:No cached results available\n",
                        "INFO:root:Starting measurements 3c9a548e-6263-405c-a658-44834f629845 with parameters: dry_run=False; nb_targets=2; nb_vps=4.\n",
                        "INFO:root:measurement : 3c9a548e-6263-405c-a658-44834f629845 done\n"
                    ]
                }
            ],
            "source": [
                "dry_run = False\n",
                "measurement_uuid = uuid.uuid4()\n",
                "\n",
                "# measurement configuration for retrieval\n",
                "measurement_config = {\n",
                "    \"UUID\": str(measurement_uuid),\n",
                "    \"is_dry_run\": dry_run,\n",
                "    \"description\": \"measurement towards all anchors with all probes as vps\",\n",
                "    \"type\": \"target\",\n",
                "    \"af\": 4,\n",
                "    \"targets\": targets,\n",
                "    \"vps\": vps,\n",
                "}\n",
                "\n",
                "# save measurement configuration before starting measurement\n",
                "config_file = MEASUREMENT_CONFIG_PATH / f\"{measurement_config['UUID']}.json\"\n",
                "save_config_file(measurement_config, config_file)\n",
                "\n",
                "pinger = PING(RIPE_CREDENTIALS)\n",
                "\n",
                "\n",
                "try:\n",
                "    cached_results = load_pickle(TARGET_PROBE_VP)\n",
                "    logging.info(\n",
                "        f\"initial length targets: {len(targets)}, cached measurements : {len(cached_results)}\"\n",
                "    )\n",
                "\n",
                "    targets = list(\n",
                "        set(targets).difference(set(cached_results)))\n",
                "\n",
                "    logging.info(\n",
                "        f\"after removing cached: {len(targets)}, cached measurements : {len(cached_results)}\"\n",
                "    )\n",
                "except FileNotFoundError:\n",
                "    logging.info(\"No cached results available\")\n",
                "    pass\n",
                "\n",
                "logging.info(\n",
                "        f\"Starting measurements {str(measurement_uuid)} with parameters: dry_run={dry_run}; nb_targets={len(targets)}; nb_vps={len(vps)}.\"\n",
                "    )\n",
                "\n",
                "# measurement for 3 targets in every target prefixes\n",
                "measurement_config[\"ids\"], measurement_config[\"start_time\"], measurement_config[\"end_time\"] = pinger.ping_by_target(\n",
                "    targets=targets,\n",
                "    vps=vps,\n",
                "    tag=measurement_uuid,\n",
                "    dry_run=dry_run\n",
                ")\n",
                "\n",
                "# save measurement configuration after measurements\n",
                "save_config_file(measurement_config, config_file)"
            ]
        },
        {
            "attachments": {},
            "cell_type": "markdown",
            "metadata": {},
            "source": [
                "## retrieve traget probing results"
            ]
        },
        {
            "cell_type": "code",
            "execution_count": 7,
            "metadata": {},
            "outputs": [
                {
                    "name": "stdout",
                    "output_type": "stream",
                    "text": [
                        "nb measurements retrieved: 2\n",
                        "212.101.201.29 : 4\n",
                        "212.10.11.213 : 4\n"
                    ]
                }
            ],
            "source": [
                "measurement_results = get_measurements_from_tag(str(measurement_config[\"UUID\"]))\n",
                "\n",
                "# test that everything is alright\n",
                "print(f\"nb measurements retrieved: {len(measurement_results)}\")\n",
                "\n",
                "for i, (target_addr, results) in enumerate(measurement_results.items()):\n",
                "    if i > 10:\n",
                "        break\n",
                "    print(target_addr, \":\", len(results))\n",
                "\n",
                "# save results\n",
                "dump_pickle(measurement_results, TARGET_PROBE_VP)"
            ]
        }
    ],
    "metadata": {
        "kernelspec": {
            "display_name": "geoloc-imc-2023-GZT64Hva-py3.10",
            "language": "python",
            "name": "python3"
        },
        "language_info": {
            "codemirror_mode": {
                "name": "ipython",
                "version": 3
            },
            "file_extension": ".py",
            "mimetype": "text/x-python",
            "name": "python",
            "nbconvert_exporter": "python",
            "pygments_lexer": "ipython3",
            "version": "3.10.0"
        },
        "orig_nbformat": 4
    },
    "nbformat": 4,
    "nbformat_minor": 2
}
